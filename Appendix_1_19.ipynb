{
 "cells": [
  {
   "cell_type": "code",
   "execution_count": 1,
   "metadata": {
    "collapsed": false
   },
   "outputs": [
    {
     "name": "stderr",
     "output_type": "stream",
     "text": [
      "Installing package into ‘/home/jayaramdas/R/x86_64-pc-linux-gnu-library/3.2’\n",
      "(as ‘lib’ is unspecified)\n"
     ]
    },
    {
     "name": "stdout",
     "output_type": "stream",
     "text": [
      "\n",
      "The downloaded source packages are in\n",
      "\t‘/tmp/RtmpmbaJPD/downloaded_packages’\n"
     ]
    },
    {
     "name": "stderr",
     "output_type": "stream",
     "text": [
      "\n",
      "Please cite as: \n",
      "\n",
      " Hlavac, Marek (2015). stargazer: Well-Formatted Regression and Summary Statistics Tables.\n",
      " R package version 5.2. http://CRAN.R-project.org/package=stargazer \n",
      "\n"
     ]
    }
   ],
   "source": [
    "install.packages(\"stargazer\", repos='http://ftp5.gwdg.de/pub/misc/cran/')\n",
    "\n",
    "library(stargazer)"
   ]
  },
  {
   "cell_type": "code",
   "execution_count": 2,
   "metadata": {
    "collapsed": false
   },
   "outputs": [
    {
     "name": "stderr",
     "output_type": "stream",
     "text": [
      "Installing package into ‘/home/jayaramdas/R/x86_64-pc-linux-gnu-library/3.2’\n",
      "(as ‘lib’ is unspecified)\n"
     ]
    },
    {
     "name": "stdout",
     "output_type": "stream",
     "text": [
      "\n",
      "The downloaded source packages are in\n",
      "\t‘/tmp/RtmpmbaJPD/downloaded_packages’\n"
     ]
    },
    {
     "name": "stderr",
     "output_type": "stream",
     "text": [
      "Loading required package: dynlm\n",
      "Loading required package: zoo\n",
      "\n",
      "Attaching package: ‘zoo’\n",
      "\n",
      "The following objects are masked from ‘package:base’:\n",
      "\n",
      "    as.Date, as.Date.numeric\n",
      "\n",
      "Loading required package: sandwich\n",
      "Loading required package: tseries\n",
      "Loading required package: urca\n",
      "Loading required package: Formula\n"
     ]
    }
   ],
   "source": [
    "install.packages(\"CADFtest\", repos='http://ftp5.gwdg.de/pub/misc/cran/')\n",
    "\n",
    "library(\"CADFtest\")\n",
    "\n",
    "library(\"tseries\")\n",
    "\n",
    "library(\"lmtest\")\n",
    "\n",
    "library(\"plm\")"
   ]
  },
  {
   "cell_type": "code",
   "execution_count": 3,
   "metadata": {
    "collapsed": false,
    "scrolled": false
   },
   "outputs": [],
   "source": [
    "fixed_1=read.csv('femodel.csv')\n",
    "#femodel_1a = femodel_1[,c( 'amtsum', 'unemplag', 'logleg_totalbills', 'billsum')]"
   ]
  },
  {
   "cell_type": "code",
   "execution_count": 10,
   "metadata": {
    "collapsed": false
   },
   "outputs": [
    {
     "data": {
      "text/html": [
       "<ol class=list-inline>\n",
       "\t<li>'date'</li>\n",
       "\t<li>'years_exp'</li>\n",
       "\t<li>'cid'</li>\n",
       "\t<li>'cfcontrol'</li>\n",
       "\t<li>'leg_totalbills'</li>\n",
       "\t<li>'state'</li>\n",
       "\t<li>'amtsumlag_1'</li>\n",
       "\t<li>'amtsumlag_2'</li>\n",
       "\t<li>'amtsumfwd_1'</li>\n",
       "\t<li>'unemployment'</li>\n",
       "\t<li>'billsum'</li>\n",
       "\t<li>'amtsum'</li>\n",
       "\t<li>'Republican'</li>\n",
       "\t<li>'sen'</li>\n",
       "\t<li>'sen_amtsum'</li>\n",
       "\t<li>'sen_amtsumlag1'</li>\n",
       "\t<li>'sen_amtsumfwd1'</li>\n",
       "\t<li>'Republican_amtsum'</li>\n",
       "\t<li>'Republican_amtsumlag1'</li>\n",
       "\t<li>'Republican_amtsumfwd1'</li>\n",
       "\t<li>'unemplag_1'</li>\n",
       "\t<li>'logleg_totalbills'</li>\n",
       "\t<li>'logamtsumlag_1'</li>\n",
       "\t<li>'logamtsumfwd_1'</li>\n",
       "\t<li>'logamtsum'</li>\n",
       "\t<li>'exp_5_9'</li>\n",
       "\t<li>'exp_10_19'</li>\n",
       "\t<li>'exp20'</li>\n",
       "\t<li>'post2009years'</li>\n",
       "\t<li>'amtsum_5to9exp'</li>\n",
       "\t<li>'amtsum_10to19exp'</li>\n",
       "\t<li>'amtsum_exp20'</li>\n",
       "\t<li>'amtsumlag1_5to9exp'</li>\n",
       "\t<li>'amtsumlag1_10to19exp'</li>\n",
       "\t<li>'amtsumlag1_exp20'</li>\n",
       "\t<li>'amtsumfwd1_5to9exp'</li>\n",
       "\t<li>'amtsumfwd1_10to19exp'</li>\n",
       "\t<li>'amtsumfwd1_exp20'</li>\n",
       "\t<li>'amtsum_post2009years'</li>\n",
       "\t<li>'amtsumfwd1_post2009years'</li>\n",
       "\t<li>'amtsumlag1_post2009years'</li>\n",
       "\t<li>'logamtsum_5to9exp'</li>\n",
       "\t<li>'logamtsum_10to19exp'</li>\n",
       "\t<li>'logamtsum_exp20'</li>\n",
       "\t<li>'logamtsumlag1_5to9exp'</li>\n",
       "\t<li>'logamtsumlag1_10to19exp'</li>\n",
       "\t<li>'logamtsumlag1_exp20'</li>\n",
       "\t<li>'logamtsumfwd1_5to9exp'</li>\n",
       "\t<li>'logamtsumfwd1_10to19exp'</li>\n",
       "\t<li>'logamtsumfwd1_exp20'</li>\n",
       "\t<li>'logamtsum_post2009years'</li>\n",
       "\t<li>'logamtsumfwd1_post2009years'</li>\n",
       "\t<li>'logamtsumlag1_post2009years'</li>\n",
       "\t<li>'amtsumdff'</li>\n",
       "\t<li>'logamtsumdff'</li>\n",
       "\t<li>'billsumdff'</li>\n",
       "\t<li>'amtsumlag_2dff'</li>\n",
       "\t<li>'amtsumfwd_dff'</li>\n",
       "\t<li>'amtsumlag_dff'</li>\n",
       "\t<li>'logamtsumlag_dff'</li>\n",
       "\t<li>'leg_totalbillsdff'</li>\n",
       "\t<li>'years_expdff'</li>\n",
       "\t<li>'amtsumfwd1_post2009yearsdff'</li>\n",
       "\t<li>'amtsumlag1_post2009yearsdff'</li>\n",
       "\t<li>'amtsum_post2009yearsdff'</li>\n",
       "\t<li>'sen_amtsumlag1dff'</li>\n",
       "\t<li>'sen_amtsumfwd1dff'</li>\n",
       "\t<li>'sen_amtsumdff'</li>\n",
       "\t<li>'cfcontroldff'</li>\n",
       "\t<li>'unemploymentdff'</li>\n",
       "</ol>\n"
      ],
      "text/latex": [
       "\\begin{enumerate*}\n",
       "\\item 'date'\n",
       "\\item 'years_exp'\n",
       "\\item 'cid'\n",
       "\\item 'cfcontrol'\n",
       "\\item 'leg_totalbills'\n",
       "\\item 'state'\n",
       "\\item 'amtsumlag_1'\n",
       "\\item 'amtsumlag_2'\n",
       "\\item 'amtsumfwd_1'\n",
       "\\item 'unemployment'\n",
       "\\item 'billsum'\n",
       "\\item 'amtsum'\n",
       "\\item 'Republican'\n",
       "\\item 'sen'\n",
       "\\item 'sen_amtsum'\n",
       "\\item 'sen_amtsumlag1'\n",
       "\\item 'sen_amtsumfwd1'\n",
       "\\item 'Republican_amtsum'\n",
       "\\item 'Republican_amtsumlag1'\n",
       "\\item 'Republican_amtsumfwd1'\n",
       "\\item 'unemplag_1'\n",
       "\\item 'logleg_totalbills'\n",
       "\\item 'logamtsumlag_1'\n",
       "\\item 'logamtsumfwd_1'\n",
       "\\item 'logamtsum'\n",
       "\\item 'exp_5_9'\n",
       "\\item 'exp_10_19'\n",
       "\\item 'exp20'\n",
       "\\item 'post2009years'\n",
       "\\item 'amtsum_5to9exp'\n",
       "\\item 'amtsum_10to19exp'\n",
       "\\item 'amtsum_exp20'\n",
       "\\item 'amtsumlag1_5to9exp'\n",
       "\\item 'amtsumlag1_10to19exp'\n",
       "\\item 'amtsumlag1_exp20'\n",
       "\\item 'amtsumfwd1_5to9exp'\n",
       "\\item 'amtsumfwd1_10to19exp'\n",
       "\\item 'amtsumfwd1_exp20'\n",
       "\\item 'amtsum_post2009years'\n",
       "\\item 'amtsumfwd1_post2009years'\n",
       "\\item 'amtsumlag1_post2009years'\n",
       "\\item 'logamtsum_5to9exp'\n",
       "\\item 'logamtsum_10to19exp'\n",
       "\\item 'logamtsum_exp20'\n",
       "\\item 'logamtsumlag1_5to9exp'\n",
       "\\item 'logamtsumlag1_10to19exp'\n",
       "\\item 'logamtsumlag1_exp20'\n",
       "\\item 'logamtsumfwd1_5to9exp'\n",
       "\\item 'logamtsumfwd1_10to19exp'\n",
       "\\item 'logamtsumfwd1_exp20'\n",
       "\\item 'logamtsum_post2009years'\n",
       "\\item 'logamtsumfwd1_post2009years'\n",
       "\\item 'logamtsumlag1_post2009years'\n",
       "\\item 'amtsumdff'\n",
       "\\item 'logamtsumdff'\n",
       "\\item 'billsumdff'\n",
       "\\item 'amtsumlag_2dff'\n",
       "\\item 'amtsumfwd_dff'\n",
       "\\item 'amtsumlag_dff'\n",
       "\\item 'logamtsumlag_dff'\n",
       "\\item 'leg_totalbillsdff'\n",
       "\\item 'years_expdff'\n",
       "\\item 'amtsumfwd1_post2009yearsdff'\n",
       "\\item 'amtsumlag1_post2009yearsdff'\n",
       "\\item 'amtsum_post2009yearsdff'\n",
       "\\item 'sen_amtsumlag1dff'\n",
       "\\item 'sen_amtsumfwd1dff'\n",
       "\\item 'sen_amtsumdff'\n",
       "\\item 'cfcontroldff'\n",
       "\\item 'unemploymentdff'\n",
       "\\end{enumerate*}\n"
      ],
      "text/markdown": [
       "1. 'date'\n",
       "2. 'years_exp'\n",
       "3. 'cid'\n",
       "4. 'cfcontrol'\n",
       "5. 'leg_totalbills'\n",
       "6. 'state'\n",
       "7. 'amtsumlag_1'\n",
       "8. 'amtsumlag_2'\n",
       "9. 'amtsumfwd_1'\n",
       "10. 'unemployment'\n",
       "11. 'billsum'\n",
       "12. 'amtsum'\n",
       "13. 'Republican'\n",
       "14. 'sen'\n",
       "15. 'sen_amtsum'\n",
       "16. 'sen_amtsumlag1'\n",
       "17. 'sen_amtsumfwd1'\n",
       "18. 'Republican_amtsum'\n",
       "19. 'Republican_amtsumlag1'\n",
       "20. 'Republican_amtsumfwd1'\n",
       "21. 'unemplag_1'\n",
       "22. 'logleg_totalbills'\n",
       "23. 'logamtsumlag_1'\n",
       "24. 'logamtsumfwd_1'\n",
       "25. 'logamtsum'\n",
       "26. 'exp_5_9'\n",
       "27. 'exp_10_19'\n",
       "28. 'exp20'\n",
       "29. 'post2009years'\n",
       "30. 'amtsum_5to9exp'\n",
       "31. 'amtsum_10to19exp'\n",
       "32. 'amtsum_exp20'\n",
       "33. 'amtsumlag1_5to9exp'\n",
       "34. 'amtsumlag1_10to19exp'\n",
       "35. 'amtsumlag1_exp20'\n",
       "36. 'amtsumfwd1_5to9exp'\n",
       "37. 'amtsumfwd1_10to19exp'\n",
       "38. 'amtsumfwd1_exp20'\n",
       "39. 'amtsum_post2009years'\n",
       "40. 'amtsumfwd1_post2009years'\n",
       "41. 'amtsumlag1_post2009years'\n",
       "42. 'logamtsum_5to9exp'\n",
       "43. 'logamtsum_10to19exp'\n",
       "44. 'logamtsum_exp20'\n",
       "45. 'logamtsumlag1_5to9exp'\n",
       "46. 'logamtsumlag1_10to19exp'\n",
       "47. 'logamtsumlag1_exp20'\n",
       "48. 'logamtsumfwd1_5to9exp'\n",
       "49. 'logamtsumfwd1_10to19exp'\n",
       "50. 'logamtsumfwd1_exp20'\n",
       "51. 'logamtsum_post2009years'\n",
       "52. 'logamtsumfwd1_post2009years'\n",
       "53. 'logamtsumlag1_post2009years'\n",
       "54. 'amtsumdff'\n",
       "55. 'logamtsumdff'\n",
       "56. 'billsumdff'\n",
       "57. 'amtsumlag_2dff'\n",
       "58. 'amtsumfwd_dff'\n",
       "59. 'amtsumlag_dff'\n",
       "60. 'logamtsumlag_dff'\n",
       "61. 'leg_totalbillsdff'\n",
       "62. 'years_expdff'\n",
       "63. 'amtsumfwd1_post2009yearsdff'\n",
       "64. 'amtsumlag1_post2009yearsdff'\n",
       "65. 'amtsum_post2009yearsdff'\n",
       "66. 'sen_amtsumlag1dff'\n",
       "67. 'sen_amtsumfwd1dff'\n",
       "68. 'sen_amtsumdff'\n",
       "69. 'cfcontroldff'\n",
       "70. 'unemploymentdff'\n",
       "\n",
       "\n"
      ],
      "text/plain": [
       " [1] \"date\"                        \"years_exp\"                  \n",
       " [3] \"cid\"                         \"cfcontrol\"                  \n",
       " [5] \"leg_totalbills\"              \"state\"                      \n",
       " [7] \"amtsumlag_1\"                 \"amtsumlag_2\"                \n",
       " [9] \"amtsumfwd_1\"                 \"unemployment\"               \n",
       "[11] \"billsum\"                     \"amtsum\"                     \n",
       "[13] \"Republican\"                  \"sen\"                        \n",
       "[15] \"sen_amtsum\"                  \"sen_amtsumlag1\"             \n",
       "[17] \"sen_amtsumfwd1\"              \"Republican_amtsum\"          \n",
       "[19] \"Republican_amtsumlag1\"       \"Republican_amtsumfwd1\"      \n",
       "[21] \"unemplag_1\"                  \"logleg_totalbills\"          \n",
       "[23] \"logamtsumlag_1\"              \"logamtsumfwd_1\"             \n",
       "[25] \"logamtsum\"                   \"exp_5_9\"                    \n",
       "[27] \"exp_10_19\"                   \"exp20\"                      \n",
       "[29] \"post2009years\"               \"amtsum_5to9exp\"             \n",
       "[31] \"amtsum_10to19exp\"            \"amtsum_exp20\"               \n",
       "[33] \"amtsumlag1_5to9exp\"          \"amtsumlag1_10to19exp\"       \n",
       "[35] \"amtsumlag1_exp20\"            \"amtsumfwd1_5to9exp\"         \n",
       "[37] \"amtsumfwd1_10to19exp\"        \"amtsumfwd1_exp20\"           \n",
       "[39] \"amtsum_post2009years\"        \"amtsumfwd1_post2009years\"   \n",
       "[41] \"amtsumlag1_post2009years\"    \"logamtsum_5to9exp\"          \n",
       "[43] \"logamtsum_10to19exp\"         \"logamtsum_exp20\"            \n",
       "[45] \"logamtsumlag1_5to9exp\"       \"logamtsumlag1_10to19exp\"    \n",
       "[47] \"logamtsumlag1_exp20\"         \"logamtsumfwd1_5to9exp\"      \n",
       "[49] \"logamtsumfwd1_10to19exp\"     \"logamtsumfwd1_exp20\"        \n",
       "[51] \"logamtsum_post2009years\"     \"logamtsumfwd1_post2009years\"\n",
       "[53] \"logamtsumlag1_post2009years\" \"amtsumdff\"                  \n",
       "[55] \"logamtsumdff\"                \"billsumdff\"                 \n",
       "[57] \"amtsumlag_2dff\"              \"amtsumfwd_dff\"              \n",
       "[59] \"amtsumlag_dff\"               \"logamtsumlag_dff\"           \n",
       "[61] \"leg_totalbillsdff\"           \"years_expdff\"               \n",
       "[63] \"amtsumfwd1_post2009yearsdff\" \"amtsumlag1_post2009yearsdff\"\n",
       "[65] \"amtsum_post2009yearsdff\"     \"sen_amtsumlag1dff\"          \n",
       "[67] \"sen_amtsumfwd1dff\"           \"sen_amtsumdff\"              \n",
       "[69] \"cfcontroldff\"                \"unemploymentdff\"            "
      ]
     },
     "execution_count": 10,
     "metadata": {},
     "output_type": "execute_result"
    }
   ],
   "source": [
    "#colnames(fixed_1) <- value\n",
    "\n",
    "colnames(fixed_1, do.NULL = TRUE, prefix = \"col\")"
   ]
  },
  {
   "cell_type": "code",
   "execution_count": 21,
   "metadata": {
    "collapsed": false
   },
   "outputs": [
    {
     "data": {
      "text/plain": [
       "\n",
       "t test of coefficients:\n",
       "\n",
       "                     Estimate  Std. Error t value  Pr(>|t|)    \n",
       "amtsumlag_dff      8.3196e-05  7.7274e-05  1.0766 0.2816793    \n",
       "cfcontroldff      -6.0064e-03  2.5346e-02 -0.2370 0.8126794    \n",
       "leg_totalbillsdff  6.0348e-03  1.3514e-03  4.4657 8.118e-06 ***\n",
       "unemploymentdff    1.9770e-02  5.4352e-03  3.6375 0.0002775 ***\n",
       "years_expdff       3.2800e-03  1.5724e-03  2.0859 0.0370228 *  \n",
       "---\n",
       "Signif. codes:  0 ‘***’ 0.001 ‘**’ 0.01 ‘*’ 0.05 ‘.’ 0.1 ‘ ’ 1\n"
      ]
     },
     "execution_count": 21,
     "metadata": {},
     "output_type": "execute_result"
    }
   ],
   "source": [
    "femodel <-plm(billsum~ amtsumlag_dff+cfcontroldff+leg_totalbillsdff+unemploymentdff+ \n",
    "years_expdff, data=fixed_1, index=c('date', 'cid'), model=\"within\")\n",
    "#summary(femodel)\n",
    "\n",
    "coeftest(femodel,vcov=vcovHC(femodel,method=\"arellano\"))"
   ]
  },
  {
   "cell_type": "code",
   "execution_count": 9,
   "metadata": {
    "collapsed": false
   },
   "outputs": [
    {
     "data": {
      "text/plain": [
       "\n",
       "t test of coefficients:\n",
       "\n",
       "                     Estimate  Std. Error t value  Pr(>|t|)    \n",
       "amtsumlag_dff      1.0345e-05  5.9149e-06  1.7489 0.0803503 .  \n",
       "cfcontroldff      -6.4059e-03  1.0169e-01 -0.0630 0.9497738    \n",
       "leg_totalbillsdff  7.0021e-02  1.8176e-02  3.8523 0.0001181 ***\n",
       "years_expdff       1.7687e-02  4.9510e-03  3.5724 0.0003563 ***\n",
       "---\n",
       "Signif. codes:  0 ‘***’ 0.001 ‘**’ 0.01 ‘*’ 0.05 ‘.’ 0.1 ‘ ’ 1\n"
      ]
     },
     "execution_count": 9,
     "metadata": {},
     "output_type": "execute_result"
    }
   ],
   "source": [
    "femodel <-plm(billsumdff~ amtsumlag_dff+cfcontroldff+leg_totalbillsdff+years_expdff,#unemploymentdff,  # \n",
    " data=fixed_1, index=c('date', 'cid'), model=\"within\")\n",
    "#summary(fixed_1)\n",
    "\n",
    "coeftest(femodel,vcov=vcovHC(femodel,method=\"arellano\"))"
   ]
  },
  {
   "cell_type": "code",
   "execution_count": 111,
   "metadata": {
    "collapsed": true
   },
   "outputs": [
    {
     "name": "stdout",
     "output_type": "stream",
     "text": [
      "\n",
      "% Table created by stargazer v.5.2 by Marek Hlavac, Harvard University. E-mail: hlavac at fas.harvard.edu\n",
      "% Date and time: Mon, Jul 04, 2016 - 22:59:32\n",
      "\\begin{table}[!htbp] \\centering \n",
      "  \\caption{} \n",
      "  \\label{} \n",
      "\\begin{tabular}{@{\\extracolsep{5pt}}lc} \n",
      "\\\\[-1.8ex]\\hline \n",
      "\\hline \\\\[-1.8ex] \n",
      " & \\multicolumn{1}{c}{\\textit{Dependent variable:}} \\\\ \n",
      "\\cline{2-2} \n",
      "\\\\[-1.8ex] & billsumdff \\\\ \n",
      "\\hline \\\\[-1.8ex] \n",
      " cfcontrol & 0.044 \\\\ \n",
      "  & (0.075) \\\\ \n",
      "  & \\\\ \n",
      " amtsumlag\\_dff & 0.00001 \\\\ \n",
      "  & (0.00001) \\\\ \n",
      "  & \\\\ \n",
      " unemployment & 0.048$^{***}$ \\\\ \n",
      "  & (0.005) \\\\ \n",
      "  & \\\\ \n",
      " leg\\_totalbillsdff & 0.067$^{***}$ \\\\ \n",
      "  & (0.002) \\\\ \n",
      "  & \\\\ \n",
      " years\\_expdff & 0.016$^{***}$ \\\\ \n",
      "  & (0.002) \\\\ \n",
      "  & \\\\ \n",
      "\\hline \\\\[-1.8ex] \n",
      "Observations & 6,467 \\\\ \n",
      "R$^{2}$ & 0.285 \\\\ \n",
      "Adjusted R$^{2}$ & 0.284 \\\\ \n",
      "F Statistic & 513.918$^{***}$ (df = 5; 6452) \\\\ \n",
      "\\hline \n",
      "\\hline \\\\[-1.8ex] \n",
      "\\textit{Note:}  & \\multicolumn{1}{r}{$^{*}$p$<$0.1; $^{**}$p$<$0.05; $^{***}$p$<$0.01} \\\\ \n",
      "\\end{tabular} \n",
      "\\end{table} \n"
     ]
    }
   ],
   "source": [
    "stargazer(fixed_1)"
   ]
  },
  {
   "cell_type": "code",
   "execution_count": 10,
   "metadata": {
    "collapsed": false
   },
   "outputs": [
    {
     "ename": "ERROR",
     "evalue": "Error in parse(text = x, srcfile = src): <text>:2:31: unexpected ','\n1: fe_model_roottest <- as.data.frame(split(fixed_1, 'cid'))\n2: lags = c(\"SIC\", \"AIC\", \"Hall\"),\n                                 ^\n",
     "output_type": "error",
     "traceback": [
      "Error in parse(text = x, srcfile = src): <text>:2:31: unexpected ','\n1: fe_model_roottest <- as.data.frame(split(fixed_1, 'cid'))\n2: lags = c(\"SIC\", \"AIC\", \"Hall\"),\n                                 ^\n"
     ]
    }
   ],
   "source": [
    "fe_model_roottest <- as.data.frame(split(fixed_1, 'cid'))\n",
    "lags = c(\"SIC\", \"AIC\", \"Hall\"), pmax = 10)"
   ]
  },
  {
   "cell_type": "code",
   "execution_count": 4,
   "metadata": {
    "collapsed": false
   },
   "outputs": [],
   "source": [
    "unit_root= read.csv('femodel_root_test.csv')"
   ]
  },
  {
   "cell_type": "code",
   "execution_count": 6,
   "metadata": {
    "collapsed": false,
    "scrolled": true
   },
   "outputs": [
    {
     "ename": "ERROR",
     "evalue": "Error in data.frame(`2006` = c(4, 5, 5, 33, 21, 30, 16, 25, 11, 3, 2, : arguments imply differing number of rows: 212, 29, 258, 39, 285, 28, 272, 3, 228\n",
     "output_type": "error",
     "traceback": [
      "Error in data.frame(`2006` = c(4, 5, 5, 33, 21, 30, 16, 25, 11, 3, 2, : arguments imply differing number of rows: 212, 29, 258, 39, 285, 28, 272, 3, 228\n"
     ]
    }
   ],
   "source": [
    "#adflog_totalbills <- CADFtest(femodel_1$logleg_totalbills, max.lag.y = 1)\n",
    "#adfamtsum <- CADFtest(femodel_1$amtsum, max.lag.y = 1)\n",
    "\n",
    "\n",
    "purtest(leg_totalbills~trend,  data = unit_root,  index=c('date', 'cid'), lags = c('SIC'), exo = c(\"trend\"), test = c(\"levinlin\"))"
   ]
  },
  {
   "cell_type": "code",
   "execution_count": 1,
   "metadata": {
    "collapsed": false,
    "scrolled": false
   },
   "outputs": [
    {
     "ename": "ERROR",
     "evalue": "Error in subset(fixed_1, select = c(\"years_exp\", \"cfcontrol\", \"leg_totalbills\", : object 'fixed_1' not found\n",
     "output_type": "error",
     "traceback": [
      "Error in subset(fixed_1, select = c(\"years_exp\", \"cfcontrol\", \"leg_totalbills\", : object 'fixed_1' not found\n"
     ]
    }
   ],
   "source": [
    "desc_stats=subset(fixed_1, select=c('years_exp', 'cfcontrol', 'leg_totalbills', 'amtsum', 'billsum', 'unemployment'))"
   ]
  },
  {
   "cell_type": "code",
   "execution_count": 7,
   "metadata": {
    "collapsed": false
   },
   "outputs": [
    {
     "name": "stdout",
     "output_type": "stream",
     "text": [
      "\n",
      "% Table created by stargazer v.5.2 by Marek Hlavac, Harvard University. E-mail: hlavac at fas.harvard.edu\n",
      "% Date and time: Sun, Jul 10, 2016 - 15:52:04\n",
      "\\begin{table}[!htbp] \\centering \n",
      "  \\caption{} \n",
      "  \\label{} \n",
      "\\begin{tabular}{@{\\extracolsep{5pt}}lccccc} \n",
      "\\\\[-1.8ex]\\hline \n",
      "\\hline \\\\[-1.8ex] \n",
      "Statistic & \\multicolumn{1}{c}{N} & \\multicolumn{1}{c}{Mean} & \\multicolumn{1}{c}{St. Dev.} & \\multicolumn{1}{c}{Min} & \\multicolumn{1}{c}{Max} \\\\ \n",
      "\\hline \\\\[-1.8ex] \n",
      "years\\_exp & 6,459 & 11.073 & 10.202 & 0 & 60 \\\\ \n",
      "cfcontrol & 6,459 & $-$0.008 & 0.206 & $-$1.873 & 1.302 \\\\ \n",
      "leg\\_totalbills & 6,459 & 7.780 & 10.130 & 0 & 156 \\\\ \n",
      "amtsum & 6,459 & 14.478 & 54.474 & 0.000 & 1,693.960 \\\\ \n",
      "billsum & 6,459 & 0.217 & 0.497 & 0 & 6 \\\\ \n",
      "unemployment & 6,459 & 1.353 & 2.948 & 0.000 & 13.700 \\\\ \n",
      "\\hline \\\\[-1.8ex] \n",
      "\\end{tabular} \n",
      "\\end{table} \n"
     ]
    }
   ],
   "source": [
    "stargazer(desc_stats)"
   ]
  },
  {
   "cell_type": "code",
   "execution_count": 67,
   "metadata": {
    "collapsed": false,
    "scrolled": true
   },
   "outputs": [
    {
     "data": {
      "text/plain": [
       "\n",
       "\tBreusch-Godfrey/Wooldridge test for serial correlation in panel models\n",
       "\n",
       "data:  billsumdff ~ cfcontrol + amtsumlag_2dff + unemployment + leg_totalbillsdff +     years_expdff\n",
       "chisq = 83.354, df = 5, p-value < 2.2e-16\n",
       "alternative hypothesis: serial correlation in idiosyncratic errors\n"
      ]
     },
     "execution_count": 67,
     "metadata": {},
     "output_type": "execute_result"
    }
   ],
   "source": [
    "pbgtest(fixed_1,order=5)\n"
   ]
  },
  {
   "cell_type": "code",
   "execution_count": 68,
   "metadata": {
    "collapsed": false,
    "scrolled": false
   },
   "outputs": [
    {
     "ename": "ERROR",
     "evalue": "Error in is.finite(x[[i]]): default method not implemented for type 'language'\n",
     "output_type": "error",
     "traceback": [
      "Error in is.finite(x[[i]]): default method not implemented for type 'language'\n"
     ]
    }
   ],
   "source": [
    "plmtest(fixed_1, c(\"individual\"), type=(\"bp\"))"
   ]
  },
  {
   "cell_type": "code",
   "execution_count": 69,
   "metadata": {
    "collapsed": false,
    "scrolled": false
   },
   "outputs": [
    {
     "ename": "ERROR",
     "evalue": "Error in row.names(data): object 'mydata' not found\n",
     "output_type": "error",
     "traceback": [
      "Error in row.names(data): object 'mydata' not found\n"
     ]
    },
    {
     "ename": "ERROR",
     "evalue": "Error in coeftest(fixed, vcov = vcovHC(fixed, type = \"HC0\", cluster = \"group\")): object 'fixed' not found\n",
     "output_type": "error",
     "traceback": [
      "Error in coeftest(fixed, vcov = vcovHC(fixed, type = \"HC0\", cluster = \"group\")): object 'fixed' not found\n"
     ]
    }
   ],
   "source": [
    "fixed <-plm(billsum ~  years_exp + leg_totalbills+ cfcontrol+amtsum, data=mydata, index=c('date', 'cid'), model=\"within\")\n",
    "#vcovHC((fixed, method = c(\"arellano\"),type = c(\"HC3\"),cluster = c(\"group\"))\n",
    "coeftest(fixed,vcov=vcovHC(fixed,type=\"HC0\",cluster=\"group\"))"
   ]
  },
  {
   "cell_type": "code",
   "execution_count": 46,
   "metadata": {
    "collapsed": false
   },
   "outputs": [
    {
     "data": {
      "text/html": [
       "<table>\n",
       "<thead><tr><th></th><th scope=col>cfcontrol</th><th scope=col>amtsum</th><th scope=col>loansum</th><th scope=col>leg_totalbills</th><th scope=col>unemplag_1</th><th scope=col>amtsum_post2009years</th><th scope=col>amtsum_5to9exp</th><th scope=col>amtsum_10to19exp</th><th scope=col>amtsum_20exp</th></tr></thead>\n",
       "<tbody>\n",
       "\t<tr><th scope=row>cfcontrol</th><td> 2.612721e-03</td><td> 1.247452e-06</td><td>-9.135663e-06</td><td>-2.828770e-04</td><td> 3.353112e-04</td><td>-4.066690e-10</td><td>-4.443274e-06</td><td>-5.195088e-07</td><td>-1.285415e-06</td></tr>\n",
       "\t<tr><th scope=row>amtsum</th><td> 1.247452e-06</td><td> 1.360766e-09</td><td> 3.293102e-09</td><td>-4.987015e-08</td><td> 2.591988e-07</td><td>-5.354985e-13</td><td>-1.645303e-09</td><td>-9.308739e-10</td><td>-1.313783e-09</td></tr>\n",
       "\t<tr><th scope=row>loansum</th><td>-9.135663e-06</td><td> 3.293102e-09</td><td> 1.213057e-06</td><td> 5.138436e-06</td><td> 7.723641e-06</td><td>-4.713176e-13</td><td> 5.083227e-08</td><td> 3.877945e-09</td><td>-1.593807e-08</td></tr>\n",
       "\t<tr><th scope=row>leg_totalbills</th><td>-2.828770e-04</td><td>-4.987015e-08</td><td> 5.138436e-06</td><td> 1.608029e-04</td><td>-3.411420e-05</td><td> 3.827004e-11</td><td> 4.466847e-07</td><td>-3.098298e-07</td><td>-1.332222e-07</td></tr>\n",
       "\t<tr><th scope=row>unemplag_1</th><td> 3.353112e-04</td><td> 2.591988e-07</td><td> 7.723641e-06</td><td>-3.411420e-05</td><td> 1.589989e-04</td><td>-9.290946e-11</td><td>-1.355249e-07</td><td>-9.872323e-08</td><td>-2.664956e-07</td></tr>\n",
       "\t<tr><th scope=row>amtsum_post2009years</th><td>-4.066690e-10</td><td>-5.354985e-13</td><td>-4.713176e-13</td><td> 3.827004e-11</td><td>-9.290946e-11</td><td> 2.321965e-16</td><td> 4.855584e-13</td><td> 3.206774e-13</td><td> 4.135893e-13</td></tr>\n",
       "\t<tr><th scope=row>amtsum_5to9exp</th><td>-4.443274e-06</td><td>-1.645303e-09</td><td> 5.083227e-08</td><td> 4.466847e-07</td><td>-1.355249e-07</td><td> 4.855584e-13</td><td> 1.036719e-08</td><td> 1.537808e-09</td><td> 1.501595e-09</td></tr>\n",
       "\t<tr><th scope=row>amtsum_10to19exp</th><td>-5.195088e-07</td><td>-9.308739e-10</td><td> 3.877945e-09</td><td>-3.098298e-07</td><td>-9.872323e-08</td><td> 3.206774e-13</td><td> 1.537808e-09</td><td> 2.315272e-09</td><td> 9.715893e-10</td></tr>\n",
       "\t<tr><th scope=row>amtsum_20exp</th><td>-1.285415e-06</td><td>-1.313783e-09</td><td>-1.593807e-08</td><td>-1.332222e-07</td><td>-2.664956e-07</td><td> 4.135893e-13</td><td> 1.501595e-09</td><td> 9.715893e-10</td><td> 1.972625e-09</td></tr>\n",
       "</tbody>\n",
       "</table>\n"
      ],
      "text/latex": [
       "\\begin{tabular}{r|lllllllll}\n",
       "  & cfcontrol & amtsum & loansum & leg_totalbills & unemplag_1 & amtsum_post2009years & amtsum_5to9exp & amtsum_10to19exp & amtsum_20exp\\\\\n",
       "\\hline\n",
       "\tcfcontrol &  2.612721e-03 &  1.247452e-06 & -9.135663e-06 & -2.828770e-04 &  3.353112e-04 & -4.066690e-10 & -4.443274e-06 & -5.195088e-07 & -1.285415e-06\\\\\n",
       "\tamtsum &  1.247452e-06 &  1.360766e-09 &  3.293102e-09 & -4.987015e-08 &  2.591988e-07 & -5.354985e-13 & -1.645303e-09 & -9.308739e-10 & -1.313783e-09\\\\\n",
       "\tloansum & -9.135663e-06 &  3.293102e-09 &  1.213057e-06 &  5.138436e-06 &  7.723641e-06 & -4.713176e-13 &  5.083227e-08 &  3.877945e-09 & -1.593807e-08\\\\\n",
       "\tleg_totalbills & -2.828770e-04 & -4.987015e-08 &  5.138436e-06 &  1.608029e-04 & -3.411420e-05 &  3.827004e-11 &  4.466847e-07 & -3.098298e-07 & -1.332222e-07\\\\\n",
       "\tunemplag_1 &  3.353112e-04 &  2.591988e-07 &  7.723641e-06 & -3.411420e-05 &  1.589989e-04 & -9.290946e-11 & -1.355249e-07 & -9.872323e-08 & -2.664956e-07\\\\\n",
       "\tamtsum_post2009years & -4.066690e-10 & -5.354985e-13 & -4.713176e-13 &  3.827004e-11 & -9.290946e-11 &  2.321965e-16 &  4.855584e-13 &  3.206774e-13 &  4.135893e-13\\\\\n",
       "\tamtsum_5to9exp & -4.443274e-06 & -1.645303e-09 &  5.083227e-08 &  4.466847e-07 & -1.355249e-07 &  4.855584e-13 &  1.036719e-08 &  1.537808e-09 &  1.501595e-09\\\\\n",
       "\tamtsum_10to19exp & -5.195088e-07 & -9.308739e-10 &  3.877945e-09 & -3.098298e-07 & -9.872323e-08 &  3.206774e-13 &  1.537808e-09 &  2.315272e-09 &  9.715893e-10\\\\\n",
       "\tamtsum_20exp & -1.285415e-06 & -1.313783e-09 & -1.593807e-08 & -1.332222e-07 & -2.664956e-07 &  4.135893e-13 &  1.501595e-09 &  9.715893e-10 &  1.972625e-09\\\\\n",
       "\\end{tabular}\n"
      ],
      "text/markdown": [
       "1. 0.00261272142487375\n",
       "2. 1.24745234900459e-06\n",
       "3. -9.1356629195668e-06\n",
       "4. -0.000282876988560067\n",
       "5. 0.000335311244520358\n",
       "6. -4.06669003579671e-10\n",
       "7. -4.44327362770857e-06\n",
       "8. -5.19508799163103e-07\n",
       "9. -1.28541521998669e-06\n",
       "10. 1.24745234900458e-06\n",
       "11. 1.36076605771896e-09\n",
       "12. 3.29310197768303e-09\n",
       "13. -4.98701484878286e-08\n",
       "14. 2.59198765161674e-07\n",
       "15. -5.35498540615515e-13\n",
       "16. -1.64530291382463e-09\n",
       "17. -9.30873948703274e-10\n",
       "18. -1.3137827976898e-09\n",
       "19. -9.13566291956567e-06\n",
       "20. 3.29310197768268e-09\n",
       "21. 1.21305687254326e-06\n",
       "22. 5.13843620825941e-06\n",
       "23. 7.72364095456051e-06\n",
       "24. -4.71317609924988e-13\n",
       "25. 5.08322676081073e-08\n",
       "26. 3.87794455343052e-09\n",
       "27. -1.59380708613086e-08\n",
       "28. -0.000282876988560071\n",
       "29. -4.98701484878305e-08\n",
       "30. 5.13843620825941e-06\n",
       "31. 0.000160802892530399\n",
       "32. -3.41142049165681e-05\n",
       "33. 3.82700399881658e-11\n",
       "34. 4.46684736210537e-07\n",
       "35. -3.09829795236038e-07\n",
       "36. -1.33222200471136e-07\n",
       "37. 0.000335311244520342\n",
       "38. 2.59198765161662e-07\n",
       "39. 7.72364095456045e-06\n",
       "40. -3.4114204916568e-05\n",
       "41. 0.000158998865425963\n",
       "42. -9.29094627931756e-11\n",
       "43. -1.35524910510229e-07\n",
       "44. -9.87232262626272e-08\n",
       "45. -2.66495637085872e-07\n",
       "46. -4.06669003579659e-10\n",
       "47. -5.35498540615513e-13\n",
       "48. -4.71317609925059e-13\n",
       "49. 3.82700399881652e-11\n",
       "50. -9.29094627931774e-11\n",
       "51. 2.32196451814405e-16\n",
       "52. 4.85558397799289e-13\n",
       "53. 3.20677377093344e-13\n",
       "54. 4.13589274966147e-13\n",
       "55. -4.44327362770847e-06\n",
       "56. -1.64530291382464e-09\n",
       "57. 5.08322676081065e-08\n",
       "58. 4.46684736210533e-07\n",
       "59. -1.35524910510263e-07\n",
       "60. 4.8555839779929e-13\n",
       "61. 1.0367193656344e-08\n",
       "62. 1.53780756955433e-09\n",
       "63. 1.5015945673932e-09\n",
       "64. -5.19508799162973e-07\n",
       "65. -9.30873948703256e-10\n",
       "66. 3.87794455343032e-09\n",
       "67. -3.09829795236052e-07\n",
       "68. -9.87232262626286e-08\n",
       "69. 3.20677377093338e-13\n",
       "70. 1.53780756955427e-09\n",
       "71. 2.31527173061304e-09\n",
       "72. 9.71589286093486e-10\n",
       "73. -1.28541521998671e-06\n",
       "74. -1.31378279768978e-09\n",
       "75. -1.59380708613087e-08\n",
       "76. -1.33222200471133e-07\n",
       "77. -2.6649563708589e-07\n",
       "78. 4.13589274966142e-13\n",
       "79. 1.50159456739319e-09\n",
       "80. 9.71589286093477e-10\n",
       "81. 1.97262468901233e-09\n",
       "\n",
       "\n"
      ],
      "text/plain": [
       "                         cfcontrol        amtsum       loansum leg_totalbills\n",
       "cfcontrol             2.612721e-03  1.247452e-06 -9.135663e-06  -2.828770e-04\n",
       "amtsum                1.247452e-06  1.360766e-09  3.293102e-09  -4.987015e-08\n",
       "loansum              -9.135663e-06  3.293102e-09  1.213057e-06   5.138436e-06\n",
       "leg_totalbills       -2.828770e-04 -4.987015e-08  5.138436e-06   1.608029e-04\n",
       "unemplag_1            3.353112e-04  2.591988e-07  7.723641e-06  -3.411420e-05\n",
       "amtsum_post2009years -4.066690e-10 -5.354985e-13 -4.713176e-13   3.827004e-11\n",
       "amtsum_5to9exp       -4.443274e-06 -1.645303e-09  5.083227e-08   4.466847e-07\n",
       "amtsum_10to19exp     -5.195088e-07 -9.308739e-10  3.877945e-09  -3.098298e-07\n",
       "amtsum_20exp         -1.285415e-06 -1.313783e-09 -1.593807e-08  -1.332222e-07\n",
       "                        unemplag_1 amtsum_post2009years amtsum_5to9exp\n",
       "cfcontrol             3.353112e-04        -4.066690e-10  -4.443274e-06\n",
       "amtsum                2.591988e-07        -5.354985e-13  -1.645303e-09\n",
       "loansum               7.723641e-06        -4.713176e-13   5.083227e-08\n",
       "leg_totalbills       -3.411420e-05         3.827004e-11   4.466847e-07\n",
       "unemplag_1            1.589989e-04        -9.290946e-11  -1.355249e-07\n",
       "amtsum_post2009years -9.290946e-11         2.321965e-16   4.855584e-13\n",
       "amtsum_5to9exp       -1.355249e-07         4.855584e-13   1.036719e-08\n",
       "amtsum_10to19exp     -9.872323e-08         3.206774e-13   1.537808e-09\n",
       "amtsum_20exp         -2.664956e-07         4.135893e-13   1.501595e-09\n",
       "                     amtsum_10to19exp  amtsum_20exp\n",
       "cfcontrol               -5.195088e-07 -1.285415e-06\n",
       "amtsum                  -9.308739e-10 -1.313783e-09\n",
       "loansum                  3.877945e-09 -1.593807e-08\n",
       "leg_totalbills          -3.098298e-07 -1.332222e-07\n",
       "unemplag_1              -9.872323e-08 -2.664956e-07\n",
       "amtsum_post2009years     3.206774e-13  4.135893e-13\n",
       "amtsum_5to9exp           1.537808e-09  1.501595e-09\n",
       "amtsum_10to19exp         2.315272e-09  9.715893e-10\n",
       "amtsum_20exp             9.715893e-10  1.972625e-09"
      ]
     },
     "execution_count": 46,
     "metadata": {},
     "output_type": "execute_result"
    }
   ],
   "source": [
    "vcovHC(fixed_1, method = c(\"arellano\"),type = c(\"HC3\"),cluster = c(\"group\"))\n"
   ]
  }
 ],
 "metadata": {
  "kernelspec": {
   "display_name": "R",
   "language": "R",
   "name": "ir"
  },
  "language_info": {
   "codemirror_mode": "r",
   "file_extension": ".r",
   "mimetype": "text/x-r-source",
   "name": "R",
   "pygments_lexer": "r",
   "version": "3.2.2"
  }
 },
 "nbformat": 4,
 "nbformat_minor": 0
}
