{
 "cells": [
  {
   "cell_type": "raw",
   "metadata": {},
   "source": [
    "\\subsection{Appendix 1.3}"
   ]
  },
  {
   "cell_type": "raw",
   "metadata": {},
   "source": [
    "Language: Python"
   ]
  },
  {
   "cell_type": "markdown",
   "metadata": {},
   "source": [
    "## Setting up historical and current legislator data for parsing years of experience: send to csv (leg_histcurent.csv)"
   ]
  },
  {
   "cell_type": "raw",
   "metadata": {},
   "source": [
    "Reading in and parsing U.S. Legislator data provided through the Civic Impulse.LLC project govtrack.us\\cite{legislatordata}"
   ]
  },
  {
   "cell_type": "code",
   "execution_count": 2,
   "metadata": {
    "collapsed": true
   },
   "outputs": [],
   "source": [
    "import yaml\n",
    "import pandas as pd\n",
    "from pandas.io.json import json_normalize"
   ]
  },
  {
   "cell_type": "code",
   "execution_count": 3,
   "metadata": {
    "collapsed": false
   },
   "outputs": [],
   "source": [
    "def read_yaml(fn):\n",
    "    with open(fn, 'r') as fi:\n",
    "        return yaml.load(fi)\n",
    "\n",
    "def filter_data(data):\n",
    "    result_data = []\n",
    "    for x in data:\n",
    "        if 'id' not in x:   continue\n",
    "        if 'fec' not in x['id']:    continue\n",
    "        if 'thomas' not in x['id']: continue\n",
    "        result_data.append(x)\n",
    "    return result_data\n",
    "\n",
    "\n",
    "fn = 'legislators-historical.yaml'\n",
    "\n",
    "\n",
    "df = json_normalize(filter_data(read_yaml(fn)), 'terms', [['id', 'fec',], ['id', 'thomas']])\n",
    "\n",
    "df['id.fec'] = df['id.fec'].map(lambda x: str(x)[:-2])\n",
    "\n",
    "\n",
    "df['id.fec'] = df['id.fec'].map(lambda x: str(x)[2:])\n",
    "\n"
   ]
  },
  {
   "cell_type": "code",
   "execution_count": 4,
   "metadata": {
    "collapsed": true
   },
   "outputs": [],
   "source": [
    "def read_yaml(fm):\n",
    "    with open(fm, 'r') as fi:\n",
    "        return yaml.load(fi)\n",
    "def filter_data(data):\n",
    "    result_data = []\n",
    "    for x in data:\n",
    "        if 'id' not in x:   continue\n",
    "        if 'fec' not in x['id']:    continue\n",
    "        if 'thomas' not in x['id']: continue\n",
    "        result_data.append(x)\n",
    "    return result_data\n",
    "fm = 'legislators-current.yaml'\n",
    "dy = json_normalize(filter_data(read_yaml(fm)), 'terms', [['id', 'fec',], ['id', 'thomas']])\n",
    "dy['id.fec'] = dy['id.fec'].map(lambda x: str(x)[:-2])\n",
    "\n",
    "dy['id.fec'] = dy['id.fec'].map(lambda x: str(x)[2:])"
   ]
  },
  {
   "cell_type": "code",
   "execution_count": 5,
   "metadata": {
    "collapsed": false,
    "scrolled": true
   },
   "outputs": [],
   "source": [
    "frames = [df,dy]\n",
    "result = pd.concat(frames)\n",
    "\n",
    "\n",
    "result.to_csv('setupforlegyears.csv', index=False)\n",
    "\n",
    "tz = pd.read_csv('setupforlegyears.csv', usecols=['end', 'id.thomas', 'start'])\n",
    "\n",
    "tz = tz.sort_values(['id.thomas', 'start',], ascending=(True, True))\n",
    "\n",
    "tz.to_csv('leg_histcurent.csv')"
   ]
  },
  {
   "cell_type": "markdown",
   "metadata": {},
   "source": [
    "## Merging years of experience to (billspon.legisl.merg): send to csv (billspon.legisl.merg1)"
   ]
  },
  {
   "cell_type": "raw",
   "metadata": {},
   "source": [
    "Deriving the years-of-experience variable had to be done by hand. The new file: leg_years.csv"
   ]
  },
  {
   "cell_type": "code",
   "execution_count": 6,
   "metadata": {
    "collapsed": true
   },
   "outputs": [],
   "source": [
    "import pandas as pd\n",
    "rr=pd.read_csv('Thesis/leg_years.csv', usecols=['years', 'id.thomas', \\\n",
    "                                               'served'])\n",
    "rr['years_exp']=rr.groupby(['id.thomas']).served.cumsum()\n",
    "rr.drop(['served'], axis=1, inplace=True)\n",
    "rr = rr[(rr['years'] > 2004)]\n",
    "\n",
    "zz=pd.read_csv('billspon.legisl.merg')\n",
    "\n",
    "zz['years']=zz['date']\n",
    "zz['years'] = zz['years'].astype('int')\n",
    "\n",
    "zz = zz[(zz['years'] < 2015) & (zz['years'] > 2004)]\n",
    "\n",
    "rf = pd.merge(zz, rr, on=['id.thomas', 'years'], how='left')\n",
    "\n"
   ]
  },
  {
   "cell_type": "code",
   "execution_count": 7,
   "metadata": {
    "collapsed": true
   },
   "outputs": [],
   "source": [
    "rf.to_csv('billspon_legisl_merg1', index=False)"
   ]
  }
 ],
 "metadata": {
  "kernelspec": {
   "display_name": "Python 3",
   "language": "python",
   "name": "python3"
  },
  "language_info": {
   "codemirror_mode": {
    "name": "ipython",
    "version": 3
   },
   "file_extension": ".py",
   "mimetype": "text/x-python",
   "name": "python",
   "nbconvert_exporter": "python",
   "pygments_lexer": "ipython3",
   "version": "3.5.1"
  }
 },
 "nbformat": 4,
 "nbformat_minor": 0
}
