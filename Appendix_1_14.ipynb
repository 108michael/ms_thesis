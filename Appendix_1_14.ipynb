{
 "cells": [
  {
   "cell_type": "code",
   "execution_count": 249,
   "metadata": {
    "collapsed": true
   },
   "outputs": [],
   "source": [
    "import pandas as pd\n",
    "import numpy as np\n",
    "import glob\n",
    "\n",
    "\n",
    "df = pd.concat((pd.read_csv(f, delimiter='|', header=None, \\\n",
    "names=['feccandid','candname','party','date', 'state', 'chamber',\\\n",
    "'district','incumb.challeng', 'cand_status', '1', '2','3','4', '5', '6'],\\\n",
    "usecols=['feccandid', 'party', 'date', 'state', 'chamber'])for f in \\\n",
    "glob.glob('/home/jayaramdas/anaconda3/Thesis/FEC/cn_data/cn**.txt')))\n",
    "\n",
    "\n",
    "df = df[(df['date'] > 2005) & (df['date'] < 2015)]\n",
    "\n",
    "(df).head(1)\n",
    "\n",
    "df.to_csv('Thesis/FEC/can_master_cln', index=False)"
   ]
  },
  {
   "cell_type": "code",
   "execution_count": 250,
   "metadata": {
    "collapsed": false
   },
   "outputs": [],
   "source": [
    "year_bill_amount=pd.read_csv('year_bill_amount.sum')"
   ]
  },
  {
   "cell_type": "code",
   "execution_count": 251,
   "metadata": {
    "collapsed": true
   },
   "outputs": [],
   "source": [
    "year_bill_amount.rename(columns={'id.thomas':'thomasid'}, inplace=True)"
   ]
  },
  {
   "cell_type": "code",
   "execution_count": 252,
   "metadata": {
    "collapsed": true
   },
   "outputs": [],
   "source": [
    "year_bill_amount.rename(columns={'feccanid':'feccandid'}, inplace=True)"
   ]
  },
  {
   "cell_type": "code",
   "execution_count": 253,
   "metadata": {
    "collapsed": false
   },
   "outputs": [
    {
     "data": {
      "text/html": [
       "<div>\n",
       "<table border=\"1\" class=\"dataframe\">\n",
       "  <thead>\n",
       "    <tr style=\"text-align: right;\">\n",
       "      <th></th>\n",
       "      <th>cid</th>\n",
       "      <th>date</th>\n",
       "      <th>unemployment</th>\n",
       "      <th>catcode</th>\n",
       "      <th>billsum</th>\n",
       "      <th>thomasid</th>\n",
       "      <th>loansum</th>\n",
       "      <th>feccandid</th>\n",
       "      <th>amtsum</th>\n",
       "    </tr>\n",
       "  </thead>\n",
       "  <tbody>\n",
       "    <tr>\n",
       "      <th>0</th>\n",
       "      <td>N00013870</td>\n",
       "      <td>2007.0</td>\n",
       "      <td>4.6</td>\n",
       "      <td>H0000</td>\n",
       "      <td>1.0</td>\n",
       "      <td>1697</td>\n",
       "      <td>0.0</td>\n",
       "      <td>S2MN00126</td>\n",
       "      <td>1.0</td>\n",
       "    </tr>\n",
       "  </tbody>\n",
       "</table>\n",
       "</div>"
      ],
      "text/plain": [
       "         cid    date  unemployment catcode  billsum  thomasid  loansum  \\\n",
       "0  N00013870  2007.0           4.6   H0000      1.0      1697      0.0   \n",
       "\n",
       "   feccandid  amtsum  \n",
       "0  S2MN00126     1.0  "
      ]
     },
     "execution_count": 253,
     "metadata": {},
     "output_type": "execute_result"
    }
   ],
   "source": [
    "year_bill_amount.head(1)"
   ]
  },
  {
   "cell_type": "code",
   "execution_count": 254,
   "metadata": {
    "collapsed": false
   },
   "outputs": [
    {
     "data": {
      "text/html": [
       "<div>\n",
       "<table border=\"1\" class=\"dataframe\">\n",
       "  <thead>\n",
       "    <tr style=\"text-align: right;\">\n",
       "      <th></th>\n",
       "      <th>date</th>\n",
       "      <th>unemployment</th>\n",
       "      <th>billsum</th>\n",
       "      <th>thomasid</th>\n",
       "      <th>loansum</th>\n",
       "      <th>amtsum</th>\n",
       "    </tr>\n",
       "  </thead>\n",
       "  <tbody>\n",
       "    <tr>\n",
       "      <th>count</th>\n",
       "      <td>454384.000000</td>\n",
       "      <td>454384.000000</td>\n",
       "      <td>454384.000000</td>\n",
       "      <td>454384.000000</td>\n",
       "      <td>454384.000000</td>\n",
       "      <td>454384.000000</td>\n",
       "    </tr>\n",
       "    <tr>\n",
       "      <th>mean</th>\n",
       "      <td>2009.746547</td>\n",
       "      <td>0.126262</td>\n",
       "      <td>0.020214</td>\n",
       "      <td>1434.189368</td>\n",
       "      <td>0.136428</td>\n",
       "      <td>6.738634</td>\n",
       "    </tr>\n",
       "    <tr>\n",
       "      <th>std</th>\n",
       "      <td>2.812095</td>\n",
       "      <td>0.987317</td>\n",
       "      <td>0.165285</td>\n",
       "      <td>600.620948</td>\n",
       "      <td>0.906749</td>\n",
       "      <td>62.011896</td>\n",
       "    </tr>\n",
       "    <tr>\n",
       "      <th>min</th>\n",
       "      <td>2005.000000</td>\n",
       "      <td>0.000000</td>\n",
       "      <td>0.000000</td>\n",
       "      <td>2.000000</td>\n",
       "      <td>0.000000</td>\n",
       "      <td>0.000000</td>\n",
       "    </tr>\n",
       "    <tr>\n",
       "      <th>25%</th>\n",
       "      <td>2007.000000</td>\n",
       "      <td>0.000000</td>\n",
       "      <td>0.000000</td>\n",
       "      <td>1010.000000</td>\n",
       "      <td>0.000000</td>\n",
       "      <td>1.000000</td>\n",
       "    </tr>\n",
       "    <tr>\n",
       "      <th>50%</th>\n",
       "      <td>2010.000000</td>\n",
       "      <td>0.000000</td>\n",
       "      <td>0.000000</td>\n",
       "      <td>1651.000000</td>\n",
       "      <td>0.000000</td>\n",
       "      <td>2.500000</td>\n",
       "    </tr>\n",
       "    <tr>\n",
       "      <th>75%</th>\n",
       "      <td>2012.000000</td>\n",
       "      <td>0.000000</td>\n",
       "      <td>0.000000</td>\n",
       "      <td>1869.000000</td>\n",
       "      <td>0.000000</td>\n",
       "      <td>5.500000</td>\n",
       "    </tr>\n",
       "    <tr>\n",
       "      <th>max</th>\n",
       "      <td>2014.000000</td>\n",
       "      <td>13.700000</td>\n",
       "      <td>6.000000</td>\n",
       "      <td>2291.000000</td>\n",
       "      <td>207.732000</td>\n",
       "      <td>19739.002000</td>\n",
       "    </tr>\n",
       "  </tbody>\n",
       "</table>\n",
       "</div>"
      ],
      "text/plain": [
       "                date   unemployment        billsum       thomasid  \\\n",
       "count  454384.000000  454384.000000  454384.000000  454384.000000   \n",
       "mean     2009.746547       0.126262       0.020214    1434.189368   \n",
       "std         2.812095       0.987317       0.165285     600.620948   \n",
       "min      2005.000000       0.000000       0.000000       2.000000   \n",
       "25%      2007.000000       0.000000       0.000000    1010.000000   \n",
       "50%      2010.000000       0.000000       0.000000    1651.000000   \n",
       "75%      2012.000000       0.000000       0.000000    1869.000000   \n",
       "max      2014.000000      13.700000       6.000000    2291.000000   \n",
       "\n",
       "             loansum         amtsum  \n",
       "count  454384.000000  454384.000000  \n",
       "mean        0.136428       6.738634  \n",
       "std         0.906749      62.011896  \n",
       "min         0.000000       0.000000  \n",
       "25%         0.000000       1.000000  \n",
       "50%         0.000000       2.500000  \n",
       "75%         0.000000       5.500000  \n",
       "max       207.732000   19739.002000  "
      ]
     },
     "execution_count": 254,
     "metadata": {},
     "output_type": "execute_result"
    }
   ],
   "source": [
    "year_bill_amount.describe()"
   ]
  },
  {
   "cell_type": "code",
   "execution_count": 255,
   "metadata": {
    "collapsed": false
   },
   "outputs": [],
   "source": [
    "year_bill_amount['date_fwd1']=year_bill_amount.date-1"
   ]
  },
  {
   "cell_type": "code",
   "execution_count": 256,
   "metadata": {
    "collapsed": false
   },
   "outputs": [],
   "source": [
    "fwdamtsum=year_bill_amount[['cid', 'date_fwd1', 'amtsum', 'catcode']].copy()\n",
    "fwdamtsum.rename(columns={'date_fwd1':'date', 'amtsum' : 'amtsumfwd_1'},\\\n",
    "                 inplace=True)\n",
    "year_bill_amount.drop('date_fwd1', axis=1, inplace=True)"
   ]
  },
  {
   "cell_type": "code",
   "execution_count": 257,
   "metadata": {
    "collapsed": false,
    "scrolled": true
   },
   "outputs": [],
   "source": [
    "year_bill_amount=pd.merge(fwdamtsum,year_bill_amount,on=['date', 'cid', 'catcode'], how=('right'))\n",
    "year_bill_amount.fillna(value=0, inplace=True)\n",
    "#year_bill_amount.drop('feccandid', axis=1, inplace=True)"
   ]
  },
  {
   "cell_type": "code",
   "execution_count": 258,
   "metadata": {
    "collapsed": false
   },
   "outputs": [],
   "source": [
    "year_bill_amount['date_lag1']=year_bill_amount.date+1"
   ]
  },
  {
   "cell_type": "code",
   "execution_count": 259,
   "metadata": {
    "collapsed": false
   },
   "outputs": [],
   "source": [
    "lagamtsum=year_bill_amount[['cid', 'date_lag1', 'amtsum', 'catcode']].copy()\n",
    "lagamtsum.rename(columns={'date_lag1':'date', 'amtsum' : 'amtsumlag_1'},\\\n",
    "                 inplace=True)\n",
    "year_bill_amount.drop('date_lag1', axis=1, inplace=True)"
   ]
  },
  {
   "cell_type": "code",
   "execution_count": 260,
   "metadata": {
    "collapsed": false
   },
   "outputs": [],
   "source": [
    "year_bill_amount=pd.merge(lagamtsum,year_bill_amount,on=['date', 'cid', 'catcode'], how=('right'))\n",
    "year_bill_amount.fillna(value=0, inplace=True)\n",
    "#+year_bill_amount.drop('feccandid', axis=1, inplace=True)"
   ]
  },
  {
   "cell_type": "code",
   "execution_count": 261,
   "metadata": {
    "collapsed": false
   },
   "outputs": [
    {
     "data": {
      "text/html": [
       "<div>\n",
       "<table border=\"1\" class=\"dataframe\">\n",
       "  <thead>\n",
       "    <tr style=\"text-align: right;\">\n",
       "      <th></th>\n",
       "      <th>date</th>\n",
       "      <th>amtsumlag_1</th>\n",
       "      <th>amtsumfwd_1</th>\n",
       "      <th>unemployment</th>\n",
       "      <th>billsum</th>\n",
       "      <th>thomasid</th>\n",
       "      <th>loansum</th>\n",
       "      <th>amtsum</th>\n",
       "    </tr>\n",
       "  </thead>\n",
       "  <tbody>\n",
       "    <tr>\n",
       "      <th>count</th>\n",
       "      <td>746730.000000</td>\n",
       "      <td>746730.000000</td>\n",
       "      <td>746730.000000</td>\n",
       "      <td>746730.000000</td>\n",
       "      <td>746730.000000</td>\n",
       "      <td>746730.000000</td>\n",
       "      <td>746730.000000</td>\n",
       "      <td>746730.000000</td>\n",
       "    </tr>\n",
       "    <tr>\n",
       "      <th>mean</th>\n",
       "      <td>2009.919962</td>\n",
       "      <td>5.872943</td>\n",
       "      <td>6.148951</td>\n",
       "      <td>0.159265</td>\n",
       "      <td>0.025079</td>\n",
       "      <td>1446.632614</td>\n",
       "      <td>0.161361</td>\n",
       "      <td>8.035435</td>\n",
       "    </tr>\n",
       "    <tr>\n",
       "      <th>std</th>\n",
       "      <td>2.677255</td>\n",
       "      <td>97.705132</td>\n",
       "      <td>47.312040</td>\n",
       "      <td>1.113109</td>\n",
       "      <td>0.183716</td>\n",
       "      <td>593.250792</td>\n",
       "      <td>0.920925</td>\n",
       "      <td>68.808872</td>\n",
       "    </tr>\n",
       "    <tr>\n",
       "      <th>min</th>\n",
       "      <td>2005.000000</td>\n",
       "      <td>0.000000</td>\n",
       "      <td>0.000000</td>\n",
       "      <td>0.000000</td>\n",
       "      <td>0.000000</td>\n",
       "      <td>2.000000</td>\n",
       "      <td>0.000000</td>\n",
       "      <td>0.000000</td>\n",
       "    </tr>\n",
       "    <tr>\n",
       "      <th>25%</th>\n",
       "      <td>2008.000000</td>\n",
       "      <td>0.000000</td>\n",
       "      <td>0.000000</td>\n",
       "      <td>0.000000</td>\n",
       "      <td>0.000000</td>\n",
       "      <td>1151.000000</td>\n",
       "      <td>0.000000</td>\n",
       "      <td>1.000000</td>\n",
       "    </tr>\n",
       "    <tr>\n",
       "      <th>50%</th>\n",
       "      <td>2010.000000</td>\n",
       "      <td>2.000000</td>\n",
       "      <td>2.000000</td>\n",
       "      <td>0.000000</td>\n",
       "      <td>0.000000</td>\n",
       "      <td>1647.000000</td>\n",
       "      <td>0.000000</td>\n",
       "      <td>3.000000</td>\n",
       "    </tr>\n",
       "    <tr>\n",
       "      <th>75%</th>\n",
       "      <td>2012.000000</td>\n",
       "      <td>5.000000</td>\n",
       "      <td>5.000000</td>\n",
       "      <td>0.000000</td>\n",
       "      <td>0.000000</td>\n",
       "      <td>1866.000000</td>\n",
       "      <td>0.000000</td>\n",
       "      <td>6.500000</td>\n",
       "    </tr>\n",
       "    <tr>\n",
       "      <th>max</th>\n",
       "      <td>2014.000000</td>\n",
       "      <td>19739.002000</td>\n",
       "      <td>10106.424000</td>\n",
       "      <td>13.700000</td>\n",
       "      <td>6.000000</td>\n",
       "      <td>2291.000000</td>\n",
       "      <td>207.732000</td>\n",
       "      <td>19739.002000</td>\n",
       "    </tr>\n",
       "  </tbody>\n",
       "</table>\n",
       "</div>"
      ],
      "text/plain": [
       "                date    amtsumlag_1    amtsumfwd_1   unemployment  \\\n",
       "count  746730.000000  746730.000000  746730.000000  746730.000000   \n",
       "mean     2009.919962       5.872943       6.148951       0.159265   \n",
       "std         2.677255      97.705132      47.312040       1.113109   \n",
       "min      2005.000000       0.000000       0.000000       0.000000   \n",
       "25%      2008.000000       0.000000       0.000000       0.000000   \n",
       "50%      2010.000000       2.000000       2.000000       0.000000   \n",
       "75%      2012.000000       5.000000       5.000000       0.000000   \n",
       "max      2014.000000   19739.002000   10106.424000      13.700000   \n",
       "\n",
       "             billsum       thomasid        loansum         amtsum  \n",
       "count  746730.000000  746730.000000  746730.000000  746730.000000  \n",
       "mean        0.025079    1446.632614       0.161361       8.035435  \n",
       "std         0.183716     593.250792       0.920925      68.808872  \n",
       "min         0.000000       2.000000       0.000000       0.000000  \n",
       "25%         0.000000    1151.000000       0.000000       1.000000  \n",
       "50%         0.000000    1647.000000       0.000000       3.000000  \n",
       "75%         0.000000    1866.000000       0.000000       6.500000  \n",
       "max         6.000000    2291.000000     207.732000   19739.002000  "
      ]
     },
     "execution_count": 261,
     "metadata": {},
     "output_type": "execute_result"
    }
   ],
   "source": [
    "year_bill_amount.describe()"
   ]
  },
  {
   "cell_type": "code",
   "execution_count": 262,
   "metadata": {
    "collapsed": false,
    "scrolled": true
   },
   "outputs": [
    {
     "data": {
      "text/plain": [
       "746730"
      ]
     },
     "execution_count": 262,
     "metadata": {},
     "output_type": "execute_result"
    }
   ],
   "source": [
    "len(year_bill_amount)#.head(1)"
   ]
  },
  {
   "cell_type": "code",
   "execution_count": 263,
   "metadata": {
    "collapsed": false,
    "scrolled": true
   },
   "outputs": [
    {
     "data": {
      "text/plain": [
       "915"
      ]
     },
     "execution_count": 263,
     "metadata": {},
     "output_type": "execute_result"
    }
   ],
   "source": [
    "year_bill_amount.cid.nunique()"
   ]
  },
  {
   "cell_type": "code",
   "execution_count": 264,
   "metadata": {
    "collapsed": false,
    "scrolled": true
   },
   "outputs": [
    {
     "data": {
      "text/plain": [
       "cid             0\n",
       "date            0\n",
       "amtsumlag_1     0\n",
       "catcode         0\n",
       "amtsumfwd_1     0\n",
       "unemployment    0\n",
       "billsum         0\n",
       "thomasid        0\n",
       "loansum         0\n",
       "feccandid       0\n",
       "amtsum          0\n",
       "dtype: int64"
      ]
     },
     "execution_count": 264,
     "metadata": {},
     "output_type": "execute_result"
    }
   ],
   "source": [
    "year_bill_amount.isnull().sum()"
   ]
  },
  {
   "cell_type": "code",
   "execution_count": 265,
   "metadata": {
    "collapsed": false
   },
   "outputs": [],
   "source": [
    "idindex=pd.read_csv('fec_thom_cid_index')\n",
    "idindex.rename(columns={'id.thomas':'thomasid'},\\\n",
    "          inplace=True)"
   ]
  },
  {
   "cell_type": "code",
   "execution_count": 266,
   "metadata": {
    "collapsed": false
   },
   "outputs": [
    {
     "data": {
      "text/html": [
       "<div>\n",
       "<table border=\"1\" class=\"dataframe\">\n",
       "  <thead>\n",
       "    <tr style=\"text-align: right;\">\n",
       "      <th></th>\n",
       "      <th>feccandid</th>\n",
       "      <th>party</th>\n",
       "      <th>date</th>\n",
       "      <th>state</th>\n",
       "      <th>chamber</th>\n",
       "    </tr>\n",
       "  </thead>\n",
       "  <tbody>\n",
       "    <tr>\n",
       "      <th>0</th>\n",
       "      <td>S4TN00153</td>\n",
       "      <td>Republican</td>\n",
       "      <td>2001</td>\n",
       "      <td>TN</td>\n",
       "      <td>sen</td>\n",
       "    </tr>\n",
       "  </tbody>\n",
       "</table>\n",
       "</div>"
      ],
      "text/plain": [
       "   feccandid       party  date state chamber\n",
       "0  S4TN00153  Republican  2001    TN     sen"
      ]
     },
     "execution_count": 266,
     "metadata": {},
     "output_type": "execute_result"
    }
   ],
   "source": [
    "tz = pd.read_csv('histcurrent.merged.csv',low_memory=False,\\\n",
    "                 usecols=['id.thomas', 'type', 'party', 'state', 'end'])\n",
    "tz.drop_duplicates('id.thomas', keep='first', inplace=True)\n",
    "tz.rename(columns={'id.thomas':'thomasid'},\\\n",
    "          inplace=True)\n",
    "tz['end'] = \\\n",
    "tz['end'].map(lambda x: str(x)[:-6])\n",
    "tz.rename(columns={'end':'date'}, inplace=True)\n",
    "\n",
    "tz=pd.merge(tz,idindex, how='left',\\\n",
    "                          on=['thomasid'])\n",
    "tz.drop(['thomasid', 'cid'], axis=1, inplace=True)\n",
    "#year_bill_amount.fillna(value=0, inplace=True)\n",
    "tz.rename(columns={'type':'chamber'}, inplace=True)\n",
    "tz=tz[['feccandid', 'party', 'date', 'state', 'chamber'] ]\n",
    "tz.head(1)"
   ]
  },
  {
   "cell_type": "code",
   "execution_count": 267,
   "metadata": {
    "collapsed": false
   },
   "outputs": [
    {
     "data": {
      "text/plain": [
       "981"
      ]
     },
     "execution_count": 267,
     "metadata": {},
     "output_type": "execute_result"
    }
   ],
   "source": [
    "tz.feccandid.nunique()"
   ]
  },
  {
   "cell_type": "code",
   "execution_count": 268,
   "metadata": {
    "collapsed": true
   },
   "outputs": [],
   "source": [
    "tz['date'] = tz['date'].astype('float64')"
   ]
  },
  {
   "cell_type": "code",
   "execution_count": 269,
   "metadata": {
    "collapsed": false,
    "scrolled": true
   },
   "outputs": [
    {
     "data": {
      "text/plain": [
       "feccandid    3\n",
       "party        0\n",
       "date         0\n",
       "state        0\n",
       "chamber      0\n",
       "dtype: int64"
      ]
     },
     "execution_count": 269,
     "metadata": {},
     "output_type": "execute_result"
    }
   ],
   "source": [
    "tz.isnull().sum()"
   ]
  },
  {
   "cell_type": "code",
   "execution_count": 270,
   "metadata": {
    "collapsed": true
   },
   "outputs": [],
   "source": [
    "canmaster=pd.read_csv('Thesis/FEC/can_master_cln')\n",
    "canmaster.drop_duplicates(['feccandid', 'date'], inplace=True)"
   ]
  },
  {
   "cell_type": "code",
   "execution_count": 271,
   "metadata": {
    "collapsed": false
   },
   "outputs": [],
   "source": [
    "canmaster.loc[canmaster.chamber == 'H', ['chamber']] = 'rep'"
   ]
  },
  {
   "cell_type": "code",
   "execution_count": 272,
   "metadata": {
    "collapsed": false
   },
   "outputs": [],
   "source": [
    "canmaster.loc[canmaster.chamber == 'S', ['chamber']] = 'sen'"
   ]
  },
  {
   "cell_type": "code",
   "execution_count": 273,
   "metadata": {
    "collapsed": false
   },
   "outputs": [],
   "source": [
    "canmaster=canmaster[(canmaster['chamber'] != 'P')]"
   ]
  },
  {
   "cell_type": "code",
   "execution_count": 274,
   "metadata": {
    "collapsed": false
   },
   "outputs": [
    {
     "data": {
      "text/plain": [
       "['feccandid', 'party', 'date', 'state', 'chamber']"
      ]
     },
     "execution_count": 274,
     "metadata": {},
     "output_type": "execute_result"
    }
   ],
   "source": [
    "canmaster.columns.tolist()"
   ]
  },
  {
   "cell_type": "code",
   "execution_count": 275,
   "metadata": {
    "collapsed": false
   },
   "outputs": [],
   "source": [
    "canmaster=canmaster[(canmaster['party']=='REP')|(canmaster['party']=='DEM')\\\n",
    "                   |(canmaster['party']=='IND')]\n",
    "#dz = df[(df['date'] > '01/03/2005') & (df['date'] < '01/03/2015')]"
   ]
  },
  {
   "cell_type": "code",
   "execution_count": 276,
   "metadata": {
    "collapsed": false
   },
   "outputs": [],
   "source": [
    "canmaster.loc[canmaster.party == 'REP', ['party']] = 'Republican'"
   ]
  },
  {
   "cell_type": "code",
   "execution_count": 277,
   "metadata": {
    "collapsed": false
   },
   "outputs": [],
   "source": [
    "canmaster.loc[canmaster.party == 'DEM', ['party']] = 'Democrat'"
   ]
  },
  {
   "cell_type": "code",
   "execution_count": 278,
   "metadata": {
    "collapsed": false
   },
   "outputs": [],
   "source": [
    "canmaster.loc[canmaster.party == 'IND', ['party']] = 'Independent'"
   ]
  },
  {
   "cell_type": "code",
   "execution_count": 279,
   "metadata": {
    "collapsed": false,
    "scrolled": true
   },
   "outputs": [
    {
     "data": {
      "text/plain": [
       "3"
      ]
     },
     "execution_count": 279,
     "metadata": {},
     "output_type": "execute_result"
    }
   ],
   "source": [
    "canmaster.party.nunique()"
   ]
  },
  {
   "cell_type": "code",
   "execution_count": 280,
   "metadata": {
    "collapsed": false
   },
   "outputs": [
    {
     "data": {
      "text/html": [
       "<div>\n",
       "<table border=\"1\" class=\"dataframe\">\n",
       "  <thead>\n",
       "    <tr style=\"text-align: right;\">\n",
       "      <th></th>\n",
       "      <th>feccandid</th>\n",
       "      <th>party</th>\n",
       "      <th>date</th>\n",
       "      <th>state</th>\n",
       "      <th>chamber</th>\n",
       "    </tr>\n",
       "  </thead>\n",
       "  <tbody>\n",
       "    <tr>\n",
       "      <th>0</th>\n",
       "      <td>H0AK00097</td>\n",
       "      <td>Republican</td>\n",
       "      <td>2014</td>\n",
       "      <td>AK</td>\n",
       "      <td>rep</td>\n",
       "    </tr>\n",
       "  </tbody>\n",
       "</table>\n",
       "</div>"
      ],
      "text/plain": [
       "   feccandid       party  date state chamber\n",
       "0  H0AK00097  Republican  2014    AK     rep"
      ]
     },
     "execution_count": 280,
     "metadata": {},
     "output_type": "execute_result"
    }
   ],
   "source": [
    "canmaster.head(1)"
   ]
  },
  {
   "cell_type": "code",
   "execution_count": 281,
   "metadata": {
    "collapsed": false
   },
   "outputs": [
    {
     "data": {
      "text/plain": [
       "11776"
      ]
     },
     "execution_count": 281,
     "metadata": {},
     "output_type": "execute_result"
    }
   ],
   "source": [
    "len (canmaster)"
   ]
  },
  {
   "cell_type": "code",
   "execution_count": 282,
   "metadata": {
    "collapsed": true
   },
   "outputs": [],
   "source": [
    "frames=[canmaster, tz]\n",
    "canmaster=pd.concat(frames)"
   ]
  },
  {
   "cell_type": "code",
   "execution_count": 283,
   "metadata": {
    "collapsed": false
   },
   "outputs": [
    {
     "data": {
      "text/plain": [
       "8682"
      ]
     },
     "execution_count": 283,
     "metadata": {},
     "output_type": "execute_result"
    }
   ],
   "source": [
    "canmaster.feccandid.nunique()"
   ]
  },
  {
   "cell_type": "code",
   "execution_count": 284,
   "metadata": {
    "collapsed": true
   },
   "outputs": [],
   "source": [
    "canmaster.drop_duplicates(['feccandid', 'date'], inplace=True)"
   ]
  },
  {
   "cell_type": "code",
   "execution_count": 285,
   "metadata": {
    "collapsed": false
   },
   "outputs": [],
   "source": [
    "#canmaster=pd.merge(canmaster,idindex, how='left',\\\n",
    "    #                      on=['feccandid'])\n",
    "#year_bill_amount.fillna(value=0, inplace=True)"
   ]
  },
  {
   "cell_type": "code",
   "execution_count": 286,
   "metadata": {
    "collapsed": true
   },
   "outputs": [],
   "source": [
    "year_bill_amount = year_bill_amount.drop_duplicates(keep='first')"
   ]
  },
  {
   "cell_type": "code",
   "execution_count": 287,
   "metadata": {
    "collapsed": true
   },
   "outputs": [],
   "source": [
    "canmaster = canmaster.drop_duplicates(keep='first')"
   ]
  },
  {
   "cell_type": "code",
   "execution_count": 288,
   "metadata": {
    "collapsed": false
   },
   "outputs": [],
   "source": [
    "yba=pd.merge(canmaster,year_bill_amount, how='right',\\\n",
    "                          on=['feccandid', 'date'])\n"
   ]
  },
  {
   "cell_type": "code",
   "execution_count": 289,
   "metadata": {
    "collapsed": true
   },
   "outputs": [],
   "source": [
    "yba = yba.drop_duplicates(keep='first')"
   ]
  },
  {
   "cell_type": "code",
   "execution_count": 290,
   "metadata": {
    "collapsed": false,
    "scrolled": false
   },
   "outputs": [
    {
     "data": {
      "text/plain": [
       "feccandid            0\n",
       "party           182200\n",
       "date                 0\n",
       "state           182200\n",
       "chamber         182200\n",
       "cid                  0\n",
       "amtsumlag_1          0\n",
       "catcode              0\n",
       "amtsumfwd_1          0\n",
       "unemployment         0\n",
       "billsum              0\n",
       "thomasid             0\n",
       "loansum              0\n",
       "amtsum               0\n",
       "dtype: int64"
      ]
     },
     "execution_count": 290,
     "metadata": {},
     "output_type": "execute_result"
    }
   ],
   "source": [
    "yba.isnull().sum()"
   ]
  },
  {
   "cell_type": "code",
   "execution_count": 291,
   "metadata": {
    "collapsed": false
   },
   "outputs": [
    {
     "data": {
      "text/html": [
       "<div>\n",
       "<table border=\"1\" class=\"dataframe\">\n",
       "  <thead>\n",
       "    <tr style=\"text-align: right;\">\n",
       "      <th></th>\n",
       "      <th>date</th>\n",
       "      <th>amtsumlag_1</th>\n",
       "      <th>amtsumfwd_1</th>\n",
       "      <th>unemployment</th>\n",
       "      <th>billsum</th>\n",
       "      <th>thomasid</th>\n",
       "      <th>loansum</th>\n",
       "      <th>amtsum</th>\n",
       "    </tr>\n",
       "  </thead>\n",
       "  <tbody>\n",
       "    <tr>\n",
       "      <th>count</th>\n",
       "      <td>412793.000000</td>\n",
       "      <td>412793.000000</td>\n",
       "      <td>412793.000000</td>\n",
       "      <td>412793.000000</td>\n",
       "      <td>412793.000000</td>\n",
       "      <td>412793.000000</td>\n",
       "      <td>412793.000000</td>\n",
       "      <td>412793.000000</td>\n",
       "    </tr>\n",
       "    <tr>\n",
       "      <th>mean</th>\n",
       "      <td>2009.708941</td>\n",
       "      <td>3.840257</td>\n",
       "      <td>4.159154</td>\n",
       "      <td>0.122742</td>\n",
       "      <td>0.019717</td>\n",
       "      <td>1433.625495</td>\n",
       "      <td>0.134406</td>\n",
       "      <td>6.443382</td>\n",
       "    </tr>\n",
       "    <tr>\n",
       "      <th>std</th>\n",
       "      <td>2.816359</td>\n",
       "      <td>38.048633</td>\n",
       "      <td>31.242003</td>\n",
       "      <td>0.972069</td>\n",
       "      <td>0.163290</td>\n",
       "      <td>600.111597</td>\n",
       "      <td>0.904576</td>\n",
       "      <td>53.010064</td>\n",
       "    </tr>\n",
       "    <tr>\n",
       "      <th>min</th>\n",
       "      <td>2005.000000</td>\n",
       "      <td>0.000000</td>\n",
       "      <td>0.000000</td>\n",
       "      <td>0.000000</td>\n",
       "      <td>0.000000</td>\n",
       "      <td>2.000000</td>\n",
       "      <td>0.000000</td>\n",
       "      <td>0.000000</td>\n",
       "    </tr>\n",
       "    <tr>\n",
       "      <th>25%</th>\n",
       "      <td>2007.000000</td>\n",
       "      <td>0.000000</td>\n",
       "      <td>0.000000</td>\n",
       "      <td>0.000000</td>\n",
       "      <td>0.000000</td>\n",
       "      <td>1003.000000</td>\n",
       "      <td>0.000000</td>\n",
       "      <td>1.000000</td>\n",
       "    </tr>\n",
       "    <tr>\n",
       "      <th>50%</th>\n",
       "      <td>2010.000000</td>\n",
       "      <td>1.000000</td>\n",
       "      <td>1.000000</td>\n",
       "      <td>0.000000</td>\n",
       "      <td>0.000000</td>\n",
       "      <td>1655.000000</td>\n",
       "      <td>0.000000</td>\n",
       "      <td>2.500000</td>\n",
       "    </tr>\n",
       "    <tr>\n",
       "      <th>75%</th>\n",
       "      <td>2012.000000</td>\n",
       "      <td>4.000000</td>\n",
       "      <td>4.050000</td>\n",
       "      <td>0.000000</td>\n",
       "      <td>0.000000</td>\n",
       "      <td>1871.000000</td>\n",
       "      <td>0.000000</td>\n",
       "      <td>5.500000</td>\n",
       "    </tr>\n",
       "    <tr>\n",
       "      <th>max</th>\n",
       "      <td>2014.000000</td>\n",
       "      <td>19739.002000</td>\n",
       "      <td>10106.424000</td>\n",
       "      <td>13.700000</td>\n",
       "      <td>6.000000</td>\n",
       "      <td>2291.000000</td>\n",
       "      <td>207.732000</td>\n",
       "      <td>19739.002000</td>\n",
       "    </tr>\n",
       "  </tbody>\n",
       "</table>\n",
       "</div>"
      ],
      "text/plain": [
       "                date    amtsumlag_1    amtsumfwd_1   unemployment  \\\n",
       "count  412793.000000  412793.000000  412793.000000  412793.000000   \n",
       "mean     2009.708941       3.840257       4.159154       0.122742   \n",
       "std         2.816359      38.048633      31.242003       0.972069   \n",
       "min      2005.000000       0.000000       0.000000       0.000000   \n",
       "25%      2007.000000       0.000000       0.000000       0.000000   \n",
       "50%      2010.000000       1.000000       1.000000       0.000000   \n",
       "75%      2012.000000       4.000000       4.050000       0.000000   \n",
       "max      2014.000000   19739.002000   10106.424000      13.700000   \n",
       "\n",
       "             billsum       thomasid        loansum         amtsum  \n",
       "count  412793.000000  412793.000000  412793.000000  412793.000000  \n",
       "mean        0.019717    1433.625495       0.134406       6.443382  \n",
       "std         0.163290     600.111597       0.904576      53.010064  \n",
       "min         0.000000       2.000000       0.000000       0.000000  \n",
       "25%         0.000000    1003.000000       0.000000       1.000000  \n",
       "50%         0.000000    1655.000000       0.000000       2.500000  \n",
       "75%         0.000000    1871.000000       0.000000       5.500000  \n",
       "max         6.000000    2291.000000     207.732000   19739.002000  "
      ]
     },
     "execution_count": 291,
     "metadata": {},
     "output_type": "execute_result"
    }
   ],
   "source": [
    "yba.describe()"
   ]
  },
  {
   "cell_type": "code",
   "execution_count": 292,
   "metadata": {
    "collapsed": false
   },
   "outputs": [
    {
     "data": {
      "text/html": [
       "<div>\n",
       "<table border=\"1\" class=\"dataframe\">\n",
       "  <thead>\n",
       "    <tr style=\"text-align: right;\">\n",
       "      <th></th>\n",
       "      <th>date</th>\n",
       "      <th>thomasid</th>\n",
       "      <th>leg_totalbills</th>\n",
       "    </tr>\n",
       "  </thead>\n",
       "  <tbody>\n",
       "    <tr>\n",
       "      <th>0</th>\n",
       "      <td>2006.0</td>\n",
       "      <td>1440</td>\n",
       "      <td>14</td>\n",
       "    </tr>\n",
       "  </tbody>\n",
       "</table>\n",
       "</div>"
      ],
      "text/plain": [
       "     date  thomasid  leg_totalbills\n",
       "0  2006.0      1440              14"
      ]
     },
     "execution_count": 292,
     "metadata": {},
     "output_type": "execute_result"
    }
   ],
   "source": [
    "df=pd.read_csv('billspon.legisl.merg.3', usecols=['date', 'id.thomas',\\\n",
    "                                                'leg_totalbills'])\n",
    "#df.drop_duplicates(['date', 'id.thomas'],inplace=True)\n",
    "df.rename(columns={'id.thomas':'thomasid'}, inplace=True)\n",
    "df.head(1)"
   ]
  },
  {
   "cell_type": "code",
   "execution_count": 293,
   "metadata": {
    "collapsed": false,
    "scrolled": true
   },
   "outputs": [
    {
     "data": {
      "text/plain": [
       "date              0\n",
       "thomasid          0\n",
       "leg_totalbills    0\n",
       "dtype: int64"
      ]
     },
     "execution_count": 293,
     "metadata": {},
     "output_type": "execute_result"
    }
   ],
   "source": [
    "df.isnull().sum()"
   ]
  },
  {
   "cell_type": "code",
   "execution_count": 294,
   "metadata": {
    "collapsed": false
   },
   "outputs": [
    {
     "data": {
      "text/plain": [
       "844"
      ]
     },
     "execution_count": 294,
     "metadata": {},
     "output_type": "execute_result"
    }
   ],
   "source": [
    "df.thomasid.nunique()"
   ]
  },
  {
   "cell_type": "code",
   "execution_count": 295,
   "metadata": {
    "collapsed": true
   },
   "outputs": [],
   "source": [
    "df = df.drop_duplicates(keep='first')"
   ]
  },
  {
   "cell_type": "code",
   "execution_count": 296,
   "metadata": {
    "collapsed": false
   },
   "outputs": [
    {
     "data": {
      "text/html": [
       "<div>\n",
       "<table border=\"1\" class=\"dataframe\">\n",
       "  <thead>\n",
       "    <tr style=\"text-align: right;\">\n",
       "      <th></th>\n",
       "      <th>feccandid</th>\n",
       "      <th>party</th>\n",
       "      <th>date</th>\n",
       "      <th>state</th>\n",
       "      <th>chamber</th>\n",
       "      <th>cid</th>\n",
       "      <th>amtsumlag_1</th>\n",
       "      <th>catcode</th>\n",
       "      <th>amtsumfwd_1</th>\n",
       "      <th>unemployment</th>\n",
       "      <th>billsum</th>\n",
       "      <th>thomasid</th>\n",
       "      <th>loansum</th>\n",
       "      <th>amtsum</th>\n",
       "    </tr>\n",
       "  </thead>\n",
       "  <tbody>\n",
       "    <tr>\n",
       "      <th>0</th>\n",
       "      <td>H0AL02087</td>\n",
       "      <td>Republican</td>\n",
       "      <td>2014.0</td>\n",
       "      <td>AL</td>\n",
       "      <td>rep</td>\n",
       "      <td>N00030768</td>\n",
       "      <td>1.0</td>\n",
       "      <td>E1110</td>\n",
       "      <td>0.0</td>\n",
       "      <td>0.0</td>\n",
       "      <td>0.0</td>\n",
       "      <td>1986</td>\n",
       "      <td>0.0</td>\n",
       "      <td>2.0</td>\n",
       "    </tr>\n",
       "  </tbody>\n",
       "</table>\n",
       "</div>"
      ],
      "text/plain": [
       "   feccandid       party    date state chamber        cid  amtsumlag_1  \\\n",
       "0  H0AL02087  Republican  2014.0    AL     rep  N00030768          1.0   \n",
       "\n",
       "  catcode  amtsumfwd_1  unemployment  billsum  thomasid  loansum  amtsum  \n",
       "0   E1110          0.0           0.0      0.0      1986      0.0     2.0  "
      ]
     },
     "execution_count": 296,
     "metadata": {},
     "output_type": "execute_result"
    }
   ],
   "source": [
    "yba.head(1)"
   ]
  },
  {
   "cell_type": "code",
   "execution_count": 297,
   "metadata": {
    "collapsed": false
   },
   "outputs": [],
   "source": [
    "yba2=pd.merge(df,yba, how='right',\\\n",
    "                          on=['thomasid', 'date'])\n"
   ]
  },
  {
   "cell_type": "code",
   "execution_count": 298,
   "metadata": {
    "collapsed": false,
    "scrolled": true
   },
   "outputs": [
    {
     "data": {
      "text/html": [
       "<div>\n",
       "<table border=\"1\" class=\"dataframe\">\n",
       "  <thead>\n",
       "    <tr style=\"text-align: right;\">\n",
       "      <th></th>\n",
       "      <th>date</th>\n",
       "      <th>thomasid</th>\n",
       "      <th>leg_totalbills</th>\n",
       "      <th>amtsumlag_1</th>\n",
       "      <th>amtsumfwd_1</th>\n",
       "      <th>unemployment</th>\n",
       "      <th>billsum</th>\n",
       "      <th>loansum</th>\n",
       "      <th>amtsum</th>\n",
       "    </tr>\n",
       "  </thead>\n",
       "  <tbody>\n",
       "    <tr>\n",
       "      <th>count</th>\n",
       "      <td>412793.000000</td>\n",
       "      <td>412793.000000</td>\n",
       "      <td>365699.000000</td>\n",
       "      <td>412793.000000</td>\n",
       "      <td>412793.000000</td>\n",
       "      <td>412793.000000</td>\n",
       "      <td>412793.000000</td>\n",
       "      <td>412793.000000</td>\n",
       "      <td>412793.000000</td>\n",
       "    </tr>\n",
       "    <tr>\n",
       "      <th>mean</th>\n",
       "      <td>2009.708941</td>\n",
       "      <td>1433.625495</td>\n",
       "      <td>9.965349</td>\n",
       "      <td>3.840257</td>\n",
       "      <td>4.159154</td>\n",
       "      <td>0.122742</td>\n",
       "      <td>0.019717</td>\n",
       "      <td>0.134406</td>\n",
       "      <td>6.443382</td>\n",
       "    </tr>\n",
       "    <tr>\n",
       "      <th>std</th>\n",
       "      <td>2.816359</td>\n",
       "      <td>600.111597</td>\n",
       "      <td>11.100884</td>\n",
       "      <td>38.048633</td>\n",
       "      <td>31.242003</td>\n",
       "      <td>0.972069</td>\n",
       "      <td>0.163290</td>\n",
       "      <td>0.904576</td>\n",
       "      <td>53.010064</td>\n",
       "    </tr>\n",
       "    <tr>\n",
       "      <th>min</th>\n",
       "      <td>2005.000000</td>\n",
       "      <td>2.000000</td>\n",
       "      <td>1.000000</td>\n",
       "      <td>0.000000</td>\n",
       "      <td>0.000000</td>\n",
       "      <td>0.000000</td>\n",
       "      <td>0.000000</td>\n",
       "      <td>0.000000</td>\n",
       "      <td>0.000000</td>\n",
       "    </tr>\n",
       "    <tr>\n",
       "      <th>25%</th>\n",
       "      <td>2007.000000</td>\n",
       "      <td>1003.000000</td>\n",
       "      <td>3.000000</td>\n",
       "      <td>0.000000</td>\n",
       "      <td>0.000000</td>\n",
       "      <td>0.000000</td>\n",
       "      <td>0.000000</td>\n",
       "      <td>0.000000</td>\n",
       "      <td>1.000000</td>\n",
       "    </tr>\n",
       "    <tr>\n",
       "      <th>50%</th>\n",
       "      <td>2010.000000</td>\n",
       "      <td>1655.000000</td>\n",
       "      <td>7.000000</td>\n",
       "      <td>1.000000</td>\n",
       "      <td>1.000000</td>\n",
       "      <td>0.000000</td>\n",
       "      <td>0.000000</td>\n",
       "      <td>0.000000</td>\n",
       "      <td>2.500000</td>\n",
       "    </tr>\n",
       "    <tr>\n",
       "      <th>75%</th>\n",
       "      <td>2012.000000</td>\n",
       "      <td>1871.000000</td>\n",
       "      <td>12.000000</td>\n",
       "      <td>4.000000</td>\n",
       "      <td>4.050000</td>\n",
       "      <td>0.000000</td>\n",
       "      <td>0.000000</td>\n",
       "      <td>0.000000</td>\n",
       "      <td>5.500000</td>\n",
       "    </tr>\n",
       "    <tr>\n",
       "      <th>max</th>\n",
       "      <td>2014.000000</td>\n",
       "      <td>2291.000000</td>\n",
       "      <td>156.000000</td>\n",
       "      <td>19739.002000</td>\n",
       "      <td>10106.424000</td>\n",
       "      <td>13.700000</td>\n",
       "      <td>6.000000</td>\n",
       "      <td>207.732000</td>\n",
       "      <td>19739.002000</td>\n",
       "    </tr>\n",
       "  </tbody>\n",
       "</table>\n",
       "</div>"
      ],
      "text/plain": [
       "                date       thomasid  leg_totalbills    amtsumlag_1  \\\n",
       "count  412793.000000  412793.000000   365699.000000  412793.000000   \n",
       "mean     2009.708941    1433.625495        9.965349       3.840257   \n",
       "std         2.816359     600.111597       11.100884      38.048633   \n",
       "min      2005.000000       2.000000        1.000000       0.000000   \n",
       "25%      2007.000000    1003.000000        3.000000       0.000000   \n",
       "50%      2010.000000    1655.000000        7.000000       1.000000   \n",
       "75%      2012.000000    1871.000000       12.000000       4.000000   \n",
       "max      2014.000000    2291.000000      156.000000   19739.002000   \n",
       "\n",
       "         amtsumfwd_1   unemployment        billsum        loansum  \\\n",
       "count  412793.000000  412793.000000  412793.000000  412793.000000   \n",
       "mean        4.159154       0.122742       0.019717       0.134406   \n",
       "std        31.242003       0.972069       0.163290       0.904576   \n",
       "min         0.000000       0.000000       0.000000       0.000000   \n",
       "25%         0.000000       0.000000       0.000000       0.000000   \n",
       "50%         1.000000       0.000000       0.000000       0.000000   \n",
       "75%         4.050000       0.000000       0.000000       0.000000   \n",
       "max     10106.424000      13.700000       6.000000     207.732000   \n",
       "\n",
       "              amtsum  \n",
       "count  412793.000000  \n",
       "mean        6.443382  \n",
       "std        53.010064  \n",
       "min         0.000000  \n",
       "25%         1.000000  \n",
       "50%         2.500000  \n",
       "75%         5.500000  \n",
       "max     19739.002000  "
      ]
     },
     "execution_count": 298,
     "metadata": {},
     "output_type": "execute_result"
    }
   ],
   "source": [
    "yba2.describe()"
   ]
  },
  {
   "cell_type": "code",
   "execution_count": 299,
   "metadata": {
    "collapsed": false
   },
   "outputs": [
    {
     "data": {
      "text/plain": [
       "date                   0\n",
       "thomasid               0\n",
       "leg_totalbills     47094\n",
       "feccandid              0\n",
       "party             182200\n",
       "state             182200\n",
       "chamber           182200\n",
       "cid                    0\n",
       "amtsumlag_1            0\n",
       "catcode                0\n",
       "amtsumfwd_1            0\n",
       "unemployment           0\n",
       "billsum                0\n",
       "loansum                0\n",
       "amtsum                 0\n",
       "dtype: int64"
      ]
     },
     "execution_count": 299,
     "metadata": {},
     "output_type": "execute_result"
    }
   ],
   "source": [
    "yba2.isnull().sum()"
   ]
  },
  {
   "cell_type": "code",
   "execution_count": 300,
   "metadata": {
    "collapsed": false,
    "scrolled": true
   },
   "outputs": [
    {
     "data": {
      "text/plain": [
       "915"
      ]
     },
     "execution_count": 300,
     "metadata": {},
     "output_type": "execute_result"
    }
   ],
   "source": [
    "yba2.cid.nunique()"
   ]
  },
  {
   "cell_type": "code",
   "execution_count": 301,
   "metadata": {
    "collapsed": false
   },
   "outputs": [],
   "source": [
    "yba2.drop_duplicates(['cid', 'date'], inplace=True)"
   ]
  },
  {
   "cell_type": "code",
   "execution_count": 302,
   "metadata": {
    "collapsed": false
   },
   "outputs": [],
   "source": [
    "crsp = pd.read_csv('crsp.dime.todf') "
   ]
  },
  {
   "cell_type": "code",
   "execution_count": 303,
   "metadata": {
    "collapsed": true
   },
   "outputs": [],
   "source": [
    "crsp.drop_duplicates(['date', 'cid'], inplace=True, keep='first')"
   ]
  },
  {
   "cell_type": "code",
   "execution_count": 304,
   "metadata": {
    "collapsed": false
   },
   "outputs": [],
   "source": [
    "yba3= pd.merge(crsp,yba2, on=['date', \\\n",
    "                'cid'], how='right')"
   ]
  },
  {
   "cell_type": "code",
   "execution_count": 305,
   "metadata": {
    "collapsed": false
   },
   "outputs": [
    {
     "data": {
      "text/plain": [
       "date               6459\n",
       "cid                6459\n",
       "stdv_paccfscore    6129\n",
       "cfcontrol           443\n",
       "thomasid           6459\n",
       "leg_totalbills     5090\n",
       "feccandid          6459\n",
       "party              3132\n",
       "state              3132\n",
       "chamber            3132\n",
       "amtsumlag_1        6459\n",
       "catcode            6459\n",
       "amtsumfwd_1        6459\n",
       "unemployment       6459\n",
       "billsum            6459\n",
       "loansum            6459\n",
       "amtsum             6459\n",
       "dtype: int64"
      ]
     },
     "execution_count": 305,
     "metadata": {},
     "output_type": "execute_result"
    }
   ],
   "source": [
    "yba3.count()"
   ]
  },
  {
   "cell_type": "code",
   "execution_count": 306,
   "metadata": {
    "collapsed": false
   },
   "outputs": [
    {
     "data": {
      "text/html": [
       "<div>\n",
       "<table border=\"1\" class=\"dataframe\">\n",
       "  <thead>\n",
       "    <tr style=\"text-align: right;\">\n",
       "      <th></th>\n",
       "      <th>date</th>\n",
       "      <th>cid</th>\n",
       "      <th>stdv_paccfscore</th>\n",
       "      <th>cfcontrol</th>\n",
       "      <th>thomasid</th>\n",
       "      <th>leg_totalbills</th>\n",
       "      <th>feccandid</th>\n",
       "      <th>party</th>\n",
       "      <th>state</th>\n",
       "      <th>chamber</th>\n",
       "      <th>amtsumlag_1</th>\n",
       "      <th>catcode</th>\n",
       "      <th>amtsumfwd_1</th>\n",
       "      <th>unemployment</th>\n",
       "      <th>billsum</th>\n",
       "      <th>loansum</th>\n",
       "      <th>amtsum</th>\n",
       "    </tr>\n",
       "  </thead>\n",
       "  <tbody>\n",
       "    <tr>\n",
       "      <th>0</th>\n",
       "      <td>2006.0</td>\n",
       "      <td>N00000528</td>\n",
       "      <td>0.424150</td>\n",
       "      <td>0.921787</td>\n",
       "      <td>1010.0</td>\n",
       "      <td>5.0</td>\n",
       "      <td>H8VT01016</td>\n",
       "      <td>Independent</td>\n",
       "      <td>VT</td>\n",
       "      <td>rep</td>\n",
       "      <td>1.0</td>\n",
       "      <td>H1710</td>\n",
       "      <td>0.0</td>\n",
       "      <td>0.0</td>\n",
       "      <td>0.0</td>\n",
       "      <td>0.0</td>\n",
       "      <td>7.000</td>\n",
       "    </tr>\n",
       "    <tr>\n",
       "      <th>1</th>\n",
       "      <td>2006.0</td>\n",
       "      <td>N00027860</td>\n",
       "      <td>0.360972</td>\n",
       "      <td>0.761430</td>\n",
       "      <td>2123.0</td>\n",
       "      <td>NaN</td>\n",
       "      <td>H6IL06141</td>\n",
       "      <td>Democrat</td>\n",
       "      <td>IL</td>\n",
       "      <td>rep</td>\n",
       "      <td>3.0</td>\n",
       "      <td>Z1200</td>\n",
       "      <td>0.0</td>\n",
       "      <td>0.0</td>\n",
       "      <td>0.0</td>\n",
       "      <td>0.0</td>\n",
       "      <td>105.668</td>\n",
       "    </tr>\n",
       "    <tr>\n",
       "      <th>2</th>\n",
       "      <td>2006.0</td>\n",
       "      <td>N00028138</td>\n",
       "      <td>0.254904</td>\n",
       "      <td>0.831541</td>\n",
       "      <td>2173.0</td>\n",
       "      <td>NaN</td>\n",
       "      <td>H6HI02244</td>\n",
       "      <td>Democrat</td>\n",
       "      <td>HI</td>\n",
       "      <td>rep</td>\n",
       "      <td>0.0</td>\n",
       "      <td>LG000</td>\n",
       "      <td>0.0</td>\n",
       "      <td>0.0</td>\n",
       "      <td>0.0</td>\n",
       "      <td>0.0</td>\n",
       "      <td>0.500</td>\n",
       "    </tr>\n",
       "    <tr>\n",
       "      <th>3</th>\n",
       "      <td>2006.0</td>\n",
       "      <td>N00027509</td>\n",
       "      <td>0.214621</td>\n",
       "      <td>-1.011639</td>\n",
       "      <td>1997.0</td>\n",
       "      <td>NaN</td>\n",
       "      <td>H6CO03139</td>\n",
       "      <td>Republican</td>\n",
       "      <td>CO</td>\n",
       "      <td>rep</td>\n",
       "      <td>0.0</td>\n",
       "      <td>J2200</td>\n",
       "      <td>0.0</td>\n",
       "      <td>0.0</td>\n",
       "      <td>0.0</td>\n",
       "      <td>0.0</td>\n",
       "      <td>77.000</td>\n",
       "    </tr>\n",
       "    <tr>\n",
       "      <th>4</th>\n",
       "      <td>2006.0</td>\n",
       "      <td>N00028058</td>\n",
       "      <td>0.435242</td>\n",
       "      <td>0.629428</td>\n",
       "      <td>1822.0</td>\n",
       "      <td>NaN</td>\n",
       "      <td>S6VA00127</td>\n",
       "      <td>Democrat</td>\n",
       "      <td>VA</td>\n",
       "      <td>sen</td>\n",
       "      <td>0.0</td>\n",
       "      <td>K1200</td>\n",
       "      <td>0.5</td>\n",
       "      <td>0.0</td>\n",
       "      <td>0.0</td>\n",
       "      <td>0.0</td>\n",
       "      <td>1.000</td>\n",
       "    </tr>\n",
       "  </tbody>\n",
       "</table>\n",
       "</div>"
      ],
      "text/plain": [
       "     date        cid  stdv_paccfscore  cfcontrol  thomasid  leg_totalbills  \\\n",
       "0  2006.0  N00000528         0.424150   0.921787    1010.0             5.0   \n",
       "1  2006.0  N00027860         0.360972   0.761430    2123.0             NaN   \n",
       "2  2006.0  N00028138         0.254904   0.831541    2173.0             NaN   \n",
       "3  2006.0  N00027509         0.214621  -1.011639    1997.0             NaN   \n",
       "4  2006.0  N00028058         0.435242   0.629428    1822.0             NaN   \n",
       "\n",
       "   feccandid        party state chamber  amtsumlag_1 catcode  amtsumfwd_1  \\\n",
       "0  H8VT01016  Independent    VT     rep          1.0   H1710          0.0   \n",
       "1  H6IL06141     Democrat    IL     rep          3.0   Z1200          0.0   \n",
       "2  H6HI02244     Democrat    HI     rep          0.0   LG000          0.0   \n",
       "3  H6CO03139   Republican    CO     rep          0.0   J2200          0.0   \n",
       "4  S6VA00127     Democrat    VA     sen          0.0   K1200          0.5   \n",
       "\n",
       "   unemployment  billsum  loansum   amtsum  \n",
       "0           0.0      0.0      0.0    7.000  \n",
       "1           0.0      0.0      0.0  105.668  \n",
       "2           0.0      0.0      0.0    0.500  \n",
       "3           0.0      0.0      0.0   77.000  \n",
       "4           0.0      0.0      0.0    1.000  "
      ]
     },
     "execution_count": 306,
     "metadata": {},
     "output_type": "execute_result"
    }
   ],
   "source": [
    "yba3.head()"
   ]
  },
  {
   "cell_type": "code",
   "execution_count": 307,
   "metadata": {
    "collapsed": false
   },
   "outputs": [
    {
     "data": {
      "text/html": [
       "<div>\n",
       "<table border=\"1\" class=\"dataframe\">\n",
       "  <thead>\n",
       "    <tr style=\"text-align: right;\">\n",
       "      <th></th>\n",
       "      <th>date</th>\n",
       "      <th>stdv_paccfscore</th>\n",
       "      <th>cfcontrol</th>\n",
       "      <th>thomasid</th>\n",
       "      <th>leg_totalbills</th>\n",
       "      <th>amtsumlag_1</th>\n",
       "      <th>amtsumfwd_1</th>\n",
       "      <th>unemployment</th>\n",
       "      <th>billsum</th>\n",
       "      <th>loansum</th>\n",
       "      <th>amtsum</th>\n",
       "    </tr>\n",
       "  </thead>\n",
       "  <tbody>\n",
       "    <tr>\n",
       "      <th>count</th>\n",
       "      <td>6459.000000</td>\n",
       "      <td>6129.000000</td>\n",
       "      <td>443.000000</td>\n",
       "      <td>6459.000000</td>\n",
       "      <td>5090.000000</td>\n",
       "      <td>6459.000000</td>\n",
       "      <td>6459.000000</td>\n",
       "      <td>6459.000000</td>\n",
       "      <td>6459.000000</td>\n",
       "      <td>6459.000000</td>\n",
       "      <td>6459.000000</td>\n",
       "    </tr>\n",
       "    <tr>\n",
       "      <th>mean</th>\n",
       "      <td>2009.718223</td>\n",
       "      <td>0.362302</td>\n",
       "      <td>-0.123252</td>\n",
       "      <td>1445.171079</td>\n",
       "      <td>9.871906</td>\n",
       "      <td>10.854209</td>\n",
       "      <td>10.819183</td>\n",
       "      <td>1.352516</td>\n",
       "      <td>0.216752</td>\n",
       "      <td>0.402772</td>\n",
       "      <td>14.477967</td>\n",
       "    </tr>\n",
       "    <tr>\n",
       "      <th>std</th>\n",
       "      <td>2.812758</td>\n",
       "      <td>0.095944</td>\n",
       "      <td>0.776772</td>\n",
       "      <td>604.344327</td>\n",
       "      <td>10.466637</td>\n",
       "      <td>81.978453</td>\n",
       "      <td>39.535877</td>\n",
       "      <td>2.948311</td>\n",
       "      <td>0.497212</td>\n",
       "      <td>1.354806</td>\n",
       "      <td>54.474334</td>\n",
       "    </tr>\n",
       "    <tr>\n",
       "      <th>min</th>\n",
       "      <td>2005.000000</td>\n",
       "      <td>0.000000</td>\n",
       "      <td>-1.872674</td>\n",
       "      <td>2.000000</td>\n",
       "      <td>1.000000</td>\n",
       "      <td>0.000000</td>\n",
       "      <td>0.000000</td>\n",
       "      <td>0.000000</td>\n",
       "      <td>0.000000</td>\n",
       "      <td>0.000000</td>\n",
       "      <td>0.000000</td>\n",
       "    </tr>\n",
       "    <tr>\n",
       "      <th>25%</th>\n",
       "      <td>2007.000000</td>\n",
       "      <td>0.297496</td>\n",
       "      <td>-0.841893</td>\n",
       "      <td>1010.000000</td>\n",
       "      <td>4.000000</td>\n",
       "      <td>1.000000</td>\n",
       "      <td>0.000000</td>\n",
       "      <td>0.000000</td>\n",
       "      <td>0.000000</td>\n",
       "      <td>0.000000</td>\n",
       "      <td>2.000000</td>\n",
       "    </tr>\n",
       "    <tr>\n",
       "      <th>50%</th>\n",
       "      <td>2010.000000</td>\n",
       "      <td>0.360520</td>\n",
       "      <td>-0.332453</td>\n",
       "      <td>1667.000000</td>\n",
       "      <td>7.000000</td>\n",
       "      <td>3.000000</td>\n",
       "      <td>3.000000</td>\n",
       "      <td>0.000000</td>\n",
       "      <td>0.000000</td>\n",
       "      <td>0.000000</td>\n",
       "      <td>5.000000</td>\n",
       "    </tr>\n",
       "    <tr>\n",
       "      <th>75%</th>\n",
       "      <td>2012.000000</td>\n",
       "      <td>0.421292</td>\n",
       "      <td>0.633367</td>\n",
       "      <td>1892.000000</td>\n",
       "      <td>12.000000</td>\n",
       "      <td>8.500000</td>\n",
       "      <td>9.500000</td>\n",
       "      <td>0.000000</td>\n",
       "      <td>0.000000</td>\n",
       "      <td>0.000000</td>\n",
       "      <td>11.500000</td>\n",
       "    </tr>\n",
       "    <tr>\n",
       "      <th>max</th>\n",
       "      <td>2014.000000</td>\n",
       "      <td>1.381687</td>\n",
       "      <td>1.302073</td>\n",
       "      <td>2291.000000</td>\n",
       "      <td>156.000000</td>\n",
       "      <td>5273.379000</td>\n",
       "      <td>1526.488000</td>\n",
       "      <td>13.700000</td>\n",
       "      <td>6.000000</td>\n",
       "      <td>44.706000</td>\n",
       "      <td>1693.960000</td>\n",
       "    </tr>\n",
       "  </tbody>\n",
       "</table>\n",
       "</div>"
      ],
      "text/plain": [
       "              date  stdv_paccfscore   cfcontrol     thomasid  leg_totalbills  \\\n",
       "count  6459.000000      6129.000000  443.000000  6459.000000     5090.000000   \n",
       "mean   2009.718223         0.362302   -0.123252  1445.171079        9.871906   \n",
       "std       2.812758         0.095944    0.776772   604.344327       10.466637   \n",
       "min    2005.000000         0.000000   -1.872674     2.000000        1.000000   \n",
       "25%    2007.000000         0.297496   -0.841893  1010.000000        4.000000   \n",
       "50%    2010.000000         0.360520   -0.332453  1667.000000        7.000000   \n",
       "75%    2012.000000         0.421292    0.633367  1892.000000       12.000000   \n",
       "max    2014.000000         1.381687    1.302073  2291.000000      156.000000   \n",
       "\n",
       "       amtsumlag_1  amtsumfwd_1  unemployment      billsum      loansum  \\\n",
       "count  6459.000000  6459.000000   6459.000000  6459.000000  6459.000000   \n",
       "mean     10.854209    10.819183      1.352516     0.216752     0.402772   \n",
       "std      81.978453    39.535877      2.948311     0.497212     1.354806   \n",
       "min       0.000000     0.000000      0.000000     0.000000     0.000000   \n",
       "25%       1.000000     0.000000      0.000000     0.000000     0.000000   \n",
       "50%       3.000000     3.000000      0.000000     0.000000     0.000000   \n",
       "75%       8.500000     9.500000      0.000000     0.000000     0.000000   \n",
       "max    5273.379000  1526.488000     13.700000     6.000000    44.706000   \n",
       "\n",
       "            amtsum  \n",
       "count  6459.000000  \n",
       "mean     14.477967  \n",
       "std      54.474334  \n",
       "min       0.000000  \n",
       "25%       2.000000  \n",
       "50%       5.000000  \n",
       "75%      11.500000  \n",
       "max    1693.960000  "
      ]
     },
     "execution_count": 307,
     "metadata": {},
     "output_type": "execute_result"
    }
   ],
   "source": [
    "yba3.describe()"
   ]
  },
  {
   "cell_type": "code",
   "execution_count": 308,
   "metadata": {
    "collapsed": false,
    "scrolled": true
   },
   "outputs": [],
   "source": [
    "rr=pd.read_csv('Thesis/leg_years.csv', usecols=['years', 'id.thomas', \\\n",
    "                                               'served'])\n"
   ]
  },
  {
   "cell_type": "code",
   "execution_count": 309,
   "metadata": {
    "collapsed": true
   },
   "outputs": [],
   "source": [
    "rr.rename(columns={'years':'date'}, inplace=True)\n"
   ]
  },
  {
   "cell_type": "code",
   "execution_count": 310,
   "metadata": {
    "collapsed": true
   },
   "outputs": [],
   "source": [
    "rr.rename(columns={'id.thomas':'thomasid'}, inplace=True)\n"
   ]
  },
  {
   "cell_type": "code",
   "execution_count": 311,
   "metadata": {
    "collapsed": true
   },
   "outputs": [],
   "source": [
    "rr['years_exp']=rr.groupby(['thomasid']).served.cumsum()\n"
   ]
  },
  {
   "cell_type": "code",
   "execution_count": 312,
   "metadata": {
    "collapsed": true
   },
   "outputs": [],
   "source": [
    "rr.drop(['served'], axis=1, inplace=True)\n"
   ]
  },
  {
   "cell_type": "code",
   "execution_count": 313,
   "metadata": {
    "collapsed": false
   },
   "outputs": [],
   "source": [
    "rr = rr[(rr['date'] > 2004)]"
   ]
  },
  {
   "cell_type": "code",
   "execution_count": 314,
   "metadata": {
    "collapsed": false
   },
   "outputs": [],
   "source": [
    "year_bill_amount= pd.merge(rr,yba3, on=['date', \\\n",
    "                'thomasid'], how='right')"
   ]
  },
  {
   "cell_type": "code",
   "execution_count": 315,
   "metadata": {
    "collapsed": false,
    "scrolled": true
   },
   "outputs": [
    {
     "data": {
      "text/html": [
       "<div>\n",
       "<table border=\"1\" class=\"dataframe\">\n",
       "  <thead>\n",
       "    <tr style=\"text-align: right;\">\n",
       "      <th></th>\n",
       "      <th>date</th>\n",
       "      <th>thomasid</th>\n",
       "      <th>years_exp</th>\n",
       "    </tr>\n",
       "  </thead>\n",
       "  <tbody>\n",
       "    <tr>\n",
       "      <th>55</th>\n",
       "      <td>2005</td>\n",
       "      <td>2</td>\n",
       "      <td>17</td>\n",
       "    </tr>\n",
       "  </tbody>\n",
       "</table>\n",
       "</div>"
      ],
      "text/plain": [
       "    date  thomasid  years_exp\n",
       "55  2005         2         17"
      ]
     },
     "execution_count": 315,
     "metadata": {},
     "output_type": "execute_result"
    }
   ],
   "source": [
    "rr.head(1)"
   ]
  },
  {
   "cell_type": "code",
   "execution_count": 316,
   "metadata": {
    "collapsed": false,
    "scrolled": false
   },
   "outputs": [
    {
     "data": {
      "text/plain": [
       "date                  0\n",
       "cid                   0\n",
       "stdv_paccfscore     330\n",
       "cfcontrol          6016\n",
       "thomasid              0\n",
       "leg_totalbills     1369\n",
       "feccandid             0\n",
       "party              3327\n",
       "state              3327\n",
       "chamber            3327\n",
       "amtsumlag_1           0\n",
       "catcode               0\n",
       "amtsumfwd_1           0\n",
       "unemployment          0\n",
       "billsum               0\n",
       "loansum               0\n",
       "amtsum                0\n",
       "dtype: int64"
      ]
     },
     "execution_count": 316,
     "metadata": {},
     "output_type": "execute_result"
    }
   ],
   "source": [
    "yba3.isnull().sum()"
   ]
  },
  {
   "cell_type": "code",
   "execution_count": 317,
   "metadata": {
    "collapsed": false
   },
   "outputs": [],
   "source": [
    "year_bill_amount.drop_duplicates(inplace=True, keep='first')"
   ]
  },
  {
   "cell_type": "code",
   "execution_count": 318,
   "metadata": {
    "collapsed": false,
    "scrolled": true
   },
   "outputs": [
    {
     "data": {
      "text/plain": [
       "date                  0\n",
       "thomasid              0\n",
       "years_exp           130\n",
       "cid                   0\n",
       "stdv_paccfscore     330\n",
       "cfcontrol          6037\n",
       "leg_totalbills     1371\n",
       "feccandid             0\n",
       "party              3338\n",
       "state              3338\n",
       "chamber            3338\n",
       "amtsumlag_1           0\n",
       "catcode               0\n",
       "amtsumfwd_1           0\n",
       "unemployment          0\n",
       "billsum               0\n",
       "loansum               0\n",
       "amtsum                0\n",
       "dtype: int64"
      ]
     },
     "execution_count": 318,
     "metadata": {},
     "output_type": "execute_result"
    }
   ],
   "source": [
    "year_bill_amount.isnull().sum()"
   ]
  },
  {
   "cell_type": "code",
   "execution_count": 319,
   "metadata": {
    "collapsed": false
   },
   "outputs": [],
   "source": [
    "year_bill_amount.to_csv('crsp.dime.mpl.df.K1', index=False)"
   ]
  }
 ],
 "metadata": {
  "kernelspec": {
   "display_name": "Python 3",
   "language": "python",
   "name": "python3"
  },
  "language_info": {
   "codemirror_mode": {
    "name": "ipython",
    "version": 3
   },
   "file_extension": ".py",
   "mimetype": "text/x-python",
   "name": "python",
   "nbconvert_exporter": "python",
   "pygments_lexer": "ipython3",
   "version": "3.5.1"
  }
 },
 "nbformat": 4,
 "nbformat_minor": 0
}
