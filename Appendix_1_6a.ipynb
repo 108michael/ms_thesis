{
 "cells": [
  {
   "cell_type": "raw",
   "metadata": {},
   "source": [
    "\\subsection{Retreiving MapLight Data}"
   ]
  },
  {
   "cell_type": "code",
   "execution_count": 1,
   "metadata": {
    "collapsed": false
   },
   "outputs": [],
   "source": [
    "import pandas as pd\n",
    "import urllib \n",
    "import json\n",
    "\n",
    "url = 'http://maplight.org/services_open_api/map.bill_positions_v1.json?apikey=79bf8eb2ded72751cc7cda5fc625a7a7&jurisdiction=us&session=111&prefix=h&number=1'\n",
    "\n",
    "json_obj = urllib.request.urlopen(url)\n",
    "data = json.loads(json_obj.read().decode('utf-8'))"
   ]
  },
  {
   "cell_type": "code",
   "execution_count": 29,
   "metadata": {
    "collapsed": false
   },
   "outputs": [],
   "source": [
    "url = 'http://maplight.org/services_open_api/map.bill_list_v1.json?apikey=79bf8eb2ded72751cc7cda5fc625a7a7&jurisdiction=us&session=110&include_organizations=1&has_organizations=1'\n",
    "\n",
    "kson_obj = urllib.request.urlopen(url)\n",
    "fata = json.loads(kson_obj.read().decode('utf-8'))\n"
   ]
  },
  {
   "cell_type": "code",
   "execution_count": 30,
   "metadata": {
    "collapsed": true
   },
   "outputs": [],
   "source": [
    "url = 'http://maplight.org/services_open_api/map.bill_list_v1.json?apikey=79bf8eb2ded72751cc7cda5fc625a7a7&jurisdiction=us&session=111&include_organizations=1&has_organizations=1'\n",
    "\n",
    "lson_obj = urllib.request.urlopen(url)\n",
    "hata = json.loads(lson_obj.read().decode('utf-8'))"
   ]
  },
  {
   "cell_type": "code",
   "execution_count": 31,
   "metadata": {
    "collapsed": true
   },
   "outputs": [],
   "source": [
    "url = 'http://maplight.org/services_open_api/map.bill_list_v1.json?apikey=79bf8eb2ded72751cc7cda5fc625a7a7&jurisdiction=us&session=112&include_organizations=1&has_organizations=1'\n",
    "\n",
    "mson_obj = urllib.request.urlopen(url)\n",
    "jata = json.loads(mson_obj.read().decode('utf-8'))"
   ]
  },
  {
   "cell_type": "code",
   "execution_count": 32,
   "metadata": {
    "collapsed": true
   },
   "outputs": [],
   "source": [
    "url = 'http://maplight.org/services_open_api/map.bill_list_v1.json?apikey=79bf8eb2ded72751cc7cda5fc625a7a7&jurisdiction=us&session=113&include_organizations=1&has_organizations=1'\n",
    "\n",
    "nson_obj = urllib.request.urlopen(url)\n",
    "lata = json.loads(nson_obj.read().decode('utf-8'))"
   ]
  },
  {
   "cell_type": "raw",
   "metadata": {},
   "source": [
    "Parsing MapLight Data"
   ]
  },
  {
   "cell_type": "code",
   "execution_count": 33,
   "metadata": {
    "collapsed": false
   },
   "outputs": [],
   "source": [
    "import os\n",
    "import os.path\n",
    "import csv\n",
    "\n",
    "\n",
    "path = '/home/jayaramdas/anaconda3/'\n",
    "\n",
    "outputfile = open('Thesis/MapLight/mpl109.csv', 'w', \\\n",
    "  newline='')\n",
    "outputwriter = csv.writer(outputfile)\n",
    "\n",
    "for bill in data['bills']:\n",
    "        a = bill.get('session')\n",
    "        b = bill.get('prefix')\n",
    "        c = bill.get('number')\n",
    "                \n",
    "        for organization in bill['organizations']:\n",
    "            e = organization.get('organization_id')\n",
    "            f = organization.get('name')\n",
    "            g = organization.get('disposition')\n",
    "            h = organization.get('catcode')\n",
    "\n",
    "            outputwriter.writerow([a, b, c, e, f, g, h])\n",
    "            outputfile.flush()"
   ]
  },
  {
   "cell_type": "code",
   "execution_count": 34,
   "metadata": {
    "collapsed": false
   },
   "outputs": [],
   "source": [
    "path = '/home/jayaramdas/anaconda3/'\n",
    "\n",
    "outputfile = open('Thesis/MapLight/mpl110.csv', 'w', \\\n",
    "  newline='')\n",
    "outputwriter = csv.writer(outputfile)\n",
    "\n",
    "for bill in fata['bills']:\n",
    "        a = bill.get('session')\n",
    "        b = bill.get('prefix')\n",
    "        c = bill.get('number')\n",
    "                \n",
    "        for organization in bill['organizations']:\n",
    "            e = organization.get('organization_id')\n",
    "            f = organization.get('name')\n",
    "            g = organization.get('disposition')\n",
    "            h = organization.get('catcode')\n",
    "\n",
    "            outputwriter.writerow([a, b, c, e, f, g, h])\n",
    "            outputfile.flush()"
   ]
  },
  {
   "cell_type": "code",
   "execution_count": 35,
   "metadata": {
    "collapsed": false
   },
   "outputs": [],
   "source": [
    "path = '/home/jayaramdas/anaconda3/'\n",
    "\n",
    "outputfile = open('Thesis/MapLight/mpl111.csv', 'w', \\\n",
    "  newline='')\n",
    "outputwriter = csv.writer(outputfile)\n",
    "\n",
    "for bill in hata['bills']:\n",
    "        a = bill.get('session')\n",
    "        b = bill.get('prefix')\n",
    "        c = bill.get('number')\n",
    "                \n",
    "        for organization in bill['organizations']:\n",
    "            e = organization.get('organization_id')\n",
    "            f = organization.get('name')\n",
    "            g = organization.get('disposition')\n",
    "            h = organization.get('catcode')\n",
    "\n",
    "            outputwriter.writerow([a, b, c, e, f, g, h])\n",
    "            outputfile.flush()"
   ]
  },
  {
   "cell_type": "code",
   "execution_count": 36,
   "metadata": {
    "collapsed": false
   },
   "outputs": [],
   "source": [
    "path = '/home/jayaramdas/anaconda3/'\n",
    "\n",
    "outputfile = open('Thesis/MapLight/mpl112.csv', 'w', \\\n",
    "  newline='')\n",
    "outputwriter = csv.writer(outputfile)\n",
    "    \n",
    "for bill in jata['bills']:\n",
    "        a = bill.get('session')\n",
    "        b = bill.get('prefix')\n",
    "        c = bill.get('number')\n",
    "                \n",
    "        for organization in bill['organizations']:\n",
    "            e = organization.get('organization_id')\n",
    "            f = organization.get('name')\n",
    "            g = organization.get('disposition')\n",
    "            h = organization.get('catcode')\n",
    "\n",
    "            outputwriter.writerow([a, b, c, e, f, g, h])\n",
    "            outputfile.flush()"
   ]
  },
  {
   "cell_type": "code",
   "execution_count": 37,
   "metadata": {
    "collapsed": false
   },
   "outputs": [],
   "source": [
    "path = '/home/jayaramdas/anaconda3/'\n",
    "\n",
    "outputfile = open('Thesis/MapLight/mpl113.csv', 'w', \\\n",
    "  newline='')\n",
    "outputwriter = csv.writer(outputfile)\n",
    "\n",
    "for bill in lata['bills']:\n",
    "        a = bill.get('session')\n",
    "        b = bill.get('prefix')\n",
    "        c = bill.get('number')\n",
    "                \n",
    "        for organization in bill['organizations']:\n",
    "            e = organization.get('organization_id')\n",
    "            f = organization.get('name')\n",
    "            g = organization.get('disposition')\n",
    "            h = organization.get('catcode')\n",
    "\n",
    "            outputwriter.writerow([a, b, c, e, f, g, h])\n",
    "            outputfile.flush()"
   ]
  },
  {
   "cell_type": "raw",
   "metadata": {},
   "source": [
    "Merging MapLight Data Frames "
   ]
  },
  {
   "cell_type": "code",
   "execution_count": 38,
   "metadata": {
    "collapsed": false
   },
   "outputs": [
    {
     "data": {
      "text/plain": [
       "session            0\n",
       "prefix             0\n",
       "number             0\n",
       "organization_id    0\n",
       "name               0\n",
       "disposition        0\n",
       "catcode            0\n",
       "dtype: int64"
      ]
     },
     "execution_count": 38,
     "metadata": {},
     "output_type": "execute_result"
    }
   ],
   "source": [
    "b = pd.read_csv('Thesis/MapLight/mpl113.csv', names = \\\n",
    "    ['session', 'prefix', 'number', 'organization_id', 'name', 'disposition', 'catcode'])\n",
    "c = pd.read_csv('Thesis/MapLight/mpl112.csv', names = \\\n",
    "    ['session', 'prefix', 'number', 'organization_id', 'name', 'disposition', 'catcode'])\n",
    "d = pd.read_csv('Thesis/MapLight/mpl111.csv', names = \\\n",
    "    ['session', 'prefix', 'number', 'organization_id', 'name', 'disposition', 'catcode'])\n",
    "e = pd.read_csv('Thesis/MapLight/mpl110.csv', names = \\\n",
    "    ['session', 'prefix', 'number', 'organization_id', 'name', 'disposition', 'catcode'])\n",
    "f = pd.read_csv('Thesis/MapLight/mpl109.csv', names = \\\n",
    "    ['session', 'prefix', 'number', 'organization_id', 'name', 'disposition', 'catcode'])\n",
    "frames = [b, c, d, e, f]\n",
    "\n",
    "result = pd.concat(frames) \n",
    "\n",
    "result = result.dropna(subset=['disposition', 'catcode'], how='any')\n",
    "\n",
    "result.isnull().sum()"
   ]
  },
  {
   "cell_type": "code",
   "execution_count": 39,
   "metadata": {
    "collapsed": false
   },
   "outputs": [],
   "source": [
    "import pandas as pd\n",
    "\n",
    "   \n",
    "result.replace({'prefix': {r'^(H|HR|HC|HJ|)$': 'hr', r'^(S|SR|SC|SJ|)$': 's'}}, regex=True, inplace=True)\n",
    "\n",
    "\n",
    "result[\"bills\"] = result[\"prefix\"] + result[\"number\"].map(str) + '-' + result['session'].map(str)"
   ]
  },
  {
   "cell_type": "code",
   "execution_count": 40,
   "metadata": {
    "collapsed": false
   },
   "outputs": [],
   "source": [
    "## Here is a level of aggregation: We drop all dispositions == oppose. This implies the \\\n",
    "## assumption that organization dispositions are homogenous across bills, i.e. organization\\\n",
    "## A and B both have the same disposition on a particular bill; hence, we draw a conclusion\\\n",
    "## about the catcode that is based only on disposition == support. Also, it may be that \\\n",
    "## more than one organization take a position on a bill, this will be weighted the same as if \\\n",
    "## it were an infinite amount of organizations taking a position on a bill. \n",
    "\n",
    "result=result.drop(['prefix', 'number', 'organization_id', 'name'], axis=1)\n",
    "result=result[(result['disposition']=='support')]"
   ]
  },
  {
   "cell_type": "code",
   "execution_count": 41,
   "metadata": {
    "collapsed": false
   },
   "outputs": [
    {
     "data": {
      "text/html": [
       "<div>\n",
       "<table border=\"1\" class=\"dataframe\">\n",
       "  <thead>\n",
       "    <tr style=\"text-align: right;\">\n",
       "      <th></th>\n",
       "      <th>session</th>\n",
       "      <th>disposition</th>\n",
       "      <th>catcode</th>\n",
       "      <th>bills</th>\n",
       "    </tr>\n",
       "  </thead>\n",
       "  <tbody>\n",
       "    <tr>\n",
       "      <th>0</th>\n",
       "      <td>113</td>\n",
       "      <td>support</td>\n",
       "      <td>J5100</td>\n",
       "      <td>hr104-113</td>\n",
       "    </tr>\n",
       "  </tbody>\n",
       "</table>\n",
       "</div>"
      ],
      "text/plain": [
       "   session disposition catcode      bills\n",
       "0      113     support   J5100  hr104-113"
      ]
     },
     "execution_count": 41,
     "metadata": {},
     "output_type": "execute_result"
    }
   ],
   "source": [
    "result.head(1)"
   ]
  },
  {
   "cell_type": "code",
   "execution_count": 1,
   "metadata": {
    "collapsed": true
   },
   "outputs": [
    {
     "ename": "NameError",
     "evalue": "name 'result' is not defined",
     "output_type": "error",
     "traceback": [
      "\u001b[1;31m---------------------------------------------------------------------------\u001b[0m",
      "\u001b[1;31mNameError\u001b[0m                                 Traceback (most recent call last)",
      "\u001b[1;32m<ipython-input-1-dad5e47f7ad6>\u001b[0m in \u001b[0;36m<module>\u001b[1;34m()\u001b[0m\n\u001b[1;32m----> 1\u001b[1;33m \u001b[0mresult\u001b[0m\u001b[1;33m.\u001b[0m\u001b[0mto_csv\u001b[0m\u001b[1;33m(\u001b[0m\u001b[1;34m'Thesis/MapLight/mplbills'\u001b[0m\u001b[1;33m,\u001b[0m \u001b[0mmode\u001b[0m \u001b[1;33m=\u001b[0m \u001b[1;34m'w'\u001b[0m\u001b[1;33m,\u001b[0m \u001b[0mindex\u001b[0m\u001b[1;33m=\u001b[0m\u001b[1;32mFalse\u001b[0m\u001b[1;33m)\u001b[0m\u001b[1;33m\u001b[0m\u001b[0m\n\u001b[0m",
      "\u001b[1;31mNameError\u001b[0m: name 'result' is not defined"
     ]
    }
   ],
   "source": [
    "result.to_csv('Thesis/MapLight/mplbills', mode = 'w', index=False)"
   ]
  },
  {
   "cell_type": "code",
   "execution_count": 4,
   "metadata": {
    "collapsed": false
   },
   "outputs": [],
   "source": [
    "import pandas as pd\n",
    "\n",
    "result= pd.read_csv('Thesis/MapLight/mplbills')"
   ]
  },
  {
   "cell_type": "code",
   "execution_count": 8,
   "metadata": {
    "collapsed": false,
    "scrolled": true
   },
   "outputs": [
    {
     "data": {
      "text/plain": [
       "4509"
      ]
     },
     "execution_count": 8,
     "metadata": {},
     "output_type": "execute_result"
    }
   ],
   "source": [
    "result.bills.nunique()"
   ]
  },
  {
   "cell_type": "code",
   "execution_count": 44,
   "metadata": {
    "collapsed": false
   },
   "outputs": [
    {
     "data": {
      "text/plain": [
       "428"
      ]
     },
     "execution_count": 44,
     "metadata": {},
     "output_type": "execute_result"
    }
   ],
   "source": [
    "result.catcode.nunique()"
   ]
  },
  {
   "cell_type": "code",
   "execution_count": 5,
   "metadata": {
    "collapsed": false
   },
   "outputs": [
    {
     "data": {
      "text/plain": [
       "session\n",
       "109      42\n",
       "110    1228\n",
       "111     696\n",
       "112    1181\n",
       "113    1362\n",
       "Name: bills, dtype: int64"
      ]
     },
     "execution_count": 5,
     "metadata": {},
     "output_type": "execute_result"
    }
   ],
   "source": [
    "result.groupby('session').bills.nunique()"
   ]
  }
 ],
 "metadata": {
  "kernelspec": {
   "display_name": "Python 3",
   "language": "python",
   "name": "python3"
  },
  "language_info": {
   "codemirror_mode": {
    "name": "ipython",
    "version": 3
   },
   "file_extension": ".py",
   "mimetype": "text/x-python",
   "name": "python",
   "nbconvert_exporter": "python",
   "pygments_lexer": "ipython3",
   "version": "3.5.1"
  }
 },
 "nbformat": 4,
 "nbformat_minor": 0
}
