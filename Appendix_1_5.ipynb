{
 "cells": [
  {
   "cell_type": "raw",
   "metadata": {},
   "source": [
    "\\subsection{Appendix 1.5}"
   ]
  },
  {
   "cell_type": "raw",
   "metadata": {},
   "source": [
    "Language: Python"
   ]
  },
  {
   "cell_type": "markdown",
   "metadata": {},
   "source": [
    "## Merging lagged unemployment data to (billspon.legisl.merg.2): send to csv (billspon.legisl.merg.3)"
   ]
  },
  {
   "cell_type": "raw",
   "metadata": {},
   "source": [
    "Reading in state-level unemployment data provided by the Bureau of Statistics\\cite{unemployment}"
   ]
  },
  {
   "cell_type": "code",
   "execution_count": 69,
   "metadata": {
    "collapsed": true
   },
   "outputs": [],
   "source": [
    "import numpy as np\n",
    "import pandas as pd"
   ]
  },
  {
   "cell_type": "code",
   "execution_count": 70,
   "metadata": {
    "collapsed": false,
    "scrolled": true
   },
   "outputs": [
    {
     "data": {
      "text/html": [
       "<div>\n",
       "<table border=\"1\" class=\"dataframe\">\n",
       "  <thead>\n",
       "    <tr style=\"text-align: right;\">\n",
       "      <th></th>\n",
       "      <th>state</th>\n",
       "      <th>years</th>\n",
       "      <th>unemployment</th>\n",
       "    </tr>\n",
       "  </thead>\n",
       "  <tbody>\n",
       "    <tr>\n",
       "      <th>1</th>\n",
       "      <td>AK</td>\n",
       "      <td>2004</td>\n",
       "      <td>7.5</td>\n",
       "    </tr>\n",
       "  </tbody>\n",
       "</table>\n",
       "</div>"
      ],
      "text/plain": [
       "  state  years  unemployment\n",
       "1    AK   2004           7.5"
      ]
     },
     "execution_count": 70,
     "metadata": {},
     "output_type": "execute_result"
    }
   ],
   "source": [
    "tz = pd.read_csv('Thesis/ExternalData/state.unemployment.csv').dropna()\n",
    "\n",
    "tz= pd.melt(tz,id_vars=['state'],var_name='years', \\\n",
    "            value_name='unemployment').sort_values(['state', 'years'])\n",
    "tz['years'] = tz['years'].astype('int64')\n",
    "\n",
    "tz.head(1)"
   ]
  },
  {
   "cell_type": "code",
   "execution_count": 71,
   "metadata": {
    "collapsed": true
   },
   "outputs": [],
   "source": [
    "tz['date_lag1']=tz.years+1\n",
    "\n",
    "merged1=tz[['state', 'date_lag1', 'unemployment']].copy()\n",
    "tz.drop(['date_lag1'], axis=1, inplace=True )\n",
    "\n",
    "merged1.rename(columns={'date_lag1':'years', 'unemployment' : 'unemployment_lag'},\\\n",
    "      inplace=True)"
   ]
  },
  {
   "cell_type": "code",
   "execution_count": 72,
   "metadata": {
    "collapsed": true
   },
   "outputs": [],
   "source": [
    "unempmerge=pd.merge(merged1, tz, how='right', on=['years', 'state'] )\n",
    "unempmerge.drop_duplicates(keep='first', inplace=True)"
   ]
  },
  {
   "cell_type": "code",
   "execution_count": 73,
   "metadata": {
    "collapsed": false,
    "scrolled": false
   },
   "outputs": [
    {
     "data": {
      "text/plain": [
       "state               624\n",
       "years               624\n",
       "unemployment_lag    572\n",
       "unemployment        624\n",
       "dtype: int64"
      ]
     },
     "execution_count": 73,
     "metadata": {},
     "output_type": "execute_result"
    }
   ],
   "source": [
    "unempmerge.count()"
   ]
  },
  {
   "cell_type": "code",
   "execution_count": 74,
   "metadata": {
    "collapsed": false
   },
   "outputs": [],
   "source": [
    "df= pd.read_csv('billspon.legisl.merg.2')"
   ]
  },
  {
   "cell_type": "code",
   "execution_count": 75,
   "metadata": {
    "collapsed": false,
    "scrolled": true
   },
   "outputs": [
    {
     "data": {
      "text/plain": [
       "id.thomas         50451\n",
       "party             50451\n",
       "state             50451\n",
       "date              50451\n",
       "bills             50451\n",
       "id.fec            50451\n",
       "leg_totalbills    50451\n",
       "years             50451\n",
       "years_exp         50451\n",
       "dtype: int64"
      ]
     },
     "execution_count": 75,
     "metadata": {},
     "output_type": "execute_result"
    }
   ],
   "source": [
    "df.count()"
   ]
  },
  {
   "cell_type": "code",
   "execution_count": 76,
   "metadata": {
    "collapsed": false
   },
   "outputs": [],
   "source": [
    "dfmerge= pd.merge(unempmerge, df, how='right', on=['years', 'state'])\n",
    "dfmerge.drop_duplicates(keep='first', inplace=True)"
   ]
  },
  {
   "cell_type": "code",
   "execution_count": 77,
   "metadata": {
    "collapsed": false
   },
   "outputs": [
    {
     "data": {
      "text/plain": [
       "state               50451\n",
       "years               50451\n",
       "unemployment_lag    50174\n",
       "unemployment        50174\n",
       "id.thomas           50451\n",
       "party               50451\n",
       "date                50451\n",
       "bills               50451\n",
       "id.fec              50451\n",
       "leg_totalbills      50451\n",
       "years_exp           50451\n",
       "dtype: int64"
      ]
     },
     "execution_count": 77,
     "metadata": {},
     "output_type": "execute_result"
    }
   ],
   "source": [
    "dfmerge.count()"
   ]
  },
  {
   "cell_type": "code",
   "execution_count": 78,
   "metadata": {
    "collapsed": false
   },
   "outputs": [
    {
     "data": {
      "text/html": [
       "<div>\n",
       "<table border=\"1\" class=\"dataframe\">\n",
       "  <thead>\n",
       "    <tr style=\"text-align: right;\">\n",
       "      <th></th>\n",
       "      <th>state</th>\n",
       "      <th>years</th>\n",
       "      <th>unemployment_lag</th>\n",
       "      <th>unemployment</th>\n",
       "      <th>id.thomas</th>\n",
       "      <th>party</th>\n",
       "      <th>date</th>\n",
       "      <th>bills</th>\n",
       "      <th>id.fec</th>\n",
       "      <th>leg_totalbills</th>\n",
       "      <th>years_exp</th>\n",
       "    </tr>\n",
       "  </thead>\n",
       "  <tbody>\n",
       "    <tr>\n",
       "      <th>0</th>\n",
       "      <td>AK</td>\n",
       "      <td>2005.0</td>\n",
       "      <td>7.5</td>\n",
       "      <td>6.9</td>\n",
       "      <td>1440</td>\n",
       "      <td>Republican</td>\n",
       "      <td>2005</td>\n",
       "      <td>s2012-109</td>\n",
       "      <td>S2AK00010</td>\n",
       "      <td>18</td>\n",
       "      <td>38</td>\n",
       "    </tr>\n",
       "  </tbody>\n",
       "</table>\n",
       "</div>"
      ],
      "text/plain": [
       "  state   years  unemployment_lag  unemployment  id.thomas       party  date  \\\n",
       "0    AK  2005.0               7.5           6.9       1440  Republican  2005   \n",
       "\n",
       "       bills     id.fec  leg_totalbills  years_exp  \n",
       "0  s2012-109  S2AK00010              18         38  "
      ]
     },
     "execution_count": 78,
     "metadata": {},
     "output_type": "execute_result"
    }
   ],
   "source": [
    "dfmerge.head(1)"
   ]
  },
  {
   "cell_type": "raw",
   "metadata": {},
   "source": [
    "Check data frame for null values: null values represent unemployment data for territories that ellect a member to the House of Representatives: Puerto Rico, Guam, Northern Mariana Islands, the U.S. Virgin Islands, and American Samoa\\{delegatevoting page 1}. "
   ]
  },
  {
   "cell_type": "code",
   "execution_count": 1,
   "metadata": {
    "collapsed": true
   },
   "outputs": [
    {
     "ename": "NameError",
     "evalue": "name 'dfmerge' is not defined",
     "output_type": "error",
     "traceback": [
      "\u001b[1;31m---------------------------------------------------------------------------\u001b[0m",
      "\u001b[1;31mNameError\u001b[0m                                 Traceback (most recent call last)",
      "\u001b[1;32m<ipython-input-1-6d3af3865d5d>\u001b[0m in \u001b[0;36m<module>\u001b[1;34m()\u001b[0m\n\u001b[1;32m----> 1\u001b[1;33m \u001b[0mdfmerge\u001b[0m\u001b[1;33m.\u001b[0m\u001b[0munemployment\u001b[0m\u001b[1;33m.\u001b[0m\u001b[0misnull\u001b[0m\u001b[1;33m(\u001b[0m\u001b[1;33m)\u001b[0m\u001b[1;33m.\u001b[0m\u001b[0msum\u001b[0m\u001b[1;33m(\u001b[0m\u001b[1;33m)\u001b[0m\u001b[1;33m\u001b[0m\u001b[0m\n\u001b[0m",
      "\u001b[1;31mNameError\u001b[0m: name 'dfmerge' is not defined"
     ]
    }
   ],
   "source": [
    "dfmerge.unemployment.isnull().sum()"
   ]
  },
  {
   "cell_type": "code",
   "execution_count": 80,
   "metadata": {
    "collapsed": false
   },
   "outputs": [
    {
     "data": {
      "text/plain": [
       "50451"
      ]
     },
     "execution_count": 80,
     "metadata": {},
     "output_type": "execute_result"
    }
   ],
   "source": [
    "dfmerge['bills'].nunique()"
   ]
  },
  {
   "cell_type": "code",
   "execution_count": 81,
   "metadata": {
    "collapsed": true
   },
   "outputs": [],
   "source": [
    "dfmerge.to_csv('billspon.legisl.merg.3', index=False)"
   ]
  }
 ],
 "metadata": {
  "kernelspec": {
   "display_name": "Python 3",
   "language": "python",
   "name": "python3"
  },
  "language_info": {
   "codemirror_mode": {
    "name": "ipython",
    "version": 3
   },
   "file_extension": ".py",
   "mimetype": "text/x-python",
   "name": "python",
   "nbconvert_exporter": "python",
   "pygments_lexer": "ipython3",
   "version": "3.5.1"
  }
 },
 "nbformat": 4,
 "nbformat_minor": 0
}
