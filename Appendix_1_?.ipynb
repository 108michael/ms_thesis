{
 "cells": [
  {
   "cell_type": "raw",
   "metadata": {},
   "source": [
    "\\subsection{Apendix 1.}"
   ]
  },
  {
   "cell_type": "raw",
   "metadata": {},
   "source": [
    "Language: Python"
   ]
  },
  {
   "cell_type": "markdown",
   "metadata": {},
   "source": [
    "## Merging NAICS codes to (mpl.Bspons.merge): send to csv (mpl.Bspons.merge.1)"
   ]
  },
  {
   "cell_type": "code",
   "execution_count": 1,
   "metadata": {
    "collapsed": true
   },
   "outputs": [],
   "source": [
    "import pandas as pd"
   ]
  },
  {
   "cell_type": "code",
   "execution_count": 2,
   "metadata": {
    "collapsed": false
   },
   "outputs": [],
   "source": [
    "df=pd.read_csv('Thesis/ExternalData/gdpdata/rgdpconc.csv', index_col=0)\n",
    "df1 = pd.read_csv('Thesis/ExternalData/gdpdata/taxesconc.csv', index_col=0)\n",
    "df2 = pd.read_csv('Thesis/ExternalData/gdpdata/empcompconc.csv', index_col=0)\n",
    "df3=pd.read_csv('Thesis/ExternalData/gdpdata/subsidyconc.csv', index_col=0)"
   ]
  },
  {
   "cell_type": "code",
   "execution_count": 3,
   "metadata": {
    "collapsed": false
   },
   "outputs": [],
   "source": [
    "a = df.IndustryClassification.unique()\n",
    "a = pd.DataFrame({'unique':a})"
   ]
  },
  {
   "cell_type": "code",
   "execution_count": 4,
   "metadata": {
    "collapsed": false
   },
   "outputs": [],
   "source": [
    "b = df1.IndustryClassification.unique()\n",
    "b = pd.DataFrame({'unique':b})"
   ]
  },
  {
   "cell_type": "code",
   "execution_count": 5,
   "metadata": {
    "collapsed": false
   },
   "outputs": [],
   "source": [
    "c = df2.IndustryClassification.unique()\n",
    "c = pd.DataFrame({'unique':c})"
   ]
  },
  {
   "cell_type": "code",
   "execution_count": 6,
   "metadata": {
    "collapsed": false
   },
   "outputs": [],
   "source": [
    "d = df3.IndustryClassification.unique()\n",
    "d = pd.DataFrame({'unique':d})"
   ]
  },
  {
   "cell_type": "code",
   "execution_count": 7,
   "metadata": {
    "collapsed": false
   },
   "outputs": [
    {
     "data": {
      "text/plain": [
       "array(['561', '621', '23', '92', '5412-5414, 5416-5419', '512', '81',\n",
       "       '531', '44-45', '42', '622-623', '521-522', '22', '211', '486',\n",
       "       '213', '334', '311-312', '55', '111-112', '515, 517', '325', '523',\n",
       "       '5411', '61', '511', '721', '722', '3361-3363', '333',\n",
       "       '3364-3366, 3369', '212', '322', '482', '324', '5415', '332', '481',\n",
       "       '532-533', '113-115', '711-712', '713', '484', '331', '337', '483',\n",
       "       '327', '321', '493', '518, 519', '487-488, 492'], dtype=object)"
      ]
     },
     "execution_count": 7,
     "metadata": {},
     "output_type": "execute_result"
    }
   ],
   "source": [
    "frames = (a, b, c, d)\n",
    "result = pd.concat(frames)\n",
    "uniq = result.unique.unique()\n",
    "result.unique.unique()"
   ]
  },
  {
   "cell_type": "code",
   "execution_count": 8,
   "metadata": {
    "collapsed": false
   },
   "outputs": [],
   "source": [
    "df= pd.read_csv(\\\n",
    "'Thesis/ExternalData/naics_conversion_data/sic_naics_catcode.csv'\\\n",
    "                , index_col=0)\n",
    "\n",
    "df=df.loc[df['2002to2007 NAICS'].astype(str).str.contains\\\n",
    "       (r'^(?:531|11[3-5]|481|337|518|92|42|44|45|484|493|519|532|483|533|23|81|621|561|512|622|492|623|521|522|22|321|211|486|213|334|487|488|327|331|311|312|55|111|112|515|517|325|523|5411|61|511|721|722|336[1-3]|711|712|713|333|336[4-6]|3369|212|322|482|324|5415|332|541[6-9]|541[2-4])')]\n",
    "\n",
    "df.to_csv('Thesis/ExternalData/gdpdata/gdpseries_naics_and_catcode.csv')"
   ]
  },
  {
   "cell_type": "code",
   "execution_count": 9,
   "metadata": {
    "collapsed": false
   },
   "outputs": [],
   "source": [
    "uniq = pd.DataFrame({'unique':uniq})\n",
    "uniq.to_csv('Thesis/ExternalData/gdpdata/gdpseries_indstry.csv')"
   ]
  },
  {
   "cell_type": "code",
   "execution_count": 10,
   "metadata": {
    "collapsed": false,
    "scrolled": false
   },
   "outputs": [],
   "source": [
    "# Read in hand parsed catcode:naics data\n",
    "\n",
    "rr = pd.read_csv('Thesis/ExternalData/gdpdata/catcode_naics_long.csv',\\\n",
    "                encoding='utf-8_sig', usecols=(['naics', 'catcode']))"
   ]
  },
  {
   "cell_type": "code",
   "execution_count": 11,
   "metadata": {
    "collapsed": false
   },
   "outputs": [
    {
     "data": {
      "text/html": [
       "<div>\n",
       "<table border=\"1\" class=\"dataframe\">\n",
       "  <thead>\n",
       "    <tr style=\"text-align: right;\">\n",
       "      <th></th>\n",
       "      <th>naics</th>\n",
       "      <th>catcode</th>\n",
       "    </tr>\n",
       "  </thead>\n",
       "  <tbody>\n",
       "    <tr>\n",
       "      <th>0</th>\n",
       "      <td>561</td>\n",
       "      <td>T9400</td>\n",
       "    </tr>\n",
       "  </tbody>\n",
       "</table>\n",
       "</div>"
      ],
      "text/plain": [
       "  naics catcode\n",
       "0   561   T9400"
      ]
     },
     "execution_count": 11,
     "metadata": {},
     "output_type": "execute_result"
    }
   ],
   "source": [
    "rr.head(1)"
   ]
  },
  {
   "cell_type": "code",
   "execution_count": 12,
   "metadata": {
    "collapsed": false
   },
   "outputs": [
    {
     "data": {
      "text/plain": [
       "239"
      ]
     },
     "execution_count": 12,
     "metadata": {},
     "output_type": "execute_result"
    }
   ],
   "source": [
    "rr.catcode.nunique()"
   ]
  },
  {
   "cell_type": "code",
   "execution_count": 13,
   "metadata": {
    "collapsed": false
   },
   "outputs": [],
   "source": [
    "mpl=pd.read_csv('mpl.Bspons.merge')"
   ]
  },
  {
   "cell_type": "code",
   "execution_count": 14,
   "metadata": {
    "collapsed": false
   },
   "outputs": [],
   "source": [
    "mplmerge=pd.merge(mpl,rr, on='catcode', how='left' )"
   ]
  },
  {
   "cell_type": "code",
   "execution_count": 15,
   "metadata": {
    "collapsed": false
   },
   "outputs": [],
   "source": [
    "mplmerge.to_csv('mpl.Bspons.merge.1', index=False)"
   ]
  },
  {
   "cell_type": "code",
   "execution_count": 16,
   "metadata": {
    "collapsed": false,
    "scrolled": true
   },
   "outputs": [
    {
     "data": {
      "text/plain": [
       "4509"
      ]
     },
     "execution_count": 16,
     "metadata": {},
     "output_type": "execute_result"
    }
   ],
   "source": [
    "mplmerge.bills.nunique()\n"
   ]
  },
  {
   "cell_type": "code",
   "execution_count": 17,
   "metadata": {
    "collapsed": false
   },
   "outputs": [
    {
     "data": {
      "text/html": [
       "<div>\n",
       "<table border=\"1\" class=\"dataframe\">\n",
       "  <thead>\n",
       "    <tr style=\"text-align: right;\">\n",
       "      <th></th>\n",
       "      <th>state</th>\n",
       "      <th>date</th>\n",
       "      <th>unemployment_lag</th>\n",
       "      <th>year</th>\n",
       "      <th>unemployment</th>\n",
       "      <th>id.thomas</th>\n",
       "      <th>party</th>\n",
       "      <th>bills</th>\n",
       "      <th>id.fec</th>\n",
       "      <th>leg_totalbills</th>\n",
       "      <th>years_exp</th>\n",
       "      <th>disposition</th>\n",
       "      <th>catcode</th>\n",
       "      <th>naics</th>\n",
       "    </tr>\n",
       "  </thead>\n",
       "  <tbody>\n",
       "    <tr>\n",
       "      <th>0</th>\n",
       "      <td>AK</td>\n",
       "      <td>2006.0</td>\n",
       "      <td>6.9</td>\n",
       "      <td>2006.0</td>\n",
       "      <td>6.6</td>\n",
       "      <td>1440.0</td>\n",
       "      <td>Republican</td>\n",
       "      <td>s2686-109</td>\n",
       "      <td>S2AK00010</td>\n",
       "      <td>14.0</td>\n",
       "      <td>39.0</td>\n",
       "      <td>support</td>\n",
       "      <td>C4500</td>\n",
       "      <td>81</td>\n",
       "    </tr>\n",
       "  </tbody>\n",
       "</table>\n",
       "</div>"
      ],
      "text/plain": [
       "  state    date  unemployment_lag    year  unemployment  id.thomas  \\\n",
       "0    AK  2006.0               6.9  2006.0           6.6     1440.0   \n",
       "\n",
       "        party      bills     id.fec  leg_totalbills  years_exp disposition  \\\n",
       "0  Republican  s2686-109  S2AK00010            14.0       39.0     support   \n",
       "\n",
       "  catcode naics  \n",
       "0   C4500    81  "
      ]
     },
     "execution_count": 17,
     "metadata": {},
     "output_type": "execute_result"
    }
   ],
   "source": [
    "mplmerge.head(1)"
   ]
  }
 ],
 "metadata": {
  "kernelspec": {
   "display_name": "Python 3",
   "language": "python",
   "name": "python3"
  },
  "language_info": {
   "codemirror_mode": {
    "name": "ipython",
    "version": 3
   },
   "file_extension": ".py",
   "mimetype": "text/x-python",
   "name": "python",
   "nbconvert_exporter": "python",
   "pygments_lexer": "ipython3",
   "version": "3.5.1"
  }
 },
 "nbformat": 4,
 "nbformat_minor": 0
}
