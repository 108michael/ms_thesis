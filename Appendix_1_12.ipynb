{
 "cells": [
  {
   "cell_type": "code",
   "execution_count": 29,
   "metadata": {
    "collapsed": false
   },
   "outputs": [],
   "source": [
    "import pandas as pd\n",
    "\n",
    "df = pd.read_csv('Thesis/CRSP/pacs.can.cl', usecols=['feccandid', 'cid'])\n",
    "fec_thom=pd.read_csv('fecthomas.csv')"
   ]
  },
  {
   "cell_type": "code",
   "execution_count": 30,
   "metadata": {
    "collapsed": true
   },
   "outputs": [],
   "source": [
    "dd = pd.read_csv('Thesis/CRSP/pacs.can.cl')"
   ]
  },
  {
   "cell_type": "code",
   "execution_count": 31,
   "metadata": {
    "collapsed": false
   },
   "outputs": [],
   "source": [
    "fec_thom.isnull().sum()\n",
    "fec_thom.rename(columns={'id.fec':'feccandid'}, inplace=True)\n",
    "fec_thom_cid_index=pd.merge(fec_thom, df, on='feccandid', how='inner')\n",
    "fec_thom_cid_index.drop_duplicates(['cid', 'id.thomas', \\\n",
    "                                     'feccandid'], inplace=True)\n",
    "fec_thom_cid_index.to_csv('fec_thom_cid_index', index=False)"
   ]
  },
  {
   "cell_type": "code",
   "execution_count": 32,
   "metadata": {
    "collapsed": false
   },
   "outputs": [
    {
     "data": {
      "text/plain": [
       "986"
      ]
     },
     "execution_count": 32,
     "metadata": {},
     "output_type": "execute_result"
    }
   ],
   "source": [
    "len(fec_thom_cid_index)"
   ]
  },
  {
   "cell_type": "code",
   "execution_count": 33,
   "metadata": {
    "collapsed": false
   },
   "outputs": [
    {
     "data": {
      "text/plain": [
       "feccandid    0\n",
       "id.thomas    0\n",
       "cid          0\n",
       "dtype: int64"
      ]
     },
     "execution_count": 33,
     "metadata": {},
     "output_type": "execute_result"
    }
   ],
   "source": [
    "fec_thom_cid_index.isnull().sum()"
   ]
  },
  {
   "cell_type": "code",
   "execution_count": 34,
   "metadata": {
    "collapsed": false
   },
   "outputs": [],
   "source": [
    "import pandas as pd\n",
    "\n",
    "amtsum = pd.read_csv('Thesis/CRSP/pacs.can.cl', usecols=(['feccandid','cid', 'amount', 'date', 'catcode']))"
   ]
  },
  {
   "cell_type": "code",
   "execution_count": 35,
   "metadata": {
    "collapsed": false
   },
   "outputs": [
    {
     "data": {
      "text/plain": [
       "4585"
      ]
     },
     "execution_count": 35,
     "metadata": {},
     "output_type": "execute_result"
    }
   ],
   "source": [
    "amtsum.feccandid.nunique()"
   ]
  },
  {
   "cell_type": "code",
   "execution_count": 36,
   "metadata": {
    "collapsed": false,
    "scrolled": true
   },
   "outputs": [],
   "source": [
    "amtsum['amtsum']=amtsum[['date', 'cid', 'amount', 'catcode']].\\\n",
    "groupby(['date', 'cid', 'catcode']).amount.transform('sum')\n",
    "amtsum['amtsum'] = amtsum['amtsum'] / 1000\n",
    "amtsum.drop_duplicates(['date', 'cid', 'amtsum', 'catcode'],inplace=True, keep='first')"
   ]
  },
  {
   "cell_type": "code",
   "execution_count": 37,
   "metadata": {
    "collapsed": false
   },
   "outputs": [],
   "source": [
    "loansum = pd.read_csv('Thesis/CRSP/pacs.can.cl', \\\n",
    "                      usecols=(['cid', 'loan', 'date','catcode']))"
   ]
  },
  {
   "cell_type": "code",
   "execution_count": 38,
   "metadata": {
    "collapsed": false
   },
   "outputs": [],
   "source": [
    "loansum['loansum']=loansum[['date', 'cid', 'loan','catcode']].\\\n",
    "groupby(['date', 'cid','catcode']).loan.transform('sum')\n",
    "loansum['loansum'] = loansum['loansum'] / 1000\n",
    "loansum.drop_duplicates(['date', 'cid', 'loansum','catcode'],inplace=True,\\\n",
    "                        keep='first')"
   ]
  },
  {
   "cell_type": "code",
   "execution_count": 39,
   "metadata": {
    "collapsed": false,
    "scrolled": true
   },
   "outputs": [],
   "source": [
    "amtcidyear=pd.merge(loansum, amtsum, how='inner', on=(['date', 'cid', 'catcode']))"
   ]
  },
  {
   "cell_type": "code",
   "execution_count": 40,
   "metadata": {
    "collapsed": false
   },
   "outputs": [
    {
     "data": {
      "text/html": [
       "<div>\n",
       "<table border=\"1\" class=\"dataframe\">\n",
       "  <thead>\n",
       "    <tr style=\"text-align: right;\">\n",
       "      <th></th>\n",
       "      <th>cid</th>\n",
       "      <th>date</th>\n",
       "      <th>catcode</th>\n",
       "      <th>loan</th>\n",
       "      <th>loansum</th>\n",
       "      <th>amount</th>\n",
       "      <th>feccandid</th>\n",
       "      <th>amtsum</th>\n",
       "    </tr>\n",
       "  </thead>\n",
       "  <tbody>\n",
       "    <tr>\n",
       "      <th>0</th>\n",
       "      <td>N00031317</td>\n",
       "      <td>2010</td>\n",
       "      <td>B2000</td>\n",
       "      <td>0</td>\n",
       "      <td>0.0</td>\n",
       "      <td>1000</td>\n",
       "      <td>H0FL19080</td>\n",
       "      <td>3.0</td>\n",
       "    </tr>\n",
       "  </tbody>\n",
       "</table>\n",
       "</div>"
      ],
      "text/plain": [
       "         cid  date catcode  loan  loansum  amount  feccandid  amtsum\n",
       "0  N00031317  2010   B2000     0      0.0    1000  H0FL19080     3.0"
      ]
     },
     "execution_count": 40,
     "metadata": {},
     "output_type": "execute_result"
    }
   ],
   "source": [
    "amtcidyear.head(1)"
   ]
  },
  {
   "cell_type": "code",
   "execution_count": 41,
   "metadata": {
    "collapsed": false
   },
   "outputs": [],
   "source": [
    "amtcidyear.drop(['loan', 'amount'], axis=1, inplace=True)"
   ]
  },
  {
   "cell_type": "code",
   "execution_count": 42,
   "metadata": {
    "collapsed": false,
    "scrolled": false
   },
   "outputs": [
    {
     "data": {
      "text/html": [
       "<div>\n",
       "<table border=\"1\" class=\"dataframe\">\n",
       "  <thead>\n",
       "    <tr style=\"text-align: right;\">\n",
       "      <th></th>\n",
       "      <th>date</th>\n",
       "      <th>loansum</th>\n",
       "      <th>amtsum</th>\n",
       "    </tr>\n",
       "  </thead>\n",
       "  <tbody>\n",
       "    <tr>\n",
       "      <th>count</th>\n",
       "      <td>450411.000000</td>\n",
       "      <td>450411.000000</td>\n",
       "      <td>450411.000000</td>\n",
       "    </tr>\n",
       "    <tr>\n",
       "      <th>mean</th>\n",
       "      <td>2009.642526</td>\n",
       "      <td>0.136952</td>\n",
       "      <td>7.462530</td>\n",
       "    </tr>\n",
       "    <tr>\n",
       "      <th>std</th>\n",
       "      <td>2.841647</td>\n",
       "      <td>0.987051</td>\n",
       "      <td>120.934279</td>\n",
       "    </tr>\n",
       "    <tr>\n",
       "      <th>min</th>\n",
       "      <td>2005.000000</td>\n",
       "      <td>0.000000</td>\n",
       "      <td>0.000000</td>\n",
       "    </tr>\n",
       "    <tr>\n",
       "      <th>25%</th>\n",
       "      <td>2007.000000</td>\n",
       "      <td>0.000000</td>\n",
       "      <td>1.000000</td>\n",
       "    </tr>\n",
       "    <tr>\n",
       "      <th>50%</th>\n",
       "      <td>2010.000000</td>\n",
       "      <td>0.000000</td>\n",
       "      <td>2.500000</td>\n",
       "    </tr>\n",
       "    <tr>\n",
       "      <th>75%</th>\n",
       "      <td>2012.000000</td>\n",
       "      <td>0.000000</td>\n",
       "      <td>5.500000</td>\n",
       "    </tr>\n",
       "    <tr>\n",
       "      <th>max</th>\n",
       "      <td>2014.000000</td>\n",
       "      <td>207.732000</td>\n",
       "      <td>45319.220000</td>\n",
       "    </tr>\n",
       "  </tbody>\n",
       "</table>\n",
       "</div>"
      ],
      "text/plain": [
       "                date        loansum         amtsum\n",
       "count  450411.000000  450411.000000  450411.000000\n",
       "mean     2009.642526       0.136952       7.462530\n",
       "std         2.841647       0.987051     120.934279\n",
       "min      2005.000000       0.000000       0.000000\n",
       "25%      2007.000000       0.000000       1.000000\n",
       "50%      2010.000000       0.000000       2.500000\n",
       "75%      2012.000000       0.000000       5.500000\n",
       "max      2014.000000     207.732000   45319.220000"
      ]
     },
     "execution_count": 42,
     "metadata": {},
     "output_type": "execute_result"
    }
   ],
   "source": [
    "amtcidyear.describe()"
   ]
  },
  {
   "cell_type": "code",
   "execution_count": 43,
   "metadata": {
    "collapsed": false
   },
   "outputs": [],
   "source": [
    "mplbill=pd.read_csv('mpl.billsum', usecols=['feccandid', 'bills', 'date', 'unemployment', 'catcode'])\n",
    "mplbill=pd.merge(fec_thom_cid_index,mplbill,on='feccandid', how='right')"
   ]
  },
  {
   "cell_type": "code",
   "execution_count": 44,
   "metadata": {
    "collapsed": true
   },
   "outputs": [],
   "source": [
    "mplbill.dropna(inplace=True)"
   ]
  },
  {
   "cell_type": "code",
   "execution_count": 45,
   "metadata": {
    "collapsed": false
   },
   "outputs": [],
   "source": [
    "mplbill['billsum']=mplbill[['date', 'cid', 'bills', 'catcode']].\\\n",
    "groupby(['date', 'cid', 'catcode']).bills.transform('nunique')\n",
    "mplbill.drop(['bills' ], axis=1, inplace=True)\n",
    "mplbill.drop_duplicates(['date', 'cid', 'billsum', 'catcode'], inplace=True, keep='first')\n",
    "mplbill.drop(['feccandid'], axis=1, inplace=True)"
   ]
  },
  {
   "cell_type": "code",
   "execution_count": 46,
   "metadata": {
    "collapsed": false,
    "scrolled": false
   },
   "outputs": [
    {
     "data": {
      "text/plain": [
       "20496"
      ]
     },
     "execution_count": 46,
     "metadata": {},
     "output_type": "execute_result"
    }
   ],
   "source": [
    "len(mplbill)"
   ]
  },
  {
   "cell_type": "code",
   "execution_count": 47,
   "metadata": {
    "collapsed": false
   },
   "outputs": [
    {
     "data": {
      "text/plain": [
       "450411"
      ]
     },
     "execution_count": 47,
     "metadata": {},
     "output_type": "execute_result"
    }
   ],
   "source": [
    "len(amtcidyear)"
   ]
  },
  {
   "cell_type": "code",
   "execution_count": 48,
   "metadata": {
    "collapsed": false
   },
   "outputs": [
    {
     "data": {
      "text/plain": [
       "4351"
      ]
     },
     "execution_count": 48,
     "metadata": {},
     "output_type": "execute_result"
    }
   ],
   "source": [
    "amtcidyear.cid.nunique()"
   ]
  },
  {
   "cell_type": "code",
   "execution_count": 49,
   "metadata": {
    "collapsed": false
   },
   "outputs": [
    {
     "data": {
      "text/plain": [
       "689"
      ]
     },
     "execution_count": 49,
     "metadata": {},
     "output_type": "execute_result"
    }
   ],
   "source": [
    "mplbill.cid.nunique()"
   ]
  },
  {
   "cell_type": "code",
   "execution_count": 50,
   "metadata": {
    "collapsed": false,
    "scrolled": true
   },
   "outputs": [
    {
     "data": {
      "text/html": [
       "<div>\n",
       "<table border=\"1\" class=\"dataframe\">\n",
       "  <thead>\n",
       "    <tr style=\"text-align: right;\">\n",
       "      <th></th>\n",
       "      <th>id.thomas</th>\n",
       "      <th>cid</th>\n",
       "      <th>date</th>\n",
       "      <th>unemployment</th>\n",
       "      <th>catcode</th>\n",
       "      <th>billsum</th>\n",
       "    </tr>\n",
       "  </thead>\n",
       "  <tbody>\n",
       "    <tr>\n",
       "      <th>0</th>\n",
       "      <td>1336.0</td>\n",
       "      <td>N00003147</td>\n",
       "      <td>2005.0</td>\n",
       "      <td>5.6</td>\n",
       "      <td>G1100</td>\n",
       "      <td>1</td>\n",
       "    </tr>\n",
       "  </tbody>\n",
       "</table>\n",
       "</div>"
      ],
      "text/plain": [
       "   id.thomas        cid    date  unemployment catcode  billsum\n",
       "0     1336.0  N00003147  2005.0           5.6   G1100        1"
      ]
     },
     "execution_count": 50,
     "metadata": {},
     "output_type": "execute_result"
    }
   ],
   "source": [
    "mplbill.head(1)"
   ]
  },
  {
   "cell_type": "code",
   "execution_count": 51,
   "metadata": {
    "collapsed": false,
    "scrolled": true
   },
   "outputs": [
    {
     "data": {
      "text/html": [
       "<div>\n",
       "<table border=\"1\" class=\"dataframe\">\n",
       "  <thead>\n",
       "    <tr style=\"text-align: right;\">\n",
       "      <th></th>\n",
       "      <th>cid</th>\n",
       "      <th>date</th>\n",
       "      <th>catcode</th>\n",
       "      <th>loansum</th>\n",
       "      <th>feccandid</th>\n",
       "      <th>amtsum</th>\n",
       "    </tr>\n",
       "  </thead>\n",
       "  <tbody>\n",
       "    <tr>\n",
       "      <th>0</th>\n",
       "      <td>N00031317</td>\n",
       "      <td>2010</td>\n",
       "      <td>B2000</td>\n",
       "      <td>0.0</td>\n",
       "      <td>H0FL19080</td>\n",
       "      <td>3.0</td>\n",
       "    </tr>\n",
       "  </tbody>\n",
       "</table>\n",
       "</div>"
      ],
      "text/plain": [
       "         cid  date catcode  loansum  feccandid  amtsum\n",
       "0  N00031317  2010   B2000      0.0  H0FL19080     3.0"
      ]
     },
     "execution_count": 51,
     "metadata": {},
     "output_type": "execute_result"
    }
   ],
   "source": [
    "amtcidyear.head(1)"
   ]
  },
  {
   "cell_type": "code",
   "execution_count": 52,
   "metadata": {
    "collapsed": true
   },
   "outputs": [],
   "source": [
    "bill_amt_merge=pd.merge(fec_thom_cid_index, amtcidyear, on='cid', how = 'left')"
   ]
  },
  {
   "cell_type": "code",
   "execution_count": 53,
   "metadata": {
    "collapsed": false
   },
   "outputs": [
    {
     "data": {
      "text/plain": [
       "feccandid_x    0\n",
       "id.thomas      0\n",
       "cid            0\n",
       "date           0\n",
       "catcode        0\n",
       "loansum        0\n",
       "feccandid_y    0\n",
       "amtsum         0\n",
       "dtype: int64"
      ]
     },
     "execution_count": 53,
     "metadata": {},
     "output_type": "execute_result"
    }
   ],
   "source": [
    "bill_amt_merge.isnull().sum()"
   ]
  },
  {
   "cell_type": "code",
   "execution_count": 54,
   "metadata": {
    "collapsed": false
   },
   "outputs": [
    {
     "data": {
      "text/plain": [
       "915"
      ]
     },
     "execution_count": 54,
     "metadata": {},
     "output_type": "execute_result"
    }
   ],
   "source": [
    "bill_amt_merge.cid.nunique()"
   ]
  },
  {
   "cell_type": "code",
   "execution_count": 55,
   "metadata": {
    "collapsed": true
   },
   "outputs": [],
   "source": [
    "bill_amtmerge=pd.merge(mplbill,bill_amt_merge,on=['cid', 'date', 'catcode'], how='right')\n",
    "bill_amtmerge.drop(['id.thomas_x','feccandid_x' ], axis=1, inplace=True)\n",
    "bill_amtmerge.rename(columns = {'id.thomas_y':'id.thomas'}, inplace=True)\n",
    "bill_amtmerge.rename(columns = {'feccandid_y':'feccanid'}, inplace=True)"
   ]
  },
  {
   "cell_type": "code",
   "execution_count": 56,
   "metadata": {
    "collapsed": false
   },
   "outputs": [
    {
     "data": {
      "text/html": [
       "<div>\n",
       "<table border=\"1\" class=\"dataframe\">\n",
       "  <thead>\n",
       "    <tr style=\"text-align: right;\">\n",
       "      <th></th>\n",
       "      <th>cid</th>\n",
       "      <th>date</th>\n",
       "      <th>unemployment</th>\n",
       "      <th>catcode</th>\n",
       "      <th>billsum</th>\n",
       "      <th>id.thomas</th>\n",
       "      <th>loansum</th>\n",
       "      <th>feccanid</th>\n",
       "      <th>amtsum</th>\n",
       "    </tr>\n",
       "  </thead>\n",
       "  <tbody>\n",
       "    <tr>\n",
       "      <th>0</th>\n",
       "      <td>N00013870</td>\n",
       "      <td>2007.0</td>\n",
       "      <td>4.6</td>\n",
       "      <td>H0000</td>\n",
       "      <td>1.0</td>\n",
       "      <td>1697</td>\n",
       "      <td>0.0</td>\n",
       "      <td>S2MN00126</td>\n",
       "      <td>1.0</td>\n",
       "    </tr>\n",
       "  </tbody>\n",
       "</table>\n",
       "</div>"
      ],
      "text/plain": [
       "         cid    date  unemployment catcode  billsum  id.thomas  loansum  \\\n",
       "0  N00013870  2007.0           4.6   H0000      1.0       1697      0.0   \n",
       "\n",
       "    feccanid  amtsum  \n",
       "0  S2MN00126     1.0  "
      ]
     },
     "execution_count": 56,
     "metadata": {},
     "output_type": "execute_result"
    }
   ],
   "source": [
    "bill_amtmerge.head(1)"
   ]
  },
  {
   "cell_type": "code",
   "execution_count": 57,
   "metadata": {
    "collapsed": true
   },
   "outputs": [],
   "source": [
    "bill_amtmerge.fillna(value=0, inplace=True)"
   ]
  },
  {
   "cell_type": "code",
   "execution_count": 58,
   "metadata": {
    "collapsed": false,
    "scrolled": false
   },
   "outputs": [
    {
     "data": {
      "text/plain": [
       "cid             0\n",
       "date            0\n",
       "unemployment    0\n",
       "catcode         0\n",
       "billsum         0\n",
       "id.thomas       0\n",
       "loansum         0\n",
       "feccanid        0\n",
       "amtsum          0\n",
       "dtype: int64"
      ]
     },
     "execution_count": 58,
     "metadata": {},
     "output_type": "execute_result"
    }
   ],
   "source": [
    "bill_amtmerge.isnull().sum()"
   ]
  },
  {
   "cell_type": "code",
   "execution_count": 59,
   "metadata": {
    "collapsed": false,
    "scrolled": true
   },
   "outputs": [
    {
     "data": {
      "text/plain": [
       "915"
      ]
     },
     "execution_count": 59,
     "metadata": {},
     "output_type": "execute_result"
    }
   ],
   "source": [
    "bill_amtmerge.cid.nunique()#isnull().sum()"
   ]
  },
  {
   "cell_type": "code",
   "execution_count": 60,
   "metadata": {
    "collapsed": false
   },
   "outputs": [
    {
     "data": {
      "text/html": [
       "<div>\n",
       "<table border=\"1\" class=\"dataframe\">\n",
       "  <thead>\n",
       "    <tr style=\"text-align: right;\">\n",
       "      <th></th>\n",
       "      <th>cid</th>\n",
       "      <th>date</th>\n",
       "      <th>unemployment</th>\n",
       "      <th>catcode</th>\n",
       "      <th>billsum</th>\n",
       "      <th>id.thomas</th>\n",
       "      <th>loansum</th>\n",
       "      <th>feccanid</th>\n",
       "      <th>amtsum</th>\n",
       "    </tr>\n",
       "  </thead>\n",
       "  <tbody>\n",
       "    <tr>\n",
       "      <th>0</th>\n",
       "      <td>N00013870</td>\n",
       "      <td>2007.0</td>\n",
       "      <td>4.6</td>\n",
       "      <td>H0000</td>\n",
       "      <td>1.0</td>\n",
       "      <td>1697</td>\n",
       "      <td>0.0</td>\n",
       "      <td>S2MN00126</td>\n",
       "      <td>1.0</td>\n",
       "    </tr>\n",
       "  </tbody>\n",
       "</table>\n",
       "</div>"
      ],
      "text/plain": [
       "         cid    date  unemployment catcode  billsum  id.thomas  loansum  \\\n",
       "0  N00013870  2007.0           4.6   H0000      1.0       1697      0.0   \n",
       "\n",
       "    feccanid  amtsum  \n",
       "0  S2MN00126     1.0  "
      ]
     },
     "execution_count": 60,
     "metadata": {},
     "output_type": "execute_result"
    }
   ],
   "source": [
    "bill_amtmerge.head(1)"
   ]
  },
  {
   "cell_type": "code",
   "execution_count": 61,
   "metadata": {
    "collapsed": false,
    "scrolled": true
   },
   "outputs": [
    {
     "data": {
      "text/plain": [
       "454550"
      ]
     },
     "execution_count": 61,
     "metadata": {},
     "output_type": "execute_result"
    }
   ],
   "source": [
    "len(bill_amtmerge)"
   ]
  },
  {
   "cell_type": "code",
   "execution_count": 62,
   "metadata": {
    "collapsed": false,
    "scrolled": false
   },
   "outputs": [
    {
     "data": {
      "text/html": [
       "<div>\n",
       "<table border=\"1\" class=\"dataframe\">\n",
       "  <thead>\n",
       "    <tr style=\"text-align: right;\">\n",
       "      <th></th>\n",
       "      <th>date</th>\n",
       "      <th>unemployment</th>\n",
       "      <th>billsum</th>\n",
       "      <th>id.thomas</th>\n",
       "      <th>loansum</th>\n",
       "      <th>amtsum</th>\n",
       "    </tr>\n",
       "  </thead>\n",
       "  <tbody>\n",
       "    <tr>\n",
       "      <th>count</th>\n",
       "      <td>454550.000000</td>\n",
       "      <td>454550.000000</td>\n",
       "      <td>454550.000000</td>\n",
       "      <td>454550.000000</td>\n",
       "      <td>454550.000000</td>\n",
       "      <td>454550.000000</td>\n",
       "    </tr>\n",
       "    <tr>\n",
       "      <th>mean</th>\n",
       "      <td>2009.746558</td>\n",
       "      <td>0.126249</td>\n",
       "      <td>0.020213</td>\n",
       "      <td>1434.309449</td>\n",
       "      <td>0.136627</td>\n",
       "      <td>7.075354</td>\n",
       "    </tr>\n",
       "    <tr>\n",
       "      <th>std</th>\n",
       "      <td>2.811869</td>\n",
       "      <td>0.987219</td>\n",
       "      <td>0.165274</td>\n",
       "      <td>600.544128</td>\n",
       "      <td>0.908345</td>\n",
       "      <td>93.636189</td>\n",
       "    </tr>\n",
       "    <tr>\n",
       "      <th>min</th>\n",
       "      <td>2005.000000</td>\n",
       "      <td>0.000000</td>\n",
       "      <td>0.000000</td>\n",
       "      <td>2.000000</td>\n",
       "      <td>0.000000</td>\n",
       "      <td>0.000000</td>\n",
       "    </tr>\n",
       "    <tr>\n",
       "      <th>25%</th>\n",
       "      <td>2007.000000</td>\n",
       "      <td>0.000000</td>\n",
       "      <td>0.000000</td>\n",
       "      <td>1010.000000</td>\n",
       "      <td>0.000000</td>\n",
       "      <td>1.000000</td>\n",
       "    </tr>\n",
       "    <tr>\n",
       "      <th>50%</th>\n",
       "      <td>2010.000000</td>\n",
       "      <td>0.000000</td>\n",
       "      <td>0.000000</td>\n",
       "      <td>1651.000000</td>\n",
       "      <td>0.000000</td>\n",
       "      <td>2.500000</td>\n",
       "    </tr>\n",
       "    <tr>\n",
       "      <th>75%</th>\n",
       "      <td>2012.000000</td>\n",
       "      <td>0.000000</td>\n",
       "      <td>0.000000</td>\n",
       "      <td>1869.000000</td>\n",
       "      <td>0.000000</td>\n",
       "      <td>5.500000</td>\n",
       "    </tr>\n",
       "    <tr>\n",
       "      <th>max</th>\n",
       "      <td>2014.000000</td>\n",
       "      <td>13.700000</td>\n",
       "      <td>6.000000</td>\n",
       "      <td>2291.000000</td>\n",
       "      <td>207.732000</td>\n",
       "      <td>35745.725000</td>\n",
       "    </tr>\n",
       "  </tbody>\n",
       "</table>\n",
       "</div>"
      ],
      "text/plain": [
       "                date   unemployment        billsum      id.thomas  \\\n",
       "count  454550.000000  454550.000000  454550.000000  454550.000000   \n",
       "mean     2009.746558       0.126249       0.020213    1434.309449   \n",
       "std         2.811869       0.987219       0.165274     600.544128   \n",
       "min      2005.000000       0.000000       0.000000       2.000000   \n",
       "25%      2007.000000       0.000000       0.000000    1010.000000   \n",
       "50%      2010.000000       0.000000       0.000000    1651.000000   \n",
       "75%      2012.000000       0.000000       0.000000    1869.000000   \n",
       "max      2014.000000      13.700000       6.000000    2291.000000   \n",
       "\n",
       "             loansum         amtsum  \n",
       "count  454550.000000  454550.000000  \n",
       "mean        0.136627       7.075354  \n",
       "std         0.908345      93.636189  \n",
       "min         0.000000       0.000000  \n",
       "25%         0.000000       1.000000  \n",
       "50%         0.000000       2.500000  \n",
       "75%         0.000000       5.500000  \n",
       "max       207.732000   35745.725000  "
      ]
     },
     "execution_count": 62,
     "metadata": {},
     "output_type": "execute_result"
    }
   ],
   "source": [
    "bill_amtmerge.describe()"
   ]
  },
  {
   "cell_type": "markdown",
   "metadata": {},
   "source": [
    "## Removing President Obama from the data frame"
   ]
  },
  {
   "cell_type": "code",
   "execution_count": 63,
   "metadata": {
    "collapsed": true
   },
   "outputs": [],
   "source": [
    "mask = (bill_amtmerge['id.thomas'] == 1763) & (bill_amtmerge['date'] >= 2007) \n",
    "bill_amtmerge = bill_amtmerge[~mask]"
   ]
  },
  {
   "cell_type": "markdown",
   "metadata": {},
   "source": [
    "## Removing campaign contributions from 2012 for republican presidential nominee Sen. John McCain "
   ]
  },
  {
   "cell_type": "code",
   "execution_count": 64,
   "metadata": {
    "collapsed": true
   },
   "outputs": [],
   "source": [
    "mask1 = (bill_amtmerge['id.thomas'] == 754) & (bill_amtmerge['date'] == 2008) & (bill_amtmerge['date'] == 2007) \n",
    "bill_amtmerge = bill_amtmerge[~mask1]"
   ]
  },
  {
   "cell_type": "markdown",
   "metadata": {},
   "source": [
    "## Removing PAC contributions to Hillary Clinton from  2008 Presidential race"
   ]
  },
  {
   "cell_type": "code",
   "execution_count": 65,
   "metadata": {
    "collapsed": true
   },
   "outputs": [],
   "source": [
    "mask2 = (bill_amtmerge['id.thomas'] == 1631) & (bill_amtmerge['date'] == 2008) & (bill_amtmerge['date'] == 2007) \n",
    "bill_amtmerge = bill_amtmerge[~mask2]"
   ]
  },
  {
   "cell_type": "markdown",
   "metadata": {},
   "source": [
    "## Removing PAC contributions to Rick Santorum from  2012 Presidential race"
   ]
  },
  {
   "cell_type": "code",
   "execution_count": 66,
   "metadata": {
    "collapsed": true
   },
   "outputs": [],
   "source": [
    "mask3 = (bill_amtmerge['id.thomas'] == 1015) & (bill_amtmerge['date'] == 2012) & (bill_amtmerge['date'] == 2011)\n",
    "bill_amtmerge = bill_amtmerge[~mask3]"
   ]
  },
  {
   "cell_type": "markdown",
   "metadata": {},
   "source": [
    "## Removing PAC contributions to Ron Paul from  2008 and 2012 Presidential race"
   ]
  },
  {
   "cell_type": "code",
   "execution_count": 67,
   "metadata": {
    "collapsed": false
   },
   "outputs": [],
   "source": [
    "mask4 = (bill_amtmerge['id.thomas'] == 900) & (bill_amtmerge['date'] == 2012) & (bill_amtmerge['date'] == 2011) & \\\n",
    " (bill_amtmerge['date'] == 2008)&(bill_amtmerge['date'] == 2007)\n",
    "bill_amtmerge = bill_amtmerge[~mask4]"
   ]
  },
  {
   "cell_type": "markdown",
   "metadata": {},
   "source": [
    "## Removing PAC contributions to Newt Gingrich from  2012 Presidential race"
   ]
  },
  {
   "cell_type": "code",
   "execution_count": 68,
   "metadata": {
    "collapsed": true
   },
   "outputs": [],
   "source": [
    "mask5 = (bill_amtmerge['id.thomas'] == 441) & (bill_amtmerge['date'] == 2012) & (bill_amtmerge['date'] == 2011)\n",
    "bill_amtmerge = bill_amtmerge[~mask5]"
   ]
  },
  {
   "cell_type": "code",
   "execution_count": 69,
   "metadata": {
    "collapsed": false,
    "scrolled": false
   },
   "outputs": [
    {
     "data": {
      "text/html": [
       "<div>\n",
       "<table border=\"1\" class=\"dataframe\">\n",
       "  <thead>\n",
       "    <tr style=\"text-align: right;\">\n",
       "      <th></th>\n",
       "      <th>date</th>\n",
       "      <th>unemployment</th>\n",
       "      <th>billsum</th>\n",
       "      <th>id.thomas</th>\n",
       "      <th>loansum</th>\n",
       "      <th>amtsum</th>\n",
       "    </tr>\n",
       "  </thead>\n",
       "  <tbody>\n",
       "    <tr>\n",
       "      <th>count</th>\n",
       "      <td>454384.000000</td>\n",
       "      <td>454384.000000</td>\n",
       "      <td>454384.000000</td>\n",
       "      <td>454384.000000</td>\n",
       "      <td>454384.000000</td>\n",
       "      <td>454384.000000</td>\n",
       "    </tr>\n",
       "    <tr>\n",
       "      <th>mean</th>\n",
       "      <td>2009.746547</td>\n",
       "      <td>0.126262</td>\n",
       "      <td>0.020214</td>\n",
       "      <td>1434.189368</td>\n",
       "      <td>0.136428</td>\n",
       "      <td>6.738634</td>\n",
       "    </tr>\n",
       "    <tr>\n",
       "      <th>std</th>\n",
       "      <td>2.812095</td>\n",
       "      <td>0.987317</td>\n",
       "      <td>0.165285</td>\n",
       "      <td>600.620948</td>\n",
       "      <td>0.906749</td>\n",
       "      <td>62.011896</td>\n",
       "    </tr>\n",
       "    <tr>\n",
       "      <th>min</th>\n",
       "      <td>2005.000000</td>\n",
       "      <td>0.000000</td>\n",
       "      <td>0.000000</td>\n",
       "      <td>2.000000</td>\n",
       "      <td>0.000000</td>\n",
       "      <td>0.000000</td>\n",
       "    </tr>\n",
       "    <tr>\n",
       "      <th>25%</th>\n",
       "      <td>2007.000000</td>\n",
       "      <td>0.000000</td>\n",
       "      <td>0.000000</td>\n",
       "      <td>1010.000000</td>\n",
       "      <td>0.000000</td>\n",
       "      <td>1.000000</td>\n",
       "    </tr>\n",
       "    <tr>\n",
       "      <th>50%</th>\n",
       "      <td>2010.000000</td>\n",
       "      <td>0.000000</td>\n",
       "      <td>0.000000</td>\n",
       "      <td>1651.000000</td>\n",
       "      <td>0.000000</td>\n",
       "      <td>2.500000</td>\n",
       "    </tr>\n",
       "    <tr>\n",
       "      <th>75%</th>\n",
       "      <td>2012.000000</td>\n",
       "      <td>0.000000</td>\n",
       "      <td>0.000000</td>\n",
       "      <td>1869.000000</td>\n",
       "      <td>0.000000</td>\n",
       "      <td>5.500000</td>\n",
       "    </tr>\n",
       "    <tr>\n",
       "      <th>max</th>\n",
       "      <td>2014.000000</td>\n",
       "      <td>13.700000</td>\n",
       "      <td>6.000000</td>\n",
       "      <td>2291.000000</td>\n",
       "      <td>207.732000</td>\n",
       "      <td>19739.002000</td>\n",
       "    </tr>\n",
       "  </tbody>\n",
       "</table>\n",
       "</div>"
      ],
      "text/plain": [
       "                date   unemployment        billsum      id.thomas  \\\n",
       "count  454384.000000  454384.000000  454384.000000  454384.000000   \n",
       "mean     2009.746547       0.126262       0.020214    1434.189368   \n",
       "std         2.812095       0.987317       0.165285     600.620948   \n",
       "min      2005.000000       0.000000       0.000000       2.000000   \n",
       "25%      2007.000000       0.000000       0.000000    1010.000000   \n",
       "50%      2010.000000       0.000000       0.000000    1651.000000   \n",
       "75%      2012.000000       0.000000       0.000000    1869.000000   \n",
       "max      2014.000000      13.700000       6.000000    2291.000000   \n",
       "\n",
       "             loansum         amtsum  \n",
       "count  454384.000000  454384.000000  \n",
       "mean        0.136428       6.738634  \n",
       "std         0.906749      62.011896  \n",
       "min         0.000000       0.000000  \n",
       "25%         0.000000       1.000000  \n",
       "50%         0.000000       2.500000  \n",
       "75%         0.000000       5.500000  \n",
       "max       207.732000   19739.002000  "
      ]
     },
     "execution_count": 69,
     "metadata": {},
     "output_type": "execute_result"
    }
   ],
   "source": [
    "bill_amtmerge.describe()"
   ]
  },
  {
   "cell_type": "code",
   "execution_count": 70,
   "metadata": {
    "collapsed": false,
    "scrolled": true
   },
   "outputs": [
    {
     "data": {
      "text/plain": [
       "915"
      ]
     },
     "execution_count": 70,
     "metadata": {},
     "output_type": "execute_result"
    }
   ],
   "source": [
    "bill_amtmerge.cid.nunique()"
   ]
  },
  {
   "cell_type": "code",
   "execution_count": 71,
   "metadata": {
    "collapsed": true
   },
   "outputs": [],
   "source": [
    "bill_amtmerge.to_csv('year_bill_amount.sum', index=False)"
   ]
  },
  {
   "cell_type": "code",
   "execution_count": 72,
   "metadata": {
    "collapsed": true
   },
   "outputs": [],
   "source": [
    "dd.to_csv('pacidtocid.amount.sum', index=False)"
   ]
  }
 ],
 "metadata": {
  "kernelspec": {
   "display_name": "Python 3",
   "language": "python",
   "name": "python3"
  },
  "language_info": {
   "codemirror_mode": {
    "name": "ipython",
    "version": 3
   },
   "file_extension": ".py",
   "mimetype": "text/x-python",
   "name": "python",
   "nbconvert_exporter": "python",
   "pygments_lexer": "ipython3",
   "version": "3.5.1"
  }
 },
 "nbformat": 4,
 "nbformat_minor": 0
}
