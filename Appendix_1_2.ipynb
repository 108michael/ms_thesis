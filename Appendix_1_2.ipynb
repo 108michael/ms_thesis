{
 "cells": [
  {
   "cell_type": "raw",
   "metadata": {},
   "source": [
    "\\subsection{Appendix 1.2}"
   ]
  },
  {
   "cell_type": "raw",
   "metadata": {},
   "source": [
    "Language: Python"
   ]
  },
  {
   "cell_type": "markdown",
   "metadata": {},
   "source": [
    "## Parsing historical and current legislator data for FEC ID: out to csv (histcurrent.merged.csv)"
   ]
  },
  {
   "cell_type": "raw",
   "metadata": {},
   "source": [
    "Reading in and parsing U.S. Legislator data provided through the Civic Impulse.LLC project govtrack.us\\cite{legislatordata}"
   ]
  },
  {
   "cell_type": "code",
   "execution_count": 1,
   "metadata": {
    "collapsed": true
   },
   "outputs": [],
   "source": [
    "import yaml\n",
    "import pandas as pd\n",
    "from pandas.io.json import json_normalize"
   ]
  },
  {
   "cell_type": "code",
   "execution_count": 2,
   "metadata": {
    "collapsed": true
   },
   "outputs": [],
   "source": [
    "def read_yaml(fn):\n",
    "    with open(fn, 'r') as fi:\n",
    "        return yaml.load(fi)\n",
    "\n",
    "def filter_data(data):\n",
    "    result_data = []\n",
    "    for x in data:\n",
    "        if 'id' not in x:   continue\n",
    "        if 'fec' not in x['id']:    continue\n",
    "        if 'thomas' not in x['id']: continue\n",
    "        result_data.append(x)\n",
    "    return result_data\n",
    "\n",
    "\n",
    "fn = 'legislators-historical.yaml'\n",
    "\n",
    "\n",
    "df = json_normalize(filter_data(read_yaml(fn)), 'terms', [['id', 'fec',], ['id', 'thomas']])\n",
    "\n",
    "df['id.fec'] = df['id.fec'].map(lambda x: str(x)[:-2])\n",
    "\n",
    "\n",
    "df['id.fec'] = df['id.fec'].map(lambda x: str(x)[2:])\n",
    "\n"
   ]
  },
  {
   "cell_type": "code",
   "execution_count": 3,
   "metadata": {
    "collapsed": true
   },
   "outputs": [],
   "source": [
    "def read_yaml(fm):\n",
    "    with open(fm, 'r') as fi:\n",
    "        return yaml.load(fi)\n",
    "def filter_data(data):\n",
    "    result_data = []\n",
    "    for x in data:\n",
    "        if 'id' not in x:   continue\n",
    "        if 'fec' not in x['id']:    continue\n",
    "        if 'thomas' not in x['id']: continue\n",
    "        result_data.append(x)\n",
    "    return result_data\n",
    "fm = 'legislators-current.yaml'\n",
    "dy = json_normalize(filter_data(read_yaml(fm)), 'terms', [['id', 'fec',], ['id', 'thomas']])\n",
    "dy['id.fec'] = dy['id.fec'].map(lambda x: str(x)[:-2])\n",
    "\n",
    "dy['id.fec'] = dy['id.fec'].map(lambda x: str(x)[2:])"
   ]
  },
  {
   "cell_type": "code",
   "execution_count": 4,
   "metadata": {
    "collapsed": false
   },
   "outputs": [],
   "source": [
    "merged = [df,dy]\n",
    "tocsv = pd.concat(merged)\n",
    "\n",
    "tocsv.to_csv('histcurrent.merged.csv', index=False)\n"
   ]
  },
  {
   "cell_type": "markdown",
   "metadata": {},
   "source": [
    "## Creating FEC and Thomas ID index: send to csv (fecthomas.mrg)"
   ]
  },
  {
   "cell_type": "code",
   "execution_count": 5,
   "metadata": {
    "collapsed": true
   },
   "outputs": [],
   "source": [
    "fecthomasmerge=pd.read_csv('histcurrent.merged.csv', \\\n",
    "index_col=0, usecols=['id.thomas', 'id.fec'])"
   ]
  },
  {
   "cell_type": "code",
   "execution_count": 6,
   "metadata": {
    "collapsed": true
   },
   "outputs": [],
   "source": [
    "fecthomasmerge = fecthomasmerge.drop_duplicates('id.thomas', keep='first')"
   ]
  },
  {
   "cell_type": "code",
   "execution_count": 7,
   "metadata": {
    "collapsed": true
   },
   "outputs": [],
   "source": [
    "fecthomasmerge=fecthomasmerge.reset_index()"
   ]
  },
  {
   "cell_type": "code",
   "execution_count": 8,
   "metadata": {
    "collapsed": true
   },
   "outputs": [],
   "source": [
    "fecthomasmerge.to_csv('fecthomas.mrg', index=False)"
   ]
  },
  {
   "cell_type": "code",
   "execution_count": 9,
   "metadata": {
    "collapsed": false
   },
   "outputs": [
    {
     "data": {
      "text/html": [
       "<div>\n",
       "<table border=\"1\" class=\"dataframe\">\n",
       "  <thead>\n",
       "    <tr style=\"text-align: right;\">\n",
       "      <th></th>\n",
       "      <th>id.fec</th>\n",
       "      <th>id.thomas</th>\n",
       "    </tr>\n",
       "  </thead>\n",
       "  <tbody>\n",
       "    <tr>\n",
       "      <th>0</th>\n",
       "      <td>S4TN00153</td>\n",
       "      <td>1336</td>\n",
       "    </tr>\n",
       "  </tbody>\n",
       "</table>\n",
       "</div>"
      ],
      "text/plain": [
       "      id.fec  id.thomas\n",
       "0  S4TN00153       1336"
      ]
     },
     "execution_count": 9,
     "metadata": {},
     "output_type": "execute_result"
    }
   ],
   "source": [
    "fecthomasmerge.head(1)"
   ]
  },
  {
   "cell_type": "raw",
   "metadata": {},
   "source": [
    "## Merging FEC ID to bill sponsor data"
   ]
  },
  {
   "cell_type": "code",
   "execution_count": 10,
   "metadata": {
    "collapsed": true
   },
   "outputs": [],
   "source": [
    "import pandas as pd\n",
    "import glob"
   ]
  },
  {
   "cell_type": "raw",
   "metadata": {},
   "source": [
    "Reading in bulk bill data"
   ]
  },
  {
   "cell_type": "code",
   "execution_count": 11,
   "metadata": {
    "collapsed": false,
    "scrolled": true
   },
   "outputs": [
    {
     "data": {
      "text/plain": [
       "date         51604\n",
       "bills        51604\n",
       "id.thomas    51604\n",
       "dtype: int64"
      ]
     },
     "execution_count": 11,
     "metadata": {},
     "output_type": "execute_result"
    }
   ],
   "source": [
    "df = pd.concat((pd.read_csv(f, names=['date','bills','id.thomas']) for f in glob.glob\\\n",
    "                ('/home/jayaramdas/anaconda3/dfs/*1**_s_ba')))\n",
    "\n",
    "df.count()"
   ]
  },
  {
   "cell_type": "code",
   "execution_count": 12,
   "metadata": {
    "collapsed": false,
    "scrolled": false
   },
   "outputs": [
    {
     "data": {
      "text/plain": [
       "902"
      ]
     },
     "execution_count": 12,
     "metadata": {},
     "output_type": "execute_result"
    }
   ],
   "source": [
    "df['id.thomas'].nunique()"
   ]
  },
  {
   "cell_type": "raw",
   "metadata": {
    "collapsed": true
   },
   "source": [
    "fecthomas.mrg had more than one FEC ID per Thomas ID. Accordingly, the file needed to be hand parsed such that for every Thomas ID there was only one FEC ID. The new file is titled fecthomas.csv"
   ]
  },
  {
   "cell_type": "code",
   "execution_count": 13,
   "metadata": {
    "collapsed": false,
    "scrolled": true
   },
   "outputs": [
    {
     "data": {
      "text/plain": [
       "id.fec       915\n",
       "id.thomas    915\n",
       "dtype: int64"
      ]
     },
     "execution_count": 13,
     "metadata": {},
     "output_type": "execute_result"
    }
   ],
   "source": [
    "l = pd.read_csv(('fecthomas.csv'), usecols=['id.thomas', 'id.fec'])\n",
    "dl = l.drop_duplicates('id.thomas', keep='first')\n",
    "\n",
    "dl.count()"
   ]
  },
  {
   "cell_type": "code",
   "execution_count": 14,
   "metadata": {
    "collapsed": false
   },
   "outputs": [
    {
     "data": {
      "text/plain": [
       "date         50456\n",
       "bills        50456\n",
       "id.thomas    50456\n",
       "id.fec       50456\n",
       "dtype: int64"
      ]
     },
     "execution_count": 14,
     "metadata": {},
     "output_type": "execute_result"
    }
   ],
   "source": [
    "d = pd.merge(df, dl, on = 'id.thomas', how='inner')\n",
    "df = d.drop_duplicates('bills', keep='first')\n",
    "df.count()"
   ]
  },
  {
   "cell_type": "code",
   "execution_count": 15,
   "metadata": {
    "collapsed": false
   },
   "outputs": [
    {
     "data": {
      "text/plain": [
       "50456"
      ]
     },
     "execution_count": 15,
     "metadata": {},
     "output_type": "execute_result"
    }
   ],
   "source": [
    "d['bills'].nunique()"
   ]
  },
  {
   "cell_type": "code",
   "execution_count": 16,
   "metadata": {
    "collapsed": true
   },
   "outputs": [],
   "source": [
    "d['date'] = \\\n",
    "d['date'].map(lambda x: str(x)[:-6]) "
   ]
  },
  {
   "cell_type": "code",
   "execution_count": 17,
   "metadata": {
    "collapsed": true
   },
   "outputs": [],
   "source": [
    "d.set_index((d['date']), inplace=True)"
   ]
  },
  {
   "cell_type": "markdown",
   "metadata": {},
   "source": [
    "## Deriving the total number of bills sponsored per legislator: send to csv (billspon.legisl.merg)"
   ]
  },
  {
   "cell_type": "code",
   "execution_count": 18,
   "metadata": {
    "collapsed": true
   },
   "outputs": [],
   "source": [
    "d['leg_totalbills']=d.groupby(['date', 'id.thomas']).bills.transform('nunique')"
   ]
  },
  {
   "cell_type": "code",
   "execution_count": 19,
   "metadata": {
    "collapsed": true
   },
   "outputs": [],
   "source": [
    "del d['date']\n",
    "d=d.reset_index()"
   ]
  },
  {
   "cell_type": "code",
   "execution_count": 20,
   "metadata": {
    "collapsed": false,
    "scrolled": false
   },
   "outputs": [
    {
     "data": {
      "text/html": [
       "<div>\n",
       "<table border=\"1\" class=\"dataframe\">\n",
       "  <thead>\n",
       "    <tr style=\"text-align: right;\">\n",
       "      <th></th>\n",
       "      <th>date</th>\n",
       "      <th>bills</th>\n",
       "      <th>id.thomas</th>\n",
       "      <th>id.fec</th>\n",
       "      <th>leg_totalbills</th>\n",
       "    </tr>\n",
       "  </thead>\n",
       "  <tbody>\n",
       "    <tr>\n",
       "      <th>0</th>\n",
       "      <td>2008</td>\n",
       "      <td>s2952-110</td>\n",
       "      <td>791</td>\n",
       "      <td>H2NJ13075</td>\n",
       "      <td>29</td>\n",
       "    </tr>\n",
       "    <tr>\n",
       "      <th>1</th>\n",
       "      <td>2007</td>\n",
       "      <td>s328-110</td>\n",
       "      <td>791</td>\n",
       "      <td>H2NJ13075</td>\n",
       "      <td>34</td>\n",
       "    </tr>\n",
       "    <tr>\n",
       "      <th>2</th>\n",
       "      <td>2007</td>\n",
       "      <td>s2528-110</td>\n",
       "      <td>791</td>\n",
       "      <td>H2NJ13075</td>\n",
       "      <td>34</td>\n",
       "    </tr>\n",
       "    <tr>\n",
       "      <th>3</th>\n",
       "      <td>2007</td>\n",
       "      <td>s2397-110</td>\n",
       "      <td>791</td>\n",
       "      <td>H2NJ13075</td>\n",
       "      <td>34</td>\n",
       "    </tr>\n",
       "    <tr>\n",
       "      <th>4</th>\n",
       "      <td>2007</td>\n",
       "      <td>s1603-110</td>\n",
       "      <td>791</td>\n",
       "      <td>H2NJ13075</td>\n",
       "      <td>34</td>\n",
       "    </tr>\n",
       "  </tbody>\n",
       "</table>\n",
       "</div>"
      ],
      "text/plain": [
       "   date      bills  id.thomas     id.fec  leg_totalbills\n",
       "0  2008  s2952-110        791  H2NJ13075              29\n",
       "1  2007   s328-110        791  H2NJ13075              34\n",
       "2  2007  s2528-110        791  H2NJ13075              34\n",
       "3  2007  s2397-110        791  H2NJ13075              34\n",
       "4  2007  s1603-110        791  H2NJ13075              34"
      ]
     },
     "execution_count": 20,
     "metadata": {},
     "output_type": "execute_result"
    }
   ],
   "source": [
    "d.head()"
   ]
  },
  {
   "cell_type": "code",
   "execution_count": 21,
   "metadata": {
    "collapsed": true
   },
   "outputs": [],
   "source": [
    "d.to_csv('billspon.legisl.merg', mode = 'w', index=False)"
   ]
  }
 ],
 "metadata": {
  "kernelspec": {
   "display_name": "Python 3",
   "language": "python",
   "name": "python3"
  },
  "language_info": {
   "codemirror_mode": {
    "name": "ipython",
    "version": 3
   },
   "file_extension": ".py",
   "mimetype": "text/x-python",
   "name": "python",
   "nbconvert_exporter": "python",
   "pygments_lexer": "ipython3",
   "version": "3.5.1"
  }
 },
 "nbformat": 4,
 "nbformat_minor": 0
}
