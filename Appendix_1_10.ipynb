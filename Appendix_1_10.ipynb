{
 "cells": [
  {
   "cell_type": "code",
   "execution_count": 74,
   "metadata": {
    "collapsed": true
   },
   "outputs": [],
   "source": [
    "import numpy as np\n",
    "import pandas as pd\n",
    "import glob\n",
    "\n",
    "\n",
    "df = pd.concat((pd.read_csv(f, header=None, names=['cycle','fecrecordnumber','pacid', \\\n",
    "'cid', 'amount', 'date', 'catcode', 'type', 'di', 'feccandid' ], usecols=['cycle', \\\n",
    "'pacid', 'cid', 'amount', 'date', 'catcode', 'type', 'feccandid' ]) for f in glob.glob\\\n",
    "                ('/home/jayaramdas/anaconda3/Thesis/CRSP/CampaignFin**/pacs**.txt')))\n"
   ]
  },
  {
   "cell_type": "code",
   "execution_count": 75,
   "metadata": {
    "collapsed": true
   },
   "outputs": [],
   "source": [
    "df['cycle'] = \\\n",
    "df['cycle'].map(lambda x: str(x)[:-1]) \n",
    "df['cycle'] = \\\n",
    "df['cycle'].map(lambda x: str(x)[1:]) \n",
    "\n",
    "df['pacid'] = \\\n",
    "df['pacid'].map(lambda x: str(x)[:-1]) \n",
    "df['pacid'] = \\\n",
    "df['pacid'].map(lambda x: str(x)[1:]) \n",
    "\n",
    "df['cid'] = \\\n",
    "df['cid'].map(lambda x: str(x)[:-1]) \n",
    "df['cid'] = \\\n",
    "df['cid'].map(lambda x: str(x)[1:]) \n",
    "\n",
    "df['catcode'] = \\\n",
    "df['catcode'].map(lambda x: str(x)[:-1]) \n",
    "df['catcode'] = \\\n",
    "df['catcode'].map(lambda x: str(x)[1:]) \n",
    "\n",
    "df['type'] = \\\n",
    "df['type'].map(lambda x: str(x)[:-1]) \n",
    "df['type'] = \\\n",
    "df['type'].map(lambda x: str(x)[1:]) \n",
    "\n",
    "\n",
    "df['feccandid'] = \\\n",
    "df['feccandid'].map(lambda x: str(x)[:-1]) \n",
    "df['feccandid'] = \\\n",
    "df['feccandid'].map(lambda x: str(x)[1:]) "
   ]
  },
  {
   "cell_type": "code",
   "execution_count": 76,
   "metadata": {
    "collapsed": false
   },
   "outputs": [],
   "source": [
    "df['date'] = pd.to_datetime(df['date'], format='%m/%d/%Y')"
   ]
  },
  {
   "cell_type": "code",
   "execution_count": 77,
   "metadata": {
    "collapsed": false
   },
   "outputs": [],
   "source": [
    "df = df[(df['date'] > '2005-1-2') & (df['date'] < '2015-1-3')]"
   ]
  },
  {
   "cell_type": "code",
   "execution_count": 78,
   "metadata": {
    "collapsed": false,
    "scrolled": false
   },
   "outputs": [
    {
     "data": {
      "text/html": [
       "<div>\n",
       "<table border=\"1\" class=\"dataframe\">\n",
       "  <thead>\n",
       "    <tr style=\"text-align: right;\">\n",
       "      <th></th>\n",
       "      <th>cycle</th>\n",
       "      <th>pacid</th>\n",
       "      <th>cid</th>\n",
       "      <th>amount</th>\n",
       "      <th>date</th>\n",
       "      <th>catcode</th>\n",
       "      <th>type</th>\n",
       "      <th>feccandid</th>\n",
       "    </tr>\n",
       "  </thead>\n",
       "  <tbody>\n",
       "    <tr>\n",
       "      <th>0</th>\n",
       "      <td>2010</td>\n",
       "      <td>C00000901</td>\n",
       "      <td>N00031317</td>\n",
       "      <td>1000</td>\n",
       "      <td>2010-10-13</td>\n",
       "      <td>B2000</td>\n",
       "      <td>24K</td>\n",
       "      <td>H0FL19080</td>\n",
       "    </tr>\n",
       "  </tbody>\n",
       "</table>\n",
       "</div>"
      ],
      "text/plain": [
       "  cycle      pacid        cid  amount       date catcode type  feccandid\n",
       "0  2010  C00000901  N00031317    1000 2010-10-13   B2000  24K  H0FL19080"
      ]
     },
     "execution_count": 78,
     "metadata": {},
     "output_type": "execute_result"
    }
   ],
   "source": [
    "df.head(1)"
   ]
  },
  {
   "cell_type": "code",
   "execution_count": 79,
   "metadata": {
    "collapsed": true
   },
   "outputs": [],
   "source": [
    "df = df[df.amount != 0]"
   ]
  },
  {
   "cell_type": "code",
   "execution_count": 80,
   "metadata": {
    "collapsed": true
   },
   "outputs": [],
   "source": [
    "df= df[(df['type']!='24P')]"
   ]
  },
  {
   "cell_type": "code",
   "execution_count": 81,
   "metadata": {
    "collapsed": true
   },
   "outputs": [],
   "source": [
    "df= df[(df['type']!='24R')]"
   ]
  },
  {
   "cell_type": "code",
   "execution_count": 82,
   "metadata": {
    "collapsed": true
   },
   "outputs": [],
   "source": [
    "df= df[(df['type']!='24N')]"
   ]
  },
  {
   "cell_type": "code",
   "execution_count": 83,
   "metadata": {
    "collapsed": true
   },
   "outputs": [],
   "source": [
    "df= df[(df['type']!='24A')]"
   ]
  },
  {
   "cell_type": "code",
   "execution_count": 84,
   "metadata": {
    "collapsed": true
   },
   "outputs": [],
   "source": [
    "del df['type']"
   ]
  },
  {
   "cell_type": "code",
   "execution_count": 85,
   "metadata": {
    "collapsed": true
   },
   "outputs": [],
   "source": [
    "dz=df.copy()"
   ]
  },
  {
   "cell_type": "code",
   "execution_count": 86,
   "metadata": {
    "collapsed": true
   },
   "outputs": [],
   "source": [
    "dz['loan']=dz['amount']"
   ]
  },
  {
   "cell_type": "code",
   "execution_count": 87,
   "metadata": {
    "collapsed": false
   },
   "outputs": [
    {
     "data": {
      "text/plain": [
       "1517713"
      ]
     },
     "execution_count": 87,
     "metadata": {},
     "output_type": "execute_result"
    }
   ],
   "source": [
    "len(dz)"
   ]
  },
  {
   "cell_type": "code",
   "execution_count": 88,
   "metadata": {
    "collapsed": false
   },
   "outputs": [],
   "source": [
    "dz.loc[dz.amount < 0, ['amount']] = 0\n",
    "\n"
   ]
  },
  {
   "cell_type": "code",
   "execution_count": 89,
   "metadata": {
    "collapsed": false
   },
   "outputs": [],
   "source": [
    "dz.loc[dz.loan > 0, ['loan']] = 0\n",
    "dz['loan']=dz['loan'] * -1\n"
   ]
  },
  {
   "cell_type": "code",
   "execution_count": 90,
   "metadata": {
    "collapsed": false,
    "scrolled": true
   },
   "outputs": [],
   "source": [
    "dz['date'] = \\\n",
    "dz['date'].map(lambda x: str(x)[:-15]) "
   ]
  },
  {
   "cell_type": "code",
   "execution_count": 91,
   "metadata": {
    "collapsed": false
   },
   "outputs": [
    {
     "data": {
      "text/html": [
       "<div>\n",
       "<table border=\"1\" class=\"dataframe\">\n",
       "  <thead>\n",
       "    <tr style=\"text-align: right;\">\n",
       "      <th></th>\n",
       "      <th>cycle</th>\n",
       "      <th>pacid</th>\n",
       "      <th>cid</th>\n",
       "      <th>amount</th>\n",
       "      <th>date</th>\n",
       "      <th>catcode</th>\n",
       "      <th>feccandid</th>\n",
       "      <th>loan</th>\n",
       "    </tr>\n",
       "  </thead>\n",
       "  <tbody>\n",
       "    <tr>\n",
       "      <th>0</th>\n",
       "      <td>2010</td>\n",
       "      <td>C00000901</td>\n",
       "      <td>N00031317</td>\n",
       "      <td>1000</td>\n",
       "      <td>2010</td>\n",
       "      <td>B2000</td>\n",
       "      <td>H0FL19080</td>\n",
       "      <td>0</td>\n",
       "    </tr>\n",
       "  </tbody>\n",
       "</table>\n",
       "</div>"
      ],
      "text/plain": [
       "  cycle      pacid        cid  amount  date catcode  feccandid  loan\n",
       "0  2010  C00000901  N00031317    1000  2010   B2000  H0FL19080     0"
      ]
     },
     "execution_count": 91,
     "metadata": {},
     "output_type": "execute_result"
    }
   ],
   "source": [
    "dz.head(1)"
   ]
  },
  {
   "cell_type": "code",
   "execution_count": 92,
   "metadata": {
    "collapsed": false
   },
   "outputs": [],
   "source": [
    "dz.to_csv('Thesis/CRSP/pacs.can.cl', index=False)"
   ]
  }
 ],
 "metadata": {
  "kernelspec": {
   "display_name": "Python 3",
   "language": "python",
   "name": "python3"
  },
  "language_info": {
   "codemirror_mode": {
    "name": "ipython",
    "version": 3
   },
   "file_extension": ".py",
   "mimetype": "text/x-python",
   "name": "python",
   "nbconvert_exporter": "python",
   "pygments_lexer": "ipython3",
   "version": "3.5.1"
  }
 },
 "nbformat": 4,
 "nbformat_minor": 0
}
