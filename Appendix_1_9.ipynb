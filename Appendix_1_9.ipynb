{
 "cells": [
  {
   "cell_type": "raw",
   "metadata": {},
   "source": [
    "\\subsection{Appendix 1.9}"
   ]
  },
  {
   "cell_type": "raw",
   "metadata": {},
   "source": [
    "Language: Python"
   ]
  },
  {
   "cell_type": "markdown",
   "metadata": {},
   "source": [
    "##  Cleaning and parsing state-level industry specific economic data: send to csv (clean_gdp_data_all.csv)"
   ]
  },
  {
   "cell_type": "raw",
   "metadata": {},
   "source": [
    "Reading in state-level economic data provided by the Bureau of Economic Analysis\\cite{economicdata}"
   ]
  },
  {
   "cell_type": "code",
   "execution_count": 1,
   "metadata": {
    "collapsed": true
   },
   "outputs": [],
   "source": [
    "import pandas as pd\n",
    "import numpy as np\n"
   ]
  },
  {
   "cell_type": "code",
   "execution_count": 2,
   "metadata": {
    "collapsed": false
   },
   "outputs": [],
   "source": [
    "c=pd.read_csv('Thesis/ExternalData/gdpdata/gsp_naics_all.csv', \\\n",
    "               encoding='utf-8_sig',na_values=['(NA)']).fillna(0)\n",
    "c.drop(['GeoFIPS', 'Region', 'ComponentId', '1997', '1998', '1999', '2000', '2001', '2003', '2002'], axis=1, inplace=True)"
   ]
  },
  {
   "cell_type": "code",
   "execution_count": 3,
   "metadata": {
    "collapsed": false
   },
   "outputs": [],
   "source": [
    "c = c.loc[(c.IndustryId != '1')&(c.IndustryId != '2')&(c.IndustryId != '3') \\\n",
    "&(c.IndustryId != '6')&(c.IndustryId != '12')&(c.IndustryId != '36')\\\n",
    "&(c.IndustryId != '50')&(c.IndustryId != '51')&(c.IndustryId != '59')\\\n",
    "&(c.IndustryId != '70')&(c.IndustryId != '68')&(c.IndustryId != '74')\\\n",
    "&(c.IndustryId != '75')&(c.IndustryId != '78')&(c.IndustryId != '86')\\\n",
    "&(c.IndustryId != '56')&(c.IndustryId != '54')&(c.IndustryId != '51')\\\n",
    "&(c.IndustryId != '13')&(c.IndustryId != '25')&(c.IndustryId != '78')\\\n",
    "&(c.IndustryId != '45')&(c.IndustryId != '65')&(c.IndustryId != '60')\\\n",
    "&(c.IndustryId != '83')&(c.IndustryId != '84')&(c.IndustryId != '85')\\\n",
    "         &(c.IndustryId != '88')]"
   ]
  },
  {
   "cell_type": "code",
   "execution_count": 4,
   "metadata": {
    "collapsed": false
   },
   "outputs": [],
   "source": [
    "c = c.loc[(c.Description != 'Private services-providing industries')&\\\n",
    "          (c.Description != 'Private goods-producing industries')&\\\n",
    "          (c.Description!= 'Trade')]"
   ]
  },
  {
   "cell_type": "code",
   "execution_count": 5,
   "metadata": {
    "collapsed": false
   },
   "outputs": [],
   "source": [
    "c = c.loc[(c.GeoName != 'New England')&(c.GeoName != 'Mideast')]"
   ]
  },
  {
   "cell_type": "code",
   "execution_count": 6,
   "metadata": {
    "collapsed": false
   },
   "outputs": [],
   "source": [
    "c = c.loc[(c.ComponentName != 'Gross domestic product (GDP) by state')]"
   ]
  },
  {
   "cell_type": "code",
   "execution_count": 7,
   "metadata": {
    "collapsed": false
   },
   "outputs": [],
   "source": [
    "c = c.loc[(c.GeoName != 'Great Lakes')&(c.GeoName != 'Plains')&\\\n",
    "(c.GeoName != 'Southeast')&(c.GeoName != 'Southwest')&\\\n",
    "         (c.GeoName != 'Rocky Mountain')&(c.GeoName != 'Far West')&\\\n",
    "         (c.GeoName != 'GeoName')&(c.GeoName !=0)]"
   ]
  },
  {
   "cell_type": "code",
   "execution_count": 8,
   "metadata": {
    "collapsed": false
   },
   "outputs": [
    {
     "data": {
      "text/plain": [
       "array(['United States', 'Alabama', 'Alaska', 'Arizona', 'Arkansas',\n",
       "       'California', 'Colorado', 'Connecticut', 'Delaware',\n",
       "       'District of Columbia', 'Florida', 'Georgia', 'Hawaii', 'Idaho',\n",
       "       'Illinois', 'Indiana', 'Iowa', 'Kansas', 'Kentucky', 'Louisiana',\n",
       "       'Maine', 'Maryland', 'Massachusetts', 'Michigan', 'Minnesota',\n",
       "       'Mississippi', 'Missouri', 'Montana', 'Nebraska', 'Nevada',\n",
       "       'New Hampshire', 'New Jersey', 'New Mexico', 'New York',\n",
       "       'North Carolina', 'North Dakota', 'Ohio', 'Oklahoma', 'Oregon',\n",
       "       'Pennsylvania', 'Rhode Island', 'South Carolina', 'South Dakota',\n",
       "       'Tennessee', 'Texas', 'Utah', 'Vermont', 'Virginia', 'Washington',\n",
       "       'West Virginia', 'Wisconsin', 'Wyoming'], dtype=object)"
      ]
     },
     "execution_count": 8,
     "metadata": {},
     "output_type": "execute_result"
    }
   ],
   "source": [
    "c.GeoName.unique()"
   ]
  },
  {
   "cell_type": "code",
   "execution_count": 9,
   "metadata": {
    "collapsed": false
   },
   "outputs": [],
   "source": [
    "for d in c.columns:\n",
    "    if str(d).startswith('20'):\n",
    "        c[d] = pd.to_numeric(c[d], errors='coerce')\n",
    "#c.sort_values('2004', ascending=False).head()"
   ]
  },
  {
   "cell_type": "code",
   "execution_count": 10,
   "metadata": {
    "collapsed": false
   },
   "outputs": [
    {
     "data": {
      "text/html": [
       "<div>\n",
       "<table border=\"1\" class=\"dataframe\">\n",
       "  <thead>\n",
       "    <tr style=\"text-align: right;\">\n",
       "      <th></th>\n",
       "      <th>GeoName</th>\n",
       "      <th>ComponentName</th>\n",
       "      <th>IndustryId</th>\n",
       "      <th>IndustryClassification</th>\n",
       "      <th>Description</th>\n",
       "      <th>2004</th>\n",
       "      <th>2005</th>\n",
       "      <th>2006</th>\n",
       "      <th>2007</th>\n",
       "      <th>2008</th>\n",
       "      <th>2009</th>\n",
       "      <th>2010</th>\n",
       "      <th>2011</th>\n",
       "      <th>2012</th>\n",
       "      <th>2013</th>\n",
       "      <th>2014</th>\n",
       "    </tr>\n",
       "  </thead>\n",
       "  <tbody>\n",
       "    <tr>\n",
       "      <th>5407</th>\n",
       "      <td>United States</td>\n",
       "      <td>Taxes on production and imports less subsidies</td>\n",
       "      <td>4</td>\n",
       "      <td>111-112</td>\n",
       "      <td>Farms</td>\n",
       "      <td>-5766.0</td>\n",
       "      <td>-15569.0</td>\n",
       "      <td>-7618.0</td>\n",
       "      <td>-3878.0</td>\n",
       "      <td>-3673.0</td>\n",
       "      <td>-3666.0</td>\n",
       "      <td>-3639.0</td>\n",
       "      <td>-1557.0</td>\n",
       "      <td>-1381.0</td>\n",
       "      <td>-1444.0</td>\n",
       "      <td>0.0</td>\n",
       "    </tr>\n",
       "  </tbody>\n",
       "</table>\n",
       "</div>"
      ],
      "text/plain": [
       "            GeoName                                   ComponentName  \\\n",
       "5407  United States  Taxes on production and imports less subsidies   \n",
       "\n",
       "     IndustryId IndustryClassification Description    2004     2005    2006  \\\n",
       "5407          4                111-112       Farms -5766.0 -15569.0 -7618.0   \n",
       "\n",
       "        2007    2008    2009    2010    2011    2012    2013  2014  \n",
       "5407 -3878.0 -3673.0 -3666.0 -3639.0 -1557.0 -1381.0 -1444.0   0.0  "
      ]
     },
     "execution_count": 10,
     "metadata": {},
     "output_type": "execute_result"
    }
   ],
   "source": [
    "c.head(1)"
   ]
  },
  {
   "cell_type": "code",
   "execution_count": 11,
   "metadata": {
    "collapsed": true
   },
   "outputs": [],
   "source": [
    "c.drop(['IndustryId'], axis=1, inplace=True)"
   ]
  },
  {
   "cell_type": "code",
   "execution_count": 12,
   "metadata": {
    "collapsed": false,
    "scrolled": true
   },
   "outputs": [
    {
     "data": {
      "text/plain": [
       "['GeoName',\n",
       " 'ComponentName',\n",
       " 'IndustryClassification',\n",
       " 'Description',\n",
       " '2004',\n",
       " '2005',\n",
       " '2006',\n",
       " '2007',\n",
       " '2008',\n",
       " '2009',\n",
       " '2010',\n",
       " '2011',\n",
       " '2012',\n",
       " '2013',\n",
       " '2014']"
      ]
     },
     "execution_count": 12,
     "metadata": {},
     "output_type": "execute_result"
    }
   ],
   "source": [
    "c.columns.tolist()"
   ]
  },
  {
   "cell_type": "code",
   "execution_count": 13,
   "metadata": {
    "collapsed": false
   },
   "outputs": [
    {
     "data": {
      "text/plain": [
       "22204"
      ]
     },
     "execution_count": 13,
     "metadata": {},
     "output_type": "execute_result"
    }
   ],
   "source": [
    "len(c)#.isnull().sum()"
   ]
  },
  {
   "cell_type": "code",
   "execution_count": 14,
   "metadata": {
    "collapsed": false
   },
   "outputs": [],
   "source": [
    "c.to_csv('Thesis/ExternalData/gdpdata/clean_gdp_data_all.csv')"
   ]
  }
 ],
 "metadata": {
  "kernelspec": {
   "display_name": "Python 3",
   "language": "python",
   "name": "python3"
  },
  "language_info": {
   "codemirror_mode": {
    "name": "ipython",
    "version": 3
   },
   "file_extension": ".py",
   "mimetype": "text/x-python",
   "name": "python",
   "nbconvert_exporter": "python",
   "pygments_lexer": "ipython3",
   "version": "3.5.1"
  }
 },
 "nbformat": 4,
 "nbformat_minor": 0
}
