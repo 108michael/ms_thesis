{
 "cells": [
  {
   "cell_type": "raw",
   "metadata": {},
   "source": [
    "\\subsection{Appendix 1.8}"
   ]
  },
  {
   "cell_type": "raw",
   "metadata": {},
   "source": [
    "Language: Python"
   ]
  },
  {
   "cell_type": "markdown",
   "metadata": {},
   "source": [
    "## Creating index to match NAICS, SIC, and Catcode: send to csv (sic_naics_catcode.csv)"
   ]
  },
  {
   "cell_type": "raw",
   "metadata": {},
   "source": [
    "Reading in (cleaned) NAICS and SIC codes\\cite{naicscodes}"
   ]
  },
  {
   "cell_type": "code",
   "execution_count": 13,
   "metadata": {
    "collapsed": true
   },
   "outputs": [],
   "source": [
    "import pandas as pd\n",
    "import numpy as np"
   ]
  },
  {
   "cell_type": "code",
   "execution_count": 14,
   "metadata": {
    "collapsed": false
   },
   "outputs": [],
   "source": [
    "ef = pd.read_csv('Thesis/ExternalData/naics_conversion_data/2002_NAICS_to_1997_SIC.csv',\\\n",
    "                usecols=(['2002 NAICS', 'SIC']))\n",
    "ff=pd.read_csv('Thesis/ExternalData/naics_conversion_data/2012_to_2007_NAICS.csv',\\\n",
    "               usecols=(['2012 NAICS Code', '2007 NAICS Code']))\n",
    "ff.rename(columns={\"2007 NAICS Code\" : \"2002to2007 NAICS\"}, inplace=True)\n",
    "ef.rename(columns={\"2002 NAICS\" : \"2002to2007 NAICS\", \"SIC\" : \"SICcode\"}, inplace=True)\n",
    "ef = ef.dropna(subset = ['SICcode'])"
   ]
  },
  {
   "cell_type": "raw",
   "metadata": {},
   "source": [
    "Merging NAICS and SIC codes"
   ]
  },
  {
   "cell_type": "code",
   "execution_count": 15,
   "metadata": {
    "collapsed": false
   },
   "outputs": [],
   "source": [
    "merged=pd.merge(ff,ef, how='right', on='2002to2007 NAICS')\n",
    "merged.dropna(subset=['2012 NAICS Code'], inplace=True)"
   ]
  },
  {
   "cell_type": "raw",
   "metadata": {},
   "source": [
    "Reading in (a cleaned) Catcode-to-SIC index provided by the Center for Responsive Politics\\cite{sictocatcode}"
   ]
  },
  {
   "cell_type": "code",
   "execution_count": 16,
   "metadata": {
    "collapsed": true
   },
   "outputs": [],
   "source": [
    "df = pd.read_csv('Thesis/ExternalData/naics_conversion_data/SIC2CRPCats.csv', engine='python', sep=r'\\s{2,}', encoding='utf-8_sig')"
   ]
  },
  {
   "cell_type": "raw",
   "metadata": {},
   "source": [
    "Merging Catcode to SIC"
   ]
  },
  {
   "cell_type": "code",
   "execution_count": 17,
   "metadata": {
    "collapsed": false
   },
   "outputs": [],
   "source": [
    "\n",
    "merged = pd.read_csv('Thesis/ExternalData/naics_conversion_data/1987_SIC_to_2002_2012_NAICS.csv', encoding='utf-8_sig')\n",
    "df['SICcode'] = df['SICcode'].astype('float')\n",
    " \n",
    "mrg = df.merge(merged, on='SICcode', how='left')"
   ]
  },
  {
   "cell_type": "raw",
   "metadata": {},
   "source": [
    "Counting null values"
   ]
  },
  {
   "cell_type": "code",
   "execution_count": 18,
   "metadata": {
    "collapsed": false,
    "scrolled": true
   },
   "outputs": [
    {
     "data": {
      "text/plain": [
       "SICcode       0\n",
       "Catcode      16\n",
       "Category      0\n",
       "SICname       0\n",
       "MultSIC     101\n",
       "dtype: int64"
      ]
     },
     "execution_count": 18,
     "metadata": {},
     "output_type": "execute_result"
    }
   ],
   "source": [
    "df.isnull().sum()"
   ]
  },
  {
   "cell_type": "code",
   "execution_count": 19,
   "metadata": {
    "collapsed": false
   },
   "outputs": [],
   "source": [
    "mrg.to_csv('Thesis/ExternalData/gdpdata/sic_naics_catcode.csv')"
   ]
  }
 ],
 "metadata": {
  "kernelspec": {
   "display_name": "Python 3",
   "language": "python",
   "name": "python3"
  },
  "language_info": {
   "codemirror_mode": {
    "name": "ipython",
    "version": 3
   },
   "file_extension": ".py",
   "mimetype": "text/x-python",
   "name": "python",
   "nbconvert_exporter": "python",
   "pygments_lexer": "ipython3",
   "version": "3.5.1"
  }
 },
 "nbformat": 4,
 "nbformat_minor": 0
}
