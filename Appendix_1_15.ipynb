{
 "cells": [
  {
   "cell_type": "code",
   "execution_count": 2,
   "metadata": {
    "collapsed": true
   },
   "outputs": [],
   "source": [
    "import pandas as pd\n",
    "import numpy as np"
   ]
  },
  {
   "cell_type": "code",
   "execution_count": 3,
   "metadata": {
    "collapsed": false
   },
   "outputs": [],
   "source": [
    "df=pd.read_csv('crsp.dime.mpl.df.K1', low_memory=False)"
   ]
  },
  {
   "cell_type": "code",
   "execution_count": 4,
   "metadata": {
    "collapsed": false
   },
   "outputs": [
    {
     "data": {
      "text/html": [
       "<div>\n",
       "<table border=\"1\" class=\"dataframe\">\n",
       "  <thead>\n",
       "    <tr style=\"text-align: right;\">\n",
       "      <th></th>\n",
       "      <th>date</th>\n",
       "      <th>thomasid</th>\n",
       "      <th>years_exp</th>\n",
       "      <th>stdv_paccfscore</th>\n",
       "      <th>cfcontrol</th>\n",
       "      <th>leg_totalbills</th>\n",
       "      <th>amtsumlag_1</th>\n",
       "      <th>amtsumfwd_1</th>\n",
       "      <th>unemployment</th>\n",
       "      <th>billsum</th>\n",
       "      <th>loansum</th>\n",
       "      <th>amtsum</th>\n",
       "    </tr>\n",
       "  </thead>\n",
       "  <tbody>\n",
       "    <tr>\n",
       "      <th>count</th>\n",
       "      <td>6481.000000</td>\n",
       "      <td>6481.000000</td>\n",
       "      <td>6351.000000</td>\n",
       "      <td>6151.000000</td>\n",
       "      <td>444.000000</td>\n",
       "      <td>5110.000000</td>\n",
       "      <td>6481.000000</td>\n",
       "      <td>6481.000000</td>\n",
       "      <td>6481.000000</td>\n",
       "      <td>6481.000000</td>\n",
       "      <td>6481.000000</td>\n",
       "      <td>6481.000000</td>\n",
       "    </tr>\n",
       "    <tr>\n",
       "      <th>mean</th>\n",
       "      <td>2009.718099</td>\n",
       "      <td>1443.528931</td>\n",
       "      <td>11.347819</td>\n",
       "      <td>0.362335</td>\n",
       "      <td>-0.125115</td>\n",
       "      <td>9.857143</td>\n",
       "      <td>10.853389</td>\n",
       "      <td>10.817212</td>\n",
       "      <td>1.359188</td>\n",
       "      <td>0.217250</td>\n",
       "      <td>0.404337</td>\n",
       "      <td>14.465030</td>\n",
       "    </tr>\n",
       "    <tr>\n",
       "      <th>std</th>\n",
       "      <td>2.812724</td>\n",
       "      <td>605.073809</td>\n",
       "      <td>10.225710</td>\n",
       "      <td>0.096021</td>\n",
       "      <td>0.776887</td>\n",
       "      <td>10.453672</td>\n",
       "      <td>81.842315</td>\n",
       "      <td>39.474439</td>\n",
       "      <td>2.957970</td>\n",
       "      <td>0.497232</td>\n",
       "      <td>1.356222</td>\n",
       "      <td>54.385868</td>\n",
       "    </tr>\n",
       "    <tr>\n",
       "      <th>min</th>\n",
       "      <td>2005.000000</td>\n",
       "      <td>2.000000</td>\n",
       "      <td>0.000000</td>\n",
       "      <td>0.000000</td>\n",
       "      <td>-1.872674</td>\n",
       "      <td>1.000000</td>\n",
       "      <td>0.000000</td>\n",
       "      <td>0.000000</td>\n",
       "      <td>0.000000</td>\n",
       "      <td>0.000000</td>\n",
       "      <td>0.000000</td>\n",
       "      <td>0.000000</td>\n",
       "    </tr>\n",
       "    <tr>\n",
       "      <th>25%</th>\n",
       "      <td>2007.000000</td>\n",
       "      <td>1010.000000</td>\n",
       "      <td>3.000000</td>\n",
       "      <td>0.297520</td>\n",
       "      <td>-0.844273</td>\n",
       "      <td>4.000000</td>\n",
       "      <td>1.000000</td>\n",
       "      <td>0.000000</td>\n",
       "      <td>0.000000</td>\n",
       "      <td>0.000000</td>\n",
       "      <td>0.000000</td>\n",
       "      <td>2.000000</td>\n",
       "    </tr>\n",
       "    <tr>\n",
       "      <th>50%</th>\n",
       "      <td>2010.000000</td>\n",
       "      <td>1664.000000</td>\n",
       "      <td>9.000000</td>\n",
       "      <td>0.360439</td>\n",
       "      <td>-0.355353</td>\n",
       "      <td>7.000000</td>\n",
       "      <td>3.000000</td>\n",
       "      <td>3.000000</td>\n",
       "      <td>0.000000</td>\n",
       "      <td>0.000000</td>\n",
       "      <td>0.000000</td>\n",
       "      <td>5.000000</td>\n",
       "    </tr>\n",
       "    <tr>\n",
       "      <th>75%</th>\n",
       "      <td>2012.000000</td>\n",
       "      <td>1892.000000</td>\n",
       "      <td>17.000000</td>\n",
       "      <td>0.421160</td>\n",
       "      <td>0.633116</td>\n",
       "      <td>12.000000</td>\n",
       "      <td>8.500000</td>\n",
       "      <td>9.500000</td>\n",
       "      <td>0.000000</td>\n",
       "      <td>0.000000</td>\n",
       "      <td>0.000000</td>\n",
       "      <td>11.750000</td>\n",
       "    </tr>\n",
       "    <tr>\n",
       "      <th>max</th>\n",
       "      <td>2014.000000</td>\n",
       "      <td>2291.000000</td>\n",
       "      <td>60.000000</td>\n",
       "      <td>1.381687</td>\n",
       "      <td>1.302073</td>\n",
       "      <td>156.000000</td>\n",
       "      <td>5273.379000</td>\n",
       "      <td>1526.488000</td>\n",
       "      <td>13.700000</td>\n",
       "      <td>6.000000</td>\n",
       "      <td>44.706000</td>\n",
       "      <td>1693.960000</td>\n",
       "    </tr>\n",
       "  </tbody>\n",
       "</table>\n",
       "</div>"
      ],
      "text/plain": [
       "              date     thomasid    years_exp  stdv_paccfscore   cfcontrol  \\\n",
       "count  6481.000000  6481.000000  6351.000000      6151.000000  444.000000   \n",
       "mean   2009.718099  1443.528931    11.347819         0.362335   -0.125115   \n",
       "std       2.812724   605.073809    10.225710         0.096021    0.776887   \n",
       "min    2005.000000     2.000000     0.000000         0.000000   -1.872674   \n",
       "25%    2007.000000  1010.000000     3.000000         0.297520   -0.844273   \n",
       "50%    2010.000000  1664.000000     9.000000         0.360439   -0.355353   \n",
       "75%    2012.000000  1892.000000    17.000000         0.421160    0.633116   \n",
       "max    2014.000000  2291.000000    60.000000         1.381687    1.302073   \n",
       "\n",
       "       leg_totalbills  amtsumlag_1  amtsumfwd_1  unemployment      billsum  \\\n",
       "count     5110.000000  6481.000000  6481.000000   6481.000000  6481.000000   \n",
       "mean         9.857143    10.853389    10.817212      1.359188     0.217250   \n",
       "std         10.453672    81.842315    39.474439      2.957970     0.497232   \n",
       "min          1.000000     0.000000     0.000000      0.000000     0.000000   \n",
       "25%          4.000000     1.000000     0.000000      0.000000     0.000000   \n",
       "50%          7.000000     3.000000     3.000000      0.000000     0.000000   \n",
       "75%         12.000000     8.500000     9.500000      0.000000     0.000000   \n",
       "max        156.000000  5273.379000  1526.488000     13.700000     6.000000   \n",
       "\n",
       "           loansum       amtsum  \n",
       "count  6481.000000  6481.000000  \n",
       "mean      0.404337    14.465030  \n",
       "std       1.356222    54.385868  \n",
       "min       0.000000     0.000000  \n",
       "25%       0.000000     2.000000  \n",
       "50%       0.000000     5.000000  \n",
       "75%       0.000000    11.750000  \n",
       "max      44.706000  1693.960000  "
      ]
     },
     "execution_count": 4,
     "metadata": {},
     "output_type": "execute_result"
    }
   ],
   "source": [
    "df.describe()"
   ]
  },
  {
   "cell_type": "code",
   "execution_count": 5,
   "metadata": {
    "collapsed": false
   },
   "outputs": [
    {
     "data": {
      "text/html": [
       "<div>\n",
       "<table border=\"1\" class=\"dataframe\">\n",
       "  <thead>\n",
       "    <tr style=\"text-align: right;\">\n",
       "      <th></th>\n",
       "      <th>date</th>\n",
       "      <th>thomasid</th>\n",
       "      <th>years_exp</th>\n",
       "      <th>cid</th>\n",
       "      <th>stdv_paccfscore</th>\n",
       "      <th>cfcontrol</th>\n",
       "      <th>leg_totalbills</th>\n",
       "      <th>feccandid</th>\n",
       "      <th>party</th>\n",
       "      <th>state</th>\n",
       "      <th>chamber</th>\n",
       "      <th>amtsumlag_1</th>\n",
       "      <th>catcode</th>\n",
       "      <th>amtsumfwd_1</th>\n",
       "      <th>unemployment</th>\n",
       "      <th>billsum</th>\n",
       "      <th>loansum</th>\n",
       "      <th>amtsum</th>\n",
       "    </tr>\n",
       "  </thead>\n",
       "  <tbody>\n",
       "    <tr>\n",
       "      <th>0</th>\n",
       "      <td>2005.0</td>\n",
       "      <td>2.0</td>\n",
       "      <td>17.0</td>\n",
       "      <td>N00007665</td>\n",
       "      <td>0.40897</td>\n",
       "      <td>NaN</td>\n",
       "      <td>9.0</td>\n",
       "      <td>H6HI01121</td>\n",
       "      <td>NaN</td>\n",
       "      <td>NaN</td>\n",
       "      <td>NaN</td>\n",
       "      <td>0.0</td>\n",
       "      <td>LT500</td>\n",
       "      <td>21.07</td>\n",
       "      <td>0.0</td>\n",
       "      <td>0.0</td>\n",
       "      <td>2.0</td>\n",
       "      <td>30.4</td>\n",
       "    </tr>\n",
       "  </tbody>\n",
       "</table>\n",
       "</div>"
      ],
      "text/plain": [
       "     date  thomasid  years_exp        cid  stdv_paccfscore  cfcontrol  \\\n",
       "0  2005.0       2.0       17.0  N00007665          0.40897        NaN   \n",
       "\n",
       "   leg_totalbills  feccandid party state chamber  amtsumlag_1 catcode  \\\n",
       "0             9.0  H6HI01121   NaN   NaN     NaN          0.0   LT500   \n",
       "\n",
       "   amtsumfwd_1  unemployment  billsum  loansum  amtsum  \n",
       "0        21.07           0.0      0.0      2.0    30.4  "
      ]
     },
     "execution_count": 5,
     "metadata": {},
     "output_type": "execute_result"
    }
   ],
   "source": [
    "df.head(1)"
   ]
  },
  {
   "cell_type": "raw",
   "metadata": {
    "collapsed": true
   },
   "source": [
    "df = df[(df['party'] != 'Independent')]"
   ]
  },
  {
   "cell_type": "code",
   "execution_count": 33,
   "metadata": {
    "collapsed": true
   },
   "outputs": [],
   "source": [
    "df.drop_duplicates(inplace=True)"
   ]
  },
  {
   "cell_type": "code",
   "execution_count": 34,
   "metadata": {
    "collapsed": true
   },
   "outputs": [],
   "source": [
    "party_dummies = pd.get_dummies(df['party'])\n",
    "df=pd.concat([df, party_dummies], axis=1)\n",
    "df.drop(['party', 'Democrat'], inplace=True, axis=1)"
   ]
  },
  {
   "cell_type": "code",
   "execution_count": 35,
   "metadata": {
    "collapsed": false
   },
   "outputs": [],
   "source": [
    "chamber_dummies = pd.get_dummies(df['chamber'])\n",
    "df=pd.concat([df, chamber_dummies], axis=1)\n",
    "df.drop(['chamber', 'rep'], inplace=True, axis=1)"
   ]
  },
  {
   "cell_type": "raw",
   "metadata": {
    "collapsed": false
   },
   "source": [
    "naics_dummies = pd.get_dummies(df['naics'])\n",
    "df=pd.concat([df, naics_dummies], axis=1)\n",
    "df.drop(['naics'], inplace=True, axis=1)"
   ]
  },
  {
   "cell_type": "code",
   "execution_count": 36,
   "metadata": {
    "collapsed": false
   },
   "outputs": [],
   "source": [
    "df.update(df[['amtsum', 'stdv_paccfscore', 'leg_totalbills', 'years_exp',\\\n",
    "              'cfcontrol', 'amtsumlag_1']].fillna(0))"
   ]
  },
  {
   "cell_type": "code",
   "execution_count": 37,
   "metadata": {
    "collapsed": true
   },
   "outputs": [],
   "source": [
    "df.drop_duplicates(inplace=True)"
   ]
  },
  {
   "cell_type": "code",
   "execution_count": 38,
   "metadata": {
    "collapsed": true
   },
   "outputs": [
    {
     "data": {
      "text/plain": [
       "['date',\n",
       " 'thomasid',\n",
       " 'years_exp',\n",
       " 'cid',\n",
       " 'stdv_paccfscore',\n",
       " 'cfcontrol',\n",
       " 'leg_totalbills',\n",
       " 'feccandid',\n",
       " 'state',\n",
       " 'amtsumlag_1',\n",
       " 'catcode',\n",
       " 'amtsumfwd_1',\n",
       " 'unemployment',\n",
       " 'billsum',\n",
       " 'loansum',\n",
       " 'amtsum',\n",
       " 'Independent',\n",
       " 'Republican',\n",
       " 'sen']"
      ]
     },
     "execution_count": 38,
     "metadata": {},
     "output_type": "execute_result"
    }
   ],
   "source": [
    "df.columns.tolist()"
   ]
  },
  {
   "cell_type": "code",
   "execution_count": 39,
   "metadata": {
    "collapsed": false
   },
   "outputs": [],
   "source": [
    "df['sen_amtsum']=df.sen * df.amtsum\n",
    "df['sen_amtsumlag1']=df.sen * df.amtsumlag_1\n",
    "df['sen_amtsumfwd1']=df.sen * df.amtsumfwd_1\n",
    "\n",
    "df['Republican_amtsum']=df.Republican * df.amtsum\n",
    "df['Republican_amtsumlag1']=df.Republican * df.amtsumlag_1\n",
    "df['Republican_amtsumfwd1']=df.Republican * df.amtsumfwd_1"
   ]
  },
  {
   "cell_type": "code",
   "execution_count": 40,
   "metadata": {
    "collapsed": false
   },
   "outputs": [],
   "source": [
    "df.to_csv('crsp.dime.mpl.df.L1.1', index=False)"
   ]
  },
  {
   "cell_type": "code",
   "execution_count": 41,
   "metadata": {
    "collapsed": true
   },
   "outputs": [
    {
     "data": {
      "text/plain": [
       "['date',\n",
       " 'thomasid',\n",
       " 'years_exp',\n",
       " 'cid',\n",
       " 'stdv_paccfscore',\n",
       " 'cfcontrol',\n",
       " 'leg_totalbills',\n",
       " 'feccandid',\n",
       " 'state',\n",
       " 'amtsumlag_1',\n",
       " 'catcode',\n",
       " 'amtsumfwd_1',\n",
       " 'unemployment',\n",
       " 'billsum',\n",
       " 'loansum',\n",
       " 'amtsum',\n",
       " 'Independent',\n",
       " 'Republican',\n",
       " 'sen',\n",
       " 'sen_amtsum',\n",
       " 'sen_amtsumlag1',\n",
       " 'sen_amtsumfwd1',\n",
       " 'Republican_amtsum',\n",
       " 'Republican_amtsumlag1',\n",
       " 'Republican_amtsumfwd1']"
      ]
     },
     "execution_count": 41,
     "metadata": {},
     "output_type": "execute_result"
    }
   ],
   "source": [
    "df.columns.tolist()"
   ]
  },
  {
   "cell_type": "code",
   "execution_count": 42,
   "metadata": {
    "collapsed": false
   },
   "outputs": [],
   "source": [
    "femodel= pd.read_csv('crsp.dime.mpl.df.L1.1', usecols=('Republican', 'sen', 'date', 'cid', 'state', 'amtsumfwd_1', 'leg_totalbills', 'years_exp',\\\n",
    "'amtsum', 'amtsumlag_1', 'billsum', 'cfcontrol', 'Republican_amtsum', 'Republican_amtsumlag1',\\\n",
    "'Republican_amtsumfwd1', 'unemployment', 'sen_amtsumlag1', 'sen_amtsum', 'sen_amtsumfwd1'))                                                    "
   ]
  },
  {
   "cell_type": "code",
   "execution_count": 43,
   "metadata": {
    "collapsed": false,
    "scrolled": true
   },
   "outputs": [],
   "source": [
    "femodel.drop_duplicates(inplace=True)"
   ]
  },
  {
   "cell_type": "raw",
   "metadata": {
    "collapsed": false
   },
   "source": [
    "femodel.drop_duplicates(['date', 'cid', 'amtsum', 'billsum'],inplace=True)"
   ]
  },
  {
   "cell_type": "code",
   "execution_count": 44,
   "metadata": {
    "collapsed": false
   },
   "outputs": [],
   "source": [
    "femodel.update(femodel[['amtsum', 'leg_totalbills', 'years_exp',\\\n",
    "               'cfcontrol', 'amtsumlag_1']].fillna(0))"
   ]
  },
  {
   "cell_type": "code",
   "execution_count": 45,
   "metadata": {
    "collapsed": false
   },
   "outputs": [
    {
     "data": {
      "text/plain": [
       "['date',\n",
       " 'years_exp',\n",
       " 'cid',\n",
       " 'cfcontrol',\n",
       " 'leg_totalbills',\n",
       " 'state',\n",
       " 'amtsumlag_1',\n",
       " 'amtsumfwd_1',\n",
       " 'unemployment',\n",
       " 'billsum',\n",
       " 'amtsum',\n",
       " 'Republican',\n",
       " 'sen',\n",
       " 'sen_amtsum',\n",
       " 'sen_amtsumlag1',\n",
       " 'sen_amtsumfwd1',\n",
       " 'Republican_amtsum',\n",
       " 'Republican_amtsumlag1',\n",
       " 'Republican_amtsumfwd1']"
      ]
     },
     "execution_count": 45,
     "metadata": {},
     "output_type": "execute_result"
    }
   ],
   "source": [
    "femodel.columns.tolist()"
   ]
  },
  {
   "cell_type": "code",
   "execution_count": 46,
   "metadata": {
    "collapsed": false
   },
   "outputs": [],
   "source": [
    "femodel.drop_duplicates(['date', 'cid', 'amtsum', 'amtsumlag_1', 'billsum'],inplace=True)"
   ]
  },
  {
   "cell_type": "code",
   "execution_count": 47,
   "metadata": {
    "collapsed": true
   },
   "outputs": [],
   "source": [
    "femodel.to_csv('femodel.1a.csv', index=False)"
   ]
  }
 ],
 "metadata": {
  "kernelspec": {
   "display_name": "Python 3",
   "language": "python",
   "name": "python3"
  },
  "language_info": {
   "codemirror_mode": {
    "name": "ipython",
    "version": 3
   },
   "file_extension": ".py",
   "mimetype": "text/x-python",
   "name": "python",
   "nbconvert_exporter": "python",
   "pygments_lexer": "ipython3",
   "version": "3.5.1"
  }
 },
 "nbformat": 4,
 "nbformat_minor": 0
}
