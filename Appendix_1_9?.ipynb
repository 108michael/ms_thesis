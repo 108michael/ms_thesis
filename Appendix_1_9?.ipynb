{
 "cells": [
  {
   "cell_type": "raw",
   "metadata": {},
   "source": []
  },
  {
   "cell_type": "raw",
   "metadata": {
    "collapsed": true
   },
   "source": [
    "\\subsection{}"
   ]
  },
  {
   "cell_type": "code",
   "execution_count": 1,
   "metadata": {
    "collapsed": false
   },
   "outputs": [],
   "source": [
    "import pandas as pd\n",
    "import numpy as np"
   ]
  },
  {
   "cell_type": "code",
   "execution_count": 2,
   "metadata": {
    "collapsed": false
   },
   "outputs": [],
   "source": [
    "df= pd.read_csv('Thesis/ExternalData/gdpdata/rgdpconc.1.csv', index_col=0)\n",
    "df1= pd.read_csv('Thesis/ExternalData/gdpdata/taxesconc.1.csv', index_col=0)\n",
    "df2= pd.read_csv('Thesis/ExternalData/gdpdata/empcompconc.1.csv', index_col=0)\n",
    "df3= pd.read_csv('Thesis/ExternalData/gdpdata/subsidyconc.1.csv', index_col=0)\n",
    "df4=pd.read_csv('mpl.Bspons.merge.1')"
   ]
  },
  {
   "cell_type": "code",
   "execution_count": 3,
   "metadata": {
    "collapsed": false
   },
   "outputs": [
    {
     "data": {
      "text/html": [
       "<div>\n",
       "<table border=\"1\" class=\"dataframe\">\n",
       "  <thead>\n",
       "    <tr style=\"text-align: right;\">\n",
       "      <th></th>\n",
       "      <th>GeoName</th>\n",
       "      <th>state</th>\n",
       "      <th>naics</th>\n",
       "      <th>Description</th>\n",
       "      <th>ComponentName</th>\n",
       "      <th>year</th>\n",
       "      <th>GDP</th>\n",
       "      <th>log_diff_rgdp</th>\n",
       "    </tr>\n",
       "  </thead>\n",
       "  <tbody>\n",
       "    <tr>\n",
       "      <th>0</th>\n",
       "      <td>Alabama</td>\n",
       "      <td>AL</td>\n",
       "      <td>621</td>\n",
       "      <td>Ambulatory health care services</td>\n",
       "      <td>Real GDP by state</td>\n",
       "      <td>2004</td>\n",
       "      <td>6005.0</td>\n",
       "      <td>NaN</td>\n",
       "    </tr>\n",
       "  </tbody>\n",
       "</table>\n",
       "</div>"
      ],
      "text/plain": [
       "   GeoName state naics                      Description      ComponentName  \\\n",
       "0  Alabama    AL   621  Ambulatory health care services  Real GDP by state   \n",
       "\n",
       "   year     GDP  log_diff_rgdp  \n",
       "0  2004  6005.0            NaN  "
      ]
     },
     "execution_count": 3,
     "metadata": {},
     "output_type": "execute_result"
    }
   ],
   "source": [
    "df.head(1)"
   ]
  },
  {
   "cell_type": "code",
   "execution_count": 4,
   "metadata": {
    "collapsed": false
   },
   "outputs": [],
   "source": [
    "merged=pd.merge(df,df4, on=(['state', 'year', 'naics']), how='right')\n",
    "merged=pd.merge(df1,merged, on=(['state', 'year', 'naics']), how='right')\n",
    "merged=pd.merge(df2,merged, on=(['state', 'year', 'naics']), how='right')\n",
    "merged=pd.merge(df3,merged, on=(['state', 'year', 'naics']), how='right')"
   ]
  },
  {
   "cell_type": "code",
   "execution_count": 5,
   "metadata": {
    "collapsed": false
   },
   "outputs": [
    {
     "data": {
      "text/plain": [
       "4509"
      ]
     },
     "execution_count": 5,
     "metadata": {},
     "output_type": "execute_result"
    }
   ],
   "source": [
    "merged.bills.nunique()"
   ]
  },
  {
   "cell_type": "code",
   "execution_count": 6,
   "metadata": {
    "collapsed": false
   },
   "outputs": [
    {
     "data": {
      "text/plain": [
       "GeoName_x               6545\n",
       "state                 103123\n",
       "naics                  72054\n",
       "Description_x           6545\n",
       "ComponentName_x         6545\n",
       "year                  103123\n",
       "subsidies               4475\n",
       "log_diff_subsidies      3923\n",
       "GeoName_y              26168\n",
       "Unnamed: 1                88\n",
       "ComponentName_y        26168\n",
       "Description_y          26168\n",
       "empcomp                21711\n",
       "log_diff_empcomp       21624\n",
       "GeoName_x              20905\n",
       "Description_x          20905\n",
       "ComponentName_x        20905\n",
       "taxes                  17003\n",
       "log_diff_taxes         16863\n",
       "GeoName_y              25494\n",
       "Description_y          25494\n",
       "ComponentName_y        25494\n",
       "GDP                    22612\n",
       "log_diff_rgdp          22315\n",
       "date                  103123\n",
       "unemployment_lag      103048\n",
       "unemployment          103073\n",
       "id.thomas             103123\n",
       "party                 103123\n",
       "bills                 103125\n",
       "id.fec                103123\n",
       "leg_totalbills        103123\n",
       "years_exp             103123\n",
       "disposition           103125\n",
       "catcode               103125\n",
       "dtype: int64"
      ]
     },
     "execution_count": 6,
     "metadata": {},
     "output_type": "execute_result"
    }
   ],
   "source": [
    "merged.count()"
   ]
  },
  {
   "cell_type": "code",
   "execution_count": 7,
   "metadata": {
    "collapsed": false
   },
   "outputs": [],
   "source": [
    "merged.drop(['GeoName_x', 'Description_x', 'ComponentName_x',\\\n",
    "'GeoName_y', 'Unnamed: 1', 'ComponentName_y', 'Description_y', 'empcomp',\\\n",
    "'subsidies', 'taxes', 'GDP', 'name'], axis=1, inplace=True) \n"
   ]
  },
  {
   "cell_type": "code",
   "execution_count": 8,
   "metadata": {
    "collapsed": false,
    "scrolled": false
   },
   "outputs": [
    {
     "data": {
      "text/html": [
       "<div>\n",
       "<table border=\"1\" class=\"dataframe\">\n",
       "  <thead>\n",
       "    <tr style=\"text-align: right;\">\n",
       "      <th></th>\n",
       "      <th>state</th>\n",
       "      <th>naics</th>\n",
       "      <th>year</th>\n",
       "      <th>log_diff_subsidies</th>\n",
       "      <th>log_diff_empcomp</th>\n",
       "      <th>log_diff_taxes</th>\n",
       "      <th>log_diff_rgdp</th>\n",
       "      <th>date</th>\n",
       "      <th>unemployment_lag</th>\n",
       "      <th>unemployment</th>\n",
       "      <th>id.thomas</th>\n",
       "      <th>party</th>\n",
       "      <th>bills</th>\n",
       "      <th>id.fec</th>\n",
       "      <th>leg_totalbills</th>\n",
       "      <th>years_exp</th>\n",
       "      <th>disposition</th>\n",
       "      <th>catcode</th>\n",
       "    </tr>\n",
       "  </thead>\n",
       "  <tbody>\n",
       "    <tr>\n",
       "      <th>0</th>\n",
       "      <td>AL</td>\n",
       "      <td>111-112</td>\n",
       "      <td>2007.0</td>\n",
       "      <td>-0.499828</td>\n",
       "      <td>NaN</td>\n",
       "      <td>NaN</td>\n",
       "      <td>NaN</td>\n",
       "      <td>2007.0</td>\n",
       "      <td>4.0</td>\n",
       "      <td>4.0</td>\n",
       "      <td>1705.0</td>\n",
       "      <td>Democrat</td>\n",
       "      <td>hr1937-110</td>\n",
       "      <td>H0AL07060</td>\n",
       "      <td>15.0</td>\n",
       "      <td>5.0</td>\n",
       "      <td>support</td>\n",
       "      <td>A5000</td>\n",
       "    </tr>\n",
       "  </tbody>\n",
       "</table>\n",
       "</div>"
      ],
      "text/plain": [
       "  state    naics    year  log_diff_subsidies  log_diff_empcomp  \\\n",
       "0    AL  111-112  2007.0           -0.499828               NaN   \n",
       "\n",
       "   log_diff_taxes  log_diff_rgdp    date  unemployment_lag  unemployment  \\\n",
       "0             NaN            NaN  2007.0               4.0           4.0   \n",
       "\n",
       "   id.thomas     party       bills     id.fec  leg_totalbills  years_exp  \\\n",
       "0     1705.0  Democrat  hr1937-110  H0AL07060            15.0        5.0   \n",
       "\n",
       "  disposition catcode  \n",
       "0     support   A5000  "
      ]
     },
     "execution_count": 8,
     "metadata": {},
     "output_type": "execute_result"
    }
   ],
   "source": [
    "merged.head(1)"
   ]
  },
  {
   "cell_type": "code",
   "execution_count": 9,
   "metadata": {
    "collapsed": false
   },
   "outputs": [],
   "source": [
    "merged.to_csv('mpl.Bspons.merge.2', index=False)"
   ]
  }
 ],
 "metadata": {
  "kernelspec": {
   "display_name": "Python 3",
   "language": "python",
   "name": "python3"
  },
  "language_info": {
   "codemirror_mode": {
    "name": "ipython",
    "version": 3
   },
   "file_extension": ".py",
   "mimetype": "text/x-python",
   "name": "python",
   "nbconvert_exporter": "python",
   "pygments_lexer": "ipython3",
   "version": "3.5.1"
  }
 },
 "nbformat": 4,
 "nbformat_minor": 0
}
