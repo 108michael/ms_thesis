{
 "cells": [
  {
   "cell_type": "code",
   "execution_count": 2,
   "metadata": {
    "collapsed": false,
    "scrolled": true
   },
   "outputs": [
    {
     "name": "stderr",
     "output_type": "stream",
     "text": [
      "Installing package into ‘/home/jayaramdas/R/x86_64-pc-linux-gnu-library/3.2’\n",
      "(as ‘lib’ is unspecified)\n"
     ]
    },
    {
     "name": "stdout",
     "output_type": "stream",
     "text": [
      "\n",
      "The downloaded source packages are in\n",
      "\t‘/tmp/RtmpQ7n2SU/downloaded_packages’\n"
     ]
    },
    {
     "name": "stderr",
     "output_type": "stream",
     "text": [
      "\n",
      "Please cite as: \n",
      "\n",
      " Hlavac, Marek (2015). stargazer: Well-Formatted Regression and Summary Statistics Tables.\n",
      " R package version 5.2. http://CRAN.R-project.org/package=stargazer \n",
      "\n"
     ]
    }
   ],
   "source": [
    "install.packages(\"stargazer\", repos='http://ftp5.gwdg.de/pub/misc/cran/')\n",
    "\n",
    "library(stargazer)"
   ]
  },
  {
   "cell_type": "code",
   "execution_count": 3,
   "metadata": {
    "collapsed": false
   },
   "outputs": [
    {
     "name": "stderr",
     "output_type": "stream",
     "text": [
      "Installing package into ‘/home/jayaramdas/R/x86_64-pc-linux-gnu-library/3.2’\n",
      "(as ‘lib’ is unspecified)\n"
     ]
    },
    {
     "name": "stdout",
     "output_type": "stream",
     "text": [
      "\n",
      "The downloaded source packages are in\n",
      "\t‘/tmp/RtmpQ7n2SU/downloaded_packages’\n"
     ]
    },
    {
     "name": "stderr",
     "output_type": "stream",
     "text": [
      "Loading required package: dynlm\n",
      "Loading required package: zoo\n",
      "\n",
      "Attaching package: ‘zoo’\n",
      "\n",
      "The following objects are masked from ‘package:base’:\n",
      "\n",
      "    as.Date, as.Date.numeric\n",
      "\n",
      "Loading required package: sandwich\n",
      "Loading required package: tseries\n",
      "Loading required package: urca\n",
      "Loading required package: Formula\n"
     ]
    }
   ],
   "source": [
    "install.packages(\"CADFtest\", repos='http://ftp5.gwdg.de/pub/misc/cran/')\n",
    "\n",
    "library(\"CADFtest\")\n",
    "\n",
    "library(\"tseries\")\n",
    "\n",
    "library(\"lmtest\")\n",
    "\n",
    "library(\"plm\")"
   ]
  },
  {
   "cell_type": "code",
   "execution_count": 4,
   "metadata": {
    "collapsed": false,
    "scrolled": false
   },
   "outputs": [],
   "source": [
    "remodel_1=read.csv('remodel.csv')\n",
    "\n",
    "fixed_1=read.csv('femodel.csv')\n",
    "#femodel_1a = femodel_1[,c( 'amtsum', 'unemplag', 'logleg_totalbills', 'billsum')]"
   ]
  },
  {
   "cell_type": "code",
   "execution_count": 10,
   "metadata": {
    "collapsed": false
   },
   "outputs": [
    {
     "data": {
      "text/html": [
       "<ol class=list-inline>\n",
       "\t<li>'date'</li>\n",
       "\t<li>'years_exp'</li>\n",
       "\t<li>'cid'</li>\n",
       "\t<li>'cfcontrol'</li>\n",
       "\t<li>'leg_totalbills'</li>\n",
       "\t<li>'state'</li>\n",
       "\t<li>'amtsumlag_1'</li>\n",
       "\t<li>'amtsumfwd_1'</li>\n",
       "\t<li>'unemployment'</li>\n",
       "\t<li>'billsum'</li>\n",
       "\t<li>'amtsum'</li>\n",
       "\t<li>'Republican'</li>\n",
       "\t<li>'sen'</li>\n",
       "\t<li>'sen_amtsum'</li>\n",
       "\t<li>'sen_amtsumlag1'</li>\n",
       "\t<li>'sen_amtsumfwd1'</li>\n",
       "\t<li>'Republican_amtsum'</li>\n",
       "\t<li>'Republican_amtsumlag1'</li>\n",
       "\t<li>'Republican_amtsumfwd1'</li>\n",
       "\t<li>'unemplag_1'</li>\n",
       "\t<li>'post2009_years'</li>\n",
       "\t<li>'logleg_totalbills'</li>\n",
       "\t<li>'logamtsumlag_1'</li>\n",
       "\t<li>'logamtsumfwd_1'</li>\n",
       "\t<li>'logamtsum'</li>\n",
       "\t<li>'amtsum_post2009years'</li>\n",
       "\t<li>'amtsumfwd1_post2009years'</li>\n",
       "\t<li>'amtsumlag1_post2009years'</li>\n",
       "\t<li>'logamtsum_post2009years'</li>\n",
       "\t<li>'logamtsumfwd1_post2009years'</li>\n",
       "\t<li>'logamtsumlag1_post2009years'</li>\n",
       "\t<li>'amtsumdff'</li>\n",
       "\t<li>'logamtsumdff'</li>\n",
       "\t<li>'billsumdff'</li>\n",
       "\t<li>'logbillsumdff'</li>\n",
       "\t<li>'amtsumfwd_dff'</li>\n",
       "\t<li>'amtsumlag_dff'</li>\n",
       "\t<li>'logamtsumlag_dff'</li>\n",
       "\t<li>'leg_totalbillsdff'</li>\n",
       "\t<li>'years_expdff'</li>\n",
       "\t<li>'amtsumfwd1_post2009yearsdff'</li>\n",
       "\t<li>'amtsumlag1_post2009yearsdff'</li>\n",
       "\t<li>'amtsum_post2009yearsdff'</li>\n",
       "\t<li>'republican_amtsumlagdff'</li>\n",
       "\t<li>'republican_amtsumfwd1dff'</li>\n",
       "\t<li>'sen_amtsumlag1dff'</li>\n",
       "\t<li>'sen_amtsumfwd1dff'</li>\n",
       "\t<li>'sen_amtsumdff'</li>\n",
       "\t<li>'cfcontroldff'</li>\n",
       "\t<li>'unemploymentdff'</li>\n",
       "</ol>\n"
      ],
      "text/latex": [
       "\\begin{enumerate*}\n",
       "\\item 'date'\n",
       "\\item 'years_exp'\n",
       "\\item 'cid'\n",
       "\\item 'cfcontrol'\n",
       "\\item 'leg_totalbills'\n",
       "\\item 'state'\n",
       "\\item 'amtsumlag_1'\n",
       "\\item 'amtsumfwd_1'\n",
       "\\item 'unemployment'\n",
       "\\item 'billsum'\n",
       "\\item 'amtsum'\n",
       "\\item 'Republican'\n",
       "\\item 'sen'\n",
       "\\item 'sen_amtsum'\n",
       "\\item 'sen_amtsumlag1'\n",
       "\\item 'sen_amtsumfwd1'\n",
       "\\item 'Republican_amtsum'\n",
       "\\item 'Republican_amtsumlag1'\n",
       "\\item 'Republican_amtsumfwd1'\n",
       "\\item 'unemplag_1'\n",
       "\\item 'post2009_years'\n",
       "\\item 'logleg_totalbills'\n",
       "\\item 'logamtsumlag_1'\n",
       "\\item 'logamtsumfwd_1'\n",
       "\\item 'logamtsum'\n",
       "\\item 'amtsum_post2009years'\n",
       "\\item 'amtsumfwd1_post2009years'\n",
       "\\item 'amtsumlag1_post2009years'\n",
       "\\item 'logamtsum_post2009years'\n",
       "\\item 'logamtsumfwd1_post2009years'\n",
       "\\item 'logamtsumlag1_post2009years'\n",
       "\\item 'amtsumdff'\n",
       "\\item 'logamtsumdff'\n",
       "\\item 'billsumdff'\n",
       "\\item 'logbillsumdff'\n",
       "\\item 'amtsumfwd_dff'\n",
       "\\item 'amtsumlag_dff'\n",
       "\\item 'logamtsumlag_dff'\n",
       "\\item 'leg_totalbillsdff'\n",
       "\\item 'years_expdff'\n",
       "\\item 'amtsumfwd1_post2009yearsdff'\n",
       "\\item 'amtsumlag1_post2009yearsdff'\n",
       "\\item 'amtsum_post2009yearsdff'\n",
       "\\item 'republican_amtsumlagdff'\n",
       "\\item 'republican_amtsumfwd1dff'\n",
       "\\item 'sen_amtsumlag1dff'\n",
       "\\item 'sen_amtsumfwd1dff'\n",
       "\\item 'sen_amtsumdff'\n",
       "\\item 'cfcontroldff'\n",
       "\\item 'unemploymentdff'\n",
       "\\end{enumerate*}\n"
      ],
      "text/markdown": [
       "1. 'date'\n",
       "2. 'years_exp'\n",
       "3. 'cid'\n",
       "4. 'cfcontrol'\n",
       "5. 'leg_totalbills'\n",
       "6. 'state'\n",
       "7. 'amtsumlag_1'\n",
       "8. 'amtsumfwd_1'\n",
       "9. 'unemployment'\n",
       "10. 'billsum'\n",
       "11. 'amtsum'\n",
       "12. 'Republican'\n",
       "13. 'sen'\n",
       "14. 'sen_amtsum'\n",
       "15. 'sen_amtsumlag1'\n",
       "16. 'sen_amtsumfwd1'\n",
       "17. 'Republican_amtsum'\n",
       "18. 'Republican_amtsumlag1'\n",
       "19. 'Republican_amtsumfwd1'\n",
       "20. 'unemplag_1'\n",
       "21. 'post2009_years'\n",
       "22. 'logleg_totalbills'\n",
       "23. 'logamtsumlag_1'\n",
       "24. 'logamtsumfwd_1'\n",
       "25. 'logamtsum'\n",
       "26. 'amtsum_post2009years'\n",
       "27. 'amtsumfwd1_post2009years'\n",
       "28. 'amtsumlag1_post2009years'\n",
       "29. 'logamtsum_post2009years'\n",
       "30. 'logamtsumfwd1_post2009years'\n",
       "31. 'logamtsumlag1_post2009years'\n",
       "32. 'amtsumdff'\n",
       "33. 'logamtsumdff'\n",
       "34. 'billsumdff'\n",
       "35. 'logbillsumdff'\n",
       "36. 'amtsumfwd_dff'\n",
       "37. 'amtsumlag_dff'\n",
       "38. 'logamtsumlag_dff'\n",
       "39. 'leg_totalbillsdff'\n",
       "40. 'years_expdff'\n",
       "41. 'amtsumfwd1_post2009yearsdff'\n",
       "42. 'amtsumlag1_post2009yearsdff'\n",
       "43. 'amtsum_post2009yearsdff'\n",
       "44. 'republican_amtsumlagdff'\n",
       "45. 'republican_amtsumfwd1dff'\n",
       "46. 'sen_amtsumlag1dff'\n",
       "47. 'sen_amtsumfwd1dff'\n",
       "48. 'sen_amtsumdff'\n",
       "49. 'cfcontroldff'\n",
       "50. 'unemploymentdff'\n",
       "\n",
       "\n"
      ],
      "text/plain": [
       " [1] \"date\"                        \"years_exp\"                  \n",
       " [3] \"cid\"                         \"cfcontrol\"                  \n",
       " [5] \"leg_totalbills\"              \"state\"                      \n",
       " [7] \"amtsumlag_1\"                 \"amtsumfwd_1\"                \n",
       " [9] \"unemployment\"                \"billsum\"                    \n",
       "[11] \"amtsum\"                      \"Republican\"                 \n",
       "[13] \"sen\"                         \"sen_amtsum\"                 \n",
       "[15] \"sen_amtsumlag1\"              \"sen_amtsumfwd1\"             \n",
       "[17] \"Republican_amtsum\"           \"Republican_amtsumlag1\"      \n",
       "[19] \"Republican_amtsumfwd1\"       \"unemplag_1\"                 \n",
       "[21] \"post2009_years\"              \"logleg_totalbills\"          \n",
       "[23] \"logamtsumlag_1\"              \"logamtsumfwd_1\"             \n",
       "[25] \"logamtsum\"                   \"amtsum_post2009years\"       \n",
       "[27] \"amtsumfwd1_post2009years\"    \"amtsumlag1_post2009years\"   \n",
       "[29] \"logamtsum_post2009years\"     \"logamtsumfwd1_post2009years\"\n",
       "[31] \"logamtsumlag1_post2009years\" \"amtsumdff\"                  \n",
       "[33] \"logamtsumdff\"                \"billsumdff\"                 \n",
       "[35] \"logbillsumdff\"               \"amtsumfwd_dff\"              \n",
       "[37] \"amtsumlag_dff\"               \"logamtsumlag_dff\"           \n",
       "[39] \"leg_totalbillsdff\"           \"years_expdff\"               \n",
       "[41] \"amtsumfwd1_post2009yearsdff\" \"amtsumlag1_post2009yearsdff\"\n",
       "[43] \"amtsum_post2009yearsdff\"     \"republican_amtsumlagdff\"    \n",
       "[45] \"republican_amtsumfwd1dff\"    \"sen_amtsumlag1dff\"          \n",
       "[47] \"sen_amtsumfwd1dff\"           \"sen_amtsumdff\"              \n",
       "[49] \"cfcontroldff\"                \"unemploymentdff\"            "
      ]
     },
     "execution_count": 10,
     "metadata": {},
     "output_type": "execute_result"
    }
   ],
   "source": [
    "colnames(fixed_1, do.NULL = TRUE, prefix = \"col\")"
   ]
  },
  {
   "cell_type": "code",
   "execution_count": 30,
   "metadata": {
    "collapsed": false,
    "scrolled": true
   },
   "outputs": [
    {
     "data": {
      "text/plain": [
       "\n",
       "t test of coefficients:\n",
       "\n",
       "                     Estimate  Std. Error t value  Pr(>|t|)    \n",
       "amtsumlag_dff      7.3230e-05  7.5303e-05  0.9725  0.330854    \n",
       "cfcontroldff      -3.9445e-03  1.0267e-02 -0.3842  0.700853    \n",
       "leg_totalbillsdff  2.4697e-03  9.4381e-04  2.6167  0.008899 ** \n",
       "years_expdff      -3.5878e-04  3.0714e-04 -1.1681  0.242805    \n",
       "unemploymentdff    1.4074e-01  9.5075e-03 14.8035 < 2.2e-16 ***\n",
       "---\n",
       "Signif. codes:  0 ‘***’ 0.001 ‘**’ 0.01 ‘*’ 0.05 ‘.’ 0.1 ‘ ’ 1\n"
      ]
     },
     "execution_count": 30,
     "metadata": {},
     "output_type": "execute_result"
    }
   ],
   "source": [
    "femodel <-plm(billsumdff~ amtsumlag_dff+cfcontroldff+leg_totalbillsdff+years_expdff+unemploymentdff,  # \n",
    " data=fixed_1, index=c('date', 'cid'), model=\"within\")\n",
    "#summary(femodel)\n",
    "\n",
    "coeftest(femodel,vcov=vcovHC(femodel,method=\"arellano\"))"
   ]
  },
  {
   "cell_type": "code",
   "execution_count": null,
   "metadata": {
    "collapsed": true
   },
   "outputs": [],
   "source": [
    "post2009_years++amtsumlag1_post2009yearsdff"
   ]
  },
  {
   "cell_type": "code",
   "execution_count": 27,
   "metadata": {
    "collapsed": true
   },
   "outputs": [
    {
     "data": {
      "text/plain": [
       "Oneway (individual) effect Random Effect Model \n",
       "   (Swamy-Arora's transformation)\n",
       "\n",
       "Call:\n",
       "plm(formula = billsumdff ~ amtsumlag_dff + corruption_dummy + \n",
       "    corruption_amtsumlag_dff + cfcontroldff + leg_totalbillsdff + \n",
       "    republican_amtsumlagdff + Republican + sen + sen_amtsumlag1dff, \n",
       "    data = remodel_1, model = \"random\", index = c(\"date\", \"cid\"))\n",
       "\n",
       "Unbalanced Panel: n=10, T=539-709, N=6459\n",
       "\n",
       "Effects:\n",
       "                    var   std.dev share\n",
       "idiosyncratic 1.997e-01 4.469e-01     1\n",
       "individual    2.865e-23 5.352e-12     0\n",
       "theta  : \n",
       "   Min. 1st Qu.  Median    Mean 3rd Qu.    Max. \n",
       "      0       0       0       0       0       0 \n",
       "\n",
       "Residuals :\n",
       "   Min. 1st Qu.  Median 3rd Qu.    Max. \n",
       "-1.7500 -0.2120 -0.1310 -0.0684  5.6100 \n",
       "\n",
       "Coefficients :\n",
       "                            Estimate  Std. Error t-value  Pr(>|t|)    \n",
       "(Intercept)               0.06836952  0.00835516  8.1829 3.310e-16 ***\n",
       "amtsumlag_dff             0.00018886  0.00007372  2.5618   0.01044 *  \n",
       "corruption_dummy          0.00522197  0.01896643  0.2753   0.78307    \n",
       "corruption_amtsumlag_dff  0.00019268  0.00036476  0.5282   0.59736    \n",
       "cfcontroldff              0.01529029  0.02850653  0.5364   0.59172    \n",
       "leg_totalbillsdff         0.01559563  0.00059260 26.3173 < 2.2e-16 ***\n",
       "republican_amtsumlagdff   0.00041449  0.00036977  1.1209   0.26236    \n",
       "Republican                0.09208961  0.01433455  6.4243 1.419e-10 ***\n",
       "sen                       0.02125346  0.03124624  0.6802   0.49641    \n",
       "sen_amtsumlag1dff        -0.00064920  0.00093929 -0.6912   0.48949    \n",
       "---\n",
       "Signif. codes:  0 ‘***’ 0.001 ‘**’ 0.01 ‘*’ 0.05 ‘.’ 0.1 ‘ ’ 1\n",
       "\n",
       "Total Sum of Squares:    1596.5\n",
       "Residual Sum of Squares: 1422.8\n",
       "R-Squared:      0.10882\n",
       "Adj. R-Squared: 0.10866\n",
       "F-statistic: 87.5002 on 9 and 6449 DF, p-value: < 2.22e-16"
      ]
     },
     "execution_count": 27,
     "metadata": {},
     "output_type": "execute_result"
    },
    {
     "data": {
      "text/plain": [
       "\n",
       "t test of coefficients:\n",
       "\n",
       "                            Estimate  Std. Error t value  Pr(>|t|)    \n",
       "(Intercept)               0.06836952  0.02270583  3.0111  0.002613 ** \n",
       "amtsumlag_dff             0.00018886  0.00016809  1.1236  0.261236    \n",
       "corruption_dummy          0.00522197  0.02826080  0.1848  0.853409    \n",
       "corruption_amtsumlag_dff  0.00019268  0.00052933  0.3640  0.715871    \n",
       "cfcontroldff              0.01529029  0.01995560  0.7662  0.443576    \n",
       "leg_totalbillsdff         0.01559563  0.00383347  4.0683 4.793e-05 ***\n",
       "republican_amtsumlagdff   0.00041449  0.00055506  0.7467  0.455246    \n",
       "Republican                0.09208961  0.07285980  1.2639  0.206301    \n",
       "sen                       0.02125346  0.05553022  0.3827  0.701928    \n",
       "sen_amtsumlag1dff        -0.00064920  0.00075972 -0.8545  0.392847    \n",
       "---\n",
       "Signif. codes:  0 ‘***’ 0.001 ‘**’ 0.01 ‘*’ 0.05 ‘.’ 0.1 ‘ ’ 1\n"
      ]
     },
     "execution_count": 27,
     "metadata": {},
     "output_type": "execute_result"
    }
   ],
   "source": [
    "remodel <-plm(billsumdff ~ amtsumlag_dff+corruption_dummy+corruption_amtsumlag_dff+cfcontroldff\n",
    "              leg_totalbillsdff+republican_amtsumlagdff+Republican+sen+\n",
    "              sen_amtsumlag1dff,data=remodel_1, index=c('date', 'cid'),\n",
    "model=\"random\")\n",
    "summary(remodel)\n",
    "coeftest(remodel,vcov=vcovHC(remodel,method=\"arellano\"))"
   ]
  },
  {
   "cell_type": "code",
   "execution_count": 111,
   "metadata": {
    "collapsed": true
   },
   "outputs": [
    {
     "name": "stdout",
     "output_type": "stream",
     "text": [
      "\n",
      "% Table created by stargazer v.5.2 by Marek Hlavac, Harvard University. E-mail: hlavac at fas.harvard.edu\n",
      "% Date and time: Mon, Jul 04, 2016 - 22:59:32\n",
      "\\begin{table}[!htbp] \\centering \n",
      "  \\caption{} \n",
      "  \\label{} \n",
      "\\begin{tabular}{@{\\extracolsep{5pt}}lc} \n",
      "\\\\[-1.8ex]\\hline \n",
      "\\hline \\\\[-1.8ex] \n",
      " & \\multicolumn{1}{c}{\\textit{Dependent variable:}} \\\\ \n",
      "\\cline{2-2} \n",
      "\\\\[-1.8ex] & billsumdff \\\\ \n",
      "\\hline \\\\[-1.8ex] \n",
      " cfcontrol & 0.044 \\\\ \n",
      "  & (0.075) \\\\ \n",
      "  & \\\\ \n",
      " amtsumlag\\_dff & 0.00001 \\\\ \n",
      "  & (0.00001) \\\\ \n",
      "  & \\\\ \n",
      " unemployment & 0.048$^{***}$ \\\\ \n",
      "  & (0.005) \\\\ \n",
      "  & \\\\ \n",
      " leg\\_totalbillsdff & 0.067$^{***}$ \\\\ \n",
      "  & (0.002) \\\\ \n",
      "  & \\\\ \n",
      " years\\_expdff & 0.016$^{***}$ \\\\ \n",
      "  & (0.002) \\\\ \n",
      "  & \\\\ \n",
      "\\hline \\\\[-1.8ex] \n",
      "Observations & 6,467 \\\\ \n",
      "R$^{2}$ & 0.285 \\\\ \n",
      "Adjusted R$^{2}$ & 0.284 \\\\ \n",
      "F Statistic & 513.918$^{***}$ (df = 5; 6452) \\\\ \n",
      "\\hline \n",
      "\\hline \\\\[-1.8ex] \n",
      "\\textit{Note:}  & \\multicolumn{1}{r}{$^{*}$p$<$0.1; $^{**}$p$<$0.05; $^{***}$p$<$0.01} \\\\ \n",
      "\\end{tabular} \n",
      "\\end{table} \n"
     ]
    }
   ],
   "source": [
    "stargazer(fixed_1)"
   ]
  },
  {
   "cell_type": "markdown",
   "metadata": {},
   "source": [
    "## Hausman test"
   ]
  },
  {
   "cell_type": "code",
   "execution_count": 12,
   "metadata": {
    "collapsed": false,
    "scrolled": true
   },
   "outputs": [
    {
     "data": {
      "text/plain": [
       "\n",
       "\tHausman Test\n",
       "\n",
       "data:  billsumdff ~ amtsumlag_dff + cfcontroldff + leg_totalbillsdff +  ...\n",
       "chisq = 507.01, df = 2, p-value < 2.2e-16\n",
       "alternative hypothesis: one model is inconsistent\n"
      ]
     },
     "execution_count": 12,
     "metadata": {},
     "output_type": "execute_result"
    }
   ],
   "source": [
    "phtest(femodel, remodel)"
   ]
  },
  {
   "cell_type": "markdown",
   "metadata": {},
   "source": [
    "## Breusch-Godfrey test for serial correlation in panel models"
   ]
  },
  {
   "cell_type": "code",
   "execution_count": 24,
   "metadata": {
    "collapsed": false,
    "scrolled": true
   },
   "outputs": [
    {
     "data": {
      "text/plain": [
       "\n",
       "\tBreusch-Godfrey/Wooldridge test for serial correlation in panel models\n",
       "\n",
       "data:  billsumdff ~ amtsumlag_dff + cfcontroldff + leg_totalbillsdff +     years_expdff + unemploymentdff\n",
       "chisq = 13.195, df = 2, p-value = 0.001364\n",
       "alternative hypothesis: serial correlation in idiosyncratic errors\n"
      ]
     },
     "execution_count": 24,
     "metadata": {},
     "output_type": "execute_result"
    }
   ],
   "source": [
    "pbgtest(femodel,order=2)\n"
   ]
  },
  {
   "cell_type": "markdown",
   "metadata": {},
   "source": [
    "## Breusch-Pagan test for heteroskedasticity in the error terms"
   ]
  },
  {
   "cell_type": "code",
   "execution_count": 22,
   "metadata": {
    "collapsed": false
   },
   "outputs": [
    {
     "data": {
      "text/plain": [
       "\n",
       "\tstudentized Breusch-Pagan test\n",
       "\n",
       "data:  billsumdff ~ amtsumlag_dff + cfcontroldff + leg_totalbillsdff +     years_expdff + unemploymentdff\n",
       "BP = 291.23, df = 5, p-value < 2.2e-16\n"
      ]
     },
     "execution_count": 22,
     "metadata": {},
     "output_type": "execute_result"
    }
   ],
   "source": [
    "bptest(billsumdff~ amtsumlag_dff+cfcontroldff+leg_totalbillsdff+years_expdff+unemploymentdff, #amtsumlag_dff+cfcontroldff+leg_totalbillsdff+years_expdff,\n",
    "      studentize = 'True', data = fixed_1)"
   ]
  },
  {
   "cell_type": "code",
   "execution_count": 46,
   "metadata": {
    "collapsed": false,
    "scrolled": true
   },
   "outputs": [
    {
     "data": {
      "text/html": [
       "<table>\n",
       "<thead><tr><th></th><th scope=col>cfcontrol</th><th scope=col>amtsum</th><th scope=col>loansum</th><th scope=col>leg_totalbills</th><th scope=col>unemplag_1</th><th scope=col>amtsum_post2009years</th><th scope=col>amtsum_5to9exp</th><th scope=col>amtsum_10to19exp</th><th scope=col>amtsum_20exp</th></tr></thead>\n",
       "<tbody>\n",
       "\t<tr><th scope=row>cfcontrol</th><td> 2.612721e-03</td><td> 1.247452e-06</td><td>-9.135663e-06</td><td>-2.828770e-04</td><td> 3.353112e-04</td><td>-4.066690e-10</td><td>-4.443274e-06</td><td>-5.195088e-07</td><td>-1.285415e-06</td></tr>\n",
       "\t<tr><th scope=row>amtsum</th><td> 1.247452e-06</td><td> 1.360766e-09</td><td> 3.293102e-09</td><td>-4.987015e-08</td><td> 2.591988e-07</td><td>-5.354985e-13</td><td>-1.645303e-09</td><td>-9.308739e-10</td><td>-1.313783e-09</td></tr>\n",
       "\t<tr><th scope=row>loansum</th><td>-9.135663e-06</td><td> 3.293102e-09</td><td> 1.213057e-06</td><td> 5.138436e-06</td><td> 7.723641e-06</td><td>-4.713176e-13</td><td> 5.083227e-08</td><td> 3.877945e-09</td><td>-1.593807e-08</td></tr>\n",
       "\t<tr><th scope=row>leg_totalbills</th><td>-2.828770e-04</td><td>-4.987015e-08</td><td> 5.138436e-06</td><td> 1.608029e-04</td><td>-3.411420e-05</td><td> 3.827004e-11</td><td> 4.466847e-07</td><td>-3.098298e-07</td><td>-1.332222e-07</td></tr>\n",
       "\t<tr><th scope=row>unemplag_1</th><td> 3.353112e-04</td><td> 2.591988e-07</td><td> 7.723641e-06</td><td>-3.411420e-05</td><td> 1.589989e-04</td><td>-9.290946e-11</td><td>-1.355249e-07</td><td>-9.872323e-08</td><td>-2.664956e-07</td></tr>\n",
       "\t<tr><th scope=row>amtsum_post2009years</th><td>-4.066690e-10</td><td>-5.354985e-13</td><td>-4.713176e-13</td><td> 3.827004e-11</td><td>-9.290946e-11</td><td> 2.321965e-16</td><td> 4.855584e-13</td><td> 3.206774e-13</td><td> 4.135893e-13</td></tr>\n",
       "\t<tr><th scope=row>amtsum_5to9exp</th><td>-4.443274e-06</td><td>-1.645303e-09</td><td> 5.083227e-08</td><td> 4.466847e-07</td><td>-1.355249e-07</td><td> 4.855584e-13</td><td> 1.036719e-08</td><td> 1.537808e-09</td><td> 1.501595e-09</td></tr>\n",
       "\t<tr><th scope=row>amtsum_10to19exp</th><td>-5.195088e-07</td><td>-9.308739e-10</td><td> 3.877945e-09</td><td>-3.098298e-07</td><td>-9.872323e-08</td><td> 3.206774e-13</td><td> 1.537808e-09</td><td> 2.315272e-09</td><td> 9.715893e-10</td></tr>\n",
       "\t<tr><th scope=row>amtsum_20exp</th><td>-1.285415e-06</td><td>-1.313783e-09</td><td>-1.593807e-08</td><td>-1.332222e-07</td><td>-2.664956e-07</td><td> 4.135893e-13</td><td> 1.501595e-09</td><td> 9.715893e-10</td><td> 1.972625e-09</td></tr>\n",
       "</tbody>\n",
       "</table>\n"
      ],
      "text/latex": [
       "\\begin{tabular}{r|lllllllll}\n",
       "  & cfcontrol & amtsum & loansum & leg_totalbills & unemplag_1 & amtsum_post2009years & amtsum_5to9exp & amtsum_10to19exp & amtsum_20exp\\\\\n",
       "\\hline\n",
       "\tcfcontrol &  2.612721e-03 &  1.247452e-06 & -9.135663e-06 & -2.828770e-04 &  3.353112e-04 & -4.066690e-10 & -4.443274e-06 & -5.195088e-07 & -1.285415e-06\\\\\n",
       "\tamtsum &  1.247452e-06 &  1.360766e-09 &  3.293102e-09 & -4.987015e-08 &  2.591988e-07 & -5.354985e-13 & -1.645303e-09 & -9.308739e-10 & -1.313783e-09\\\\\n",
       "\tloansum & -9.135663e-06 &  3.293102e-09 &  1.213057e-06 &  5.138436e-06 &  7.723641e-06 & -4.713176e-13 &  5.083227e-08 &  3.877945e-09 & -1.593807e-08\\\\\n",
       "\tleg_totalbills & -2.828770e-04 & -4.987015e-08 &  5.138436e-06 &  1.608029e-04 & -3.411420e-05 &  3.827004e-11 &  4.466847e-07 & -3.098298e-07 & -1.332222e-07\\\\\n",
       "\tunemplag_1 &  3.353112e-04 &  2.591988e-07 &  7.723641e-06 & -3.411420e-05 &  1.589989e-04 & -9.290946e-11 & -1.355249e-07 & -9.872323e-08 & -2.664956e-07\\\\\n",
       "\tamtsum_post2009years & -4.066690e-10 & -5.354985e-13 & -4.713176e-13 &  3.827004e-11 & -9.290946e-11 &  2.321965e-16 &  4.855584e-13 &  3.206774e-13 &  4.135893e-13\\\\\n",
       "\tamtsum_5to9exp & -4.443274e-06 & -1.645303e-09 &  5.083227e-08 &  4.466847e-07 & -1.355249e-07 &  4.855584e-13 &  1.036719e-08 &  1.537808e-09 &  1.501595e-09\\\\\n",
       "\tamtsum_10to19exp & -5.195088e-07 & -9.308739e-10 &  3.877945e-09 & -3.098298e-07 & -9.872323e-08 &  3.206774e-13 &  1.537808e-09 &  2.315272e-09 &  9.715893e-10\\\\\n",
       "\tamtsum_20exp & -1.285415e-06 & -1.313783e-09 & -1.593807e-08 & -1.332222e-07 & -2.664956e-07 &  4.135893e-13 &  1.501595e-09 &  9.715893e-10 &  1.972625e-09\\\\\n",
       "\\end{tabular}\n"
      ],
      "text/markdown": [
       "1. 0.00261272142487375\n",
       "2. 1.24745234900459e-06\n",
       "3. -9.1356629195668e-06\n",
       "4. -0.000282876988560067\n",
       "5. 0.000335311244520358\n",
       "6. -4.06669003579671e-10\n",
       "7. -4.44327362770857e-06\n",
       "8. -5.19508799163103e-07\n",
       "9. -1.28541521998669e-06\n",
       "10. 1.24745234900458e-06\n",
       "11. 1.36076605771896e-09\n",
       "12. 3.29310197768303e-09\n",
       "13. -4.98701484878286e-08\n",
       "14. 2.59198765161674e-07\n",
       "15. -5.35498540615515e-13\n",
       "16. -1.64530291382463e-09\n",
       "17. -9.30873948703274e-10\n",
       "18. -1.3137827976898e-09\n",
       "19. -9.13566291956567e-06\n",
       "20. 3.29310197768268e-09\n",
       "21. 1.21305687254326e-06\n",
       "22. 5.13843620825941e-06\n",
       "23. 7.72364095456051e-06\n",
       "24. -4.71317609924988e-13\n",
       "25. 5.08322676081073e-08\n",
       "26. 3.87794455343052e-09\n",
       "27. -1.59380708613086e-08\n",
       "28. -0.000282876988560071\n",
       "29. -4.98701484878305e-08\n",
       "30. 5.13843620825941e-06\n",
       "31. 0.000160802892530399\n",
       "32. -3.41142049165681e-05\n",
       "33. 3.82700399881658e-11\n",
       "34. 4.46684736210537e-07\n",
       "35. -3.09829795236038e-07\n",
       "36. -1.33222200471136e-07\n",
       "37. 0.000335311244520342\n",
       "38. 2.59198765161662e-07\n",
       "39. 7.72364095456045e-06\n",
       "40. -3.4114204916568e-05\n",
       "41. 0.000158998865425963\n",
       "42. -9.29094627931756e-11\n",
       "43. -1.35524910510229e-07\n",
       "44. -9.87232262626272e-08\n",
       "45. -2.66495637085872e-07\n",
       "46. -4.06669003579659e-10\n",
       "47. -5.35498540615513e-13\n",
       "48. -4.71317609925059e-13\n",
       "49. 3.82700399881652e-11\n",
       "50. -9.29094627931774e-11\n",
       "51. 2.32196451814405e-16\n",
       "52. 4.85558397799289e-13\n",
       "53. 3.20677377093344e-13\n",
       "54. 4.13589274966147e-13\n",
       "55. -4.44327362770847e-06\n",
       "56. -1.64530291382464e-09\n",
       "57. 5.08322676081065e-08\n",
       "58. 4.46684736210533e-07\n",
       "59. -1.35524910510263e-07\n",
       "60. 4.8555839779929e-13\n",
       "61. 1.0367193656344e-08\n",
       "62. 1.53780756955433e-09\n",
       "63. 1.5015945673932e-09\n",
       "64. -5.19508799162973e-07\n",
       "65. -9.30873948703256e-10\n",
       "66. 3.87794455343032e-09\n",
       "67. -3.09829795236052e-07\n",
       "68. -9.87232262626286e-08\n",
       "69. 3.20677377093338e-13\n",
       "70. 1.53780756955427e-09\n",
       "71. 2.31527173061304e-09\n",
       "72. 9.71589286093486e-10\n",
       "73. -1.28541521998671e-06\n",
       "74. -1.31378279768978e-09\n",
       "75. -1.59380708613087e-08\n",
       "76. -1.33222200471133e-07\n",
       "77. -2.6649563708589e-07\n",
       "78. 4.13589274966142e-13\n",
       "79. 1.50159456739319e-09\n",
       "80. 9.71589286093477e-10\n",
       "81. 1.97262468901233e-09\n",
       "\n",
       "\n"
      ],
      "text/plain": [
       "                         cfcontrol        amtsum       loansum leg_totalbills\n",
       "cfcontrol             2.612721e-03  1.247452e-06 -9.135663e-06  -2.828770e-04\n",
       "amtsum                1.247452e-06  1.360766e-09  3.293102e-09  -4.987015e-08\n",
       "loansum              -9.135663e-06  3.293102e-09  1.213057e-06   5.138436e-06\n",
       "leg_totalbills       -2.828770e-04 -4.987015e-08  5.138436e-06   1.608029e-04\n",
       "unemplag_1            3.353112e-04  2.591988e-07  7.723641e-06  -3.411420e-05\n",
       "amtsum_post2009years -4.066690e-10 -5.354985e-13 -4.713176e-13   3.827004e-11\n",
       "amtsum_5to9exp       -4.443274e-06 -1.645303e-09  5.083227e-08   4.466847e-07\n",
       "amtsum_10to19exp     -5.195088e-07 -9.308739e-10  3.877945e-09  -3.098298e-07\n",
       "amtsum_20exp         -1.285415e-06 -1.313783e-09 -1.593807e-08  -1.332222e-07\n",
       "                        unemplag_1 amtsum_post2009years amtsum_5to9exp\n",
       "cfcontrol             3.353112e-04        -4.066690e-10  -4.443274e-06\n",
       "amtsum                2.591988e-07        -5.354985e-13  -1.645303e-09\n",
       "loansum               7.723641e-06        -4.713176e-13   5.083227e-08\n",
       "leg_totalbills       -3.411420e-05         3.827004e-11   4.466847e-07\n",
       "unemplag_1            1.589989e-04        -9.290946e-11  -1.355249e-07\n",
       "amtsum_post2009years -9.290946e-11         2.321965e-16   4.855584e-13\n",
       "amtsum_5to9exp       -1.355249e-07         4.855584e-13   1.036719e-08\n",
       "amtsum_10to19exp     -9.872323e-08         3.206774e-13   1.537808e-09\n",
       "amtsum_20exp         -2.664956e-07         4.135893e-13   1.501595e-09\n",
       "                     amtsum_10to19exp  amtsum_20exp\n",
       "cfcontrol               -5.195088e-07 -1.285415e-06\n",
       "amtsum                  -9.308739e-10 -1.313783e-09\n",
       "loansum                  3.877945e-09 -1.593807e-08\n",
       "leg_totalbills          -3.098298e-07 -1.332222e-07\n",
       "unemplag_1              -9.872323e-08 -2.664956e-07\n",
       "amtsum_post2009years     3.206774e-13  4.135893e-13\n",
       "amtsum_5to9exp           1.537808e-09  1.501595e-09\n",
       "amtsum_10to19exp         2.315272e-09  9.715893e-10\n",
       "amtsum_20exp             9.715893e-10  1.972625e-09"
      ]
     },
     "execution_count": 46,
     "metadata": {},
     "output_type": "execute_result"
    }
   ],
   "source": [
    "vcovHC(fixed_1, method = c(\"arellano\"),type = c(\"HC3\"),cluster = c(\"group\"))\n"
   ]
  },
  {
   "cell_type": "markdown",
   "metadata": {},
   "source": [
    "## Descriptive statistics for the FE model"
   ]
  },
  {
   "cell_type": "code",
   "execution_count": 31,
   "metadata": {
    "collapsed": true
   },
   "outputs": [],
   "source": [
    "desc_stats=subset(fixed_1, select=c('years_exp', 'cfcontrol', 'leg_totalbills', 'amtsum', 'billsum', 'unemployment'))"
   ]
  },
  {
   "cell_type": "code",
   "execution_count": 32,
   "metadata": {
    "collapsed": false
   },
   "outputs": [
    {
     "name": "stdout",
     "output_type": "stream",
     "text": [
      "\n",
      "% Table created by stargazer v.5.2 by Marek Hlavac, Harvard University. E-mail: hlavac at fas.harvard.edu\n",
      "% Date and time: Tue, Jul 12, 2016 - 19:21:53\n",
      "\\begin{table}[!htbp] \\centering \n",
      "  \\caption{} \n",
      "  \\label{} \n",
      "\\begin{tabular}{@{\\extracolsep{5pt}}lccccc} \n",
      "\\\\[-1.8ex]\\hline \n",
      "\\hline \\\\[-1.8ex] \n",
      "Statistic & \\multicolumn{1}{c}{N} & \\multicolumn{1}{c}{Mean} & \\multicolumn{1}{c}{St. Dev.} & \\multicolumn{1}{c}{Min} & \\multicolumn{1}{c}{Max} \\\\ \n",
      "\\hline \\\\[-1.8ex] \n",
      "years\\_exp & 6,459 & 11.073 & 10.202 & 0 & 60 \\\\ \n",
      "cfcontrol & 6,459 & $-$0.008 & 0.206 & $-$1.873 & 1.302 \\\\ \n",
      "leg\\_totalbills & 6,459 & 7.780 & 10.130 & 0 & 156 \\\\ \n",
      "amtsum & 6,459 & 14.478 & 54.474 & 0.000 & 1,693.960 \\\\ \n",
      "billsum & 6,459 & 0.217 & 0.497 & 0 & 6 \\\\ \n",
      "unemployment & 6,459 & 1.353 & 2.948 & 0.000 & 13.700 \\\\ \n",
      "\\hline \\\\[-1.8ex] \n",
      "\\end{tabular} \n",
      "\\end{table} \n"
     ]
    }
   ],
   "source": [
    "stargazer(desc_stats)"
   ]
  }
 ],
 "metadata": {
  "kernelspec": {
   "display_name": "R",
   "language": "R",
   "name": "ir"
  },
  "language_info": {
   "codemirror_mode": "r",
   "file_extension": ".r",
   "mimetype": "text/x-r-source",
   "name": "R",
   "pygments_lexer": "r",
   "version": "3.2.2"
  }
 },
 "nbformat": 4,
 "nbformat_minor": 0
}
