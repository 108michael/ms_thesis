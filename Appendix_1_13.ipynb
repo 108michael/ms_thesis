{
 "cells": [
  {
   "cell_type": "code",
   "execution_count": 1,
   "metadata": {
    "collapsed": true
   },
   "outputs": [],
   "source": [
    "import pandas as pd"
   ]
  },
  {
   "cell_type": "code",
   "execution_count": 2,
   "metadata": {
    "collapsed": false,
    "scrolled": true
   },
   "outputs": [],
   "source": [
    "dx=pd.read_csv('Thesis/DIME/dime_recipients_all_1979_2014.csv', \\\n",
    "low_memory=False, header=0, usecols=[3,24], names=['pacid', 'paccfscore'])"
   ]
  },
  {
   "cell_type": "code",
   "execution_count": 3,
   "metadata": {
    "collapsed": false
   },
   "outputs": [
    {
     "data": {
      "text/plain": [
       "['pacid', 'paccfscore']"
      ]
     },
     "execution_count": 3,
     "metadata": {},
     "output_type": "execute_result"
    }
   ],
   "source": [
    "dx.columns.tolist()"
   ]
  },
  {
   "cell_type": "code",
   "execution_count": 4,
   "metadata": {
    "collapsed": true
   },
   "outputs": [],
   "source": [
    "dx = dx.drop_duplicates('pacid', keep='first')\n",
    "\n",
    "dx = dx.dropna(subset = ['paccfscore'])"
   ]
  },
  {
   "cell_type": "code",
   "execution_count": 5,
   "metadata": {
    "collapsed": false
   },
   "outputs": [],
   "source": [
    "ds = pd.read_csv('pacidtocid.amount.sum')"
   ]
  },
  {
   "cell_type": "code",
   "execution_count": 6,
   "metadata": {
    "collapsed": false
   },
   "outputs": [],
   "source": [
    "ds.drop_duplicates(inplace=True, keep='first')"
   ]
  },
  {
   "cell_type": "code",
   "execution_count": 7,
   "metadata": {
    "collapsed": false
   },
   "outputs": [],
   "source": [
    "mrg = pd.merge(dx, ds, on = 'pacid', how='right')"
   ]
  },
  {
   "cell_type": "code",
   "execution_count": 8,
   "metadata": {
    "collapsed": false
   },
   "outputs": [],
   "source": [
    "mrg.drop_duplicates(inplace=True, keep='first')"
   ]
  },
  {
   "cell_type": "code",
   "execution_count": 9,
   "metadata": {
    "collapsed": false
   },
   "outputs": [],
   "source": [
    "dz = mrg[(mrg['amount'] > 0)]"
   ]
  },
  {
   "cell_type": "code",
   "execution_count": 10,
   "metadata": {
    "collapsed": false
   },
   "outputs": [
    {
     "data": {
      "text/plain": [
       "1200858"
      ]
     },
     "execution_count": 10,
     "metadata": {},
     "output_type": "execute_result"
    }
   ],
   "source": [
    "len(mrg)"
   ]
  },
  {
   "cell_type": "code",
   "execution_count": 11,
   "metadata": {
    "collapsed": false,
    "scrolled": false
   },
   "outputs": [
    {
     "data": {
      "text/plain": [
       "pacid         1200858\n",
       "paccfscore     986270\n",
       "cycle         1200858\n",
       "cid           1200858\n",
       "amount        1200858\n",
       "date          1200858\n",
       "catcode       1200858\n",
       "feccandid     1200858\n",
       "loan          1200858\n",
       "dtype: int64"
      ]
     },
     "execution_count": 11,
     "metadata": {},
     "output_type": "execute_result"
    }
   ],
   "source": [
    "mrg.count()"
   ]
  },
  {
   "cell_type": "code",
   "execution_count": 12,
   "metadata": {
    "collapsed": false
   },
   "outputs": [],
   "source": [
    "dff=mrg[['feccandid', 'cid','date','pacid','amount', ]].copy()\n",
    "\n",
    "dff['pacamtsum'] = dff.groupby(['date', 'pacid', 'cid']).\\\n",
    "amount.transform('sum')\n",
    "dff.drop(['amount'], axis=1, inplace=True)\n",
    "dff.drop_duplicates(inplace=True)"
   ]
  },
  {
   "cell_type": "code",
   "execution_count": 13,
   "metadata": {
    "collapsed": false
   },
   "outputs": [],
   "source": [
    "df=mrg[['cid','date','amount']].copy()\n",
    "\n",
    "df['catamtsum']=df.groupby(['date', 'cid']).\\\n",
    "amount.transform('sum')\n",
    "df.drop(['amount'], axis=1, inplace=True)\n",
    "df.drop_duplicates(inplace=True)"
   ]
  },
  {
   "cell_type": "code",
   "execution_count": 14,
   "metadata": {
    "collapsed": false
   },
   "outputs": [],
   "source": [
    "dffmerge=pd.merge(dff, df, how='left', on=['cid', 'date'], sort=True)\n",
    "dffmerge.drop_duplicates(inplace=True)"
   ]
  },
  {
   "cell_type": "code",
   "execution_count": 15,
   "metadata": {
    "collapsed": false
   },
   "outputs": [],
   "source": [
    "dq=mrg[['paccfscore','pacid']].copy()#feccandcfscore','pacfscore','catcode', 'feccandid', 'cycle', \\\n",
    "dq.drop_duplicates(inplace=True)#'loan'], axis=1, inplace=True)"
   ]
  },
  {
   "cell_type": "code",
   "execution_count": 16,
   "metadata": {
    "collapsed": false
   },
   "outputs": [
    {
     "data": {
      "text/plain": [
       "8437"
      ]
     },
     "execution_count": 16,
     "metadata": {},
     "output_type": "execute_result"
    }
   ],
   "source": [
    "dq.pacid.nunique()"
   ]
  },
  {
   "cell_type": "code",
   "execution_count": 17,
   "metadata": {
    "collapsed": false
   },
   "outputs": [
    {
     "data": {
      "text/plain": [
       "paccfscore    3193\n",
       "pacid            0\n",
       "dtype: int64"
      ]
     },
     "execution_count": 17,
     "metadata": {},
     "output_type": "execute_result"
    }
   ],
   "source": [
    "dq.isnull().sum()"
   ]
  },
  {
   "cell_type": "code",
   "execution_count": 18,
   "metadata": {
    "collapsed": false
   },
   "outputs": [],
   "source": [
    "dffmerge=pd.merge(dffmerge, dq, how='left', on='pacid', sort=True)\n",
    "dffmerge.drop_duplicates(inplace=True)"
   ]
  },
  {
   "cell_type": "code",
   "execution_count": 19,
   "metadata": {
    "collapsed": true
   },
   "outputs": [],
   "source": [
    "dffmerge.dropna(subset=(['paccfscore']), inplace=True)"
   ]
  },
  {
   "cell_type": "code",
   "execution_count": 20,
   "metadata": {
    "collapsed": false
   },
   "outputs": [],
   "source": [
    "dffmerge['stdv_paccfscore']=dffmerge.groupby(['date', 'cid']).\\\n",
    "paccfscore.transform('std')\n"
   ]
  },
  {
   "cell_type": "code",
   "execution_count": 21,
   "metadata": {
    "collapsed": false
   },
   "outputs": [
    {
     "data": {
      "text/plain": [
       "feccandid          751112\n",
       "cid                751112\n",
       "date               751112\n",
       "pacid              751112\n",
       "pacamtsum          751112\n",
       "catamtsum          751112\n",
       "paccfscore         751112\n",
       "stdv_paccfscore    748757\n",
       "dtype: int64"
      ]
     },
     "execution_count": 21,
     "metadata": {},
     "output_type": "execute_result"
    }
   ],
   "source": [
    "dffmerge.count()"
   ]
  },
  {
   "cell_type": "code",
   "execution_count": 22,
   "metadata": {
    "collapsed": false
   },
   "outputs": [
    {
     "data": {
      "text/html": [
       "<div>\n",
       "<table border=\"1\" class=\"dataframe\">\n",
       "  <thead>\n",
       "    <tr style=\"text-align: right;\">\n",
       "      <th></th>\n",
       "      <th>feccandid</th>\n",
       "      <th>cid</th>\n",
       "      <th>date</th>\n",
       "      <th>pacid</th>\n",
       "      <th>pacamtsum</th>\n",
       "      <th>catamtsum</th>\n",
       "      <th>paccfscore</th>\n",
       "      <th>stdv_paccfscore</th>\n",
       "    </tr>\n",
       "  </thead>\n",
       "  <tbody>\n",
       "    <tr>\n",
       "      <th>0</th>\n",
       "      <td>H2CT06014</td>\n",
       "      <td>N00000561</td>\n",
       "      <td>2005</td>\n",
       "      <td>C00000042</td>\n",
       "      <td>1000</td>\n",
       "      <td>605910</td>\n",
       "      <td>0.782</td>\n",
       "      <td>0.290863</td>\n",
       "    </tr>\n",
       "  </tbody>\n",
       "</table>\n",
       "</div>"
      ],
      "text/plain": [
       "   feccandid        cid  date      pacid  pacamtsum  catamtsum  paccfscore  \\\n",
       "0  H2CT06014  N00000561  2005  C00000042       1000     605910       0.782   \n",
       "\n",
       "   stdv_paccfscore  \n",
       "0         0.290863  "
      ]
     },
     "execution_count": 22,
     "metadata": {},
     "output_type": "execute_result"
    }
   ],
   "source": [
    "dffmerge.head(1)"
   ]
  },
  {
   "cell_type": "code",
   "execution_count": 23,
   "metadata": {
    "collapsed": false
   },
   "outputs": [],
   "source": [
    "dffmerge['catcode_cfscore'] = (dffmerge.pacamtsum / \\\n",
    "dffmerge.catamtsum) * dffmerge.paccfscore\n"
   ]
  },
  {
   "cell_type": "code",
   "execution_count": 24,
   "metadata": {
    "collapsed": false
   },
   "outputs": [],
   "source": [
    "dffmerge.drop_duplicates(['date', 'cid', 'pacamtsum'],keep='first',  inplace=True)"
   ]
  },
  {
   "cell_type": "code",
   "execution_count": 25,
   "metadata": {
    "collapsed": false
   },
   "outputs": [],
   "source": [
    "dffmerge['catcode_cfscorewtd'] = dffmerge.groupby(['date', 'cid']).\\\n",
    "catcode_cfscore.transform('sum')"
   ]
  },
  {
   "cell_type": "code",
   "execution_count": 26,
   "metadata": {
    "collapsed": true
   },
   "outputs": [],
   "source": [
    "di = pd.read_csv('Thesis/DIME/dime_recipients_all_1979_2014.csv',\\\n",
    "header=0, usecols=[1,3,23,25], names=['date', 'feccandid', 'feccandcfscore', 'feccandcfscore.dyn']) \n",
    "di = di.dropna(subset = ['feccandcfscore'])\n",
    "di = di.dropna(subset = ['feccandcfscore.dyn'])\n",
    "di = di.drop_duplicates('feccandid', keep='first')\n"
   ]
  },
  {
   "cell_type": "code",
   "execution_count": 27,
   "metadata": {
    "collapsed": false
   },
   "outputs": [
    {
     "data": {
      "text/plain": [
       "88260"
      ]
     },
     "execution_count": 27,
     "metadata": {},
     "output_type": "execute_result"
    }
   ],
   "source": [
    "di.feccandid.nunique()"
   ]
  },
  {
   "cell_type": "code",
   "execution_count": 28,
   "metadata": {
    "collapsed": false
   },
   "outputs": [],
   "source": [
    "dffmerge= pd.merge(di, dffmerge, on=['feccandid', 'date'], how='right')\n",
    "#dffmerge.drop_duplicates(inplace=True, keep='first')"
   ]
  },
  {
   "cell_type": "code",
   "execution_count": 29,
   "metadata": {
    "collapsed": false
   },
   "outputs": [],
   "source": [
    "dffmerge['feccandcfscore.dyn'].fillna(dffmerge.feccandcfscore, inplace=True)## by employing this line\\\n",
    "## line of code I am able to remove 1383 NaN values\n",
    "\n",
    "dffmerge['catcode_cfscoremean']=dffmerge.groupby(['date', 'cid']).catcode_cfscorewtd.transform('mean')\n",
    "\n",
    "dffmerge['cfcontrol']=(dffmerge['catcode_cfscoremean']-dffmerge['feccandcfscore.dyn'])"
   ]
  },
  {
   "cell_type": "code",
   "execution_count": 30,
   "metadata": {
    "collapsed": false,
    "scrolled": false
   },
   "outputs": [
    {
     "data": {
      "text/html": [
       "<div>\n",
       "<table border=\"1\" class=\"dataframe\">\n",
       "  <thead>\n",
       "    <tr style=\"text-align: right;\">\n",
       "      <th></th>\n",
       "      <th>date</th>\n",
       "      <th>feccandid</th>\n",
       "      <th>feccandcfscore</th>\n",
       "      <th>feccandcfscore.dyn</th>\n",
       "      <th>cid</th>\n",
       "      <th>pacid</th>\n",
       "      <th>pacamtsum</th>\n",
       "      <th>catamtsum</th>\n",
       "      <th>paccfscore</th>\n",
       "      <th>stdv_paccfscore</th>\n",
       "      <th>catcode_cfscore</th>\n",
       "      <th>catcode_cfscorewtd</th>\n",
       "      <th>catcode_cfscoremean</th>\n",
       "      <th>cfcontrol</th>\n",
       "    </tr>\n",
       "  </thead>\n",
       "  <tbody>\n",
       "    <tr>\n",
       "      <th>0</th>\n",
       "      <td>2006.0</td>\n",
       "      <td>S6WY00183</td>\n",
       "      <td>-0.549</td>\n",
       "      <td>-0.544</td>\n",
       "      <td>N00027685</td>\n",
       "      <td>C00003558</td>\n",
       "      <td>5000</td>\n",
       "      <td>7000</td>\n",
       "      <td>-0.677</td>\n",
       "      <td>0.199786</td>\n",
       "      <td>-0.483571</td>\n",
       "      <td>-0.606143</td>\n",
       "      <td>-0.606143</td>\n",
       "      <td>-0.062143</td>\n",
       "    </tr>\n",
       "    <tr>\n",
       "      <th>1</th>\n",
       "      <td>2006.0</td>\n",
       "      <td>S6WY00183</td>\n",
       "      <td>-0.549</td>\n",
       "      <td>-0.544</td>\n",
       "      <td>N00027685</td>\n",
       "      <td>C00027359</td>\n",
       "      <td>1000</td>\n",
       "      <td>7000</td>\n",
       "      <td>-0.858</td>\n",
       "      <td>0.199786</td>\n",
       "      <td>-0.122571</td>\n",
       "      <td>-0.606143</td>\n",
       "      <td>-0.606143</td>\n",
       "      <td>-0.062143</td>\n",
       "    </tr>\n",
       "    <tr>\n",
       "      <th>2</th>\n",
       "      <td>2006.0</td>\n",
       "      <td>S6WI00129</td>\n",
       "      <td>-1.818</td>\n",
       "      <td>-1.769</td>\n",
       "      <td>N00027684</td>\n",
       "      <td>C00428664</td>\n",
       "      <td>201</td>\n",
       "      <td>536</td>\n",
       "      <td>-1.683</td>\n",
       "      <td>NaN</td>\n",
       "      <td>-0.631125</td>\n",
       "      <td>-0.631125</td>\n",
       "      <td>-0.631125</td>\n",
       "      <td>1.137875</td>\n",
       "    </tr>\n",
       "    <tr>\n",
       "      <th>3</th>\n",
       "      <td>2006.0</td>\n",
       "      <td>S6WA00263</td>\n",
       "      <td>-1.527</td>\n",
       "      <td>-1.436</td>\n",
       "      <td>N00028623</td>\n",
       "      <td>C00114439</td>\n",
       "      <td>4610</td>\n",
       "      <td>4610</td>\n",
       "      <td>-1.070</td>\n",
       "      <td>NaN</td>\n",
       "      <td>-1.070000</td>\n",
       "      <td>-1.070000</td>\n",
       "      <td>-1.070000</td>\n",
       "      <td>0.366000</td>\n",
       "    </tr>\n",
       "    <tr>\n",
       "      <th>4</th>\n",
       "      <td>2006.0</td>\n",
       "      <td>S6WA00255</td>\n",
       "      <td>-1.730</td>\n",
       "      <td>-1.662</td>\n",
       "      <td>N00028059</td>\n",
       "      <td>C00361493</td>\n",
       "      <td>5120</td>\n",
       "      <td>5321</td>\n",
       "      <td>-1.675</td>\n",
       "      <td>0.005657</td>\n",
       "      <td>-1.611727</td>\n",
       "      <td>-1.675302</td>\n",
       "      <td>-1.675302</td>\n",
       "      <td>-0.013302</td>\n",
       "    </tr>\n",
       "  </tbody>\n",
       "</table>\n",
       "</div>"
      ],
      "text/plain": [
       "     date  feccandid  feccandcfscore  feccandcfscore.dyn        cid  \\\n",
       "0  2006.0  S6WY00183          -0.549              -0.544  N00027685   \n",
       "1  2006.0  S6WY00183          -0.549              -0.544  N00027685   \n",
       "2  2006.0  S6WI00129          -1.818              -1.769  N00027684   \n",
       "3  2006.0  S6WA00263          -1.527              -1.436  N00028623   \n",
       "4  2006.0  S6WA00255          -1.730              -1.662  N00028059   \n",
       "\n",
       "       pacid  pacamtsum  catamtsum  paccfscore  stdv_paccfscore  \\\n",
       "0  C00003558       5000       7000      -0.677         0.199786   \n",
       "1  C00027359       1000       7000      -0.858         0.199786   \n",
       "2  C00428664        201        536      -1.683              NaN   \n",
       "3  C00114439       4610       4610      -1.070              NaN   \n",
       "4  C00361493       5120       5321      -1.675         0.005657   \n",
       "\n",
       "   catcode_cfscore  catcode_cfscorewtd  catcode_cfscoremean  cfcontrol  \n",
       "0        -0.483571           -0.606143            -0.606143  -0.062143  \n",
       "1        -0.122571           -0.606143            -0.606143  -0.062143  \n",
       "2        -0.631125           -0.631125            -0.631125   1.137875  \n",
       "3        -1.070000           -1.070000            -1.070000   0.366000  \n",
       "4        -1.611727           -1.675302            -1.675302  -0.013302  "
      ]
     },
     "execution_count": 30,
     "metadata": {},
     "output_type": "execute_result"
    }
   ],
   "source": [
    "dffmerge.head()"
   ]
  },
  {
   "cell_type": "code",
   "execution_count": 31,
   "metadata": {
    "collapsed": false
   },
   "outputs": [],
   "source": [
    "dffmerge.drop(['feccandid', 'feccandcfscore.dyn', 'feccandcfscore', \\\n",
    "'pacid', 'pacamtsum', 'catamtsum', 'paccfscore',  \\\n",
    "'catcode_cfscore', 'catcode_cfscorewtd', 'catcode_cfscoremean'], \\\n",
    "              axis=1, inplace=True)"
   ]
  },
  {
   "cell_type": "code",
   "execution_count": 32,
   "metadata": {
    "collapsed": false
   },
   "outputs": [
    {
     "data": {
      "text/html": [
       "<div>\n",
       "<table border=\"1\" class=\"dataframe\">\n",
       "  <thead>\n",
       "    <tr style=\"text-align: right;\">\n",
       "      <th></th>\n",
       "      <th>date</th>\n",
       "      <th>cid</th>\n",
       "      <th>stdv_paccfscore</th>\n",
       "      <th>cfcontrol</th>\n",
       "    </tr>\n",
       "  </thead>\n",
       "  <tbody>\n",
       "    <tr>\n",
       "      <th>0</th>\n",
       "      <td>2006.0</td>\n",
       "      <td>N00027685</td>\n",
       "      <td>0.199786</td>\n",
       "      <td>-0.062143</td>\n",
       "    </tr>\n",
       "  </tbody>\n",
       "</table>\n",
       "</div>"
      ],
      "text/plain": [
       "     date        cid  stdv_paccfscore  cfcontrol\n",
       "0  2006.0  N00027685         0.199786  -0.062143"
      ]
     },
     "execution_count": 32,
     "metadata": {},
     "output_type": "execute_result"
    }
   ],
   "source": [
    "dffmerge.head(1)"
   ]
  },
  {
   "cell_type": "code",
   "execution_count": 33,
   "metadata": {
    "collapsed": false
   },
   "outputs": [
    {
     "data": {
      "text/plain": [
       "date               117388\n",
       "cid                117388\n",
       "stdv_paccfscore    115033\n",
       "cfcontrol           19969\n",
       "dtype: int64"
      ]
     },
     "execution_count": 33,
     "metadata": {},
     "output_type": "execute_result"
    }
   ],
   "source": [
    "dffmerge.count()"
   ]
  },
  {
   "cell_type": "code",
   "execution_count": null,
   "metadata": {
    "collapsed": true
   },
   "outputs": [],
   "source": []
  },
  {
   "cell_type": "code",
   "execution_count": 34,
   "metadata": {
    "collapsed": false
   },
   "outputs": [],
   "source": [
    "dffmerge.to_csv('crsp.dime.todf', index=False)"
   ]
  },
  {
   "cell_type": "code",
   "execution_count": 35,
   "metadata": {
    "collapsed": false
   },
   "outputs": [
    {
     "data": {
      "text/plain": [
       "4040"
      ]
     },
     "execution_count": 35,
     "metadata": {},
     "output_type": "execute_result"
    }
   ],
   "source": [
    "dffmerge.cid.nunique()"
   ]
  }
 ],
 "metadata": {
  "kernelspec": {
   "display_name": "Python 3",
   "language": "python",
   "name": "python3"
  },
  "language_info": {
   "codemirror_mode": {
    "name": "ipython",
    "version": 3
   },
   "file_extension": ".py",
   "mimetype": "text/x-python",
   "name": "python",
   "nbconvert_exporter": "python",
   "pygments_lexer": "ipython3",
   "version": "3.5.1"
  }
 },
 "nbformat": 4,
 "nbformat_minor": 0
}
