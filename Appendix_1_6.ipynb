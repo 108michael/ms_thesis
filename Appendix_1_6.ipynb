{
 "cells": [
  {
   "cell_type": "raw",
   "metadata": {},
   "source": [
    "\\subsection{Appendix 1.6}"
   ]
  },
  {
   "cell_type": "raw",
   "metadata": {},
   "source": [
    "Language: Python"
   ]
  },
  {
   "cell_type": "markdown",
   "metadata": {},
   "source": [
    "## Reading in and parsing MapLight data"
   ]
  },
  {
   "cell_type": "raw",
   "metadata": {},
   "source": [
    "Reading in MapLight data that provides industry\\special-interest postion on bills\\cite{maplight}"
   ]
  },
  {
   "cell_type": "code",
   "execution_count": 3,
   "metadata": {
    "collapsed": false
   },
   "outputs": [],
   "source": [
    "import pandas as pd\n",
    "import urllib \n",
    "import json\n",
    "\n",
    "url = 'http://maplight.org/services_open_api/map.bill_list_v1.json?apikey=79bf8eb2ded72751cc7cda5fc625a7a7&jurisdiction=us&session=109&include_organizations=1&has_organizations=1'\n",
    "\n",
    "json_obj = urllib.request.urlopen(url)\n",
    "data = json.loads(json_obj.read().decode('utf-8'))"
   ]
  },
  {
   "cell_type": "code",
   "execution_count": 4,
   "metadata": {
    "collapsed": false
   },
   "outputs": [],
   "source": [
    "url = 'http://maplight.org/services_open_api/map.bill_list_v1.json?apikey=79bf8eb2ded72751cc7cda5fc625a7a7&jurisdiction=us&session=110&include_organizations=1&has_organizations=1'\n",
    "\n",
    "kson_obj = urllib.request.urlopen(url)\n",
    "fata = json.loads(kson_obj.read().decode('utf-8'))\n"
   ]
  },
  {
   "cell_type": "code",
   "execution_count": 5,
   "metadata": {
    "collapsed": false
   },
   "outputs": [],
   "source": [
    "url = 'http://maplight.org/services_open_api/map.bill_list_v1.json?apikey=79bf8eb2ded72751cc7cda5fc625a7a7&jurisdiction=us&session=111&include_organizations=1&has_organizations=1'\n",
    "\n",
    "lson_obj = urllib.request.urlopen(url)\n",
    "hata = json.loads(lson_obj.read().decode('utf-8'))"
   ]
  },
  {
   "cell_type": "code",
   "execution_count": 6,
   "metadata": {
    "collapsed": true
   },
   "outputs": [],
   "source": [
    "url = 'http://maplight.org/services_open_api/map.bill_list_v1.json?apikey=79bf8eb2ded72751cc7cda5fc625a7a7&jurisdiction=us&session=112&include_organizations=1&has_organizations=1'\n",
    "\n",
    "mson_obj = urllib.request.urlopen(url)\n",
    "jata = json.loads(mson_obj.read().decode('utf-8'))"
   ]
  },
  {
   "cell_type": "code",
   "execution_count": 7,
   "metadata": {
    "collapsed": true
   },
   "outputs": [],
   "source": [
    "url = 'http://maplight.org/services_open_api/map.bill_list_v1.json?apikey=79bf8eb2ded72751cc7cda5fc625a7a7&jurisdiction=us&session=113&include_organizations=1&has_organizations=1'\n",
    "\n",
    "nson_obj = urllib.request.urlopen(url)\n",
    "lata = json.loads(nson_obj.read().decode('utf-8'))"
   ]
  },
  {
   "cell_type": "raw",
   "metadata": {},
   "source": [
    "Parsing MapLight Data for bills--session of congress, bill prefix, bill number--and the organization supporting or opposing the respective bill--organization id, name, disposition, and industry/special-interest code "
   ]
  },
  {
   "cell_type": "code",
   "execution_count": 8,
   "metadata": {
    "collapsed": false
   },
   "outputs": [],
   "source": [
    "import os\n",
    "import os.path\n",
    "import csv\n",
    "\n",
    "\n",
    "path = '/home/jayaramdas/anaconda3/'\n",
    "\n",
    "outputfile = open('Thesis/MapLight/mpl109.csv', 'w', \\\n",
    "  newline='')\n",
    "outputwriter = csv.writer(outputfile)\n",
    "\n",
    "for bill in data['bills']:\n",
    "        a = bill.get('session')\n",
    "        b = bill.get('prefix')\n",
    "        c = bill.get('number')\n",
    "                \n",
    "        for organization in bill['organizations']:\n",
    "            e = organization.get('organization_id')\n",
    "            f = organization.get('name')\n",
    "            g = organization.get('disposition')\n",
    "            h = organization.get('catcode')\n",
    "\n",
    "            outputwriter.writerow([a, b, c, e, f, g, h])\n",
    "            outputfile.flush()"
   ]
  },
  {
   "cell_type": "code",
   "execution_count": 9,
   "metadata": {
    "collapsed": false
   },
   "outputs": [],
   "source": [
    "path = '/home/jayaramdas/anaconda3/'\n",
    "\n",
    "outputfile = open('Thesis/MapLight/mpl110.csv', 'w', \\\n",
    "  newline='')\n",
    "outputwriter = csv.writer(outputfile)\n",
    "\n",
    "for bill in fata['bills']:\n",
    "        a = bill.get('session')\n",
    "        b = bill.get('prefix')\n",
    "        c = bill.get('number')\n",
    "                \n",
    "        for organization in bill['organizations']:\n",
    "            e = organization.get('organization_id')\n",
    "            f = organization.get('name')\n",
    "            g = organization.get('disposition')\n",
    "            h = organization.get('catcode')\n",
    "\n",
    "            outputwriter.writerow([a, b, c, e, f, g, h])\n",
    "            outputfile.flush()"
   ]
  },
  {
   "cell_type": "code",
   "execution_count": 10,
   "metadata": {
    "collapsed": false
   },
   "outputs": [],
   "source": [
    "path = '/home/jayaramdas/anaconda3/'\n",
    "\n",
    "outputfile = open('Thesis/MapLight/mpl111.csv', 'w', \\\n",
    "  newline='')\n",
    "outputwriter = csv.writer(outputfile)\n",
    "\n",
    "for bill in hata['bills']:\n",
    "        a = bill.get('session')\n",
    "        b = bill.get('prefix')\n",
    "        c = bill.get('number')\n",
    "                \n",
    "        for organization in bill['organizations']:\n",
    "            e = organization.get('organization_id')\n",
    "            f = organization.get('name')\n",
    "            g = organization.get('disposition')\n",
    "            h = organization.get('catcode')\n",
    "\n",
    "            outputwriter.writerow([a, b, c, e, f, g, h])\n",
    "            outputfile.flush()"
   ]
  },
  {
   "cell_type": "code",
   "execution_count": 11,
   "metadata": {
    "collapsed": false
   },
   "outputs": [],
   "source": [
    "path = '/home/jayaramdas/anaconda3/'\n",
    "\n",
    "outputfile = open('Thesis/MapLight/mpl112.csv', 'w', \\\n",
    "  newline='')\n",
    "outputwriter = csv.writer(outputfile)\n",
    "    \n",
    "for bill in jata['bills']:\n",
    "        a = bill.get('session')\n",
    "        b = bill.get('prefix')\n",
    "        c = bill.get('number')\n",
    "                \n",
    "        for organization in bill['organizations']:\n",
    "            e = organization.get('organization_id')\n",
    "            f = organization.get('name')\n",
    "            g = organization.get('disposition')\n",
    "            h = organization.get('catcode')\n",
    "\n",
    "            outputwriter.writerow([a, b, c, e, f, g, h])\n",
    "            outputfile.flush()"
   ]
  },
  {
   "cell_type": "code",
   "execution_count": 12,
   "metadata": {
    "collapsed": false
   },
   "outputs": [],
   "source": [
    "path = '/home/jayaramdas/anaconda3/'\n",
    "\n",
    "outputfile = open('Thesis/MapLight/mpl113.csv', 'w', \\\n",
    "  newline='')\n",
    "outputwriter = csv.writer(outputfile)\n",
    "\n",
    "for bill in lata['bills']:\n",
    "        a = bill.get('session')\n",
    "        b = bill.get('prefix')\n",
    "        c = bill.get('number')\n",
    "                \n",
    "        for organization in bill['organizations']:\n",
    "            e = organization.get('organization_id')\n",
    "            f = organization.get('name')\n",
    "            g = organization.get('disposition')\n",
    "            h = organization.get('catcode')\n",
    "\n",
    "            outputwriter.writerow([a, b, c, e, f, g, h])\n",
    "            outputfile.flush()"
   ]
  },
  {
   "cell_type": "markdown",
   "metadata": {},
   "source": [
    "## Reading in and cleaning parsed MapLight data: send to csv (mplbills)"
   ]
  },
  {
   "cell_type": "code",
   "execution_count": 13,
   "metadata": {
    "collapsed": false
   },
   "outputs": [
    {
     "data": {
      "text/plain": [
       "session            0\n",
       "prefix             0\n",
       "number             0\n",
       "organization_id    0\n",
       "name               0\n",
       "disposition        0\n",
       "catcode            0\n",
       "dtype: int64"
      ]
     },
     "execution_count": 13,
     "metadata": {},
     "output_type": "execute_result"
    }
   ],
   "source": [
    "b = pd.read_csv('Thesis/MapLight/mpl113.csv', names = \\\n",
    "    ['session', 'prefix', 'number', 'organization_id', 'name', 'disposition', 'catcode'])\n",
    "c = pd.read_csv('Thesis/MapLight/mpl112.csv', names = \\\n",
    "    ['session', 'prefix', 'number', 'organization_id', 'name', 'disposition', 'catcode'])\n",
    "d = pd.read_csv('Thesis/MapLight/mpl111.csv', names = \\\n",
    "    ['session', 'prefix', 'number', 'organization_id', 'name', 'disposition', 'catcode'])\n",
    "e = pd.read_csv('Thesis/MapLight/mpl110.csv', names = \\\n",
    "    ['session', 'prefix', 'number', 'organization_id', 'name', 'disposition', 'catcode'])\n",
    "f = pd.read_csv('Thesis/MapLight/mpl109.csv', names = \\\n",
    "    ['session', 'prefix', 'number', 'organization_id', 'name', 'disposition', 'catcode'])\n",
    "frames = [b, c, d, e, f]\n",
    "\n",
    "result = pd.concat(frames) \n",
    "\n",
    "result = result.dropna(subset=['disposition', 'catcode'], how='any')\n",
    "\n",
    "result.isnull().sum()"
   ]
  },
  {
   "cell_type": "code",
   "execution_count": 14,
   "metadata": {
    "collapsed": false
   },
   "outputs": [],
   "source": [
    "import pandas as pd\n",
    "\n",
    "   \n",
    "result.replace({'prefix': {r'^(H|HR|HC|HJ|)$': 'hr', r'^(S|SR|SC|SJ|)$': 's'}}, regex=True, inplace=True)\n",
    "\n",
    "\n",
    "result[\"bills\"] = result[\"prefix\"] + result[\"number\"].map(str) + '-' + result['session'].map(str)"
   ]
  },
  {
   "cell_type": "raw",
   "metadata": {},
   "source": [
    "Here I drop all dispositions == oppose. This assumes that organization dispositions are homogenous across bills, i.e. all organizations either support or oppose a given bill; it may be that organizations take different positions on a given bill, as much is not considered in the analysis."
   ]
  },
  {
   "cell_type": "code",
   "execution_count": 15,
   "metadata": {
    "collapsed": true
   },
   "outputs": [],
   "source": [
    "result=result.drop(['prefix', 'number', 'organization_id', 'name'], axis=1)\n",
    "result=result[(result['disposition']=='support')]"
   ]
  },
  {
   "cell_type": "code",
   "execution_count": 16,
   "metadata": {
    "collapsed": false
   },
   "outputs": [
    {
     "data": {
      "text/html": [
       "<div>\n",
       "<table border=\"1\" class=\"dataframe\">\n",
       "  <thead>\n",
       "    <tr style=\"text-align: right;\">\n",
       "      <th></th>\n",
       "      <th>session</th>\n",
       "      <th>disposition</th>\n",
       "      <th>catcode</th>\n",
       "      <th>bills</th>\n",
       "    </tr>\n",
       "  </thead>\n",
       "  <tbody>\n",
       "    <tr>\n",
       "      <th>0</th>\n",
       "      <td>113</td>\n",
       "      <td>support</td>\n",
       "      <td>J5100</td>\n",
       "      <td>hr104-113</td>\n",
       "    </tr>\n",
       "  </tbody>\n",
       "</table>\n",
       "</div>"
      ],
      "text/plain": [
       "   session disposition catcode      bills\n",
       "0      113     support   J5100  hr104-113"
      ]
     },
     "execution_count": 16,
     "metadata": {},
     "output_type": "execute_result"
    }
   ],
   "source": [
    "result.head(1)"
   ]
  },
  {
   "cell_type": "code",
   "execution_count": 17,
   "metadata": {
    "collapsed": false
   },
   "outputs": [],
   "source": [
    "result.to_csv('Thesis/MapLight/mplbills', mode = 'w', index=False)"
   ]
  },
  {
   "cell_type": "raw",
   "metadata": {},
   "source": [
    "Checking integrity of data frame"
   ]
  },
  {
   "cell_type": "code",
   "execution_count": 18,
   "metadata": {
    "collapsed": false
   },
   "outputs": [],
   "source": [
    "import pandas as pd\n",
    "\n",
    "result= pd.read_csv('Thesis/MapLight/mplbills')"
   ]
  },
  {
   "cell_type": "raw",
   "metadata": {},
   "source": [
    "Counting unique bills, catcodes, and bills per session"
   ]
  },
  {
   "cell_type": "code",
   "execution_count": 19,
   "metadata": {
    "collapsed": false,
    "scrolled": true
   },
   "outputs": [
    {
     "data": {
      "text/plain": [
       "4506"
      ]
     },
     "execution_count": 19,
     "metadata": {},
     "output_type": "execute_result"
    }
   ],
   "source": [
    "result.bills.nunique()"
   ]
  },
  {
   "cell_type": "code",
   "execution_count": 20,
   "metadata": {
    "collapsed": false
   },
   "outputs": [
    {
     "data": {
      "text/plain": [
       "428"
      ]
     },
     "execution_count": 20,
     "metadata": {},
     "output_type": "execute_result"
    }
   ],
   "source": [
    "result.catcode.nunique()"
   ]
  },
  {
   "cell_type": "code",
   "execution_count": 21,
   "metadata": {
    "collapsed": false
   },
   "outputs": [
    {
     "data": {
      "text/plain": [
       "session\n",
       "109      42\n",
       "110    1228\n",
       "111     696\n",
       "112    1181\n",
       "113    1359\n",
       "Name: bills, dtype: int64"
      ]
     },
     "execution_count": 21,
     "metadata": {},
     "output_type": "execute_result"
    }
   ],
   "source": [
    "result.groupby('session').bills.nunique()"
   ]
  }
 ],
 "metadata": {
  "kernelspec": {
   "display_name": "Python 3",
   "language": "python",
   "name": "python3"
  },
  "language_info": {
   "codemirror_mode": {
    "name": "ipython",
    "version": 3
   },
   "file_extension": ".py",
   "mimetype": "text/x-python",
   "name": "python",
   "nbconvert_exporter": "python",
   "pygments_lexer": "ipython3",
   "version": "3.5.1"
  }
 },
 "nbformat": 4,
 "nbformat_minor": 0
}
