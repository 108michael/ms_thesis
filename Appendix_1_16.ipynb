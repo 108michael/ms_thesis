{
 "cells": [
  {
   "cell_type": "code",
   "execution_count": 127,
   "metadata": {
    "collapsed": true
   },
   "outputs": [],
   "source": [
    "import pandas as pd\n",
    "import numpy as np"
   ]
  },
  {
   "cell_type": "code",
   "execution_count": 128,
   "metadata": {
    "collapsed": true
   },
   "outputs": [],
   "source": [
    "df=pd.read_csv('femodel.1a.csv')"
   ]
  },
  {
   "cell_type": "code",
   "execution_count": 129,
   "metadata": {
    "collapsed": false,
    "scrolled": true
   },
   "outputs": [
    {
     "data": {
      "text/plain": [
       "['date',\n",
       " 'years_exp',\n",
       " 'cid',\n",
       " 'cfcontrol',\n",
       " 'leg_totalbills',\n",
       " 'state',\n",
       " 'amtsumlag_1',\n",
       " 'amtsumfwd_1',\n",
       " 'unemployment',\n",
       " 'billsum',\n",
       " 'amtsum',\n",
       " 'Republican',\n",
       " 'sen',\n",
       " 'sen_amtsum',\n",
       " 'sen_amtsumlag1',\n",
       " 'sen_amtsumfwd1',\n",
       " 'Republican_amtsum',\n",
       " 'Republican_amtsumlag1',\n",
       " 'Republican_amtsumfwd1']"
      ]
     },
     "execution_count": 129,
     "metadata": {},
     "output_type": "execute_result"
    }
   ],
   "source": [
    "df.columns.tolist()"
   ]
  },
  {
   "cell_type": "code",
   "execution_count": 130,
   "metadata": {
    "collapsed": false,
    "scrolled": false
   },
   "outputs": [
    {
     "data": {
      "text/html": [
       "<div>\n",
       "<table border=\"1\" class=\"dataframe\">\n",
       "  <thead>\n",
       "    <tr style=\"text-align: right;\">\n",
       "      <th></th>\n",
       "      <th>date</th>\n",
       "      <th>years_exp</th>\n",
       "      <th>cid</th>\n",
       "      <th>cfcontrol</th>\n",
       "      <th>leg_totalbills</th>\n",
       "      <th>state</th>\n",
       "      <th>amtsumlag_1</th>\n",
       "      <th>amtsumfwd_1</th>\n",
       "      <th>unemployment</th>\n",
       "      <th>billsum</th>\n",
       "      <th>amtsum</th>\n",
       "      <th>Republican</th>\n",
       "      <th>sen</th>\n",
       "      <th>sen_amtsum</th>\n",
       "      <th>sen_amtsumlag1</th>\n",
       "      <th>sen_amtsumfwd1</th>\n",
       "      <th>Republican_amtsum</th>\n",
       "      <th>Republican_amtsumlag1</th>\n",
       "      <th>Republican_amtsumfwd1</th>\n",
       "    </tr>\n",
       "  </thead>\n",
       "  <tbody>\n",
       "    <tr>\n",
       "      <th>0</th>\n",
       "      <td>2005.0</td>\n",
       "      <td>17.0</td>\n",
       "      <td>N00007665</td>\n",
       "      <td>0.0</td>\n",
       "      <td>9.0</td>\n",
       "      <td>NaN</td>\n",
       "      <td>0.0</td>\n",
       "      <td>21.07</td>\n",
       "      <td>0.0</td>\n",
       "      <td>0.0</td>\n",
       "      <td>30.4</td>\n",
       "      <td>0.0</td>\n",
       "      <td>0.0</td>\n",
       "      <td>0.0</td>\n",
       "      <td>0.0</td>\n",
       "      <td>0.0</td>\n",
       "      <td>0.0</td>\n",
       "      <td>0.0</td>\n",
       "      <td>0.0</td>\n",
       "    </tr>\n",
       "  </tbody>\n",
       "</table>\n",
       "</div>"
      ],
      "text/plain": [
       "     date  years_exp        cid  cfcontrol  leg_totalbills state  amtsumlag_1  \\\n",
       "0  2005.0       17.0  N00007665        0.0             9.0   NaN          0.0   \n",
       "\n",
       "   amtsumfwd_1  unemployment  billsum  amtsum  Republican  sen  sen_amtsum  \\\n",
       "0        21.07           0.0      0.0    30.4         0.0  0.0         0.0   \n",
       "\n",
       "   sen_amtsumlag1  sen_amtsumfwd1  Republican_amtsum  Republican_amtsumlag1  \\\n",
       "0             0.0             0.0                0.0                    0.0   \n",
       "\n",
       "   Republican_amtsumfwd1  \n",
       "0                    0.0  "
      ]
     },
     "execution_count": 130,
     "metadata": {},
     "output_type": "execute_result"
    }
   ],
   "source": [
    "df.head(1)"
   ]
  },
  {
   "cell_type": "code",
   "execution_count": 131,
   "metadata": {
    "collapsed": false,
    "scrolled": false
   },
   "outputs": [
    {
     "data": {
      "text/plain": [
       "6459"
      ]
     },
     "execution_count": 131,
     "metadata": {},
     "output_type": "execute_result"
    }
   ],
   "source": [
    "len (df)"
   ]
  },
  {
   "cell_type": "code",
   "execution_count": 132,
   "metadata": {
    "collapsed": false,
    "scrolled": true
   },
   "outputs": [
    {
     "data": {
      "text/html": [
       "<div>\n",
       "<table border=\"1\" class=\"dataframe\">\n",
       "  <thead>\n",
       "    <tr style=\"text-align: right;\">\n",
       "      <th></th>\n",
       "      <th>state</th>\n",
       "      <th>date</th>\n",
       "      <th>unemployment</th>\n",
       "    </tr>\n",
       "  </thead>\n",
       "  <tbody>\n",
       "    <tr>\n",
       "      <th>1</th>\n",
       "      <td>AK</td>\n",
       "      <td>2004</td>\n",
       "      <td>7.5</td>\n",
       "    </tr>\n",
       "  </tbody>\n",
       "</table>\n",
       "</div>"
      ],
      "text/plain": [
       "  state  date  unemployment\n",
       "1    AK  2004           7.5"
      ]
     },
     "execution_count": 132,
     "metadata": {},
     "output_type": "execute_result"
    }
   ],
   "source": [
    "tz = pd.read_csv('Thesis/ExternalData/state.unemployment.csv').dropna()\n",
    "\n",
    "tz= pd.melt(tz,id_vars=['state'],var_name='years', \\\n",
    "            value_name='unemployment').sort_values(['state', 'years'])\n",
    "tz['years'] = tz['years'].astype('int64')\n",
    "tz.rename(columns={'years':'date'}, inplace=True)\n",
    "tz.head(1)"
   ]
  },
  {
   "cell_type": "code",
   "execution_count": 133,
   "metadata": {
    "collapsed": false,
    "scrolled": true
   },
   "outputs": [
    {
     "data": {
      "text/html": [
       "<div>\n",
       "<table border=\"1\" class=\"dataframe\">\n",
       "  <thead>\n",
       "    <tr style=\"text-align: right;\">\n",
       "      <th></th>\n",
       "      <th>date</th>\n",
       "      <th>years_exp</th>\n",
       "      <th>cid</th>\n",
       "      <th>cfcontrol</th>\n",
       "      <th>leg_totalbills</th>\n",
       "      <th>state</th>\n",
       "      <th>amtsumlag_1</th>\n",
       "      <th>amtsumfwd_1</th>\n",
       "      <th>unemployment</th>\n",
       "      <th>billsum</th>\n",
       "      <th>amtsum</th>\n",
       "      <th>Republican</th>\n",
       "      <th>sen</th>\n",
       "      <th>sen_amtsum</th>\n",
       "      <th>sen_amtsumlag1</th>\n",
       "      <th>sen_amtsumfwd1</th>\n",
       "      <th>Republican_amtsum</th>\n",
       "      <th>Republican_amtsumlag1</th>\n",
       "      <th>Republican_amtsumfwd1</th>\n",
       "    </tr>\n",
       "  </thead>\n",
       "  <tbody>\n",
       "    <tr>\n",
       "      <th>0</th>\n",
       "      <td>2005.0</td>\n",
       "      <td>17.0</td>\n",
       "      <td>N00007665</td>\n",
       "      <td>0.0</td>\n",
       "      <td>9.0</td>\n",
       "      <td>NaN</td>\n",
       "      <td>0.0</td>\n",
       "      <td>21.07</td>\n",
       "      <td>0.0</td>\n",
       "      <td>0.0</td>\n",
       "      <td>30.4</td>\n",
       "      <td>0.0</td>\n",
       "      <td>0.0</td>\n",
       "      <td>0.0</td>\n",
       "      <td>0.0</td>\n",
       "      <td>0.0</td>\n",
       "      <td>0.0</td>\n",
       "      <td>0.0</td>\n",
       "      <td>0.0</td>\n",
       "    </tr>\n",
       "  </tbody>\n",
       "</table>\n",
       "</div>"
      ],
      "text/plain": [
       "     date  years_exp        cid  cfcontrol  leg_totalbills state  amtsumlag_1  \\\n",
       "0  2005.0       17.0  N00007665        0.0             9.0   NaN          0.0   \n",
       "\n",
       "   amtsumfwd_1  unemployment  billsum  amtsum  Republican  sen  sen_amtsum  \\\n",
       "0        21.07           0.0      0.0    30.4         0.0  0.0         0.0   \n",
       "\n",
       "   sen_amtsumlag1  sen_amtsumfwd1  Republican_amtsum  Republican_amtsumlag1  \\\n",
       "0             0.0             0.0                0.0                    0.0   \n",
       "\n",
       "   Republican_amtsumfwd1  \n",
       "0                    0.0  "
      ]
     },
     "execution_count": 133,
     "metadata": {},
     "output_type": "execute_result"
    }
   ],
   "source": [
    "tz['unempdate_lag1']=tz.date+1\n",
    "df.head(1)"
   ]
  },
  {
   "cell_type": "code",
   "execution_count": 134,
   "metadata": {
    "collapsed": false
   },
   "outputs": [
    {
     "data": {
      "text/html": [
       "<div>\n",
       "<table border=\"1\" class=\"dataframe\">\n",
       "  <thead>\n",
       "    <tr style=\"text-align: right;\">\n",
       "      <th></th>\n",
       "      <th>state</th>\n",
       "      <th>unemplag_1</th>\n",
       "      <th>date</th>\n",
       "    </tr>\n",
       "  </thead>\n",
       "  <tbody>\n",
       "    <tr>\n",
       "      <th>1</th>\n",
       "      <td>AK</td>\n",
       "      <td>7.5</td>\n",
       "      <td>2005</td>\n",
       "    </tr>\n",
       "  </tbody>\n",
       "</table>\n",
       "</div>"
      ],
      "text/plain": [
       "  state  unemplag_1  date\n",
       "1    AK         7.5  2005"
      ]
     },
     "execution_count": 134,
     "metadata": {},
     "output_type": "execute_result"
    }
   ],
   "source": [
    "lagunemp=tz[['state', 'unemployment', 'unempdate_lag1']].copy()\n",
    "lagunemp.rename(columns={'unempdate_lag1':'date'},inplace=True)\n",
    "lagunemp.rename(columns={'unemployment':'unemplag_1'},inplace=True)\n",
    "lagunemp.head(1)"
   ]
  },
  {
   "cell_type": "code",
   "execution_count": 135,
   "metadata": {
    "collapsed": false
   },
   "outputs": [
    {
     "data": {
      "text/plain": [
       "52"
      ]
     },
     "execution_count": 135,
     "metadata": {},
     "output_type": "execute_result"
    }
   ],
   "source": [
    "tz.state.nunique()"
   ]
  },
  {
   "cell_type": "code",
   "execution_count": 136,
   "metadata": {
    "collapsed": false
   },
   "outputs": [],
   "source": [
    "df=pd.merge(df,lagunemp,on=['state', 'date'], how='left')\n",
    "df.fillna(value=0, inplace=True)"
   ]
  },
  {
   "cell_type": "code",
   "execution_count": 137,
   "metadata": {
    "collapsed": true
   },
   "outputs": [],
   "source": [
    "df['post2009_years']= df[['date']]"
   ]
  },
  {
   "cell_type": "code",
   "execution_count": 138,
   "metadata": {
    "collapsed": false
   },
   "outputs": [],
   "source": [
    "df.loc[df.post2009_years == 2005, ['post2009_years']] = 0"
   ]
  },
  {
   "cell_type": "code",
   "execution_count": 139,
   "metadata": {
    "collapsed": true
   },
   "outputs": [],
   "source": [
    "df.loc[df.post2009_years == 2006, ['post2009_years']] = 0"
   ]
  },
  {
   "cell_type": "code",
   "execution_count": 140,
   "metadata": {
    "collapsed": true
   },
   "outputs": [],
   "source": [
    "df.loc[df.post2009_years == 2007, ['post2009_years']] = 0"
   ]
  },
  {
   "cell_type": "code",
   "execution_count": 141,
   "metadata": {
    "collapsed": true
   },
   "outputs": [],
   "source": [
    "df.loc[df.post2009_years == 2008, ['post2009_years']] = 0"
   ]
  },
  {
   "cell_type": "code",
   "execution_count": 142,
   "metadata": {
    "collapsed": true
   },
   "outputs": [],
   "source": [
    "df.loc[df.post2009_years == 2009, ['post2009_years']] = 0"
   ]
  },
  {
   "cell_type": "code",
   "execution_count": 143,
   "metadata": {
    "collapsed": true
   },
   "outputs": [],
   "source": [
    "df.loc[df.post2009_years == 2010, ['post2009_years']] = 1"
   ]
  },
  {
   "cell_type": "code",
   "execution_count": 144,
   "metadata": {
    "collapsed": true
   },
   "outputs": [],
   "source": [
    "df.loc[df.post2009_years == 2011, ['post2009_years']] = 1"
   ]
  },
  {
   "cell_type": "code",
   "execution_count": 145,
   "metadata": {
    "collapsed": true
   },
   "outputs": [],
   "source": [
    "df.loc[df.post2009_years == 2012, ['post2009_years']] = 1"
   ]
  },
  {
   "cell_type": "code",
   "execution_count": 146,
   "metadata": {
    "collapsed": true
   },
   "outputs": [],
   "source": [
    "df.loc[df.post2009_years == 2013, ['post2009_years']] = 1"
   ]
  },
  {
   "cell_type": "code",
   "execution_count": 147,
   "metadata": {
    "collapsed": true
   },
   "outputs": [],
   "source": [
    "df.loc[df.post2009_years == 2014, ['post2009_years']] = 1"
   ]
  },
  {
   "cell_type": "code",
   "execution_count": 148,
   "metadata": {
    "collapsed": false
   },
   "outputs": [],
   "source": [
    "df['logleg_totalbills'] = np.log(df.leg_totalbills)"
   ]
  },
  {
   "cell_type": "code",
   "execution_count": 149,
   "metadata": {
    "collapsed": false
   },
   "outputs": [],
   "source": [
    "df['logamtsumlag_1'] = np.log(df.amtsumlag_1)"
   ]
  },
  {
   "cell_type": "code",
   "execution_count": 150,
   "metadata": {
    "collapsed": false
   },
   "outputs": [],
   "source": [
    "df['logamtsumfwd_1'] = np.log(df.amtsumfwd_1)"
   ]
  },
  {
   "cell_type": "code",
   "execution_count": 151,
   "metadata": {
    "collapsed": false
   },
   "outputs": [],
   "source": [
    "df['logamtsum'] = np.log(df.amtsum)"
   ]
  },
  {
   "cell_type": "code",
   "execution_count": 152,
   "metadata": {
    "collapsed": true
   },
   "outputs": [],
   "source": [
    "df['amtsum_post2009years']=df['amtsum']*df['post2009_years']\n",
    "\n",
    "df['amtsumfwd1_post2009years']=df['amtsumfwd_1']*df['post2009_years']\n",
    "\n",
    "df['amtsumlag1_post2009years']=df['amtsumlag_1']*df['post2009_years']"
   ]
  },
  {
   "cell_type": "code",
   "execution_count": 153,
   "metadata": {
    "collapsed": false
   },
   "outputs": [],
   "source": [
    "df['logamtsum_post2009years']=df['logamtsum']*df['post2009_years']\n",
    "\n",
    "df['logamtsumfwd1_post2009years']=df['logamtsumfwd_1']*df['post2009_years']\n",
    "\n",
    "df['logamtsumlag1_post2009years']=df['logamtsumlag_1']*df['post2009_years']"
   ]
  },
  {
   "cell_type": "code",
   "execution_count": 154,
   "metadata": {
    "collapsed": false
   },
   "outputs": [],
   "source": [
    "df.replace([np.inf, -np.inf], np.nan, inplace=True)"
   ]
  },
  {
   "cell_type": "code",
   "execution_count": 155,
   "metadata": {
    "collapsed": false
   },
   "outputs": [],
   "source": [
    "df.fillna(value=0, inplace=True)"
   ]
  },
  {
   "cell_type": "code",
   "execution_count": 156,
   "metadata": {
    "collapsed": false,
    "scrolled": true
   },
   "outputs": [],
   "source": [
    "dy = df.round(2)"
   ]
  },
  {
   "cell_type": "code",
   "execution_count": 157,
   "metadata": {
    "collapsed": false,
    "scrolled": false
   },
   "outputs": [
    {
     "data": {
      "text/html": [
       "<div>\n",
       "<table border=\"1\" class=\"dataframe\">\n",
       "  <thead>\n",
       "    <tr style=\"text-align: right;\">\n",
       "      <th></th>\n",
       "      <th>date</th>\n",
       "      <th>years_exp</th>\n",
       "      <th>cid</th>\n",
       "      <th>cfcontrol</th>\n",
       "      <th>leg_totalbills</th>\n",
       "      <th>state</th>\n",
       "      <th>amtsumlag_1</th>\n",
       "      <th>amtsumfwd_1</th>\n",
       "      <th>unemployment</th>\n",
       "      <th>billsum</th>\n",
       "      <th>...</th>\n",
       "      <th>logleg_totalbills</th>\n",
       "      <th>logamtsumlag_1</th>\n",
       "      <th>logamtsumfwd_1</th>\n",
       "      <th>logamtsum</th>\n",
       "      <th>amtsum_post2009years</th>\n",
       "      <th>amtsumfwd1_post2009years</th>\n",
       "      <th>amtsumlag1_post2009years</th>\n",
       "      <th>logamtsum_post2009years</th>\n",
       "      <th>logamtsumfwd1_post2009years</th>\n",
       "      <th>logamtsumlag1_post2009years</th>\n",
       "    </tr>\n",
       "  </thead>\n",
       "  <tbody>\n",
       "    <tr>\n",
       "      <th>0</th>\n",
       "      <td>2005.0</td>\n",
       "      <td>17.0</td>\n",
       "      <td>N00007665</td>\n",
       "      <td>0.0</td>\n",
       "      <td>9.0</td>\n",
       "      <td>0</td>\n",
       "      <td>0.0</td>\n",
       "      <td>21.07</td>\n",
       "      <td>0.0</td>\n",
       "      <td>0.0</td>\n",
       "      <td>...</td>\n",
       "      <td>2.20</td>\n",
       "      <td>0.00</td>\n",
       "      <td>3.05</td>\n",
       "      <td>3.41</td>\n",
       "      <td>0.0</td>\n",
       "      <td>0.0</td>\n",
       "      <td>0.0</td>\n",
       "      <td>0.0</td>\n",
       "      <td>0.0</td>\n",
       "      <td>0.0</td>\n",
       "    </tr>\n",
       "    <tr>\n",
       "      <th>1</th>\n",
       "      <td>2006.0</td>\n",
       "      <td>18.0</td>\n",
       "      <td>N00007665</td>\n",
       "      <td>0.0</td>\n",
       "      <td>2.0</td>\n",
       "      <td>HI</td>\n",
       "      <td>30.4</td>\n",
       "      <td>29.80</td>\n",
       "      <td>0.0</td>\n",
       "      <td>0.0</td>\n",
       "      <td>...</td>\n",
       "      <td>0.69</td>\n",
       "      <td>3.41</td>\n",
       "      <td>3.39</td>\n",
       "      <td>3.05</td>\n",
       "      <td>0.0</td>\n",
       "      <td>0.0</td>\n",
       "      <td>0.0</td>\n",
       "      <td>0.0</td>\n",
       "      <td>0.0</td>\n",
       "      <td>0.0</td>\n",
       "    </tr>\n",
       "    <tr>\n",
       "      <th>2</th>\n",
       "      <td>2007.0</td>\n",
       "      <td>19.0</td>\n",
       "      <td>N00007665</td>\n",
       "      <td>0.0</td>\n",
       "      <td>9.0</td>\n",
       "      <td>0</td>\n",
       "      <td>7.1</td>\n",
       "      <td>7.30</td>\n",
       "      <td>2.8</td>\n",
       "      <td>1.0</td>\n",
       "      <td>...</td>\n",
       "      <td>2.20</td>\n",
       "      <td>1.96</td>\n",
       "      <td>1.99</td>\n",
       "      <td>1.61</td>\n",
       "      <td>0.0</td>\n",
       "      <td>0.0</td>\n",
       "      <td>0.0</td>\n",
       "      <td>0.0</td>\n",
       "      <td>0.0</td>\n",
       "      <td>0.0</td>\n",
       "    </tr>\n",
       "    <tr>\n",
       "      <th>3</th>\n",
       "      <td>2008.0</td>\n",
       "      <td>20.0</td>\n",
       "      <td>N00007665</td>\n",
       "      <td>0.0</td>\n",
       "      <td>2.0</td>\n",
       "      <td>HI</td>\n",
       "      <td>10.0</td>\n",
       "      <td>0.00</td>\n",
       "      <td>0.0</td>\n",
       "      <td>0.0</td>\n",
       "      <td>...</td>\n",
       "      <td>0.69</td>\n",
       "      <td>2.30</td>\n",
       "      <td>0.00</td>\n",
       "      <td>2.15</td>\n",
       "      <td>0.0</td>\n",
       "      <td>0.0</td>\n",
       "      <td>0.0</td>\n",
       "      <td>0.0</td>\n",
       "      <td>0.0</td>\n",
       "      <td>0.0</td>\n",
       "    </tr>\n",
       "    <tr>\n",
       "      <th>4</th>\n",
       "      <td>2009.0</td>\n",
       "      <td>21.0</td>\n",
       "      <td>N00007665</td>\n",
       "      <td>0.0</td>\n",
       "      <td>15.0</td>\n",
       "      <td>0</td>\n",
       "      <td>1.0</td>\n",
       "      <td>4.00</td>\n",
       "      <td>0.0</td>\n",
       "      <td>0.0</td>\n",
       "      <td>...</td>\n",
       "      <td>2.71</td>\n",
       "      <td>0.00</td>\n",
       "      <td>1.39</td>\n",
       "      <td>1.10</td>\n",
       "      <td>0.0</td>\n",
       "      <td>0.0</td>\n",
       "      <td>0.0</td>\n",
       "      <td>0.0</td>\n",
       "      <td>0.0</td>\n",
       "      <td>0.0</td>\n",
       "    </tr>\n",
       "  </tbody>\n",
       "</table>\n",
       "<p>5 rows × 31 columns</p>\n",
       "</div>"
      ],
      "text/plain": [
       "     date  years_exp        cid  cfcontrol  leg_totalbills state  amtsumlag_1  \\\n",
       "0  2005.0       17.0  N00007665        0.0             9.0     0          0.0   \n",
       "1  2006.0       18.0  N00007665        0.0             2.0    HI         30.4   \n",
       "2  2007.0       19.0  N00007665        0.0             9.0     0          7.1   \n",
       "3  2008.0       20.0  N00007665        0.0             2.0    HI         10.0   \n",
       "4  2009.0       21.0  N00007665        0.0            15.0     0          1.0   \n",
       "\n",
       "   amtsumfwd_1  unemployment  billsum             ...               \\\n",
       "0        21.07           0.0      0.0             ...                \n",
       "1        29.80           0.0      0.0             ...                \n",
       "2         7.30           2.8      1.0             ...                \n",
       "3         0.00           0.0      0.0             ...                \n",
       "4         4.00           0.0      0.0             ...                \n",
       "\n",
       "   logleg_totalbills  logamtsumlag_1  logamtsumfwd_1  logamtsum  \\\n",
       "0               2.20            0.00            3.05       3.41   \n",
       "1               0.69            3.41            3.39       3.05   \n",
       "2               2.20            1.96            1.99       1.61   \n",
       "3               0.69            2.30            0.00       2.15   \n",
       "4               2.71            0.00            1.39       1.10   \n",
       "\n",
       "   amtsum_post2009years  amtsumfwd1_post2009years  amtsumlag1_post2009years  \\\n",
       "0                   0.0                       0.0                       0.0   \n",
       "1                   0.0                       0.0                       0.0   \n",
       "2                   0.0                       0.0                       0.0   \n",
       "3                   0.0                       0.0                       0.0   \n",
       "4                   0.0                       0.0                       0.0   \n",
       "\n",
       "   logamtsum_post2009years  logamtsumfwd1_post2009years  \\\n",
       "0                      0.0                          0.0   \n",
       "1                      0.0                          0.0   \n",
       "2                      0.0                          0.0   \n",
       "3                      0.0                          0.0   \n",
       "4                      0.0                          0.0   \n",
       "\n",
       "   logamtsumlag1_post2009years  \n",
       "0                          0.0  \n",
       "1                          0.0  \n",
       "2                          0.0  \n",
       "3                          0.0  \n",
       "4                          0.0  \n",
       "\n",
       "[5 rows x 31 columns]"
      ]
     },
     "execution_count": 157,
     "metadata": {},
     "output_type": "execute_result"
    }
   ],
   "source": [
    "dy.head()"
   ]
  },
  {
   "cell_type": "code",
   "execution_count": 158,
   "metadata": {
    "collapsed": false
   },
   "outputs": [],
   "source": [
    "dy['total_years'] = dy.groupby('cid').years_exp.transform('nunique')"
   ]
  },
  {
   "cell_type": "code",
   "execution_count": 159,
   "metadata": {
    "collapsed": false,
    "scrolled": true
   },
   "outputs": [],
   "source": [
    "df.drop_duplicates(inplace=True)"
   ]
  },
  {
   "cell_type": "code",
   "execution_count": 160,
   "metadata": {
    "collapsed": false
   },
   "outputs": [],
   "source": [
    "df.drop_duplicates(['date', 'cid'], inplace=True)"
   ]
  },
  {
   "cell_type": "code",
   "execution_count": 161,
   "metadata": {
    "collapsed": false
   },
   "outputs": [
    {
     "data": {
      "text/plain": [
       "['date',\n",
       " 'years_exp',\n",
       " 'cid',\n",
       " 'cfcontrol',\n",
       " 'leg_totalbills',\n",
       " 'state',\n",
       " 'amtsumlag_1',\n",
       " 'amtsumfwd_1',\n",
       " 'unemployment',\n",
       " 'billsum',\n",
       " 'amtsum',\n",
       " 'Republican',\n",
       " 'sen',\n",
       " 'sen_amtsum',\n",
       " 'sen_amtsumlag1',\n",
       " 'sen_amtsumfwd1',\n",
       " 'Republican_amtsum',\n",
       " 'Republican_amtsumlag1',\n",
       " 'Republican_amtsumfwd1',\n",
       " 'unemplag_1',\n",
       " 'post2009_years',\n",
       " 'logleg_totalbills',\n",
       " 'logamtsumlag_1',\n",
       " 'logamtsumfwd_1',\n",
       " 'logamtsum',\n",
       " 'amtsum_post2009years',\n",
       " 'amtsumfwd1_post2009years',\n",
       " 'amtsumlag1_post2009years',\n",
       " 'logamtsum_post2009years',\n",
       " 'logamtsumfwd1_post2009years',\n",
       " 'logamtsumlag1_post2009years']"
      ]
     },
     "execution_count": 161,
     "metadata": {},
     "output_type": "execute_result"
    }
   ],
   "source": [
    "df.columns.tolist()"
   ]
  },
  {
   "cell_type": "code",
   "execution_count": 162,
   "metadata": {
    "collapsed": true
   },
   "outputs": [],
   "source": [
    "df['amtsumdff'] =df['amtsum'].shift()"
   ]
  },
  {
   "cell_type": "code",
   "execution_count": 163,
   "metadata": {
    "collapsed": true
   },
   "outputs": [],
   "source": [
    "df['logamtsumdff'] = np.log(df.amtsumdff)"
   ]
  },
  {
   "cell_type": "code",
   "execution_count": 164,
   "metadata": {
    "collapsed": true
   },
   "outputs": [],
   "source": [
    "df['billsumdff'] =df['billsum'].shift()"
   ]
  },
  {
   "cell_type": "code",
   "execution_count": 165,
   "metadata": {
    "collapsed": false
   },
   "outputs": [],
   "source": [
    "df['logbillsumdff'] =np.log(df.billsumdff)"
   ]
  },
  {
   "cell_type": "code",
   "execution_count": 166,
   "metadata": {
    "collapsed": true
   },
   "outputs": [],
   "source": [
    "df['amtsumfwd_dff'] =df['amtsumfwd_1'].shift()"
   ]
  },
  {
   "cell_type": "code",
   "execution_count": 167,
   "metadata": {
    "collapsed": true
   },
   "outputs": [],
   "source": [
    "df['amtsumlag_dff'] =df['amtsumlag_1'].shift()"
   ]
  },
  {
   "cell_type": "code",
   "execution_count": 168,
   "metadata": {
    "collapsed": true
   },
   "outputs": [],
   "source": [
    "df['logamtsumlag_dff'] = np.log(df.amtsumlag_dff)"
   ]
  },
  {
   "cell_type": "code",
   "execution_count": 169,
   "metadata": {
    "collapsed": true
   },
   "outputs": [],
   "source": [
    "df['leg_totalbillsdff'] =df['leg_totalbills'].shift()"
   ]
  },
  {
   "cell_type": "code",
   "execution_count": 170,
   "metadata": {
    "collapsed": true
   },
   "outputs": [],
   "source": [
    "df['years_expdff'] =df['years_exp'].shift()"
   ]
  },
  {
   "cell_type": "code",
   "execution_count": 171,
   "metadata": {
    "collapsed": true
   },
   "outputs": [],
   "source": [
    "df['amtsumfwd1_post2009yearsdff'] =df['amtsumfwd1_post2009years'].shift()"
   ]
  },
  {
   "cell_type": "code",
   "execution_count": 172,
   "metadata": {
    "collapsed": true
   },
   "outputs": [],
   "source": [
    "df['amtsumlag1_post2009yearsdff'] =df['amtsumlag1_post2009years'].shift()"
   ]
  },
  {
   "cell_type": "code",
   "execution_count": 173,
   "metadata": {
    "collapsed": false
   },
   "outputs": [],
   "source": [
    "df['amtsum_post2009yearsdff'] =df['amtsum_post2009years'].shift()"
   ]
  },
  {
   "cell_type": "code",
   "execution_count": 174,
   "metadata": {
    "collapsed": false
   },
   "outputs": [],
   "source": [
    "df['republican_amtsumlagdff'] =df['Republican_amtsumlag1'].shift()"
   ]
  },
  {
   "cell_type": "code",
   "execution_count": 175,
   "metadata": {
    "collapsed": false
   },
   "outputs": [],
   "source": [
    "df['republican_amtsumfwd1dff'] =df['Republican_amtsumfwd1'].shift()"
   ]
  },
  {
   "cell_type": "code",
   "execution_count": 176,
   "metadata": {
    "collapsed": false
   },
   "outputs": [],
   "source": [
    "df['sen_amtsumlag1dff'] =df['sen_amtsumlag1'].shift()"
   ]
  },
  {
   "cell_type": "code",
   "execution_count": 177,
   "metadata": {
    "collapsed": false
   },
   "outputs": [],
   "source": [
    "df['sen_amtsumfwd1dff'] =df['sen_amtsumfwd1'].shift()"
   ]
  },
  {
   "cell_type": "code",
   "execution_count": 178,
   "metadata": {
    "collapsed": false
   },
   "outputs": [],
   "source": [
    "df['sen_amtsumdff'] =df['sen_amtsum'].shift()"
   ]
  },
  {
   "cell_type": "code",
   "execution_count": 179,
   "metadata": {
    "collapsed": false
   },
   "outputs": [],
   "source": [
    "df['cfcontroldff'] =df['cfcontrol'].shift()"
   ]
  },
  {
   "cell_type": "code",
   "execution_count": 180,
   "metadata": {
    "collapsed": false
   },
   "outputs": [],
   "source": [
    "df['unemploymentdff'] =df['unemployment'].shift()"
   ]
  },
  {
   "cell_type": "code",
   "execution_count": 181,
   "metadata": {
    "collapsed": false
   },
   "outputs": [],
   "source": [
    "df.replace([np.inf, -np.inf], np.nan, inplace=True)"
   ]
  },
  {
   "cell_type": "code",
   "execution_count": 182,
   "metadata": {
    "collapsed": true
   },
   "outputs": [],
   "source": [
    "df.fillna(value=0, inplace=True)"
   ]
  },
  {
   "cell_type": "code",
   "execution_count": 183,
   "metadata": {
    "collapsed": true
   },
   "outputs": [],
   "source": [
    "df.to_csv('femodel.csv', index=False)"
   ]
  }
 ],
 "metadata": {
  "kernelspec": {
   "display_name": "Python 3",
   "language": "python",
   "name": "python3"
  },
  "language_info": {
   "codemirror_mode": {
    "name": "ipython",
    "version": 3
   },
   "file_extension": ".py",
   "mimetype": "text/x-python",
   "name": "python",
   "nbconvert_exporter": "python",
   "pygments_lexer": "ipython3",
   "version": "3.5.1"
  }
 },
 "nbformat": 4,
 "nbformat_minor": 0
}
