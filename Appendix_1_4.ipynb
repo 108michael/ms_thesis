{
 "cells": [
  {
   "cell_type": "raw",
   "metadata": {},
   "source": [
    "\\subsection{Appendix 1.4}"
   ]
  },
  {
   "cell_type": "raw",
   "metadata": {},
   "source": [
    "Language: Python"
   ]
  },
  {
   "cell_type": "markdown",
   "metadata": {},
   "source": [
    "## Merging legislators' party and state affiliation data to (billspon.legisl.merg.1): send to csv (billspon.legisl.merg.2)"
   ]
  },
  {
   "cell_type": "code",
   "execution_count": 1,
   "metadata": {
    "collapsed": true
   },
   "outputs": [],
   "source": [
    "import pandas as pd"
   ]
  },
  {
   "cell_type": "code",
   "execution_count": 2,
   "metadata": {
    "collapsed": false,
    "scrolled": true
   },
   "outputs": [],
   "source": [
    "tz = pd.read_csv('histcurrent.merged.csv', \\\n",
    "                 usecols=['id.thomas', 'party', 'state'])"
   ]
  },
  {
   "cell_type": "code",
   "execution_count": 3,
   "metadata": {
    "collapsed": false
   },
   "outputs": [],
   "source": [
    "ut = pd.read_csv('billspon_legisl_merg1')"
   ]
  },
  {
   "cell_type": "code",
   "execution_count": 4,
   "metadata": {
    "collapsed": true
   },
   "outputs": [],
   "source": [
    "merged= pd.merge(tz,ut, on='id.thomas', how='right')"
   ]
  },
  {
   "cell_type": "raw",
   "metadata": {},
   "source": [
    "Checking integrity of data frame"
   ]
  },
  {
   "cell_type": "code",
   "execution_count": 5,
   "metadata": {
    "collapsed": false
   },
   "outputs": [
    {
     "data": {
      "text/plain": [
       "id.thomas         0\n",
       "party             0\n",
       "state             0\n",
       "date              0\n",
       "bills             0\n",
       "id.fec            0\n",
       "leg_totalbills    0\n",
       "years             0\n",
       "years_exp         0\n",
       "dtype: int64"
      ]
     },
     "execution_count": 5,
     "metadata": {},
     "output_type": "execute_result"
    }
   ],
   "source": [
    "merged.isnull().sum()"
   ]
  },
  {
   "cell_type": "code",
   "execution_count": 6,
   "metadata": {
    "collapsed": true
   },
   "outputs": [],
   "source": [
    "merged=merged.drop_duplicates('bills', keep='first')"
   ]
  },
  {
   "cell_type": "code",
   "execution_count": 7,
   "metadata": {
    "collapsed": false,
    "scrolled": true
   },
   "outputs": [
    {
     "data": {
      "text/plain": [
       "50451"
      ]
     },
     "execution_count": 7,
     "metadata": {},
     "output_type": "execute_result"
    }
   ],
   "source": [
    "merged['bills'].nunique()"
   ]
  },
  {
   "cell_type": "code",
   "execution_count": 8,
   "metadata": {
    "collapsed": false
   },
   "outputs": [
    {
     "data": {
      "text/plain": [
       "id.thomas         50451\n",
       "party             50451\n",
       "state             50451\n",
       "date              50451\n",
       "bills             50451\n",
       "id.fec            50451\n",
       "leg_totalbills    50451\n",
       "years             50451\n",
       "years_exp         50451\n",
       "dtype: int64"
      ]
     },
     "execution_count": 8,
     "metadata": {},
     "output_type": "execute_result"
    }
   ],
   "source": [
    "merged.count()"
   ]
  },
  {
   "cell_type": "code",
   "execution_count": 9,
   "metadata": {
    "collapsed": false,
    "scrolled": true
   },
   "outputs": [],
   "source": [
    "merged.to_csv('billspon.legisl.merg.2', index=False)"
   ]
  }
 ],
 "metadata": {
  "kernelspec": {
   "display_name": "Python 3",
   "language": "python",
   "name": "python3"
  },
  "language_info": {
   "codemirror_mode": {
    "name": "ipython",
    "version": 3
   },
   "file_extension": ".py",
   "mimetype": "text/x-python",
   "name": "python",
   "nbconvert_exporter": "python",
   "pygments_lexer": "ipython3",
   "version": "3.5.1"
  }
 },
 "nbformat": 4,
 "nbformat_minor": 0
}
