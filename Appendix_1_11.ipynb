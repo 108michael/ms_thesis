{
 "cells": [
  {
   "cell_type": "code",
   "execution_count": 1,
   "metadata": {
    "collapsed": true
   },
   "outputs": [],
   "source": [
    "import pandas as pd\n",
    "\n",
    "df=pd.read_csv('mpl.Bspons.merge.2', low_memory=False)"
   ]
  },
  {
   "cell_type": "code",
   "execution_count": 2,
   "metadata": {
    "collapsed": true
   },
   "outputs": [],
   "source": [
    "df.drop_duplicates(inplace=True)"
   ]
  },
  {
   "cell_type": "code",
   "execution_count": 12,
   "metadata": {
    "collapsed": false
   },
   "outputs": [
    {
     "data": {
      "text/plain": [
       "690"
      ]
     },
     "execution_count": 12,
     "metadata": {},
     "output_type": "execute_result"
    }
   ],
   "source": [
    "df['id.thomas'].nunique()"
   ]
  },
  {
   "cell_type": "code",
   "execution_count": 3,
   "metadata": {
    "collapsed": false
   },
   "outputs": [
    {
     "data": {
      "text/plain": [
       "4509"
      ]
     },
     "execution_count": 3,
     "metadata": {},
     "output_type": "execute_result"
    }
   ],
   "source": [
    "df.bills.nunique()"
   ]
  },
  {
   "cell_type": "code",
   "execution_count": 4,
   "metadata": {
    "collapsed": false,
    "scrolled": true
   },
   "outputs": [
    {
     "data": {
      "text/html": [
       "<div>\n",
       "<table border=\"1\" class=\"dataframe\">\n",
       "  <thead>\n",
       "    <tr style=\"text-align: right;\">\n",
       "      <th></th>\n",
       "      <th>state</th>\n",
       "      <th>naics</th>\n",
       "      <th>year</th>\n",
       "      <th>log_diff_subsidies</th>\n",
       "      <th>log_diff_empcomp</th>\n",
       "      <th>log_diff_taxes</th>\n",
       "      <th>log_diff_rgdp</th>\n",
       "      <th>date</th>\n",
       "      <th>unemployment_lag</th>\n",
       "      <th>unemployment</th>\n",
       "      <th>id.thomas</th>\n",
       "      <th>party</th>\n",
       "      <th>bills</th>\n",
       "      <th>id.fec</th>\n",
       "      <th>leg_totalbills</th>\n",
       "      <th>years_exp</th>\n",
       "      <th>disposition</th>\n",
       "      <th>catcode</th>\n",
       "    </tr>\n",
       "  </thead>\n",
       "  <tbody>\n",
       "    <tr>\n",
       "      <th>0</th>\n",
       "      <td>AL</td>\n",
       "      <td>111-112</td>\n",
       "      <td>2007.0</td>\n",
       "      <td>-0.499828</td>\n",
       "      <td>NaN</td>\n",
       "      <td>NaN</td>\n",
       "      <td>NaN</td>\n",
       "      <td>2007.0</td>\n",
       "      <td>4.0</td>\n",
       "      <td>4.0</td>\n",
       "      <td>1705.0</td>\n",
       "      <td>Democrat</td>\n",
       "      <td>hr1937-110</td>\n",
       "      <td>H0AL07060</td>\n",
       "      <td>15.0</td>\n",
       "      <td>5.0</td>\n",
       "      <td>support</td>\n",
       "      <td>A5000</td>\n",
       "    </tr>\n",
       "    <tr>\n",
       "      <th>3</th>\n",
       "      <td>AL</td>\n",
       "      <td>111-112</td>\n",
       "      <td>2013.0</td>\n",
       "      <td>0.480127</td>\n",
       "      <td>NaN</td>\n",
       "      <td>NaN</td>\n",
       "      <td>NaN</td>\n",
       "      <td>2013.0</td>\n",
       "      <td>8.0</td>\n",
       "      <td>7.2</td>\n",
       "      <td>38.0</td>\n",
       "      <td>Republican</td>\n",
       "      <td>hr2542-113</td>\n",
       "      <td>H2AL06035</td>\n",
       "      <td>3.0</td>\n",
       "      <td>21.0</td>\n",
       "      <td>support</td>\n",
       "      <td>A8000</td>\n",
       "    </tr>\n",
       "    <tr>\n",
       "      <th>4</th>\n",
       "      <td>AL</td>\n",
       "      <td>111-112</td>\n",
       "      <td>2013.0</td>\n",
       "      <td>0.480127</td>\n",
       "      <td>NaN</td>\n",
       "      <td>NaN</td>\n",
       "      <td>NaN</td>\n",
       "      <td>2013.0</td>\n",
       "      <td>8.0</td>\n",
       "      <td>7.2</td>\n",
       "      <td>38.0</td>\n",
       "      <td>Republican</td>\n",
       "      <td>hr2542-113</td>\n",
       "      <td>H2AL06035</td>\n",
       "      <td>3.0</td>\n",
       "      <td>21.0</td>\n",
       "      <td>support</td>\n",
       "      <td>A5000</td>\n",
       "    </tr>\n",
       "    <tr>\n",
       "      <th>6</th>\n",
       "      <td>AL</td>\n",
       "      <td>111-112</td>\n",
       "      <td>2013.0</td>\n",
       "      <td>0.480127</td>\n",
       "      <td>NaN</td>\n",
       "      <td>NaN</td>\n",
       "      <td>NaN</td>\n",
       "      <td>2013.0</td>\n",
       "      <td>8.0</td>\n",
       "      <td>7.2</td>\n",
       "      <td>38.0</td>\n",
       "      <td>Republican</td>\n",
       "      <td>hr2542-113</td>\n",
       "      <td>H2AL06035</td>\n",
       "      <td>3.0</td>\n",
       "      <td>21.0</td>\n",
       "      <td>support</td>\n",
       "      <td>E4100</td>\n",
       "    </tr>\n",
       "    <tr>\n",
       "      <th>8</th>\n",
       "      <td>AL</td>\n",
       "      <td>111-112</td>\n",
       "      <td>2013.0</td>\n",
       "      <td>0.480127</td>\n",
       "      <td>NaN</td>\n",
       "      <td>NaN</td>\n",
       "      <td>NaN</td>\n",
       "      <td>2013.0</td>\n",
       "      <td>8.0</td>\n",
       "      <td>7.2</td>\n",
       "      <td>38.0</td>\n",
       "      <td>Republican</td>\n",
       "      <td>hr2542-113</td>\n",
       "      <td>H2AL06035</td>\n",
       "      <td>3.0</td>\n",
       "      <td>21.0</td>\n",
       "      <td>support</td>\n",
       "      <td>G2100</td>\n",
       "    </tr>\n",
       "  </tbody>\n",
       "</table>\n",
       "</div>"
      ],
      "text/plain": [
       "  state    naics    year  log_diff_subsidies  log_diff_empcomp  \\\n",
       "0    AL  111-112  2007.0           -0.499828               NaN   \n",
       "3    AL  111-112  2013.0            0.480127               NaN   \n",
       "4    AL  111-112  2013.0            0.480127               NaN   \n",
       "6    AL  111-112  2013.0            0.480127               NaN   \n",
       "8    AL  111-112  2013.0            0.480127               NaN   \n",
       "\n",
       "   log_diff_taxes  log_diff_rgdp    date  unemployment_lag  unemployment  \\\n",
       "0             NaN            NaN  2007.0               4.0           4.0   \n",
       "3             NaN            NaN  2013.0               8.0           7.2   \n",
       "4             NaN            NaN  2013.0               8.0           7.2   \n",
       "6             NaN            NaN  2013.0               8.0           7.2   \n",
       "8             NaN            NaN  2013.0               8.0           7.2   \n",
       "\n",
       "   id.thomas       party       bills     id.fec  leg_totalbills  years_exp  \\\n",
       "0     1705.0    Democrat  hr1937-110  H0AL07060            15.0        5.0   \n",
       "3       38.0  Republican  hr2542-113  H2AL06035             3.0       21.0   \n",
       "4       38.0  Republican  hr2542-113  H2AL06035             3.0       21.0   \n",
       "6       38.0  Republican  hr2542-113  H2AL06035             3.0       21.0   \n",
       "8       38.0  Republican  hr2542-113  H2AL06035             3.0       21.0   \n",
       "\n",
       "  disposition catcode  \n",
       "0     support   A5000  \n",
       "3     support   A8000  \n",
       "4     support   A5000  \n",
       "6     support   E4100  \n",
       "8     support   G2100  "
      ]
     },
     "execution_count": 4,
     "metadata": {},
     "output_type": "execute_result"
    }
   ],
   "source": [
    "df.head()\n"
   ]
  },
  {
   "cell_type": "code",
   "execution_count": 5,
   "metadata": {
    "collapsed": true
   },
   "outputs": [],
   "source": [
    "cid_fec = pd.read_csv('Thesis/CRSP/pacs.can.cl', usecols=['cid', 'feccandid'])"
   ]
  },
  {
   "cell_type": "code",
   "execution_count": 6,
   "metadata": {
    "collapsed": true
   },
   "outputs": [],
   "source": [
    "df.rename(columns={\"id.fec\" : \"feccandid\"}, inplace=True)\n",
    "cid_fec.drop_duplicates('feccandid', keep='first', inplace=True)"
   ]
  },
  {
   "cell_type": "code",
   "execution_count": 7,
   "metadata": {
    "collapsed": false
   },
   "outputs": [],
   "source": [
    "df=pd.merge(cid_fec,df, on=['feccandid'], how='right')\n",
    "#df.drop('feccandid', axis=1, inplace=True)"
   ]
  },
  {
   "cell_type": "code",
   "execution_count": 8,
   "metadata": {
    "collapsed": false
   },
   "outputs": [
    {
     "data": {
      "text/plain": [
       "690"
      ]
     },
     "execution_count": 8,
     "metadata": {},
     "output_type": "execute_result"
    }
   ],
   "source": [
    "df['cid'].nunique()"
   ]
  },
  {
   "cell_type": "code",
   "execution_count": 9,
   "metadata": {
    "collapsed": true
   },
   "outputs": [],
   "source": [
    "df.to_csv('mpl.billsum', index=False)"
   ]
  }
 ],
 "metadata": {
  "kernelspec": {
   "display_name": "Python 3",
   "language": "python",
   "name": "python3"
  },
  "language_info": {
   "codemirror_mode": {
    "name": "ipython",
    "version": 3
   },
   "file_extension": ".py",
   "mimetype": "text/x-python",
   "name": "python",
   "nbconvert_exporter": "python",
   "pygments_lexer": "ipython3",
   "version": "3.5.1"
  }
 },
 "nbformat": 4,
 "nbformat_minor": 0
}
