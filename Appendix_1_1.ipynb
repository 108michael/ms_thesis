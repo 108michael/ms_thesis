{
 "cells": [
  {
   "cell_type": "raw",
   "metadata": {},
   "source": [
    "\\subsection{Appendix 1.1}"
   ]
  },
  {
   "cell_type": "raw",
   "metadata": {},
   "source": [
    "Language: Python"
   ]
  },
  {
   "cell_type": "markdown",
   "metadata": {},
   "source": [
    "## Parsing bill data from bulk files: Bill ID, sponsor's Thomas ID, date of introduction"
   ]
  },
  {
   "cell_type": "raw",
   "metadata": {
    "collapsed": true
   },
   "source": [
    "Reading in and parsing bulk U.S. Congressional Bill data provided through the Civic Impulse.LLC project govtrack.us\\cite{billdata}"
   ]
  },
  {
   "cell_type": "code",
   "execution_count": 1,
   "metadata": {
    "collapsed": true
   },
   "outputs": [],
   "source": [
    "import os\n",
    "import os.path\n",
    "import csv\n",
    "import json"
   ]
  },
  {
   "cell_type": "code",
   "execution_count": 2,
   "metadata": {
    "collapsed": false
   },
   "outputs": [],
   "source": [
    "outputfile = open('dfs/h109_s_b', 'w', newline='')\n",
    "outputwriter = csv.writer(outputfile)\n",
    "path = \"Thesis/govtrack/bills109/hr/\"\n",
    "dirs = os.listdir(path)\n",
    "\n",
    "for dir in dirs:\n",
    "    with open(path + \"/\" + dir + \"/data.json\", \"r\") as f:\n",
    "        data = json.load(f)\n",
    "\n",
    "\n",
    "        a = data['introduced_at']\n",
    "        b = data['bill_id']\n",
    "        c = data['sponsor']['thomas_id']\n",
    "       \n",
    "    outputwriter.writerow([a, b, c])\n",
    "outputfile.close()"
   ]
  },
  {
   "cell_type": "code",
   "execution_count": 3,
   "metadata": {
    "collapsed": false
   },
   "outputs": [],
   "source": [
    "outputfile = open('dfs/h110_s_b', 'w', newline='')\n",
    "outputwriter = csv.writer(outputfile)\n",
    "path = \"Thesis/govtrack/bills110/hr/\"\n",
    "dirs = os.listdir(path)\n",
    "\n",
    "for dir in dirs:\n",
    "    with open(path + \"/\" + dir + \"/data.json\", \"r\") as f:\n",
    "        data = json.load(f)\n",
    "\n",
    "\n",
    "        a = data['introduced_at']\n",
    "        b = data['bill_id']\n",
    "        c = data['sponsor']['thomas_id']\n",
    "       \n",
    "    outputwriter.writerow([a, b, c])\n",
    "outputfile.close()"
   ]
  },
  {
   "cell_type": "code",
   "execution_count": 4,
   "metadata": {
    "collapsed": false
   },
   "outputs": [],
   "source": [
    "outputfile = open('dfs/h111_s_b', 'w', newline='')\n",
    "outputwriter = csv.writer(outputfile)\n",
    "path = \"Thesis/govtrack/bills111/hr/\"\n",
    "dirs = os.listdir(path)\n",
    "\n",
    "for dir in dirs:\n",
    "    with open(path + \"/\" + dir + \"/data.json\", \"r\") as f:\n",
    "        data = json.load(f)\n",
    "\n",
    "\n",
    "        a = data['introduced_at']\n",
    "        b = data['bill_id']\n",
    "        c = data['sponsor']['thomas_id']\n",
    "       \n",
    "    outputwriter.writerow([a, b, c])\n",
    "outputfile.close()"
   ]
  },
  {
   "cell_type": "code",
   "execution_count": 5,
   "metadata": {
    "collapsed": false
   },
   "outputs": [],
   "source": [
    "outputfile = open('dfs/h112_s_b', 'w', newline='')\n",
    "outputwriter = csv.writer(outputfile)\n",
    "path = \"Thesis/govtrack/bills112/hr/\"\n",
    "dirs = os.listdir(path)\n",
    "\n",
    "for dir in dirs:\n",
    "    with open(path + \"/\" + dir + \"/data.json\", \"r\") as f:\n",
    "        data = json.load(f)\n",
    "\n",
    "\n",
    "        a = data['introduced_at']\n",
    "        b = data['bill_id']\n",
    "        c = data['sponsor']['thomas_id']\n",
    "       \n",
    "    outputwriter.writerow([a, b, c])\n",
    "outputfile.close()"
   ]
  },
  {
   "cell_type": "code",
   "execution_count": 6,
   "metadata": {
    "collapsed": false
   },
   "outputs": [],
   "source": [
    "outputfile = open('dfs/h113_s_b', 'w', newline='')\n",
    "outputwriter = csv.writer(outputfile)\n",
    "path = \"Thesis/govtrack/bills113/bills/hr/\"\n",
    "dirs = os.listdir(path)\n",
    "\n",
    "for dir in dirs:\n",
    "    with open(path + \"/\" + dir + \"/data.json\", \"r\") as f:\n",
    "        data = json.load(f)\n",
    "\n",
    "\n",
    "        a = data['introduced_at']\n",
    "        b = data['bill_id']\n",
    "        c = data['sponsor']['thomas_id']\n",
    "       \n",
    "    outputwriter.writerow([a, b, c])\n",
    "outputfile.close()"
   ]
  },
  {
   "cell_type": "code",
   "execution_count": 7,
   "metadata": {
    "collapsed": false
   },
   "outputs": [],
   "source": [
    "outputfile = open('dfs/s109_s_b', 'w', newline='')\n",
    "outputwriter = csv.writer(outputfile)\n",
    "path = \"Thesis/govtrack/bills109/s/\"\n",
    "dirs = os.listdir(path)\n",
    "\n",
    "for dir in dirs:\n",
    "    with open(path + \"/\" + dir + \"/data.json\", \"r\") as f:\n",
    "        data = json.load(f)\n",
    "\n",
    "\n",
    "        a = data['introduced_at']\n",
    "        b = data['bill_id']\n",
    "        c = data['sponsor']['thomas_id']\n",
    "       \n",
    "    outputwriter.writerow([a, b, c])\n",
    "outputfile.close()"
   ]
  },
  {
   "cell_type": "code",
   "execution_count": 8,
   "metadata": {
    "collapsed": false
   },
   "outputs": [],
   "source": [
    "outputfile = open('dfs/s110_s_b', 'w', newline='')\n",
    "outputwriter = csv.writer(outputfile)\n",
    "path = \"Thesis/govtrack/bills110/s/\"\n",
    "dirs = os.listdir(path)\n",
    "\n",
    "for dir in dirs:\n",
    "    with open(path + \"/\" + dir + \"/data.json\", \"r\") as f:\n",
    "        data = json.load(f)\n",
    "\n",
    "\n",
    "        a = data['introduced_at']\n",
    "        b = data['bill_id']\n",
    "        c = data['sponsor']['thomas_id']\n",
    "       \n",
    "    outputwriter.writerow([a, b, c])\n",
    "outputfile.close()"
   ]
  },
  {
   "cell_type": "code",
   "execution_count": 9,
   "metadata": {
    "collapsed": false
   },
   "outputs": [],
   "source": [
    "outputfile = open('dfs/s111_s_b', 'w', newline='')\n",
    "outputwriter = csv.writer(outputfile)\n",
    "path = \"Thesis/govtrack/bills111/s/\"\n",
    "dirs = os.listdir(path)\n",
    "\n",
    "for dir in dirs:\n",
    "    with open(path + \"/\" + dir + \"/data.json\", \"r\") as f:\n",
    "        data = json.load(f)\n",
    "\n",
    "\n",
    "        a = data['introduced_at']\n",
    "        b = data['bill_id']\n",
    "        c = data['sponsor']['thomas_id']\n",
    "       \n",
    "    outputwriter.writerow([a, b, c])\n",
    "outputfile.close()"
   ]
  },
  {
   "cell_type": "code",
   "execution_count": 10,
   "metadata": {
    "collapsed": false
   },
   "outputs": [],
   "source": [
    "outputfile = open('dfs/s112_s_b', 'w', newline='')\n",
    "outputwriter = csv.writer(outputfile)\n",
    "path = \"Thesis/govtrack/bills112/s/\"\n",
    "dirs = os.listdir(path)\n",
    "\n",
    "for dir in dirs:\n",
    "    with open(path + \"/\" + dir + \"/data.json\", \"r\") as f:\n",
    "        data = json.load(f)\n",
    "\n",
    "\n",
    "        a = data['introduced_at']\n",
    "        b = data['bill_id']\n",
    "        c = data['sponsor']['thomas_id']\n",
    "       \n",
    "    outputwriter.writerow([a, b, c])\n",
    "outputfile.close()"
   ]
  },
  {
   "cell_type": "code",
   "execution_count": 11,
   "metadata": {
    "collapsed": false
   },
   "outputs": [],
   "source": [
    "outputfile = open('dfs/s113_s_b', 'w', newline='')\n",
    "outputwriter = csv.writer(outputfile)\n",
    "path = \"Thesis/govtrack/bills113/bills/s/\"\n",
    "dirs = os.listdir(path)\n",
    "\n",
    "for dir in dirs:\n",
    "    with open(path + \"/\" + dir + \"/data.json\", \"r\") as f:\n",
    "        data = json.load(f)\n",
    "\n",
    "\n",
    "        a = data['introduced_at']\n",
    "        b = data['bill_id']\n",
    "        c = data['sponsor']['thomas_id']\n",
    "       \n",
    "    outputwriter.writerow([a, b, c])\n",
    "outputfile.close()"
   ]
  },
  {
   "cell_type": "raw",
   "metadata": {},
   "source": [
    "Checking integrity of bill data"
   ]
  },
  {
   "cell_type": "code",
   "execution_count": 12,
   "metadata": {
    "collapsed": false
   },
   "outputs": [
    {
     "data": {
      "text/plain": [
       "date         51604\n",
       "bills        51604\n",
       "id.thomas    51604\n",
       "dtype: int64"
      ]
     },
     "execution_count": 12,
     "metadata": {},
     "output_type": "execute_result"
    }
   ],
   "source": [
    "import pandas as pd\n",
    "import glob\n",
    "\n",
    "df = pd.concat((pd.read_csv(f, names=['date','bills','id.thomas']) for f in glob.glob\\\n",
    "                ('/home/jayaramdas/anaconda3/dfs/*1**_s_ba')))\n",
    "\n",
    "df.count()"
   ]
  },
  {
   "cell_type": "code",
   "execution_count": 13,
   "metadata": {
    "collapsed": false
   },
   "outputs": [
    {
     "data": {
      "text/plain": [
       "902"
      ]
     },
     "execution_count": 13,
     "metadata": {},
     "output_type": "execute_result"
    }
   ],
   "source": [
    "df['id.thomas'].nunique()"
   ]
  }
 ],
 "metadata": {
  "kernelspec": {
   "display_name": "Python 3",
   "language": "python",
   "name": "python3"
  },
  "language_info": {
   "codemirror_mode": {
    "name": "ipython",
    "version": 3
   },
   "file_extension": ".py",
   "mimetype": "text/x-python",
   "name": "python",
   "nbconvert_exporter": "python",
   "pygments_lexer": "ipython3",
   "version": "3.5.1"
  }
 },
 "nbformat": 4,
 "nbformat_minor": 0
}
