{
 "cells": [
  {
   "cell_type": "code",
   "execution_count": 366,
   "metadata": {
    "collapsed": true
   },
   "outputs": [],
   "source": [
    "import pandas as pd\n",
    "import numpy as np\n",
    "import glob"
   ]
  },
  {
   "cell_type": "code",
   "execution_count": 367,
   "metadata": {
    "collapsed": false
   },
   "outputs": [],
   "source": [
    "df=pd.read_csv('femodel.csv', low_memory=False, )"
   ]
  },
  {
   "cell_type": "raw",
   "metadata": {
    "collapsed": true
   },
   "source": [
    "df.columns.tolist()"
   ]
  },
  {
   "cell_type": "code",
   "execution_count": 368,
   "metadata": {
    "collapsed": true
   },
   "outputs": [],
   "source": [
    "df.drop_duplicates(inplace=True)"
   ]
  },
  {
   "cell_type": "code",
   "execution_count": 369,
   "metadata": {
    "collapsed": false
   },
   "outputs": [],
   "source": [
    "df['corruption_dummy'] = 0\n",
    "\n",
    "df.loc[df.state == 'VA', ['corruption_dummy']] = 1\n",
    "df.loc[df.state == 'SD', ['corruption_dummy']] = 1\n",
    "df.loc[df.state == 'LA', ['corruption_dummy']] = 1\n",
    "df.loc[df.state == 'IL', ['corruption_dummy']] = 1\n",
    "df.loc[df.state == 'KY', ['corruption_dummy']] = 1\n",
    "df.loc[df.state == 'AZ', ['corruption_dummy']] = 1\n",
    "df.loc[df.state == 'OH', ['corruption_dummy']] = 1\n",
    "df.loc[df.state == 'MD', ['corruption_dummy']] = 1\n",
    "df.loc[df.state == 'AL', ['corruption_dummy']] = 1\n",
    "df.loc[df.state == 'FL', ['corruption_dummy']] = 1\n",
    "\n",
    "df['corruption_amtsum']=df.corruption_dummy * df.amtsum\n",
    "df['corruption_amtsumlag1']=df.corruption_dummy * df.amtsumlag_1\n",
    "df['corruption_amtsumfwd1']=df.corruption_dummy * df.amtsumfwd_1\n",
    "df['corruption_amtsumdff']=df.corruption_dummy * df.amtsumdff\n",
    "df['corruption_amtsumlag_dff']=df.corruption_dummy * df.amtsumlag_dff\n",
    "df['corruption_amtsumfwd_dff']=df.corruption_dummy * df.amtsumfwd_dff"
   ]
  },
  {
   "cell_type": "code",
   "execution_count": 370,
   "metadata": {
    "collapsed": false
   },
   "outputs": [
    {
     "data": {
      "text/plain": [
       "['date',\n",
       " 'years_exp',\n",
       " 'cid',\n",
       " 'cfcontrol',\n",
       " 'leg_totalbills',\n",
       " 'state',\n",
       " 'amtsumlag_1',\n",
       " 'amtsumfwd_1',\n",
       " 'unemployment',\n",
       " 'billsum',\n",
       " 'amtsum',\n",
       " 'Republican',\n",
       " 'sen',\n",
       " 'sen_amtsum',\n",
       " 'sen_amtsumlag1',\n",
       " 'sen_amtsumfwd1',\n",
       " 'Republican_amtsum',\n",
       " 'Republican_amtsumlag1',\n",
       " 'Republican_amtsumfwd1',\n",
       " 'unemplag_1',\n",
       " 'post2009_years',\n",
       " 'logleg_totalbills',\n",
       " 'logamtsumlag_1',\n",
       " 'logamtsumfwd_1',\n",
       " 'logamtsum',\n",
       " 'amtsum_post2009years',\n",
       " 'amtsumfwd1_post2009years',\n",
       " 'amtsumlag1_post2009years',\n",
       " 'logamtsum_post2009years',\n",
       " 'logamtsumfwd1_post2009years',\n",
       " 'logamtsumlag1_post2009years',\n",
       " 'amtsumdff',\n",
       " 'logamtsumdff',\n",
       " 'billsumdff',\n",
       " 'logbillsumdff',\n",
       " 'amtsumfwd_dff',\n",
       " 'amtsumlag_dff',\n",
       " 'logamtsumlag_dff',\n",
       " 'leg_totalbillsdff',\n",
       " 'years_expdff',\n",
       " 'amtsumfwd1_post2009yearsdff',\n",
       " 'amtsumlag1_post2009yearsdff',\n",
       " 'amtsum_post2009yearsdff',\n",
       " 'republican_amtsumlagdff',\n",
       " 'republican_amtsumfwd1dff',\n",
       " 'sen_amtsumlag1dff',\n",
       " 'sen_amtsumfwd1dff',\n",
       " 'sen_amtsumdff',\n",
       " 'cfcontroldff',\n",
       " 'unemploymentdff',\n",
       " 'corruption_dummy',\n",
       " 'corruption_amtsum',\n",
       " 'corruption_amtsumlag1',\n",
       " 'corruption_amtsumfwd1',\n",
       " 'corruption_amtsumdff',\n",
       " 'corruption_amtsumlag_dff',\n",
       " 'corruption_amtsumfwd_dff']"
      ]
     },
     "execution_count": 370,
     "metadata": {},
     "output_type": "execute_result"
    }
   ],
   "source": [
    "df.columns.tolist()"
   ]
  },
  {
   "cell_type": "markdown",
   "metadata": {
    "collapsed": true
   },
   "source": [
    " "
   ]
  },
  {
   "cell_type": "code",
   "execution_count": 373,
   "metadata": {
    "collapsed": true
   },
   "outputs": [
    {
     "data": {
      "text/plain": [
       "date                           0\n",
       "years_exp                      0\n",
       "cid                            0\n",
       "cfcontrol                      0\n",
       "leg_totalbills                 0\n",
       "state                          0\n",
       "amtsumlag_1                    0\n",
       "amtsumfwd_1                    0\n",
       "unemployment                   0\n",
       "billsum                        0\n",
       "amtsum                         0\n",
       "Republican                     0\n",
       "sen                            0\n",
       "sen_amtsum                     0\n",
       "sen_amtsumlag1                 0\n",
       "sen_amtsumfwd1                 0\n",
       "Republican_amtsum              0\n",
       "Republican_amtsumlag1          0\n",
       "Republican_amtsumfwd1          0\n",
       "unemplag_1                     0\n",
       "post2009_years                 0\n",
       "logleg_totalbills              0\n",
       "logamtsumlag_1                 0\n",
       "logamtsumfwd_1                 0\n",
       "logamtsum                      0\n",
       "amtsum_post2009years           0\n",
       "amtsumfwd1_post2009years       0\n",
       "amtsumlag1_post2009years       0\n",
       "logamtsum_post2009years        0\n",
       "logamtsumfwd1_post2009years    0\n",
       "logamtsumlag1_post2009years    0\n",
       "amtsumdff                      0\n",
       "logamtsumdff                   0\n",
       "billsumdff                     0\n",
       "logbillsumdff                  0\n",
       "amtsumfwd_dff                  0\n",
       "amtsumlag_dff                  0\n",
       "logamtsumlag_dff               0\n",
       "leg_totalbillsdff              0\n",
       "years_expdff                   0\n",
       "amtsumfwd1_post2009yearsdff    0\n",
       "amtsumlag1_post2009yearsdff    0\n",
       "amtsum_post2009yearsdff        0\n",
       "republican_amtsumlagdff        0\n",
       "republican_amtsumfwd1dff       0\n",
       "sen_amtsumlag1dff              0\n",
       "sen_amtsumfwd1dff              0\n",
       "sen_amtsumdff                  0\n",
       "cfcontroldff                   0\n",
       "unemploymentdff                0\n",
       "corruption_dummy               0\n",
       "corruption_amtsum              0\n",
       "corruption_amtsumlag1          0\n",
       "corruption_amtsumfwd1          0\n",
       "corruption_amtsumdff           0\n",
       "corruption_amtsumlag_dff       0\n",
       "corruption_amtsumfwd_dff       0\n",
       "dtype: int64"
      ]
     },
     "execution_count": 373,
     "metadata": {},
     "output_type": "execute_result"
    }
   ],
   "source": [
    "df.isnull().sum()"
   ]
  },
  {
   "cell_type": "code",
   "execution_count": 375,
   "metadata": {
    "collapsed": false
   },
   "outputs": [],
   "source": [
    "df.to_csv('remodel.csv', index=False)"
   ]
  },
  {
   "cell_type": "code",
   "execution_count": 343,
   "metadata": {
    "collapsed": false,
    "scrolled": false
   },
   "outputs": [],
   "source": [
    "\n",
    "\n",
    "dy=df[['years_exp', 'cfcontrol', 'leg_totalbills', 'amtsum', 'billsum', 'unemployment', 'date', 'cid']]\n",
    "\n",
    "dy.to_csv('descriptive statistics.csv')\n",
    "#df = df.drop_duplicates('bills', keep='first')"
   ]
  },
  {
   "cell_type": "code",
   "execution_count": 344,
   "metadata": {
    "collapsed": false
   },
   "outputs": [
    {
     "name": "stderr",
     "output_type": "stream",
     "text": [
      "/home/jayaramdas/anaconda3/lib/python3.5/site-packages/pandas/util/decorators.py:91: SettingWithCopyWarning: \n",
      "A value is trying to be set on a copy of a slice from a DataFrame\n",
      "\n",
      "See the caveats in the documentation: http://pandas.pydata.org/pandas-docs/stable/indexing.html#indexing-view-versus-copy\n",
      "  return func(*args, **kwargs)\n"
     ]
    }
   ],
   "source": [
    "dy.drop_duplicates(inplace=True) \n",
    "#"
   ]
  },
  {
   "cell_type": "markdown",
   "metadata": {},
   "source": [
    "## Deriving corruption dummy."
   ]
  },
  {
   "cell_type": "code",
   "execution_count": 345,
   "metadata": {
    "collapsed": true
   },
   "outputs": [],
   "source": [
    "sa=pd.read_csv('Thesis/ExternalData/state_abbreviation.csv')\n",
    "\n",
    "fedconvictions=pd.read_csv('Thesis/ExternalData/No.FederalEmployees/convictions.csv')"
   ]
  },
  {
   "cell_type": "code",
   "execution_count": 346,
   "metadata": {
    "collapsed": true
   },
   "outputs": [],
   "source": [
    "fedconvictions[['date']]= fedconvictions[['date']].astype('int64')\n",
    "#test=pd.read_csv('Thesis/ExternalData/No. Federal Employees/14stall.csv')\n",
    "sa.rename(columns={'state' : 'abbv'}, inplace=True)\n",
    "sa.rename(columns={'GeoName' : 'state'}, inplace=True)"
   ]
  },
  {
   "cell_type": "code",
   "execution_count": 347,
   "metadata": {
    "collapsed": false
   },
   "outputs": [],
   "source": [
    "fedemployees = pd.concat((pd.read_csv(f, header=0, names=['state','function','employees', 'date'])\\\n",
    "for f in glob.glob('Thesis/ExternalData/No.FederalEmployees/**stall.csv')))"
   ]
  },
  {
   "cell_type": "code",
   "execution_count": 348,
   "metadata": {
    "collapsed": false
   },
   "outputs": [],
   "source": [
    "fedemp=fedemployees[(fedemployees['function'] == 'Total') & (fedemployees['state'] != 'United States')]\n",
    "#fedemp=fedemp[(fedemp['GeoName'] != 'US')]\n"
   ]
  },
  {
   "cell_type": "code",
   "execution_count": 349,
   "metadata": {
    "collapsed": false
   },
   "outputs": [
    {
     "data": {
      "text/plain": [
       "state        object\n",
       "function     object\n",
       "employees     int64\n",
       "date          int64\n",
       "dtype: object"
      ]
     },
     "execution_count": 349,
     "metadata": {},
     "output_type": "execute_result"
    }
   ],
   "source": [
    "#fedemp.rename(columns={'GeoName':'state'}, inplace=True)\n",
    "fedmerge=pd.merge(fedconvictions, fedemp, on=('state', 'date'), how='right')\n",
    "#fedemp.drop('GeoName', axis=1, inplace=True)\n",
    "\n",
    "fedemp.dtypes"
   ]
  },
  {
   "cell_type": "code",
   "execution_count": 350,
   "metadata": {
    "collapsed": false
   },
   "outputs": [],
   "source": [
    "fedmerge['conviction_per_pubemployee']=fedmerge.convictions / fedmerge.employees\n",
    "\n",
    "fedmerge['sum_conviction_pubemployee'] =fedmerge.groupby('state').conviction_per_pubemployee.transform('sum')"
   ]
  },
  {
   "cell_type": "code",
   "execution_count": 351,
   "metadata": {
    "collapsed": false
   },
   "outputs": [],
   "source": [
    "fedmerge.drop(['function', 'employees', 'convictions', 'conviction_per_pubemployee', 'date'],\\\n",
    "                     axis=1, inplace=True)"
   ]
  },
  {
   "cell_type": "code",
   "execution_count": 352,
   "metadata": {
    "collapsed": true
   },
   "outputs": [],
   "source": [
    "fedmerge.drop_duplicates(keep='first', inplace=True)\n"
   ]
  },
  {
   "cell_type": "code",
   "execution_count": 353,
   "metadata": {
    "collapsed": false
   },
   "outputs": [],
   "source": [
    "fedmergewithstate=pd.merge(sa, fedmerge, on='state', how='inner')\n",
    "sa.rename(columns={'state' : 'abbv'}, inplace=True)\n",
    "#fedmerge.sort_values('sum_conviction_pubemployee', ascending=False).head(10)"
   ]
  },
  {
   "cell_type": "code",
   "execution_count": 354,
   "metadata": {
    "collapsed": false
   },
   "outputs": [],
   "source": [
    "fedmergewithstate.drop(['state'],\\\n",
    "                     axis=1, inplace=True)\n",
    "fedmergewithstate.rename(columns={'abbv' : 'state'}, inplace=True)"
   ]
  },
  {
   "cell_type": "markdown",
   "metadata": {},
   "source": [
    "## These are the states with the top 10 number of corruption convictions per  federal employee."
   ]
  },
  {
   "cell_type": "code",
   "execution_count": 355,
   "metadata": {
    "collapsed": false,
    "scrolled": false
   },
   "outputs": [
    {
     "data": {
      "text/html": [
       "<div>\n",
       "<table border=\"1\" class=\"dataframe\">\n",
       "  <thead>\n",
       "    <tr style=\"text-align: right;\">\n",
       "      <th></th>\n",
       "      <th>state</th>\n",
       "      <th>sum_conviction_pubemployee</th>\n",
       "    </tr>\n",
       "  </thead>\n",
       "  <tbody>\n",
       "    <tr>\n",
       "      <th>40</th>\n",
       "      <td>SD</td>\n",
       "      <td>0.004591</td>\n",
       "    </tr>\n",
       "    <tr>\n",
       "      <th>17</th>\n",
       "      <td>LA</td>\n",
       "      <td>0.003973</td>\n",
       "    </tr>\n",
       "    <tr>\n",
       "      <th>45</th>\n",
       "      <td>VA</td>\n",
       "      <td>0.003448</td>\n",
       "    </tr>\n",
       "    <tr>\n",
       "      <th>12</th>\n",
       "      <td>IL</td>\n",
       "      <td>0.003329</td>\n",
       "    </tr>\n",
       "    <tr>\n",
       "      <th>16</th>\n",
       "      <td>KY</td>\n",
       "      <td>0.003097</td>\n",
       "    </tr>\n",
       "    <tr>\n",
       "      <th>2</th>\n",
       "      <td>AZ</td>\n",
       "      <td>0.002871</td>\n",
       "    </tr>\n",
       "    <tr>\n",
       "      <th>34</th>\n",
       "      <td>OH</td>\n",
       "      <td>0.002859</td>\n",
       "    </tr>\n",
       "    <tr>\n",
       "      <th>19</th>\n",
       "      <td>MD</td>\n",
       "      <td>0.002779</td>\n",
       "    </tr>\n",
       "    <tr>\n",
       "      <th>0</th>\n",
       "      <td>AL</td>\n",
       "      <td>0.002755</td>\n",
       "    </tr>\n",
       "    <tr>\n",
       "      <th>8</th>\n",
       "      <td>FL</td>\n",
       "      <td>0.002463</td>\n",
       "    </tr>\n",
       "  </tbody>\n",
       "</table>\n",
       "</div>"
      ],
      "text/plain": [
       "   state  sum_conviction_pubemployee\n",
       "40    SD                    0.004591\n",
       "17    LA                    0.003973\n",
       "45    VA                    0.003448\n",
       "12    IL                    0.003329\n",
       "16    KY                    0.003097\n",
       "2     AZ                    0.002871\n",
       "34    OH                    0.002859\n",
       "19    MD                    0.002779\n",
       "0     AL                    0.002755\n",
       "8     FL                    0.002463"
      ]
     },
     "execution_count": 355,
     "metadata": {},
     "output_type": "execute_result"
    }
   ],
   "source": [
    "fedmergewithstate.sort_values('sum_conviction_pubemployee', axis=0, ascending=False).head(10)"
   ]
  },
  {
   "cell_type": "code",
   "execution_count": null,
   "metadata": {
    "collapsed": true
   },
   "outputs": [],
   "source": []
  },
  {
   "cell_type": "code",
   "execution_count": null,
   "metadata": {
    "collapsed": true
   },
   "outputs": [],
   "source": []
  },
  {
   "cell_type": "code",
   "execution_count": null,
   "metadata": {
    "collapsed": true
   },
   "outputs": [],
   "source": []
  },
  {
   "cell_type": "code",
   "execution_count": null,
   "metadata": {
    "collapsed": true
   },
   "outputs": [],
   "source": []
  },
  {
   "cell_type": "code",
   "execution_count": null,
   "metadata": {
    "collapsed": true
   },
   "outputs": [],
   "source": []
  },
  {
   "cell_type": "code",
   "execution_count": null,
   "metadata": {
    "collapsed": true
   },
   "outputs": [],
   "source": []
  },
  {
   "cell_type": "code",
   "execution_count": null,
   "metadata": {
    "collapsed": true
   },
   "outputs": [],
   "source": []
  },
  {
   "cell_type": "code",
   "execution_count": null,
   "metadata": {
    "collapsed": true
   },
   "outputs": [],
   "source": []
  },
  {
   "cell_type": "code",
   "execution_count": null,
   "metadata": {
    "collapsed": true
   },
   "outputs": [],
   "source": []
  },
  {
   "cell_type": "raw",
   "metadata": {
    "collapsed": false
   },
   "source": [
    "division_dummies = pd.get_dummies(df['division'])\n",
    "df=pd.concat([df, division_dummies], axis=1)\n",
    "df.drop(['division', 9.0], inplace=True, axis=1)"
   ]
  },
  {
   "cell_type": "raw",
   "metadata": {
    "collapsed": true
   },
   "source": [
    "df['division_amtsumdff']=df.division_dummies * df.amtsumdff\n",
    "df['division_amtsumlag_dff']=df.division_dummies * df.amtsumlag_dff\n",
    "df['division_amtsumfwd_dff']=df.division_dummies * df.amtsumfwd_dff\n",
    "\n",
    "\n",
    "#canmaster.loc[canmaster.chamber == 'H', ['chamber']] = 'rep'"
   ]
  },
  {
   "cell_type": "raw",
   "metadata": {
    "collapsed": false
   },
   "source": [
    "region_dummies = pd.get_dummies(df['region'])\n",
    "df=pd.concat([df, region_dummies], axis=1)\n",
    "df.drop(['region', 'South'], inplace=True, axis=1)"
   ]
  },
  {
   "cell_type": "raw",
   "metadata": {
    "collapsed": false
   },
   "source": [
    "party_dummies = pd.get_dummies(df['party'])\n",
    "df=pd.concat([df, party_dummies], axis=1)\n",
    "df.drop(['party', 'Independent'], inplace=True, axis=1)"
   ]
  },
  {
   "cell_type": "raw",
   "metadata": {
    "collapsed": false
   },
   "source": [
    "chamber_type_dummies = pd.get_dummies(df['chamber'])\n",
    "df=pd.concat([df, chamber_type_dummies], axis=1)\n",
    "df.drop(['chamber', 'rep'], inplace=True, axis=1)"
   ]
  }
 ],
 "metadata": {
  "kernelspec": {
   "display_name": "Python 3",
   "language": "python",
   "name": "python3"
  },
  "language_info": {
   "codemirror_mode": {
    "name": "ipython",
    "version": 3
   },
   "file_extension": ".py",
   "mimetype": "text/x-python",
   "name": "python",
   "nbconvert_exporter": "python",
   "pygments_lexer": "ipython3",
   "version": "3.5.1"
  }
 },
 "nbformat": 4,
 "nbformat_minor": 0
}
